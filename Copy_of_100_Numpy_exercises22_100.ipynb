{
  "cells": [
    {
      "cell_type": "markdown",
      "id": "6293cc50",
      "metadata": {
        "id": "6293cc50"
      },
      "source": [
        "# 100 numpy exercises\n",
        "\n",
        "This is a collection of exercises that have been collected in the numpy mailing list, on stack overflow\n",
        "and in the numpy documentation. The goal of this collection is to offer a quick reference for both old\n",
        "and new users but also to provide a set of exercises for those who teach.\n",
        "\n",
        "\n",
        "If you find an error or think you've a better way to solve some of them, feel\n",
        "free to open an issue at <https://github.com/rougier/numpy-100>."
      ]
    },
    {
      "cell_type": "markdown",
      "id": "a167c052",
      "metadata": {
        "id": "a167c052"
      },
      "source": [
        "File automatically generated. See the documentation to update questions/answers/hints programmatically."
      ]
    },
    {
      "cell_type": "markdown",
      "id": "57fc0ee5",
      "metadata": {
        "id": "57fc0ee5"
      },
      "source": [
        "Run the `initialize.py` module, then for each question you can query the\n",
        "answer or an hint with `hint(n)` or `answer(n)` for `n` question number."
      ]
    },
    {
      "cell_type": "code",
      "source": [
        "import numpy as np"
      ],
      "metadata": {
        "id": "e9uI71udhKjb"
      },
      "id": "e9uI71udhKjb",
      "execution_count": 1,
      "outputs": []
    },
    {
      "cell_type": "markdown",
      "id": "f9a0911e",
      "metadata": {
        "id": "f9a0911e"
      },
      "source": [
        "#### 23. Create a custom dtype that describes a color as four unsigned bytes (RGBA) (★☆☆)"
      ]
    },
    {
      "cell_type": "code",
      "execution_count": null,
      "id": "d165044b",
      "metadata": {
        "id": "d165044b",
        "colab": {
          "base_uri": "https://localhost:8080/"
        },
        "outputId": "5b18f159-5205-458d-b833-14f45834aba5"
      },
      "outputs": [
        {
          "output_type": "stream",
          "name": "stdout",
          "text": [
            "[(50, 100, 40, 30) (30, 120, 70, 47)]\n",
            "[('red', 'u1'), ('green', 'u1'), ('blue', 'u1'), ('alpha', 'u1')]\n"
          ]
        }
      ],
      "source": [
        "color_dtype=np.dtype([\n",
        "    (\"red\",'uint8'),\n",
        "    (\"green\",'uint8'),\n",
        "    (\"blue\",'uint8'),\n",
        "    (\"alpha\",'uint8')\n",
        "])\n",
        "first_color=np.array([(50,100,40,30),(30,120,70,47)],dtype=color_dtype)\n",
        "print(first_color)\n",
        "print(first_color.dtype)"
      ]
    },
    {
      "cell_type": "markdown",
      "id": "654805b1",
      "metadata": {
        "id": "654805b1"
      },
      "source": [
        "#### 24. Multiply a 5x3 matrix by a 3x2 matrix (real matrix product) (★☆☆)"
      ]
    },
    {
      "cell_type": "code",
      "execution_count": null,
      "id": "6a42619f",
      "metadata": {
        "id": "6a42619f",
        "outputId": "6691e2cc-fbc7-43ae-e736-d7fd5b47b13e",
        "colab": {
          "base_uri": "https://localhost:8080/"
        }
      },
      "outputs": [
        {
          "output_type": "stream",
          "name": "stdout",
          "text": [
            "[[20 23 48]\n",
            " [42  3 46]\n",
            " [37 24 36]\n",
            " [16 41  1]\n",
            " [45 48 41]]\n",
            "--------------------------\n",
            "[[19 37]\n",
            " [28  5]\n",
            " [43  9]]\n",
            "--------------------------\n",
            "[[3088 1287]\n",
            " [2860 1983]\n",
            " [2923 1813]\n",
            " [1495  806]\n",
            " [3962 2274]]\n"
          ]
        }
      ],
      "source": [
        "arr1=np.random.randint(1,50,size=(5,3))\n",
        "arr2=np.random.randint(1,50,size=(3,2))\n",
        "print(arr1)\n",
        "print(\"--------------------------\")\n",
        "print(arr2)\n",
        "print(\"--------------------------\")\n",
        "product=np.dot(arr1,arr2)\n",
        "print(product)"
      ]
    },
    {
      "cell_type": "markdown",
      "id": "994c25df",
      "metadata": {
        "id": "994c25df"
      },
      "source": [
        "#### 25. Given a 1D array, negate all elements which are between 3 and 8, in place. (★☆☆)"
      ]
    },
    {
      "cell_type": "code",
      "execution_count": null,
      "id": "e4b39c03",
      "metadata": {
        "id": "e4b39c03",
        "outputId": "84970aaf-0bb3-4f5a-9311-daa825b5f754",
        "colab": {
          "base_uri": "https://localhost:8080/"
        }
      },
      "outputs": [
        {
          "output_type": "stream",
          "name": "stdout",
          "text": [
            "[5 1 2 1 2 9 1 9 7 5]\n",
            "--------------------------\n",
            "[-5  1  2  1  2  9  1  9 -7 -5]\n"
          ]
        }
      ],
      "source": [
        "np.random.seed(10)\n",
        "arr1=np.random.randint(1,10,10)\n",
        "print(arr1)\n",
        "print(\"--------------------------\")\n",
        "for i in range(arr1.shape[0]):\n",
        "  num=arr1[i]\n",
        "  if(num>3 and num < 8):\n",
        "    arr1[i]=-num\n",
        "print(arr1)"
      ]
    },
    {
      "cell_type": "markdown",
      "id": "b7d15d1a",
      "metadata": {
        "id": "b7d15d1a"
      },
      "source": [
        "#### 26. What is the output of the following script? (★☆☆)\n",
        "```python\n",
        "# Author: Jake VanderPlas\n",
        "\n",
        "print(sum(range(5),-1))\n",
        "from numpy import *\n",
        "print(sum(range(5),-1))\n",
        "```"
      ]
    },
    {
      "cell_type": "markdown",
      "source": [
        "Answer:\n",
        "the output will 9 because first the range function was called to number 5\n",
        "exclusive and we sum the number from 1 to 4 then in last we subtract 1 one from the result\n",
        "\n",
        "\n",
        "\n"
      ],
      "metadata": {
        "id": "M6e1CxRrkmBJ"
      },
      "id": "M6e1CxRrkmBJ"
    },
    {
      "cell_type": "code",
      "execution_count": null,
      "id": "4c95bc3f",
      "metadata": {
        "id": "4c95bc3f",
        "outputId": "61d347cc-5afc-4311-cfc3-36b2be427341",
        "colab": {
          "base_uri": "https://localhost:8080/"
        }
      },
      "outputs": [
        {
          "output_type": "stream",
          "name": "stdout",
          "text": [
            "5\n"
          ]
        }
      ],
      "source": [
        "print(sum(range(5),-5))"
      ]
    },
    {
      "cell_type": "markdown",
      "id": "a34f0d08",
      "metadata": {
        "id": "a34f0d08"
      },
      "source": [
        "#### 27. Consider an integer vector Z, which of these expressions are legal? (★☆☆)\n",
        "```python\n",
        "Z**Z\n",
        "2 << Z >> 2\n",
        "Z <- Z\n",
        "1j*Z\n",
        "Z/1/1\n",
        "Z<Z>Z\n",
        "```"
      ]
    },
    {
      "cell_type": "code",
      "execution_count": null,
      "id": "564658fc",
      "metadata": {
        "id": "564658fc"
      },
      "outputs": [],
      "source": [
        "z**z is legal like if z=[1,2,3] then z**z will be [1,4,27]\n",
        "2<<z>>z is legal bitwise shift we will shift bits two to the left 2<<z and then two to the right z>>2\n",
        "z<-z is illegal\n",
        "if 1j is imaginary number then its totally legal to use complex number in numpy\n",
        "z<z>z is illegal it should chaind like z<z or z>z may work not shure if its will work for the full array i think it should be compared element by element"
      ]
    },
    {
      "cell_type": "markdown",
      "id": "c34e94bf",
      "metadata": {
        "id": "c34e94bf"
      },
      "source": [
        "#### 28. What are the result of the following expressions? (★☆☆)\n",
        "```python\n",
        "np.array(0) / np.array(0)\n",
        "np.array(0) // np.array(0)\n",
        "np.array([np.nan]).astype(int).astype(float)\n",
        "```"
      ]
    },
    {
      "cell_type": "code",
      "execution_count": null,
      "id": "56663562",
      "metadata": {
        "id": "56663562",
        "outputId": "53ca8fbc-6b3e-4d05-ad82-b1f620e794e9",
        "colab": {
          "base_uri": "https://localhost:8080/"
        }
      },
      "outputs": [
        {
          "output_type": "stream",
          "name": "stdout",
          "text": [
            "nan\n",
            "[-9.22337204e+18]\n"
          ]
        },
        {
          "output_type": "stream",
          "name": "stderr",
          "text": [
            "/tmp/ipython-input-22-2861855394.py:1: RuntimeWarning: invalid value encountered in divide\n",
            "  print(np.array(0) / np.array(0)) #the result will be nan because we are dividing by zero\n",
            "/tmp/ipython-input-22-2861855394.py:2: RuntimeWarning: invalid value encountered in cast\n",
            "  print(np.array([np.nan]).astype(int).astype(float))\n"
          ]
        }
      ],
      "source": [
        "print(np.array(0) / np.array(0)) #the result will be nan because we are dividing by zero\n",
        "print(np.array([np.nan]).astype(int).astype(float))#will print the min number int"
      ]
    },
    {
      "cell_type": "markdown",
      "id": "546f5e7b",
      "metadata": {
        "id": "546f5e7b"
      },
      "source": [
        "#### 29. How to round away from zero a float array ? (★☆☆)"
      ]
    },
    {
      "cell_type": "code",
      "execution_count": null,
      "id": "f725a6d2",
      "metadata": {
        "id": "f725a6d2",
        "outputId": "bdc3e337-9a66-49e7-c271-e11cc7efeda1",
        "colab": {
          "base_uri": "https://localhost:8080/"
        }
      },
      "outputs": [
        {
          "output_type": "stream",
          "name": "stdout",
          "text": [
            "[ 2. -1.  2. -2.]\n"
          ]
        }
      ],
      "source": [
        "arr=np.array([1.6,-0.4,1.4,-1.2])\n",
        "for i in range(arr.shape[0]):\n",
        "  num=arr[i]\n",
        "  if num <0:\n",
        "    arr[i]=np.floor(num)\n",
        "  else:\n",
        "    arr[i]=np.ceil(num)\n",
        "print(arr)"
      ]
    },
    {
      "cell_type": "markdown",
      "id": "eadca856",
      "metadata": {
        "id": "eadca856"
      },
      "source": [
        "#### 30. How to find common values between two arrays? (★☆☆)"
      ]
    },
    {
      "cell_type": "code",
      "execution_count": null,
      "id": "e0270b5b",
      "metadata": {
        "id": "e0270b5b",
        "outputId": "7911a995-a272-4e64-e0e6-cdebaa5fcccd",
        "colab": {
          "base_uri": "https://localhost:8080/"
        }
      },
      "outputs": [
        {
          "output_type": "stream",
          "name": "stdout",
          "text": [
            "[4 5 6]\n"
          ]
        }
      ],
      "source": [
        "arr1=np.array(range(1,7))\n",
        "arr2=np.array(range(4,10))\n",
        "print(np.intersect1d(arr1,arr2))"
      ]
    },
    {
      "cell_type": "markdown",
      "id": "ca16ca22",
      "metadata": {
        "id": "ca16ca22"
      },
      "source": [
        "#### 31. How to ignore all numpy warnings (not recommended)? (★☆☆)"
      ]
    },
    {
      "cell_type": "code",
      "execution_count": null,
      "id": "7d7208ef",
      "metadata": {
        "id": "7d7208ef"
      },
      "outputs": [],
      "source": [
        "np.seterr(all='ignore')"
      ]
    },
    {
      "cell_type": "markdown",
      "id": "c7871d0d",
      "metadata": {
        "id": "c7871d0d"
      },
      "source": [
        "#### 32. Is the following expressions true? (★☆☆)\n",
        "```python\n",
        "np.sqrt(-1) == np.emath.sqrt(-1)\n",
        "```"
      ]
    },
    {
      "cell_type": "code",
      "execution_count": null,
      "id": "acc3701a",
      "metadata": {
        "id": "acc3701a"
      },
      "outputs": [],
      "source": [
        "the answer is false"
      ]
    },
    {
      "cell_type": "markdown",
      "id": "e0433e30",
      "metadata": {
        "id": "e0433e30"
      },
      "source": [
        "#### 33. How to get the dates of yesterday, today and tomorrow? (★☆☆)"
      ]
    },
    {
      "cell_type": "code",
      "execution_count": null,
      "id": "9c4d2152",
      "metadata": {
        "id": "9c4d2152",
        "outputId": "fc511abe-2711-4083-871f-824b81d4c30c",
        "colab": {
          "base_uri": "https://localhost:8080/"
        }
      },
      "outputs": [
        {
          "output_type": "stream",
          "name": "stdout",
          "text": [
            "today is:  2025-07-23\n",
            "yesterday was: 2025-07-22\n",
            "tomorrow: 2025-07-24\n"
          ]
        }
      ],
      "source": [
        "today=np.datetime64('today','D')\n",
        "print(\"today is: \",today)\n",
        "yesterday=today-1\n",
        "print(\"yesterday was:\",yesterday)\n",
        "tomorrow=today+1\n",
        "print(\"tomorrow:\",tomorrow)"
      ]
    },
    {
      "cell_type": "markdown",
      "id": "9f52a2ef",
      "metadata": {
        "id": "9f52a2ef"
      },
      "source": [
        "#### 34. How to get all the dates corresponding to the month of July 2016? (★★☆)"
      ]
    },
    {
      "cell_type": "code",
      "execution_count": null,
      "id": "d6c34dec",
      "metadata": {
        "id": "d6c34dec",
        "outputId": "6892265c-c1eb-423f-92c6-fcbf1bfbebd7",
        "colab": {
          "base_uri": "https://localhost:8080/"
        }
      },
      "outputs": [
        {
          "output_type": "stream",
          "name": "stdout",
          "text": [
            "['2016-07-01' '2016-07-02' '2016-07-03' '2016-07-04' '2016-07-05'\n",
            " '2016-07-06' '2016-07-07' '2016-07-08' '2016-07-09' '2016-07-10'\n",
            " '2016-07-11' '2016-07-12' '2016-07-13' '2016-07-14' '2016-07-15'\n",
            " '2016-07-16' '2016-07-17' '2016-07-18' '2016-07-19' '2016-07-20'\n",
            " '2016-07-21' '2016-07-22' '2016-07-23' '2016-07-24' '2016-07-25'\n",
            " '2016-07-26' '2016-07-27' '2016-07-28' '2016-07-29' '2016-07-30'\n",
            " '2016-07-31']\n"
          ]
        }
      ],
      "source": [
        "dates = np.arange('2016-07-01', '2016-08-01', dtype='datetime64[D]')\n",
        "print(dates)"
      ]
    },
    {
      "cell_type": "markdown",
      "id": "4a64e059",
      "metadata": {
        "id": "4a64e059"
      },
      "source": [
        "#### 35. How to compute ((A+B)*(-A/2)) in place (without copy)? (★★☆)"
      ]
    },
    {
      "cell_type": "code",
      "execution_count": null,
      "id": "49267f60",
      "metadata": {
        "id": "49267f60",
        "colab": {
          "base_uri": "https://localhost:8080/"
        },
        "outputId": "3aa9244e-6897-4f70-c5a0-fd5a4e4e9cf5"
      },
      "outputs": [
        {
          "output_type": "stream",
          "name": "stdout",
          "text": [
            "[9. 4. 0. 1. 9.] [0. 1. 8. 9. 0.]\n",
            "[-40.5 -10.   -0.   -5.  -40.5]\n"
          ]
        }
      ],
      "source": [
        "np.random.seed(10)\n",
        "a=np.random.randint(10,size=5)\n",
        "b=np.random.randint(10,size=5)\n",
        "a=a.astype(np.float16)\n",
        "b=b.astype(np.float16)\n",
        "print(a,b)\n",
        "x=np.negative(a)\n",
        "np.add(a,b,out=a)\n",
        "np.divide(x,2.0,out=x)\n",
        "np.multiply(a,x,out=a)\n",
        "print(a)"
      ]
    },
    {
      "cell_type": "markdown",
      "id": "8a98c2a8",
      "metadata": {
        "id": "8a98c2a8"
      },
      "source": [
        "#### 36. Extract the integer part of a random array of positive numbers using 4 different methods (★★☆)"
      ]
    },
    {
      "cell_type": "code",
      "execution_count": null,
      "id": "368130b3",
      "metadata": {
        "id": "368130b3",
        "colab": {
          "base_uri": "https://localhost:8080/"
        },
        "outputId": "a98bdd0c-1247-4e8e-bba0-435512ba1009"
      },
      "outputs": [
        {
          "output_type": "stream",
          "name": "stdout",
          "text": [
            "[ 2  5  6  1 10  7]\n",
            "[ 2  5  6  1 10  7]\n",
            "[ 2.  5.  6.  1. 10.  7.]\n",
            "[ 2.  5.  6.  1. 10.  7.]\n"
          ]
        }
      ],
      "source": [
        "#method 1\n",
        "arr=np.array([2.1,5,6.7,1.5,10,7.5])\n",
        "arr=arr.astype(np.int16)\n",
        "print(arr)\n",
        "#method 2\n",
        "arr2=np.array([2.1,5,6.7,1.5,10,7.5],dtype=\"i8\")\n",
        "print(arr2)\n",
        "#method 3\n",
        "arr3=np.array([2.1,5,6.7,1.5,10,7.5])\n",
        "print(np.floor(arr3))\n",
        "#method 4\n",
        "arr4=np.array([2.1,5,6.7,1.5,10,7.5])\n",
        "frac_part,decimal_part=np.modf(arr4)\n",
        "print(decimal_part)"
      ]
    },
    {
      "cell_type": "markdown",
      "id": "5a2e3d85",
      "metadata": {
        "id": "5a2e3d85"
      },
      "source": [
        "#### 37. Create a 5x5 matrix with row values ranging from 0 to 4 (★★☆)"
      ]
    },
    {
      "cell_type": "code",
      "execution_count": null,
      "id": "1d974e8f",
      "metadata": {
        "id": "1d974e8f",
        "outputId": "63169ac7-205f-45bc-e1e9-ab3fe16f8268",
        "colab": {
          "base_uri": "https://localhost:8080/"
        }
      },
      "outputs": [
        {
          "output_type": "execute_result",
          "data": {
            "text/plain": [
              "array([[0, 1, 2, 3, 4],\n",
              "       [0, 1, 2, 3, 4],\n",
              "       [0, 1, 2, 3, 4],\n",
              "       [0, 1, 2, 3, 4],\n",
              "       [0, 1, 2, 3, 4]])"
            ]
          },
          "metadata": {},
          "execution_count": 21
        }
      ],
      "source": [
        "np.full((5,5),range(5))"
      ]
    },
    {
      "cell_type": "markdown",
      "id": "9720e2d5",
      "metadata": {
        "id": "9720e2d5"
      },
      "source": [
        "#### 38. Consider a generator function that generates 10 integers and use it to build an array (★☆☆)"
      ]
    },
    {
      "cell_type": "code",
      "execution_count": null,
      "id": "e5dd8fc9",
      "metadata": {
        "id": "e5dd8fc9",
        "outputId": "1603f8c7-2e90-4133-e443-65fec801d155",
        "colab": {
          "base_uri": "https://localhost:8080/"
        }
      },
      "outputs": [
        {
          "output_type": "stream",
          "name": "stdout",
          "text": [
            "[131 496 690  31 812  67 204 878 399 134]\n"
          ]
        }
      ],
      "source": [
        "def genarator10():\n",
        "  return np.random.randint(1000,size=10)\n",
        "arr=genarator10()\n",
        "print(arr)"
      ]
    },
    {
      "cell_type": "markdown",
      "id": "c6f2c912",
      "metadata": {
        "id": "c6f2c912"
      },
      "source": [
        "#### 39. Create a vector of size 10 with values ranging from 0 to 1, both excluded (★★☆)"
      ]
    },
    {
      "cell_type": "code",
      "execution_count": null,
      "id": "6aaa27d3",
      "metadata": {
        "id": "6aaa27d3",
        "outputId": "c51e5872-d614-491f-9417-1bcb83e929ec",
        "colab": {
          "base_uri": "https://localhost:8080/"
        }
      },
      "outputs": [
        {
          "output_type": "execute_result",
          "data": {
            "text/plain": [
              "array([0.73877265, 0.07724832, 0.22312753, 0.44261051, 0.65009726,\n",
              "       0.36404605, 0.33149094, 0.95152249, 0.24716346, 0.46213289])"
            ]
          },
          "metadata": {},
          "execution_count": 22
        }
      ],
      "source": [
        "np.random.rand(10)"
      ]
    },
    {
      "cell_type": "markdown",
      "id": "a36d6ee4",
      "metadata": {
        "id": "a36d6ee4"
      },
      "source": [
        "#### 40. Create a random vector of size 10 and sort it (★★☆)"
      ]
    },
    {
      "cell_type": "code",
      "execution_count": null,
      "id": "e589d216",
      "metadata": {
        "id": "e589d216",
        "outputId": "8d9d7206-bd4f-4deb-eef0-83d1aa923ff0",
        "colab": {
          "base_uri": "https://localhost:8080/"
        }
      },
      "outputs": [
        {
          "output_type": "execute_result",
          "data": {
            "text/plain": [
              "array([0.00284513, 0.30213001, 0.3604674 , 0.36137748, 0.47413814,\n",
              "       0.50232294, 0.51719393, 0.63168899, 0.83192349, 0.94326603])"
            ]
          },
          "metadata": {},
          "execution_count": 26
        }
      ],
      "source": [
        "np.sort(np.random.rand(10))"
      ]
    },
    {
      "cell_type": "markdown",
      "id": "0fb4ad68",
      "metadata": {
        "id": "0fb4ad68"
      },
      "source": [
        "#### 41. How to sum a small array faster than np.sum? (★★☆)"
      ]
    },
    {
      "cell_type": "code",
      "execution_count": null,
      "id": "a1ba05a0",
      "metadata": {
        "id": "a1ba05a0",
        "colab": {
          "base_uri": "https://localhost:8080/"
        },
        "outputId": "bfe0c82d-d8cf-4b30-9e70-6bdd7627e6f3"
      },
      "outputs": [
        {
          "output_type": "stream",
          "name": "stdout",
          "text": [
            "32.8\n"
          ]
        }
      ],
      "source": [
        "\n",
        "arr=np.array([2.1,5,6.7,1.5,10,7.5])\n",
        "arr2=sum(arr)\n",
        "print(arr2)"
      ]
    },
    {
      "cell_type": "markdown",
      "id": "024ac365",
      "metadata": {
        "id": "024ac365"
      },
      "source": [
        "#### 42. Consider two random array A and B, check if they are equal (★★☆)"
      ]
    },
    {
      "cell_type": "code",
      "execution_count": null,
      "id": "7db3846d",
      "metadata": {
        "id": "7db3846d",
        "outputId": "c392a729-d622-4f29-9c02-0c61f648091c",
        "colab": {
          "base_uri": "https://localhost:8080/"
        }
      },
      "outputs": [
        {
          "output_type": "stream",
          "name": "stdout",
          "text": [
            "False\n"
          ]
        }
      ],
      "source": [
        "def are_equal(arr1,arr2):\n",
        "  x=(arr1==arr2)\n",
        "  for i in x:\n",
        "    if(not i):\n",
        "      return False\n",
        "  return True\n",
        "arr1=np.array([1,2,3,4,7])\n",
        "arr2=np.array([1,2,3,4,5])\n",
        "print(are_equal(arr1,arr2))\n",
        "\n"
      ]
    },
    {
      "cell_type": "markdown",
      "id": "c68d2401",
      "metadata": {
        "id": "c68d2401"
      },
      "source": [
        "#### 43. Make an array immutable (read-only) (★★☆)"
      ]
    },
    {
      "cell_type": "code",
      "execution_count": null,
      "id": "7828539d",
      "metadata": {
        "id": "7828539d",
        "outputId": "b8b5d45a-b7de-4bfa-a8e6-e6f4eb5d5b0b",
        "colab": {
          "base_uri": "https://localhost:8080/",
          "height": 220
        }
      },
      "outputs": [
        {
          "output_type": "stream",
          "name": "stdout",
          "text": [
            "[0 1 2 3 4 5 6 7 8 9]\n"
          ]
        },
        {
          "output_type": "error",
          "ename": "ValueError",
          "evalue": "assignment destination is read-only",
          "traceback": [
            "\u001b[0;31m---------------------------------------------------------------------------\u001b[0m",
            "\u001b[0;31mValueError\u001b[0m                                Traceback (most recent call last)",
            "\u001b[0;32m/tmp/ipython-input-27-1342047042.py\u001b[0m in \u001b[0;36m<cell line: 0>\u001b[0;34m()\u001b[0m\n\u001b[1;32m      2\u001b[0m \u001b[0marr\u001b[0m\u001b[0;34m.\u001b[0m\u001b[0msetflags\u001b[0m\u001b[0;34m(\u001b[0m\u001b[0mwrite\u001b[0m\u001b[0;34m=\u001b[0m\u001b[0;32mFalse\u001b[0m\u001b[0;34m)\u001b[0m\u001b[0;34m\u001b[0m\u001b[0;34m\u001b[0m\u001b[0m\n\u001b[1;32m      3\u001b[0m \u001b[0mprint\u001b[0m\u001b[0;34m(\u001b[0m\u001b[0marr\u001b[0m\u001b[0;34m)\u001b[0m\u001b[0;34m\u001b[0m\u001b[0;34m\u001b[0m\u001b[0m\n\u001b[0;32m----> 4\u001b[0;31m \u001b[0marr\u001b[0m\u001b[0;34m[\u001b[0m\u001b[0;36m0\u001b[0m\u001b[0;34m]\u001b[0m\u001b[0;34m=\u001b[0m\u001b[0;36m10\u001b[0m\u001b[0;34m\u001b[0m\u001b[0;34m\u001b[0m\u001b[0m\n\u001b[0m\u001b[1;32m      5\u001b[0m \u001b[0mprint\u001b[0m\u001b[0;34m(\u001b[0m\u001b[0marr\u001b[0m\u001b[0;34m)\u001b[0m\u001b[0;34m\u001b[0m\u001b[0;34m\u001b[0m\u001b[0m\n",
            "\u001b[0;31mValueError\u001b[0m: assignment destination is read-only"
          ]
        }
      ],
      "source": [
        "arr=np.array(range(10))\n",
        "arr.setflags(write=False)\n",
        "print(arr)\n",
        "arr[0]=10\n",
        "print(arr)"
      ]
    },
    {
      "cell_type": "markdown",
      "id": "55df6280",
      "metadata": {
        "id": "55df6280"
      },
      "source": [
        "#### 44. Consider a random 10x2 matrix representing cartesian coordinates, convert them to polar coordinates (★★☆)"
      ]
    },
    {
      "cell_type": "code",
      "execution_count": null,
      "id": "f1c86ea0",
      "metadata": {
        "id": "f1c86ea0",
        "colab": {
          "base_uri": "https://localhost:8080/"
        },
        "outputId": "3bbae192-072a-4f9d-d0a5-49d746b461bd"
      },
      "outputs": [
        {
          "output_type": "stream",
          "name": "stdout",
          "text": [
            "in cartisian form :\n",
            "[[9. 4.]\n",
            " [0. 1.]\n",
            " [9. 0.]\n",
            " [1. 8.]\n",
            " [9. 0.]\n",
            " [8. 6.]\n",
            " [4. 3.]\n",
            " [0. 4.]\n",
            " [6. 8.]\n",
            " [1. 8.]]\n",
            "--------------\n",
            "in polar form:\n",
            "[ 9.85  1.    9.    8.06  9.   10.    5.    4.   10.    8.06]\n",
            "[[1.326 0.785 0.    1.446 0.    1.405 1.249 1.326 1.446 1.446]]\n"
          ]
        }
      ],
      "source": [
        "np.random.seed(10)\n",
        "arr=np.random.randint(10,size=(10,2))\n",
        "arr=arr.astype(np.float16)\n",
        "squaring=arr**2\n",
        "r=np.sqrt(np.sum(squaring,axis=1))\n",
        "x,y=np.split(arr,2,axis=1)\n",
        "x=np.copy(x)\n",
        "theta=np.arctan(y,x)\n",
        "theta=theta.T\n",
        "print(\"in cartisian form :\")\n",
        "print(arr)\n",
        "print(\"--------------\")\n",
        "print(\"in polar form:\")\n",
        "print(r)\n",
        "print(theta)"
      ]
    },
    {
      "cell_type": "markdown",
      "id": "2f60f1ec",
      "metadata": {
        "id": "2f60f1ec"
      },
      "source": [
        "#### 45. Create random vector of size 10 and replace the maximum value by 0 (★★☆)"
      ]
    },
    {
      "cell_type": "code",
      "execution_count": null,
      "id": "d9f48f1c",
      "metadata": {
        "id": "d9f48f1c",
        "outputId": "7402eb5e-80b4-44fc-8a91-983f5bb8b925",
        "colab": {
          "base_uri": "https://localhost:8080/"
        }
      },
      "outputs": [
        {
          "output_type": "stream",
          "name": "stdout",
          "text": [
            "[28 22  1 22 40 49 27 33 29 28]\n",
            "--------------\n",
            "[28 22  1 22 40  0 27 33 29 28]\n"
          ]
        }
      ],
      "source": [
        "np.random.seed(9)\n",
        "arr=np.random.randint(50,size=10)\n",
        "i=arr.argmax()\n",
        "print(arr)\n",
        "print(\"--------------\")\n",
        "arr[i]=0\n",
        "print(arr)"
      ]
    },
    {
      "cell_type": "markdown",
      "id": "084e8ad4",
      "metadata": {
        "id": "084e8ad4"
      },
      "source": [
        "#### 46. Create a structured array with `x` and `y` coordinates covering the [0,1]x[0,1] area (★★☆)"
      ]
    },
    {
      "cell_type": "code",
      "execution_count": null,
      "id": "58b47c13",
      "metadata": {
        "id": "58b47c13"
      },
      "outputs": [],
      "source": [
        "my_type=np.dtype([(\"x\",\"float16\"),(\"y\",\"float16\")])\n",
        "arr=np.array([(0,0),(0,1),(1,0),(1,1)],dtype=my_type)\n"
      ]
    },
    {
      "cell_type": "markdown",
      "id": "d7b9bc42",
      "metadata": {
        "id": "d7b9bc42"
      },
      "source": [
        "#### 47. Given two arrays, X and Y, construct the Cauchy matrix C (Cij =1/(xi - yj)) (★★☆)"
      ]
    },
    {
      "cell_type": "code",
      "execution_count": null,
      "id": "a24824fb",
      "metadata": {
        "id": "a24824fb",
        "colab": {
          "base_uri": "https://localhost:8080/"
        },
        "outputId": "eb64bbba-7977-4282-c72a-08409f98078c"
      },
      "outputs": [
        {
          "output_type": "stream",
          "name": "stdout",
          "text": [
            "[[-0.33333333 -0.25       -0.2       ]\n",
            " [-0.5        -0.33333333 -0.25      ]\n",
            " [-1.         -0.5        -0.33333333]]\n"
          ]
        }
      ],
      "source": [
        "x=np.array([1,2,3])\n",
        "y=np.array([4,5,6])\n",
        "\n",
        "cauchy_mat=np.zeros((x.size,y.size))\n",
        "for i in range(x.size):\n",
        "  for j in range(y.size):\n",
        "    if(x[i]==y[j]):\n",
        "      print(\"its dividing by zero exiting\")\n",
        "      break\n",
        "    cauchy_mat[i][j]=1/(x[i]-y[j])\n",
        "print(cauchy_mat)"
      ]
    },
    {
      "cell_type": "markdown",
      "id": "65ebc11b",
      "metadata": {
        "id": "65ebc11b"
      },
      "source": [
        "#### 48. Print the minimum and maximum representable value for each numpy scalar type (★★☆)"
      ]
    },
    {
      "cell_type": "code",
      "execution_count": null,
      "id": "e45d38fb",
      "metadata": {
        "id": "e45d38fb",
        "colab": {
          "base_uri": "https://localhost:8080/"
        },
        "outputId": "116ca7aa-9fba-48a8-ca92-ebb2732a3c72"
      },
      "outputs": [
        {
          "output_type": "stream",
          "name": "stdout",
          "text": [
            "int8: Min = -128, Max = 127\n",
            "int16: Min = -32768, Max = 32767\n",
            "int32: Min = -2147483648, Max = 2147483647\n",
            "int64: Min = -9223372036854775808, Max = 9223372036854775807\n",
            "uint8: Min = 0, Max = 255\n",
            "uint16: Min = 0, Max = 65535\n",
            "uint32: Min = 0, Max = 4294967295\n",
            "uint64: Min = 0, Max = 18446744073709551615\n",
            "float16: Min = -65504.0, Max = 65504.0, Epsilon = 0.0009765625\n",
            "float32: Min = -3.4028234663852886e+38, Max = 3.4028234663852886e+38, Epsilon = 1.1920928955078125e-07\n",
            "float64: Min = -1.7976931348623157e+308, Max = 1.7976931348623157e+308, Epsilon = 2.220446049250313e-16\n",
            "float128: Min = -inf, Max = inf, Epsilon = 1.0842021724855044e-19\n"
          ]
        }
      ],
      "source": [
        "for dtype_name in ['int8', 'int16', 'int32', 'int64', 'uint8', 'uint16', 'uint32', 'uint64']:\n",
        "    try:\n",
        "        info = np.iinfo(dtype_name)\n",
        "        print(f\"{dtype_name}: Min = {info.min}, Max = {info.max}\")\n",
        "    except ValueError:\n",
        "        print(f\"Could not get info for {dtype_name}\")\n",
        "for dtype_name in ['float16', 'float32', 'float64', 'float128']:\n",
        "    try:\n",
        "        info = np.finfo(dtype_name)\n",
        "        print(f\"{dtype_name}: Min = {info.min}, Max = {info.max}, Epsilon = {info.eps}\")\n",
        "    except ValueError:\n",
        "        print(f\"Could not get info for {dtype_name}\")"
      ]
    },
    {
      "cell_type": "markdown",
      "id": "9b317a98",
      "metadata": {
        "id": "9b317a98"
      },
      "source": [
        "#### 49. How to print all the values of an array? (★★☆)"
      ]
    },
    {
      "cell_type": "code",
      "execution_count": null,
      "id": "309cdeb9",
      "metadata": {
        "id": "309cdeb9",
        "colab": {
          "base_uri": "https://localhost:8080/"
        },
        "outputId": "5cd62e0b-cddc-463a-eaef-1ebc81004e7f",
        "collapsed": true
      },
      "outputs": [
        {
          "output_type": "stream",
          "name": "stdout",
          "text": [
            "0\n",
            "1\n",
            "2\n",
            "3\n",
            "4\n",
            "5\n",
            "6\n",
            "7\n",
            "8\n",
            "9\n",
            "10\n",
            "11\n",
            "12\n",
            "13\n",
            "14\n",
            "15\n",
            "16\n",
            "17\n",
            "18\n",
            "19\n",
            "20\n",
            "21\n",
            "22\n",
            "23\n",
            "24\n",
            "25\n",
            "26\n",
            "27\n",
            "28\n",
            "29\n",
            "30\n",
            "31\n",
            "32\n",
            "33\n",
            "34\n",
            "35\n",
            "36\n",
            "37\n",
            "38\n",
            "39\n",
            "40\n",
            "41\n",
            "42\n",
            "43\n",
            "44\n",
            "45\n",
            "46\n",
            "47\n",
            "48\n",
            "49\n",
            "50\n",
            "51\n",
            "52\n",
            "53\n",
            "54\n",
            "55\n",
            "56\n",
            "57\n",
            "58\n",
            "59\n",
            "60\n",
            "61\n",
            "62\n",
            "63\n",
            "64\n",
            "65\n",
            "66\n",
            "67\n",
            "68\n",
            "69\n",
            "70\n",
            "71\n",
            "72\n",
            "73\n",
            "74\n",
            "75\n",
            "76\n",
            "77\n",
            "78\n",
            "79\n",
            "80\n",
            "81\n",
            "82\n",
            "83\n",
            "84\n",
            "85\n",
            "86\n",
            "87\n",
            "88\n",
            "89\n",
            "90\n",
            "91\n",
            "92\n",
            "93\n",
            "94\n",
            "95\n",
            "96\n",
            "97\n",
            "98\n",
            "99\n",
            "100\n",
            "101\n",
            "102\n",
            "103\n",
            "104\n",
            "105\n",
            "106\n",
            "107\n",
            "108\n",
            "109\n",
            "110\n",
            "111\n",
            "112\n",
            "113\n",
            "114\n",
            "115\n",
            "116\n",
            "117\n",
            "118\n",
            "119\n",
            "120\n",
            "121\n",
            "122\n",
            "123\n",
            "124\n",
            "125\n",
            "126\n",
            "127\n",
            "128\n",
            "129\n",
            "130\n",
            "131\n",
            "132\n",
            "133\n",
            "134\n",
            "135\n",
            "136\n",
            "137\n",
            "138\n",
            "139\n",
            "140\n",
            "141\n",
            "142\n",
            "143\n",
            "144\n",
            "145\n",
            "146\n",
            "147\n",
            "148\n",
            "149\n",
            "150\n",
            "151\n",
            "152\n",
            "153\n",
            "154\n",
            "155\n",
            "156\n",
            "157\n",
            "158\n",
            "159\n",
            "160\n",
            "161\n",
            "162\n",
            "163\n",
            "164\n",
            "165\n",
            "166\n",
            "167\n",
            "168\n",
            "169\n",
            "170\n",
            "171\n",
            "172\n",
            "173\n",
            "174\n",
            "175\n",
            "176\n",
            "177\n",
            "178\n",
            "179\n",
            "180\n",
            "181\n",
            "182\n",
            "183\n",
            "184\n",
            "185\n",
            "186\n",
            "187\n",
            "188\n",
            "189\n",
            "190\n",
            "191\n",
            "192\n",
            "193\n",
            "194\n",
            "195\n",
            "196\n",
            "197\n",
            "198\n",
            "199\n",
            "200\n",
            "201\n",
            "202\n",
            "203\n",
            "204\n",
            "205\n",
            "206\n",
            "207\n",
            "208\n",
            "209\n",
            "210\n",
            "211\n",
            "212\n",
            "213\n",
            "214\n",
            "215\n",
            "216\n",
            "217\n",
            "218\n",
            "219\n",
            "220\n",
            "221\n",
            "222\n",
            "223\n",
            "224\n",
            "225\n",
            "226\n",
            "227\n",
            "228\n",
            "229\n",
            "230\n",
            "231\n",
            "232\n",
            "233\n",
            "234\n",
            "235\n",
            "236\n",
            "237\n",
            "238\n",
            "239\n",
            "240\n",
            "241\n",
            "242\n",
            "243\n",
            "244\n",
            "245\n",
            "246\n",
            "247\n",
            "248\n",
            "249\n",
            "250\n",
            "251\n",
            "252\n",
            "253\n",
            "254\n",
            "255\n",
            "256\n",
            "257\n",
            "258\n",
            "259\n",
            "260\n",
            "261\n",
            "262\n",
            "263\n",
            "264\n",
            "265\n",
            "266\n",
            "267\n",
            "268\n",
            "269\n",
            "270\n",
            "271\n",
            "272\n",
            "273\n",
            "274\n",
            "275\n",
            "276\n",
            "277\n",
            "278\n",
            "279\n",
            "280\n",
            "281\n",
            "282\n",
            "283\n",
            "284\n",
            "285\n",
            "286\n",
            "287\n",
            "288\n",
            "289\n",
            "290\n",
            "291\n",
            "292\n",
            "293\n",
            "294\n",
            "295\n",
            "296\n",
            "297\n",
            "298\n",
            "299\n",
            "300\n",
            "301\n",
            "302\n",
            "303\n",
            "304\n",
            "305\n",
            "306\n",
            "307\n",
            "308\n",
            "309\n",
            "310\n",
            "311\n",
            "312\n",
            "313\n",
            "314\n",
            "315\n",
            "316\n",
            "317\n",
            "318\n",
            "319\n",
            "320\n",
            "321\n",
            "322\n",
            "323\n",
            "324\n",
            "325\n",
            "326\n",
            "327\n",
            "328\n",
            "329\n",
            "330\n",
            "331\n",
            "332\n",
            "333\n",
            "334\n",
            "335\n",
            "336\n",
            "337\n",
            "338\n",
            "339\n",
            "340\n",
            "341\n",
            "342\n",
            "343\n",
            "344\n",
            "345\n",
            "346\n",
            "347\n",
            "348\n",
            "349\n",
            "350\n",
            "351\n",
            "352\n",
            "353\n",
            "354\n",
            "355\n",
            "356\n",
            "357\n",
            "358\n",
            "359\n",
            "360\n",
            "361\n",
            "362\n",
            "363\n",
            "364\n",
            "365\n",
            "366\n",
            "367\n",
            "368\n",
            "369\n",
            "370\n",
            "371\n",
            "372\n",
            "373\n",
            "374\n",
            "375\n",
            "376\n",
            "377\n",
            "378\n",
            "379\n",
            "380\n",
            "381\n",
            "382\n",
            "383\n",
            "384\n",
            "385\n",
            "386\n",
            "387\n",
            "388\n",
            "389\n",
            "390\n",
            "391\n",
            "392\n",
            "393\n",
            "394\n",
            "395\n",
            "396\n",
            "397\n",
            "398\n",
            "399\n",
            "400\n",
            "401\n",
            "402\n",
            "403\n",
            "404\n",
            "405\n",
            "406\n",
            "407\n",
            "408\n",
            "409\n",
            "410\n",
            "411\n",
            "412\n",
            "413\n",
            "414\n",
            "415\n",
            "416\n",
            "417\n",
            "418\n",
            "419\n",
            "420\n",
            "421\n",
            "422\n",
            "423\n",
            "424\n",
            "425\n",
            "426\n",
            "427\n",
            "428\n",
            "429\n",
            "430\n",
            "431\n",
            "432\n",
            "433\n",
            "434\n",
            "435\n",
            "436\n",
            "437\n",
            "438\n",
            "439\n",
            "440\n",
            "441\n",
            "442\n",
            "443\n",
            "444\n",
            "445\n",
            "446\n",
            "447\n",
            "448\n",
            "449\n",
            "450\n",
            "451\n",
            "452\n",
            "453\n",
            "454\n",
            "455\n",
            "456\n",
            "457\n",
            "458\n",
            "459\n",
            "460\n",
            "461\n",
            "462\n",
            "463\n",
            "464\n",
            "465\n",
            "466\n",
            "467\n",
            "468\n",
            "469\n",
            "470\n",
            "471\n",
            "472\n",
            "473\n",
            "474\n",
            "475\n",
            "476\n",
            "477\n",
            "478\n",
            "479\n",
            "480\n",
            "481\n",
            "482\n",
            "483\n",
            "484\n",
            "485\n",
            "486\n",
            "487\n",
            "488\n",
            "489\n",
            "490\n",
            "491\n",
            "492\n",
            "493\n",
            "494\n",
            "495\n",
            "496\n",
            "497\n",
            "498\n",
            "499\n",
            "500\n",
            "501\n",
            "502\n",
            "503\n",
            "504\n",
            "505\n",
            "506\n",
            "507\n",
            "508\n",
            "509\n",
            "510\n",
            "511\n",
            "512\n",
            "513\n",
            "514\n",
            "515\n",
            "516\n",
            "517\n",
            "518\n",
            "519\n",
            "520\n",
            "521\n",
            "522\n",
            "523\n",
            "524\n",
            "525\n",
            "526\n",
            "527\n",
            "528\n",
            "529\n",
            "530\n",
            "531\n",
            "532\n",
            "533\n",
            "534\n",
            "535\n",
            "536\n",
            "537\n",
            "538\n",
            "539\n",
            "540\n",
            "541\n",
            "542\n",
            "543\n",
            "544\n",
            "545\n",
            "546\n",
            "547\n",
            "548\n",
            "549\n",
            "550\n",
            "551\n",
            "552\n",
            "553\n",
            "554\n",
            "555\n",
            "556\n",
            "557\n",
            "558\n",
            "559\n",
            "560\n",
            "561\n",
            "562\n",
            "563\n",
            "564\n",
            "565\n",
            "566\n",
            "567\n",
            "568\n",
            "569\n",
            "570\n",
            "571\n",
            "572\n",
            "573\n",
            "574\n",
            "575\n",
            "576\n",
            "577\n",
            "578\n",
            "579\n",
            "580\n",
            "581\n",
            "582\n",
            "583\n",
            "584\n",
            "585\n",
            "586\n",
            "587\n",
            "588\n",
            "589\n",
            "590\n",
            "591\n",
            "592\n",
            "593\n",
            "594\n",
            "595\n",
            "596\n",
            "597\n",
            "598\n",
            "599\n",
            "600\n",
            "601\n",
            "602\n",
            "603\n",
            "604\n",
            "605\n",
            "606\n",
            "607\n",
            "608\n",
            "609\n",
            "610\n",
            "611\n",
            "612\n",
            "613\n",
            "614\n",
            "615\n",
            "616\n",
            "617\n",
            "618\n",
            "619\n",
            "620\n",
            "621\n",
            "622\n",
            "623\n",
            "624\n",
            "625\n",
            "626\n",
            "627\n",
            "628\n",
            "629\n",
            "630\n",
            "631\n",
            "632\n",
            "633\n",
            "634\n",
            "635\n",
            "636\n",
            "637\n",
            "638\n",
            "639\n",
            "640\n",
            "641\n",
            "642\n",
            "643\n",
            "644\n",
            "645\n",
            "646\n",
            "647\n",
            "648\n",
            "649\n",
            "650\n",
            "651\n",
            "652\n",
            "653\n",
            "654\n",
            "655\n",
            "656\n",
            "657\n",
            "658\n",
            "659\n",
            "660\n",
            "661\n",
            "662\n",
            "663\n",
            "664\n",
            "665\n",
            "666\n",
            "667\n",
            "668\n",
            "669\n",
            "670\n",
            "671\n",
            "672\n",
            "673\n",
            "674\n",
            "675\n",
            "676\n",
            "677\n",
            "678\n",
            "679\n",
            "680\n",
            "681\n",
            "682\n",
            "683\n",
            "684\n",
            "685\n",
            "686\n",
            "687\n",
            "688\n",
            "689\n",
            "690\n",
            "691\n",
            "692\n",
            "693\n",
            "694\n",
            "695\n",
            "696\n",
            "697\n",
            "698\n",
            "699\n",
            "700\n",
            "701\n",
            "702\n",
            "703\n",
            "704\n",
            "705\n",
            "706\n",
            "707\n",
            "708\n",
            "709\n",
            "710\n",
            "711\n",
            "712\n",
            "713\n",
            "714\n",
            "715\n",
            "716\n",
            "717\n",
            "718\n",
            "719\n",
            "720\n",
            "721\n",
            "722\n",
            "723\n",
            "724\n",
            "725\n",
            "726\n",
            "727\n",
            "728\n",
            "729\n",
            "730\n",
            "731\n",
            "732\n",
            "733\n",
            "734\n",
            "735\n",
            "736\n",
            "737\n",
            "738\n",
            "739\n",
            "740\n",
            "741\n",
            "742\n",
            "743\n",
            "744\n",
            "745\n",
            "746\n",
            "747\n",
            "748\n",
            "749\n",
            "750\n",
            "751\n",
            "752\n",
            "753\n",
            "754\n",
            "755\n",
            "756\n",
            "757\n",
            "758\n",
            "759\n",
            "760\n",
            "761\n",
            "762\n",
            "763\n",
            "764\n",
            "765\n",
            "766\n",
            "767\n",
            "768\n",
            "769\n",
            "770\n",
            "771\n",
            "772\n",
            "773\n",
            "774\n",
            "775\n",
            "776\n",
            "777\n",
            "778\n",
            "779\n",
            "780\n",
            "781\n",
            "782\n",
            "783\n",
            "784\n",
            "785\n",
            "786\n",
            "787\n",
            "788\n",
            "789\n",
            "790\n",
            "791\n",
            "792\n",
            "793\n",
            "794\n",
            "795\n",
            "796\n",
            "797\n",
            "798\n",
            "799\n",
            "800\n",
            "801\n",
            "802\n",
            "803\n",
            "804\n",
            "805\n",
            "806\n",
            "807\n",
            "808\n",
            "809\n",
            "810\n",
            "811\n",
            "812\n",
            "813\n",
            "814\n",
            "815\n",
            "816\n",
            "817\n",
            "818\n",
            "819\n",
            "820\n",
            "821\n",
            "822\n",
            "823\n",
            "824\n",
            "825\n",
            "826\n",
            "827\n",
            "828\n",
            "829\n",
            "830\n",
            "831\n",
            "832\n",
            "833\n",
            "834\n",
            "835\n",
            "836\n",
            "837\n",
            "838\n",
            "839\n",
            "840\n",
            "841\n",
            "842\n",
            "843\n",
            "844\n",
            "845\n",
            "846\n",
            "847\n",
            "848\n",
            "849\n",
            "850\n",
            "851\n",
            "852\n",
            "853\n",
            "854\n",
            "855\n",
            "856\n",
            "857\n",
            "858\n",
            "859\n",
            "860\n",
            "861\n",
            "862\n",
            "863\n",
            "864\n",
            "865\n",
            "866\n",
            "867\n",
            "868\n",
            "869\n",
            "870\n",
            "871\n",
            "872\n",
            "873\n",
            "874\n",
            "875\n",
            "876\n",
            "877\n",
            "878\n",
            "879\n",
            "880\n",
            "881\n",
            "882\n",
            "883\n",
            "884\n",
            "885\n",
            "886\n",
            "887\n",
            "888\n",
            "889\n",
            "890\n",
            "891\n",
            "892\n",
            "893\n",
            "894\n",
            "895\n",
            "896\n",
            "897\n",
            "898\n",
            "899\n",
            "900\n",
            "901\n",
            "902\n",
            "903\n",
            "904\n",
            "905\n",
            "906\n",
            "907\n",
            "908\n",
            "909\n",
            "910\n",
            "911\n",
            "912\n",
            "913\n",
            "914\n",
            "915\n",
            "916\n",
            "917\n",
            "918\n",
            "919\n",
            "920\n",
            "921\n",
            "922\n",
            "923\n",
            "924\n",
            "925\n",
            "926\n",
            "927\n",
            "928\n",
            "929\n",
            "930\n",
            "931\n",
            "932\n",
            "933\n",
            "934\n",
            "935\n",
            "936\n",
            "937\n",
            "938\n",
            "939\n",
            "940\n",
            "941\n",
            "942\n",
            "943\n",
            "944\n",
            "945\n",
            "946\n",
            "947\n",
            "948\n",
            "949\n",
            "950\n",
            "951\n",
            "952\n",
            "953\n",
            "954\n",
            "955\n",
            "956\n",
            "957\n",
            "958\n",
            "959\n",
            "960\n",
            "961\n",
            "962\n",
            "963\n",
            "964\n",
            "965\n",
            "966\n",
            "967\n",
            "968\n",
            "969\n",
            "970\n",
            "971\n",
            "972\n",
            "973\n",
            "974\n",
            "975\n",
            "976\n",
            "977\n",
            "978\n",
            "979\n",
            "980\n",
            "981\n",
            "982\n",
            "983\n",
            "984\n",
            "985\n",
            "986\n",
            "987\n",
            "988\n",
            "989\n",
            "990\n",
            "991\n",
            "992\n",
            "993\n",
            "994\n",
            "995\n",
            "996\n",
            "997\n",
            "998\n",
            "999\n"
          ]
        }
      ],
      "source": [
        "arr=np.arange(1000)\n",
        "for a in arr:\n",
        "  print(a)"
      ]
    },
    {
      "cell_type": "markdown",
      "id": "b580f9d0",
      "metadata": {
        "id": "b580f9d0"
      },
      "source": [
        "#### 50. How to find the closest value (to a given scalar) in a vector? (★★☆)"
      ]
    },
    {
      "cell_type": "code",
      "execution_count": null,
      "id": "ebfb6714",
      "metadata": {
        "id": "ebfb6714"
      },
      "outputs": [],
      "source": [
        "np.random.seed(10)\n",
        "arr=np.random.randint(30,size=10)\n",
        "print(arr)\n",
        "target_num=int(input(\"enter the number you want to target: \"))\n",
        "difference=np.abs(arr-target_num)\n",
        "i=difference.argmin()\n",
        "print(f\"the nearest value to {target_num} is at index {i} and the value is {arr[i]}\")"
      ]
    },
    {
      "cell_type": "markdown",
      "id": "602e6252",
      "metadata": {
        "id": "602e6252"
      },
      "source": [
        "#### 51. Create a structured array representing a position (x,y) and a color (r,g,b) (★★☆)"
      ]
    },
    {
      "cell_type": "code",
      "execution_count": null,
      "id": "cf002b3a",
      "metadata": {
        "id": "cf002b3a",
        "colab": {
          "base_uri": "https://localhost:8080/"
        },
        "outputId": "9f0b6e8e-0ed5-4b15-ab0e-5d0ddb259822"
      },
      "outputs": [
        {
          "output_type": "stream",
          "name": "stdout",
          "text": [
            "[(10, 2, (125,  97,  37)) ( 2, 5, ( 25, 143, 200))]\n"
          ]
        }
      ],
      "source": [
        "my_dtype=np.dtype([(\"x\",\"i1\"),\n",
        "                    (\"y\",\"i1\"),\n",
        "                    (\"color\",[(\"r\",\"i2\"),(\"g\",\"i2\"),(\"b\",\"i2\")])])\n",
        "arr=np.array([(10,2,(125,97,37)),(2,5,(25,143,200))],dtype=my_dtype)\n",
        "print(arr)"
      ]
    },
    {
      "cell_type": "markdown",
      "id": "78bcd92f",
      "metadata": {
        "id": "78bcd92f"
      },
      "source": [
        "#### 52. Consider a random vector with shape (100,2) representing coordinates, find point by point distances (★★☆)"
      ]
    },
    {
      "cell_type": "code",
      "execution_count": null,
      "id": "fea7f9a6",
      "metadata": {
        "id": "fea7f9a6",
        "colab": {
          "base_uri": "https://localhost:8080/"
        },
        "outputId": "6cf01cb8-dfa9-4c98-90b5-f7e7f9555d18"
      },
      "outputs": [
        {
          "output_type": "stream",
          "name": "stdout",
          "text": [
            "[[ 0.         10.63014581 10.63014581 ...  7.07106781  7.21110255\n",
            "   9.05538514]\n",
            " [10.63014581  0.          0.         ...  7.          3.60555128\n",
            "   6.08276253]\n",
            " [10.63014581  0.          0.         ...  7.          3.60555128\n",
            "   6.08276253]\n",
            " ...\n",
            " [ 7.07106781  7.          7.         ...  0.          5.83095189\n",
            "  10.        ]\n",
            " [ 7.21110255  3.60555128  3.60555128 ...  5.83095189  0.\n",
            "   4.24264069]\n",
            " [ 9.05538514  6.08276253  6.08276253 ... 10.          4.24264069\n",
            "   0.        ]]\n"
          ]
        }
      ],
      "source": [
        "np.random.seed(11)\n",
        "arr=np.random.randint(10,size=(100,2))\n",
        "final_arr=np.zeros((arr.shape[0],arr.shape[0]))\n",
        "\n",
        "for i in range(arr.shape[0]):\n",
        "  dist=0\n",
        "  for j in range(arr.shape[0]):\n",
        "    diff=arr[i]-arr[j]\n",
        "    final_arr[i][j]=np.sqrt(np.sum(diff**2))\n",
        "print(final_arr)"
      ]
    },
    {
      "cell_type": "markdown",
      "id": "343c5a85",
      "metadata": {
        "id": "343c5a85"
      },
      "source": [
        "#### 53. How to convert a float (32 bits) array into an integer (32 bits) in place?"
      ]
    },
    {
      "cell_type": "code",
      "execution_count": null,
      "id": "fc1b687b",
      "metadata": {
        "id": "fc1b687b"
      },
      "outputs": [],
      "source": [
        "arr=np.array([1.5,7,8.9,1.3],dtype=\"float32\")\n",
        "arr=arr.astype(np.int32)"
      ]
    },
    {
      "cell_type": "markdown",
      "id": "a69e1ace",
      "metadata": {
        "id": "a69e1ace"
      },
      "source": [
        "#### 54. How to read the following file? (★★☆)\n",
        "```\n",
        "1, 2, 3, 4, 5\n",
        "6,  ,  , 7, 8\n",
        " ,  , 9,10,11\n",
        "```"
      ]
    },
    {
      "cell_type": "code",
      "execution_count": null,
      "id": "1c7957d4",
      "metadata": {
        "id": "1c7957d4"
      },
      "outputs": [],
      "source": [
        "np.genfromtxt(\"filename.csv\", delimiter=\",\")\n"
      ]
    },
    {
      "cell_type": "markdown",
      "id": "c23bd80d",
      "metadata": {
        "id": "c23bd80d"
      },
      "source": [
        "#### 55. What is the equivalent of enumerate for numpy arrays? (★★☆)"
      ]
    },
    {
      "cell_type": "code",
      "execution_count": null,
      "id": "d95d9578",
      "metadata": {
        "id": "d95d9578",
        "colab": {
          "base_uri": "https://localhost:8080/"
        },
        "outputId": "f4b27a2c-b26f-4d30-cba3-c456c0b8a09f"
      },
      "outputs": [
        {
          "output_type": "stream",
          "name": "stdout",
          "text": [
            "(0, 0) 3\n",
            "(0, 1) 9\n",
            "(0, 2) 7\n",
            "(1, 0) 9\n",
            "(1, 1) 9\n",
            "(1, 2) 7\n",
            "(2, 0) 0\n",
            "(2, 1) 0\n",
            "(2, 2) 9\n"
          ]
        }
      ],
      "source": [
        "arr=np.random.randint(10,size=(3,3))\n",
        "for index,value in np.ndenumerate(arr):\n",
        "  print(index,value)"
      ]
    },
    {
      "cell_type": "markdown",
      "id": "2153a5ec",
      "metadata": {
        "id": "2153a5ec"
      },
      "source": [
        "#### 56. Generate a generic 2D Gaussian-like array (★★☆)"
      ]
    },
    {
      "cell_type": "code",
      "execution_count": null,
      "id": "61122d1e",
      "metadata": {
        "id": "61122d1e",
        "colab": {
          "base_uri": "https://localhost:8080/"
        },
        "outputId": "44a83478-b4ea-4f96-b5ea-917d2685e65f"
      },
      "outputs": [
        {
          "output_type": "execute_result",
          "data": {
            "text/plain": [
              "array([[0.91390624, 0.51570072, 1.29068521, 0.83797199, 1.29315645],\n",
              "       [1.27960544, 0.5005937 , 1.27832343, 0.33901726, 0.52646167],\n",
              "       [0.82518719, 0.73276108, 0.43207019, 0.51196842, 0.87598502],\n",
              "       [1.06034024, 0.51799423, 0.75310735, 1.19882548, 0.85789244],\n",
              "       [0.75124195, 0.60321352, 1.23764422, 1.20251523, 0.74019286]])"
            ]
          },
          "metadata": {},
          "execution_count": 33
        }
      ],
      "source": [
        "\n",
        "\n",
        "np.random.seed(11)\n",
        "arr = np.random.rand(5, 5)\n",
        "\n",
        "mean = arr.mean()\n",
        "std = arr.std()\n",
        "\n",
        "gaussian_like = (1 / (std * np.sqrt(2 * np.pi))) * np.exp(-((arr - mean)**2) / (2 * std**2))\n",
        "gaussian_like"
      ]
    },
    {
      "cell_type": "markdown",
      "id": "2e76d589",
      "metadata": {
        "id": "2e76d589"
      },
      "source": [
        "#### 57. How to randomly place p elements in a 2D array? (★★☆)"
      ]
    },
    {
      "cell_type": "code",
      "execution_count": null,
      "id": "0c2e4fcc",
      "metadata": {
        "id": "0c2e4fcc",
        "colab": {
          "base_uri": "https://localhost:8080/"
        },
        "outputId": "7507942c-c751-49e9-9eb9-d757f1821a8c"
      },
      "outputs": [
        {
          "output_type": "stream",
          "name": "stdout",
          "text": [
            "[[9 0 1 7]\n",
            " [1 7 2 8]\n",
            " [0 0 4 2]\n",
            " [1 5 5 7]]\n",
            "enter number of elements you want to replace: 5\n",
            "[ 5  7 15 10  0]\n",
            "[1 1 3 2 0] [1 3 3 2 0]\n"
          ]
        },
        {
          "output_type": "execute_result",
          "data": {
            "text/plain": [
              "array([[11,  0,  1,  7],\n",
              "       [ 1, 11,  2, 11],\n",
              "       [ 0,  0, 11,  2],\n",
              "       [ 1,  5,  5, 11]])"
            ]
          },
          "metadata": {},
          "execution_count": 68
        }
      ],
      "source": [
        "np.random.seed(11)\n",
        "arr=np.random.randint(10,size=(4,4))\n",
        "print(arr)\n",
        "numm_p=int(input(\"enter number of elements you want to replace: \"))\n",
        "random_indices = np.random.choice(arr.size, size=numm_p, replace=False)\n",
        "print(random_indices)\n",
        "\n",
        "row_indices, col_indices = np.unravel_index(random_indices, arr.shape)\n",
        "print(row_indices,col_indices)\n",
        "arr[row_indices, col_indices] = np.random.randint(15)\n",
        "arr"
      ]
    },
    {
      "cell_type": "markdown",
      "id": "8b3933eb",
      "metadata": {
        "id": "8b3933eb"
      },
      "source": [
        "#### 58. Subtract the mean of each row of a matrix (★★☆)"
      ]
    },
    {
      "cell_type": "code",
      "execution_count": null,
      "id": "a306c9ef",
      "metadata": {
        "id": "a306c9ef",
        "colab": {
          "base_uri": "https://localhost:8080/"
        },
        "outputId": "956d7e32-f0bd-4548-d8ca-2411ee8d99e5"
      },
      "outputs": [
        {
          "output_type": "stream",
          "name": "stdout",
          "text": [
            "the original array:  \n",
            " [[99 90 15 95 28 90  9 20 75 22]\n",
            " [71 34 96 40 85 90 26 83 16 62]\n",
            " [16  7 98  6 26 13 75 58 25  3]\n",
            " [74 75 61 77 83 57 94 32 10  6]\n",
            " [75 18  3 77 17 43 16 18 79 90]\n",
            " [59 71 75 29 45  6 63 78 24 18]\n",
            " [93 33 78 42 94  3 18 70 52 22]\n",
            " [14  4 27 75  8  6 26 79 82 78]\n",
            " [10 33 85 17 40 82 42 60 84 30]\n",
            " [36  8 48 19 48 95 53 10 38  9]]\n",
            "the mean of each row:  \n",
            " [54.7 37.3 58.6 47.7 47.4 48.5 42.2 50.8 48.5 34. ]\n",
            "the array after subtracting the mean :  \n",
            " [54.7 37.3 58.6 47.7 47.4 48.5 42.2 50.8 48.5 34. ]\n"
          ]
        }
      ],
      "source": [
        "np.random.seed(20)\n",
        "arr=np.random.randint(100,size=(10,10))\n",
        "print(\"the original array: \",\"\\n\",arr)\n",
        "Avg=arr.mean(axis=0)\n",
        "arr=arr-Avg\n",
        "print(\"the mean of each row: \",\"\\n\",Avg)\n",
        "print(\"the array after subtracting the mean : \",\"\\n\",Avg)"
      ]
    },
    {
      "cell_type": "markdown",
      "id": "ea8807c0",
      "metadata": {
        "id": "ea8807c0"
      },
      "source": [
        "#### 59. How to sort an array by the nth column? (★★☆)"
      ]
    },
    {
      "cell_type": "code",
      "execution_count": null,
      "id": "cc89a699",
      "metadata": {
        "id": "cc89a699",
        "colab": {
          "base_uri": "https://localhost:8080/"
        },
        "outputId": "948a2692-ddcd-4fba-8cdf-9fd63ec2b26c"
      },
      "outputs": [
        {
          "output_type": "stream",
          "name": "stdout",
          "text": [
            "[[99 90 15 95 28 90  9 20 75 22]\n",
            " [71 34 96 40 85 90 26 83 16 62]\n",
            " [16  7 98  6 26 13 75 58 25  3]\n",
            " [74 75 61 77 83 57 94 32 10  6]\n",
            " [75 18  3 77 17 43 16 18 79 90]\n",
            " [59 71 75 29 45  6 63 78 24 18]\n",
            " [93 33 78 42 94  3 18 70 52 22]\n",
            " [14  4 27 75  8  6 26 79 82 78]\n",
            " [10 33 85 17 40 82 42 60 84 30]\n",
            " [36  8 48 19 48 95 53 10 38  9]]\n",
            "enter the coulmn you want to sort based on 0-95\n",
            "[[93 33 78 42 94  3 18 70 52 22]\n",
            " [59 71 75 29 45  6 63 78 24 18]\n",
            " [14  4 27 75  8  6 26 79 82 78]\n",
            " [16  7 98  6 26 13 75 58 25  3]\n",
            " [75 18  3 77 17 43 16 18 79 90]\n",
            " [74 75 61 77 83 57 94 32 10  6]\n",
            " [10 33 85 17 40 82 42 60 84 30]\n",
            " [99 90 15 95 28 90  9 20 75 22]\n",
            " [71 34 96 40 85 90 26 83 16 62]\n",
            " [36  8 48 19 48 95 53 10 38  9]]\n"
          ]
        }
      ],
      "source": [
        "np.random.seed(20)\n",
        "arr=np.random.randint(100,size=(10,10))\n",
        "print(arr)\n",
        "i=int(input(\"enter the coulmn you want to sort based on 0-9\"))\n",
        "sorted_index=arr[:,i].argsort()\n",
        "arr=arr[sorted_index]\n",
        "print(arr)"
      ]
    },
    {
      "cell_type": "markdown",
      "id": "00fa00a1",
      "metadata": {
        "id": "00fa00a1"
      },
      "source": [
        "\\#### 60. How to tell if a given 2D array has null columns? (★★☆)"
      ]
    },
    {
      "cell_type": "code",
      "execution_count": null,
      "id": "3436e165",
      "metadata": {
        "id": "3436e165",
        "colab": {
          "base_uri": "https://localhost:8080/"
        },
        "outputId": "2cbb58de-26f2-4792-b11f-37b041d59aea"
      },
      "outputs": [
        {
          "output_type": "stream",
          "name": "stdout",
          "text": [
            "[False  True False]\n"
          ]
        }
      ],
      "source": [
        "arr_nan = np.array([[1.0, np.nan, 3.0],\n",
        "                    [4.0, np.nan, 6.0],\n",
        "                    [7.0, np.nan, 9.0]])\n",
        "check_null=np.any(np.isnan(arr_nan),axis=0)\n",
        "print(check_null)"
      ]
    },
    {
      "cell_type": "markdown",
      "id": "5a65c7a2",
      "metadata": {
        "id": "5a65c7a2"
      },
      "source": [
        "#### 61. Find the nearest value from a given value in an array (★★☆)"
      ]
    },
    {
      "cell_type": "code",
      "execution_count": null,
      "id": "73f149d6",
      "metadata": {
        "id": "73f149d6",
        "colab": {
          "base_uri": "https://localhost:8080/"
        },
        "outputId": "78b5336a-2ee2-4a36-f10e-885077eb7869"
      },
      "outputs": [
        {
          "output_type": "stream",
          "name": "stdout",
          "text": [
            "[ 9 29  4 15  0 17 27 28 25 29]\n",
            "enter the number you want to target: 20\n",
            "the nearest value to 20 is at index 5 and the value is 17\n"
          ]
        }
      ],
      "source": [
        "np.random.seed(10)\n",
        "arr=np.random.randint(30,size=10)\n",
        "print(arr)\n",
        "target_num=int(input(\"enter the number you want to target: \"))\n",
        "difference=np.abs(arr-target_num)\n",
        "i=difference.argmin()\n",
        "print(f\"the nearest value to {target_num} is at index {i} and the value is {arr[i]}\")"
      ]
    },
    {
      "cell_type": "markdown",
      "id": "dd83e8af",
      "metadata": {
        "id": "dd83e8af"
      },
      "source": [
        "#### 62. Considering two arrays with shape (1,3) and (3,1), how to compute their sum using an iterator? (★★☆)"
      ]
    },
    {
      "cell_type": "code",
      "execution_count": null,
      "id": "29a709a1",
      "metadata": {
        "id": "29a709a1",
        "colab": {
          "base_uri": "https://localhost:8080/"
        },
        "outputId": "e0aaf8f9-ab32-4fe0-870a-f02aff3c20e8"
      },
      "outputs": [
        {
          "output_type": "stream",
          "name": "stdout",
          "text": [
            "[[9 4 0]]\n",
            "[[1]\n",
            " [9]\n",
            " [0]]\n",
            "23\n"
          ]
        }
      ],
      "source": [
        "np.random.seed(10)\n",
        "arr1=np.random.randint(10,size=(1,3))\n",
        "arr2=np.random.randint(10,size=(3,1))\n",
        "sum=0\n",
        "print(arr1)\n",
        "print(arr2)\n",
        "for i in range(arr1.shape[1]):\n",
        "  sum+=arr1[0][i]+arr2[i][0]\n",
        "print(sum)"
      ]
    },
    {
      "cell_type": "markdown",
      "id": "6c042efa",
      "metadata": {
        "id": "6c042efa"
      },
      "source": [
        "#### 63. Create an array class that has a name attribute (★★☆)"
      ]
    },
    {
      "cell_type": "code",
      "execution_count": null,
      "id": "45b3d2e0",
      "metadata": {
        "id": "45b3d2e0",
        "colab": {
          "base_uri": "https://localhost:8080/"
        },
        "outputId": "f66ab220-9c29-4f91-8de9-3a79a0d82209"
      },
      "outputs": [
        {
          "output_type": "stream",
          "name": "stdout",
          "text": [
            "[('mohamed',) ('ahmed',)]\n"
          ]
        }
      ],
      "source": [
        "my_dtype=np.dtype([(\"name\",\"U30\")])\n",
        "arr=np.array([\"mohamed\",\"ahmed\"],dtype=my_dtype)\n",
        "print(arr)"
      ]
    },
    {
      "cell_type": "markdown",
      "id": "0a075c3d",
      "metadata": {
        "id": "0a075c3d"
      },
      "source": [
        "#### 64. Consider a given vector, how to add 1 to each element indexed by a second vector (be careful with repeated indices)? (★★★)"
      ]
    },
    {
      "cell_type": "code",
      "execution_count": null,
      "id": "36c50470",
      "metadata": {
        "id": "36c50470",
        "colab": {
          "base_uri": "https://localhost:8080/"
        },
        "outputId": "d003d00e-2bd7-4153-c436-c5d96a7c77c5"
      },
      "outputs": [
        {
          "output_type": "stream",
          "name": "stdout",
          "text": [
            "[9 4 0 1 9] [0 1 2 0 1]\n",
            "[11  6  1  1  9]\n"
          ]
        }
      ],
      "source": [
        "np.random.seed(10)\n",
        "arr1=np.random.randint(10,size=5)\n",
        "arr2=np.random.choice([0,1,2,3,4],5)\n",
        "print(arr1,arr2)\n",
        "for i in arr2:\n",
        "  arr1[i]=arr1[i]+1\n",
        "print(arr1)"
      ]
    },
    {
      "cell_type": "code",
      "source": [
        "#other method\n",
        "np.random.seed(10)\n",
        "arr1=np.random.randint(10,size=5)\n",
        "arr2=np.random.choice([0,1,2,3,4],5)\n",
        "np.add.at(arr1,arr2,1)\n",
        "arr1"
      ],
      "metadata": {
        "colab": {
          "base_uri": "https://localhost:8080/"
        },
        "id": "lkh5kjTdgvvc",
        "outputId": "298f3f06-f007-41e1-a092-7b10ee4cbf98"
      },
      "id": "lkh5kjTdgvvc",
      "execution_count": null,
      "outputs": [
        {
          "output_type": "execute_result",
          "data": {
            "text/plain": [
              "array([11,  6,  1,  1,  9])"
            ]
          },
          "metadata": {},
          "execution_count": 99
        }
      ]
    },
    {
      "cell_type": "markdown",
      "id": "0fb2f0c5",
      "metadata": {
        "id": "0fb2f0c5"
      },
      "source": [
        "#### 65. How to accumulate elements of a vector (X) to an array (F) based on an index list (I)? (★★★)"
      ]
    },
    {
      "cell_type": "code",
      "execution_count": null,
      "id": "58aa5f82",
      "metadata": {
        "id": "58aa5f82",
        "colab": {
          "base_uri": "https://localhost:8080/"
        },
        "outputId": "17add169-2227-458c-febb-2a30b3fdc7fb"
      },
      "outputs": [
        {
          "output_type": "stream",
          "name": "stdout",
          "text": [
            "[9 0 1 7 1 7 2 8]\n",
            "the indices that i want to accumlate in: [2 4 1]\n",
            "the value to accumalte: [0 0 4]\n",
            "final array: [9 4 1 7 1 7 2 8]\n"
          ]
        }
      ],
      "source": [
        "np.random.seed(11)\n",
        "F=np.random.randint(10,size=8)\n",
        "X=np.random.randint(10,size=3)\n",
        "print(F)\n",
        "print(\"the indices that i want to accumlate in:\",i)\n",
        "print(\"the value to accumalte:\",X)\n",
        "i=np.random.choice(range(F.size),size=3)\n",
        "np.add.at(F,i,X)\n",
        "print(\"final array:\",F)\n"
      ]
    },
    {
      "cell_type": "markdown",
      "id": "d89dc506",
      "metadata": {
        "id": "d89dc506"
      },
      "source": [
        "#### 66. Considering a (w,h,3) image of (dtype=ubyte), compute the number of unique colors (★★☆)"
      ]
    },
    {
      "cell_type": "code",
      "execution_count": null,
      "id": "8fb43a49",
      "metadata": {
        "id": "8fb43a49"
      },
      "outputs": [],
      "source": []
    },
    {
      "cell_type": "markdown",
      "id": "535a5d81",
      "metadata": {
        "id": "535a5d81"
      },
      "source": [
        "#### 67. Considering a four dimensions array, how to get sum over the last two axis at once? (★★★)"
      ]
    },
    {
      "cell_type": "code",
      "execution_count": null,
      "id": "f954ab9d",
      "metadata": {
        "id": "f954ab9d",
        "colab": {
          "base_uri": "https://localhost:8080/"
        },
        "outputId": "38ef18b8-38d1-47e2-dc68-952bc23764c9"
      },
      "outputs": [
        {
          "output_type": "stream",
          "name": "stdout",
          "text": [
            "[[21 12]\n",
            " [ 9 29]]\n"
          ]
        }
      ],
      "source": [
        "arr=np.random.randint(10,size=(2,2,2,2))\n",
        "Sum=np.sum(arr,axis=(2,3))\n",
        "print(Sum)"
      ]
    },
    {
      "cell_type": "markdown",
      "id": "eee66d3c",
      "metadata": {
        "id": "eee66d3c"
      },
      "source": [
        "#### 68. Considering a one-dimensional vector D, how to compute means of subsets of D using a vector S of same size describing subset  indices? (★★★)"
      ]
    },
    {
      "cell_type": "code",
      "execution_count": 13,
      "id": "8929773a",
      "metadata": {
        "id": "8929773a",
        "colab": {
          "base_uri": "https://localhost:8080/"
        },
        "outputId": "6c3abab8-dc11-415b-866e-c3340e881f2a"
      },
      "outputs": [
        {
          "name": "stdout",
          "output_type": "stream",
          "text": [
            "enter number of subset you want to create for the array: 2\n"
          ]
        },
        {
          "output_type": "execute_result",
          "data": {
            "text/plain": [
              "array([0., 0., 0., 1., 1., 1.])"
            ]
          },
          "metadata": {},
          "execution_count": 13
        }
      ],
      "source": [
        "arr=np.array([1,2,3,4,5,6])\n",
        "subsets=int(input(\"enter number of subset you want to create for the array: \"))\n",
        "arr2=np.split(arr,subsets)\n",
        "subset_vector=np.array([])\n",
        "for i in range(len(arr2)):\n",
        "  j=0\n",
        "  while j<arr2[i].size:\n",
        "    subset_vector=np.append(subset_vector,i)\n",
        "    j+=1\n",
        "subset_vector"
      ]
    },
    {
      "cell_type": "markdown",
      "id": "f90d4c40",
      "metadata": {
        "id": "f90d4c40"
      },
      "source": [
        "\\#### 69. How to get the diagonal of a dot product? (★★★)"
      ]
    },
    {
      "cell_type": "code",
      "execution_count": null,
      "id": "b47d392d",
      "metadata": {
        "id": "b47d392d",
        "colab": {
          "base_uri": "https://localhost:8080/"
        },
        "outputId": "0d785441-32c2-4b49-9ed3-b910571d1a39"
      },
      "outputs": [
        {
          "output_type": "stream",
          "name": "stdout",
          "text": [
            "[[ 1 44 26 10]\n",
            " [12 89 77 18]\n",
            " [40 48 60 34]]\n",
            "1\n",
            "89\n",
            "60\n"
          ]
        }
      ],
      "source": [
        "np.random.seed(11)\n",
        "arr1=np.random.randint(10,size=(3,3))\n",
        "arr2=np.random.randint(10,size=(3,4))\n",
        "product_=np.dot(arr1,arr2)\n",
        "print(product_)\n",
        "for i in range(product_.shape[0]):\n",
        "  print(product_[i][i])"
      ]
    },
    {
      "cell_type": "markdown",
      "id": "a8a97e7d",
      "metadata": {
        "id": "a8a97e7d"
      },
      "source": [
        "#### 70. Consider the vector [1, 2, 3, 4, 5], how to build a new vector with 3 consecutive zeros interleaved between each value? (★★★)"
      ]
    },
    {
      "cell_type": "code",
      "execution_count": null,
      "id": "ee6c6c37",
      "metadata": {
        "id": "ee6c6c37",
        "colab": {
          "base_uri": "https://localhost:8080/"
        },
        "outputId": "65e58624-ffba-44b7-d090-57d9f851de80"
      },
      "outputs": [
        {
          "output_type": "stream",
          "name": "stdout",
          "text": [
            "[1 0 0 0 2 0 0 0 3 0 0 0 4 0 0 0 5 0 0 0]\n"
          ]
        }
      ],
      "source": [
        "v = np.array([1, 2, 3, 4, 5])\n",
        "result = np.zeros(len(v) * (3 + 1), dtype=int)\n",
        "\n",
        "result[::3 + 1] = v\n",
        "\n",
        "print(result)\n"
      ]
    },
    {
      "cell_type": "markdown",
      "id": "d6a30d60",
      "metadata": {
        "id": "d6a30d60"
      },
      "source": [
        "#### 71. Consider an array of dimension (5,5,3), how to mulitply it by an array with dimensions (5,5)? (★★★)"
      ]
    },
    {
      "cell_type": "code",
      "execution_count": null,
      "id": "e9703f2e",
      "metadata": {
        "id": "e9703f2e",
        "colab": {
          "base_uri": "https://localhost:8080/"
        },
        "outputId": "3555bc34-d0bf-4284-c4e7-35bb75e8c8c7"
      },
      "outputs": [
        {
          "output_type": "stream",
          "name": "stdout",
          "text": [
            "[[ 87 118  59 105 127]\n",
            " [100 141  85 141 183]\n",
            " [ 96 134  84 124 166]\n",
            " [ 36  76  86  66  82]\n",
            " [ 34  87  93  73  76]]\n",
            "[[ 31  77  85  78  77]\n",
            " [ 80 124  82 120 150]\n",
            " [ 48 106 108  94  81]\n",
            " [ 75 106  69  99 125]\n",
            " [ 60  78  34  80  75]]\n",
            "[[ 51  72  49  71 119]\n",
            " [ 39  50  27  73  89]\n",
            " [ 81 130  90 107 129]\n",
            " [ 83 136 106 111 147]\n",
            " [ 88 142 104 152 149]]\n"
          ]
        }
      ],
      "source": [
        "np.random.seed(11)\n",
        "arr=np.random.randint(10,size=(5,5,3))\n",
        "arr2=np.random.randint(10,size=(5,5))\n",
        "\n",
        "for i in range(arr.ndim):\n",
        "  print(np.dot(arr[:,:,i],arr2))\n"
      ]
    },
    {
      "cell_type": "markdown",
      "id": "bac359a9",
      "metadata": {
        "id": "bac359a9"
      },
      "source": [
        "#### 72. How to swap two rows of an array? (★★★)"
      ]
    },
    {
      "cell_type": "code",
      "execution_count": null,
      "id": "f1b432b1",
      "metadata": {
        "id": "f1b432b1",
        "colab": {
          "base_uri": "https://localhost:8080/"
        },
        "outputId": "c11eb494-7754-4da7-b822-c78497d5296e"
      },
      "outputs": [
        {
          "output_type": "stream",
          "name": "stdout",
          "text": [
            "the original array:  \n",
            " [[9 0 1]\n",
            " [7 1 7]\n",
            " [2 8 0]]\n",
            "please enter number between the 0-2: 0\n",
            "please enter another number between the 0-2: 2\n",
            "array after swaping two raws:  \n",
            " [[2 8 0]\n",
            " [7 1 7]\n",
            " [9 0 1]]\n"
          ]
        }
      ],
      "source": [
        "np.random.seed(11)\n",
        "arr=np.random.randint(10,size=(3,3))\n",
        "print(\"the original array: \",\"\\n\",arr)\n",
        "i1=int(input(\"please enter number between the 0-2: \"))\n",
        "i2=int(input(\"please enter another number between the 0-2: \"))\n",
        "temp=np.copy(arr[i1,:])\n",
        "arr[i1,:]=arr[i2,:]\n",
        "arr[i2,:]=temp\n",
        "print(\"array after swaping two raws: \",\"\\n\",arr)"
      ]
    },
    {
      "cell_type": "markdown",
      "id": "620c9f83",
      "metadata": {
        "id": "620c9f83"
      },
      "source": [
        "#### 73. Consider a set of 10 triplets describing 10 triangles (with shared vertices), find the set of unique line segments composing all the  triangles (★★★)"
      ]
    },
    {
      "cell_type": "code",
      "execution_count": 5,
      "id": "4e595ffc",
      "metadata": {
        "id": "4e595ffc"
      },
      "outputs": [],
      "source": [
        "\n",
        "\n"
      ]
    },
    {
      "cell_type": "markdown",
      "id": "a76c55a2",
      "metadata": {
        "id": "a76c55a2"
      },
      "source": [
        "#### 74. Given a sorted array C that corresponds to a bincount, how to produce an array A such that np.bincount(A) == C? (★★★)"
      ]
    },
    {
      "cell_type": "code",
      "execution_count": null,
      "id": "2d2ae65a",
      "metadata": {
        "id": "2d2ae65a",
        "colab": {
          "base_uri": "https://localhost:8080/"
        },
        "outputId": "4dcb2c5e-7ead-4985-8446-e14eb567a6f8"
      },
      "outputs": [
        {
          "output_type": "stream",
          "name": "stdout",
          "text": [
            "[0. 1. 1. 2. 4. 4. 5. 5. 5. 5. 7. 7. 7. 8. 8. 8. 8. 9. 9. 9.]\n"
          ]
        }
      ],
      "source": [
        "C=np.array([1,2,1,0,2,4,0,3,4,3])\n",
        "arr=np.array([])\n",
        "for i in range(C.size):\n",
        "  F=C[i]\n",
        "  for j in range(F):\n",
        "    arr=np.append(arr,i)\n",
        "\n",
        "print(arr)"
      ]
    },
    {
      "cell_type": "markdown",
      "id": "d550c8e2",
      "metadata": {
        "id": "d550c8e2"
      },
      "source": [
        "#### 75. How to compute averages using a sliding window over an array? (★★★)"
      ]
    },
    {
      "cell_type": "code",
      "execution_count": null,
      "id": "841c457c",
      "metadata": {
        "id": "841c457c",
        "colab": {
          "base_uri": "https://localhost:8080/"
        },
        "outputId": "edfaedb4-c76c-4ea7-8f3d-2f11820b38ff"
      },
      "outputs": [
        {
          "output_type": "stream",
          "name": "stdout",
          "text": [
            "[[10 20 30]\n",
            " [20 30 40]\n",
            " [30 40 50]\n",
            " [40 50 60]]\n",
            "[20. 30. 40. 50.]\n"
          ]
        }
      ],
      "source": [
        "from numpy.lib.stride_tricks import sliding_window_view\n",
        "\n",
        "arr = np.array([10, 20, 30, 40, 50, 60])\n",
        "arr2 = sliding_window_view(arr, window_shape=3)\n",
        "print(arr2)\n",
        "Mean=arr2.mean(axis=1)\n",
        "print(Mean)"
      ]
    },
    {
      "cell_type": "markdown",
      "id": "6b170b00",
      "metadata": {
        "id": "6b170b00"
      },
      "source": [
        "#### 76. Consider a one-dimensional array Z, build a two-dimensional array whose first row is (Z[0],Z[1],Z[2]) and each subsequent row is  shifted by 1 (last row should be (Z[-3],Z[-2],Z[-1]) (★★★)"
      ]
    },
    {
      "cell_type": "code",
      "execution_count": null,
      "id": "d9a0cf4e",
      "metadata": {
        "id": "d9a0cf4e",
        "colab": {
          "base_uri": "https://localhost:8080/"
        },
        "outputId": "69aa2dc8-e52e-47dc-ad04-d436e96762f6"
      },
      "outputs": [
        {
          "output_type": "stream",
          "name": "stdout",
          "text": [
            "[[10. 20. 30.]\n",
            " [20. 30. 40.]\n",
            " [30. 40. 50.]\n",
            " [40. 50. 60.]]\n"
          ]
        }
      ],
      "source": [
        "arr=np.array([10,20,30,40,50,60])\n",
        "arr2=np.zeros(shape=(arr.size-2,3))\n",
        "for i in range(arr.size-2):\n",
        "  j=0\n",
        "  while j <3:\n",
        "    arr2[i][j]=arr[j+i]\n",
        "    j+=1\n",
        "print(arr2)"
      ]
    },
    {
      "cell_type": "markdown",
      "id": "e94a5c1d",
      "metadata": {
        "id": "e94a5c1d"
      },
      "source": [
        "#### 77. How to negate a boolean, or to change the sign of a float inplace? (★★★)"
      ]
    },
    {
      "cell_type": "code",
      "execution_count": null,
      "id": "c0f9504f",
      "metadata": {
        "id": "c0f9504f",
        "colab": {
          "base_uri": "https://localhost:8080/"
        },
        "outputId": "eb698c8e-9447-4f0d-d52d-7c34ccd6ad80"
      },
      "outputs": [
        {
          "output_type": "stream",
          "name": "stdout",
          "text": [
            "[False  True False]\n"
          ]
        }
      ],
      "source": [
        "arr = np.array([True, False, True])\n",
        "np.logical_not(arr, out=arr)\n",
        "\n",
        "print(arr)\n"
      ]
    },
    {
      "cell_type": "markdown",
      "id": "4eb8b5c1",
      "metadata": {
        "id": "4eb8b5c1"
      },
      "source": [
        "#### 78. Consider 2 sets of points P0,P1 describing lines (2d) and a point p, how to compute distance from p to each line i (P0[i],P1[i])? (★★★)"
      ]
    },
    {
      "cell_type": "code",
      "execution_count": null,
      "id": "487f47ec",
      "metadata": {
        "id": "487f47ec",
        "colab": {
          "base_uri": "https://localhost:8080/"
        },
        "outputId": "57b31a81-c832-429e-fe85-bc1d74b96eb2"
      },
      "outputs": [
        {
          "output_type": "stream",
          "name": "stdout",
          "text": [
            "[3.16227766 3.         2.82842712 1.         2.         1.41421356]\n"
          ]
        }
      ],
      "source": [
        "p0=np.array([[0,2],\n",
        "            [2,1],\n",
        "            [3,3]])\n",
        "p1=np.array([[3,4],\n",
        "             [5,3],\n",
        "             [4,2]])\n",
        "p=np.array([3,1])\n",
        "dist_arr=np.array([])\n",
        "for i in range(len(p0)):\n",
        "  diff1=p-p0[i]\n",
        "  diff2=p-p1[i]\n",
        "  dist1=np.sqrt(np.sum(diff1**2))\n",
        "  dist2=np.sqrt(np.sum(diff2**2))\n",
        "  if(dist1>dist2):\n",
        "    dist_arr=np.append(dist_arr,(dist1,dist2))\n",
        "  else:\n",
        "    dist_arr=np.append(dist_arr,(dist2,dist1))\n",
        "print(dist_arr)"
      ]
    },
    {
      "cell_type": "markdown",
      "id": "3df99948",
      "metadata": {
        "id": "3df99948"
      },
      "source": [
        "#### 79. Consider 2 sets of points P0,P1 describing lines (2d) and a set of points P, how to compute distance from each point j (P[j]) to each line i (P0[i],P1[i])? (★★★)"
      ]
    },
    {
      "cell_type": "code",
      "execution_count": null,
      "id": "dc2df37b",
      "metadata": {
        "id": "dc2df37b"
      },
      "outputs": [],
      "source": []
    },
    {
      "cell_type": "markdown",
      "id": "11e972c2",
      "metadata": {
        "id": "11e972c2"
      },
      "source": [
        "#### 80. Consider an arbitrary array, write a function that extract a subpart with a fixed shape and centered on a given element (pad with a `fill` value when necessary) (★★★)"
      ]
    },
    {
      "cell_type": "code",
      "execution_count": 3,
      "id": "0291247f",
      "metadata": {
        "id": "0291247f",
        "colab": {
          "base_uri": "https://localhost:8080/"
        },
        "outputId": "226c7a61-e3c4-4890-b1a2-4a338760ec78"
      },
      "outputs": [
        {
          "output_type": "stream",
          "name": "stdout",
          "text": [
            "[[0 0 0]\n",
            " [0 1 2]\n",
            " [0 4 5]]\n"
          ]
        }
      ],
      "source": [
        "def extract_centered_subarray(arr, center, shape, fill=0):\n",
        "    arr = np.asarray(arr)\n",
        "    output = np.full(shape, fill, dtype=arr.dtype)\n",
        "\n",
        "    center = np.asarray(center)\n",
        "    shape = np.asarray(shape)\n",
        "\n",
        "    start = center - shape // 2\n",
        "    end = start + shape\n",
        "\n",
        "\n",
        "    src_start = np.maximum(start, 0)\n",
        "    src_end = np.minimum(end, arr.shape)\n",
        "\n",
        "    dst_start = src_start - start\n",
        "    dst_end = dst_start + (src_end - src_start)\n",
        "\n",
        "\n",
        "    output[tuple(slice(ds, de) for ds, de in zip(dst_start, dst_end))] = \\\n",
        "        arr[tuple(slice(ss, se) for ss, se in zip(src_start, src_end))]\n",
        "\n",
        "    return output\n",
        "\n",
        "\n",
        "arr = np.arange(1, 10).reshape(3, 3)\n",
        "result = extract_centered_subarray(arr, center=(0, 0), shape=(3, 3), fill=0)\n",
        "print(result)"
      ]
    },
    {
      "cell_type": "markdown",
      "id": "93cfeab3",
      "metadata": {
        "id": "93cfeab3"
      },
      "source": [
        "#### 81. Consider an array Z = [1,2,3,4,5,6,7,8,9,10,11,12,13,14], how to generate an array R = [[1,2,3,4], [2,3,4,5], [3,4,5,6], ..., [11,12,13,14]]? (★★★)"
      ]
    },
    {
      "cell_type": "code",
      "execution_count": null,
      "id": "360de791",
      "metadata": {
        "id": "360de791",
        "colab": {
          "base_uri": "https://localhost:8080/"
        },
        "outputId": "409caf38-b736-4a2d-dcba-269a7c01d1d5"
      },
      "outputs": [
        {
          "output_type": "stream",
          "name": "stdout",
          "text": [
            "[[ 1.  2.  3.  4.]\n",
            " [ 2.  3.  4.  5.]\n",
            " [ 3.  4.  5.  6.]\n",
            " [ 4.  5.  6.  7.]\n",
            " [ 5.  6.  7.  8.]\n",
            " [ 6.  7.  8.  9.]\n",
            " [ 7.  8.  9. 10.]\n",
            " [ 8.  9. 10. 11.]\n",
            " [ 9. 10. 11. 12.]\n",
            " [10. 11. 12. 13.]\n",
            " [11. 12. 13. 14.]]\n"
          ]
        }
      ],
      "source": [
        "arr=np.array([1,2,3,4,5,6,7,8,9,10,11,12,13,14])\n",
        "arr2=np.zeros(shape=(arr.size-3,4))\n",
        "for i in range(arr.size-3):\n",
        "  j=0\n",
        "  while j <4:\n",
        "    arr2[i][j]=arr[j+i]\n",
        "    j+=1\n",
        "print(arr2)"
      ]
    },
    {
      "cell_type": "markdown",
      "id": "4c15ceff",
      "metadata": {
        "id": "4c15ceff"
      },
      "source": [
        "#### 82. Compute a matrix rank (★★★)"
      ]
    },
    {
      "cell_type": "code",
      "execution_count": null,
      "id": "9a4272d2",
      "metadata": {
        "id": "9a4272d2",
        "colab": {
          "base_uri": "https://localhost:8080/"
        },
        "outputId": "012eac66-c9e1-4806-a9fa-716a81538cff"
      },
      "outputs": [
        {
          "output_type": "stream",
          "name": "stdout",
          "text": [
            "2\n"
          ]
        }
      ],
      "source": [
        "matrix_a = np.array([[1, 2, 3],\n",
        "                     [4, 5, 6],\n",
        "                     [7, 8, 9]])\n",
        "\n",
        "rank = np.linalg.matrix_rank(matrix_a)\n",
        "print(rank)"
      ]
    },
    {
      "cell_type": "markdown",
      "id": "1171cb84",
      "metadata": {
        "id": "1171cb84"
      },
      "source": [
        "#### 83. How to find the most frequent value in an array?"
      ]
    },
    {
      "cell_type": "code",
      "execution_count": null,
      "id": "33e951c8",
      "metadata": {
        "id": "33e951c8",
        "colab": {
          "base_uri": "https://localhost:8080/"
        },
        "outputId": "60a696fd-f3ae-40c5-a57a-a796bdc9f7f5"
      },
      "outputs": [
        {
          "output_type": "stream",
          "name": "stdout",
          "text": [
            "1\n"
          ]
        }
      ],
      "source": [
        "arr=np.array([1,2,6,1,7,4,6,8,7,1,7,9])\n",
        "Mode=np.bincount(arr)\n",
        "print(Mode.argmax())"
      ]
    },
    {
      "cell_type": "markdown",
      "id": "04f472aa",
      "metadata": {
        "id": "04f472aa"
      },
      "source": [
        "#### 84. Extract all the contiguous 3x3 blocks from a random 10x10 matrix (★★★)"
      ]
    },
    {
      "cell_type": "code",
      "execution_count": 6,
      "id": "7aade14a",
      "metadata": {
        "id": "7aade14a",
        "colab": {
          "base_uri": "https://localhost:8080/"
        },
        "outputId": "13a3e9b9-3b2f-4d1c-8437-deec0000fac7"
      },
      "outputs": [
        {
          "output_type": "stream",
          "name": "stdout",
          "text": [
            "Shape of blocks array: (8, 8, 3, 3)\n",
            "\n",
            "First 3x3 block:\n",
            " [[0.5488135  0.71518937 0.60276338]\n",
            " [0.79172504 0.52889492 0.56804456]\n",
            " [0.97861834 0.79915856 0.46147936]]\n"
          ]
        }
      ],
      "source": [
        "import numpy as np\n",
        "from numpy.lib.stride_tricks import sliding_window_view\n",
        "\n",
        "\n",
        "np.random.seed(0)\n",
        "arr = np.random.rand(10, 10)\n",
        "\n",
        "blocks = sliding_window_view(arr, (3, 3))\n",
        "\n",
        "print(\"Shape of blocks array:\", blocks.shape)\n",
        "print(\"\\nFirst 3x3 block:\\n\", blocks[0, 0])\n"
      ]
    },
    {
      "cell_type": "markdown",
      "id": "52836346",
      "metadata": {
        "id": "52836346"
      },
      "source": [
        "#### 85. Create a 2D array subclass such that Z[i,j] == Z[j,i] (★★★)"
      ]
    },
    {
      "cell_type": "code",
      "execution_count": null,
      "id": "4df70318",
      "metadata": {
        "id": "4df70318"
      },
      "outputs": [],
      "source": []
    },
    {
      "cell_type": "markdown",
      "id": "78c43ee5",
      "metadata": {
        "id": "78c43ee5"
      },
      "source": [
        "#### 86. Consider a set of p matrices with shape (n,n) and a set of p vectors with shape (n,1). How to compute the sum of of the p matrix products at once? (result has shape (n,1)) (★★★)"
      ]
    },
    {
      "cell_type": "code",
      "execution_count": 7,
      "id": "32fd2c3b",
      "metadata": {
        "id": "32fd2c3b",
        "colab": {
          "base_uri": "https://localhost:8080/"
        },
        "outputId": "16d0784e-107a-4d83-b834-c78601cab327"
      },
      "outputs": [
        {
          "output_type": "stream",
          "name": "stdout",
          "text": [
            "Shape of result: (4, 1)\n",
            "Result:\n",
            " [[5.7456331 ]\n",
            " [5.11012552]\n",
            " [4.39108648]\n",
            " [5.17038472]]\n"
          ]
        }
      ],
      "source": [
        "import numpy as np\n",
        "\n",
        "p, n = 5, 4\n",
        "\n",
        "\n",
        "A = np.random.rand(p, n, n)\n",
        "\n",
        "X = np.random.rand(p, n, 1)\n",
        "\n",
        "\n",
        "result = np.matmul(A, X).sum(axis=0)\n",
        "\n",
        "\n",
        "print(\"Shape of result:\", result.shape)\n",
        "print(\"Result:\\n\", result)\n"
      ]
    },
    {
      "cell_type": "markdown",
      "id": "158f9945",
      "metadata": {
        "id": "158f9945"
      },
      "source": [
        "#### 87. Consider a 16x16 array, how to get the block-sum (block size is 4x4)? (★★★)"
      ]
    },
    {
      "cell_type": "code",
      "execution_count": null,
      "id": "5a9b808f",
      "metadata": {
        "id": "5a9b808f",
        "colab": {
          "base_uri": "https://localhost:8080/"
        },
        "outputId": "d602ea3a-7ec5-4391-c5f9-82a0777df7c6"
      },
      "outputs": [
        {
          "output_type": "stream",
          "name": "stdout",
          "text": [
            "[[59 71 71 61]\n",
            " [68 67 64 53]\n",
            " [62 75 94 35]\n",
            " [86 67 66 71]]\n"
          ]
        }
      ],
      "source": [
        "np.random.seed(11)\n",
        "arr=np.random.randint(10,size=(16,16))\n",
        "arr=arr.reshape(4,4,4,4)\n",
        "Sum=arr.sum(axis=(2,3))\n",
        "print(Sum)"
      ]
    },
    {
      "cell_type": "markdown",
      "id": "2e0ad860",
      "metadata": {
        "id": "2e0ad860"
      },
      "source": [
        "#### 88. How to implement the Game of Life using numpy arrays? (★★★)"
      ]
    },
    {
      "cell_type": "code",
      "execution_count": null,
      "id": "574acff5",
      "metadata": {
        "id": "574acff5"
      },
      "outputs": [],
      "source": []
    },
    {
      "cell_type": "markdown",
      "id": "69a892fa",
      "metadata": {
        "id": "69a892fa"
      },
      "source": [
        "#### 89. How to get the n largest values of an array (★★★)"
      ]
    },
    {
      "cell_type": "code",
      "execution_count": null,
      "id": "21b2bd48",
      "metadata": {
        "id": "21b2bd48",
        "colab": {
          "base_uri": "https://localhost:8080/"
        },
        "outputId": "bd06749c-431d-41ee-8f0a-27c311101701"
      },
      "outputs": [
        {
          "output_type": "stream",
          "name": "stdout",
          "text": [
            "enter the n to find n largest number: 3\n",
            "[25 16 27 17 23 13 12  1  7 18]\n",
            "the n largest number is : 23\n"
          ]
        }
      ],
      "source": [
        "np.random.seed(11)\n",
        "arr=np.random.randint(30,size=10)\n",
        "\n",
        "arr2=np.sort(np.copy(arr))[::-1]\n",
        "n=int(input(\"enter the n to find n largest number: \"))\n",
        "print(arr)\n",
        "print(\"the n largest number is :\",arr2[n-1])"
      ]
    },
    {
      "cell_type": "markdown",
      "id": "b55ccacc",
      "metadata": {
        "id": "b55ccacc"
      },
      "source": [
        "#### 90. Given an arbitrary number of vectors, build the cartesian product (every combinations of every item) (★★★)"
      ]
    },
    {
      "cell_type": "code",
      "execution_count": null,
      "id": "4b645da4",
      "metadata": {
        "id": "4b645da4",
        "colab": {
          "base_uri": "https://localhost:8080/"
        },
        "outputId": "9daf1d1b-0a3b-41c9-d743-e532b50cc105"
      },
      "outputs": [
        {
          "output_type": "execute_result",
          "data": {
            "text/plain": [
              "array([['1', 'a', 'True'],\n",
              "       ['1', 'a', 'False'],\n",
              "       ['2', 'a', 'True'],\n",
              "       ['2', 'a', 'False'],\n",
              "       ['1', 'b', 'True'],\n",
              "       ['1', 'b', 'False'],\n",
              "       ['2', 'b', 'True'],\n",
              "       ['2', 'b', 'False']], dtype='<U21')"
            ]
          },
          "metadata": {},
          "execution_count": 62
        }
      ],
      "source": [
        "arr1=np.array([1,2])\n",
        "arr2=np.array([\"a\",\"b\"])\n",
        "arr3=np.array([True,False])\n",
        "X, Y, Z = np.meshgrid(arr1, arr2, arr3)\n",
        "cartesian_product = np.array([X.ravel(), Y.ravel(), Z.ravel()]).T\n",
        "cartesian_product"
      ]
    },
    {
      "cell_type": "markdown",
      "id": "89187a23",
      "metadata": {
        "id": "89187a23"
      },
      "source": [
        "#### 91. How to create a record array from a regular array? (★★★)"
      ]
    },
    {
      "cell_type": "code",
      "execution_count": null,
      "id": "da94c71a",
      "metadata": {
        "id": "da94c71a",
        "colab": {
          "base_uri": "https://localhost:8080/"
        },
        "outputId": "c3fb84e5-000b-4b1d-9fdf-4e8b05fd1e8e"
      },
      "outputs": [
        {
          "output_type": "stream",
          "name": "stdout",
          "text": [
            "[(50, 100, 40, 30) (30, 120, 70, 47)]\n",
            "[('red', 'u1'), ('green', 'u1'), ('blue', 'u1'), ('alpha', 'u1')]\n",
            "[('red', 'u1'), ('green', 'u1'), ('blue', 'u1'), ('alpha', 'u1')]\n",
            "access the red values [50 30]\n"
          ]
        }
      ],
      "source": [
        "color_dtype=np.dtype([\n",
        "    (\"red\",'uint8'),\n",
        "    (\"green\",'uint8'),\n",
        "    (\"blue\",'uint8'),\n",
        "    (\"alpha\",'uint8')\n",
        "])\n",
        "first_color=np.array([(50,100,40,30),(30,120,70,47)],dtype=color_dtype)\n",
        "print(first_color)\n",
        "print(first_color.dtype)\n",
        "print(\"access the red values:\",first_color[\"red\"])"
      ]
    },
    {
      "cell_type": "markdown",
      "id": "aa70d4ca",
      "metadata": {
        "id": "aa70d4ca"
      },
      "source": [
        "#### 92. Consider a large vector Z, compute Z to the power of 3 using 3 different methods (★★★)"
      ]
    },
    {
      "cell_type": "code",
      "execution_count": null,
      "id": "7cff1bf5",
      "metadata": {
        "id": "7cff1bf5",
        "colab": {
          "base_uri": "https://localhost:8080/"
        },
        "outputId": "9bbc8814-56c7-42f1-99d9-578e4575c559"
      },
      "outputs": [
        {
          "output_type": "stream",
          "name": "stdout",
          "text": [
            "[729   0   1 343   1]\n",
            "[729   0   1 343   1]\n",
            "[729   0   1 343   1]\n"
          ]
        }
      ],
      "source": [
        "#method 1\n",
        "np.random.seed(11)\n",
        "arr=np.random.randint(10,size=5)\n",
        "print(arr**3)\n",
        "#method 2\n",
        "print(arr*arr*arr)\n",
        "#method 3\n",
        "print(np.power(arr,3))"
      ]
    },
    {
      "cell_type": "markdown",
      "id": "5f79dd00",
      "metadata": {
        "id": "5f79dd00"
      },
      "source": [
        "\n",
        "#### 93. Consider two arrays A and B of shape (8,3) and (2,2). How to find rows of A that contain elements of each row of B regardless of the order of the elements in B? (★★★)"
      ]
    },
    {
      "cell_type": "code",
      "execution_count": null,
      "id": "20c105b2",
      "metadata": {
        "id": "20c105b2",
        "colab": {
          "base_uri": "https://localhost:8080/"
        },
        "outputId": "de0ae4e7-b4ed-4c33-aa06-d77db882ca23"
      },
      "outputs": [
        {
          "output_type": "stream",
          "name": "stdout",
          "text": [
            "[ 4  2 12]\n",
            "[ 3  6 11]\n"
          ]
        }
      ],
      "source": [
        "np.random.seed(11)\n",
        "arr=np.random.randint(20,size=(8,3))\n",
        "arr2=np.array([[4,2],[3,6]])\n",
        "for i in range (len(arr)):\n",
        "  if(np.intersect1d(arr[i,:],arr2[0,:]).size==2 or np.intersect1d(arr[i,:],arr2[1,:]).size==2 ):\n",
        "      print(arr[i,:])"
      ]
    },
    {
      "cell_type": "markdown",
      "id": "a80570cd",
      "metadata": {
        "id": "a80570cd"
      },
      "source": [
        "#### 94. Considering a 10x3 matrix, extract rows with unequal values (e.g. [2,2,3]) (★★★)"
      ]
    },
    {
      "cell_type": "code",
      "execution_count": null,
      "id": "84db8de1",
      "metadata": {
        "id": "84db8de1",
        "colab": {
          "base_uri": "https://localhost:8080/"
        },
        "outputId": "321a8d0b-60c9-463e-8f5a-baf2601e0af9"
      },
      "outputs": [
        {
          "output_type": "execute_result",
          "data": {
            "text/plain": [
              "array([[2., 2., 3.],\n",
              "       [4., 2., 1.],\n",
              "       [1., 8., 3.]])"
            ]
          },
          "metadata": {},
          "execution_count": 32
        }
      ],
      "source": [
        "arr=np.array([[2,2,3],[1,1,1],[7,7,7],[4,2,1],[1,8,3],[1,1,1],[9,9,9],[1,1,1],[1,1,1],[1,1,1]])\n",
        "arr2=np.array([])\n",
        "for i in range(len(arr)):\n",
        "  temp=arr[i,:]\n",
        "  if(~(temp[0]==temp[1] and temp[0]==temp[2])):\n",
        "    arr2=np.append(arr2,temp)\n",
        "arr2.reshape(-1,3)"
      ]
    },
    {
      "cell_type": "markdown",
      "id": "ba154f43",
      "metadata": {
        "id": "ba154f43"
      },
      "source": [
        "#### 95. Convert a vector of ints into a matrix binary representation (★★★)"
      ]
    },
    {
      "cell_type": "code",
      "execution_count": null,
      "id": "cfa96e1b",
      "metadata": {
        "id": "cfa96e1b",
        "colab": {
          "base_uri": "https://localhost:8080/"
        },
        "outputId": "748df938-f648-4800-ff66-d876bf4091bf"
      },
      "outputs": [
        {
          "output_type": "stream",
          "name": "stdout",
          "text": [
            "1\n"
          ]
        }
      ],
      "source": [
        "arr=np.array([3,5,8,11])\n",
        "bin_repr=np.binary_repr(arr[0], width=None)\n"
      ]
    },
    {
      "cell_type": "markdown",
      "id": "420e2343",
      "metadata": {
        "id": "420e2343"
      },
      "source": [
        "#### 96. Given a two dimensional array, how to extract unique rows? (★★★)"
      ]
    },
    {
      "cell_type": "code",
      "execution_count": null,
      "id": "4680dfd0",
      "metadata": {
        "id": "4680dfd0",
        "colab": {
          "base_uri": "https://localhost:8080/"
        },
        "outputId": "64e098f0-1cdf-467e-e545-a94d3e5018e5"
      },
      "outputs": [
        {
          "output_type": "execute_result",
          "data": {
            "text/plain": [
              "array([[1, 1, 1],\n",
              "       [1, 8, 3],\n",
              "       [2, 2, 3],\n",
              "       [4, 2, 1],\n",
              "       [7, 7, 7],\n",
              "       [9, 9, 9]])"
            ]
          },
          "metadata": {},
          "execution_count": 34
        }
      ],
      "source": [
        "arr=np.array([[2,2,3],[1,1,1],[7,7,7],[4,2,1],[1,8,3],[1,1,1],[9,9,9],[1,1,1],[1,1,1],[1,1,1]])\n",
        "np.unique(arr,axis=0)"
      ]
    },
    {
      "cell_type": "markdown",
      "id": "89fef2f3",
      "metadata": {
        "id": "89fef2f3"
      },
      "source": [
        "#### 97. Considering 2 vectors A & B, write the einsum equivalent of inner, outer, sum, and mul function (★★★)"
      ]
    },
    {
      "cell_type": "code",
      "execution_count": null,
      "id": "bb9c14b2",
      "metadata": {
        "id": "bb9c14b2",
        "colab": {
          "base_uri": "https://localhost:8080/"
        },
        "outputId": "e19131b6-ccf6-4abd-f57a-cf4660488db8"
      },
      "outputs": [
        {
          "output_type": "stream",
          "name": "stdout",
          "text": [
            "vector A \n",
            " [9 0 1 7 1]\n",
            "vector B \n",
            " [7 2 8 0 0]\n",
            "----------------------\n",
            "the outer product: \n",
            " [[63 18 72  0  0]\n",
            " [ 0  0  0  0  0]\n",
            " [ 7  2  8  0  0]\n",
            " [49 14 56  0  0]\n",
            " [ 7  2  8  0  0]]\n",
            "the sum:  \n",
            " 71\n",
            "the multiply:  \n",
            " [63  0  8  0  0]\n",
            "the inner product:  \n",
            " 71\n"
          ]
        }
      ],
      "source": [
        "np.random.seed(11)\n",
        "A=np.random.randint(10,size=5)\n",
        "print(\"vector A\",\"\\n\",A)\n",
        "B=np.random.randint(10,size=5)\n",
        "print(\"vector B\",\"\\n\",B)\n",
        "print(\"----------------------\")\n",
        "print(\"the outer product:\",\"\\n\",np.einsum('i,j->ij', A, B))\n",
        "print(\"the sum: \",\"\\n\",np.einsum('n,n', A,B))\n",
        "print(\"the multiply: \",\"\\n\",np.einsum('i,i->i', A,B))\n",
        "print(\"the inner product: \",\"\\n\",np.einsum('i,i->', A,B))"
      ]
    },
    {
      "cell_type": "markdown",
      "id": "7ad5cc5f",
      "metadata": {
        "id": "7ad5cc5f"
      },
      "source": [
        "#### 98. Considering a path described by two vectors (X,Y), how to sample it using equidistant samples (★★★)?"
      ]
    },
    {
      "cell_type": "code",
      "execution_count": 2,
      "id": "0899d1d5",
      "metadata": {
        "id": "0899d1d5",
        "colab": {
          "base_uri": "https://localhost:8080/"
        },
        "outputId": "70bf399d-7024-4fa1-c021-adf6530f8a87"
      },
      "outputs": [
        {
          "output_type": "stream",
          "name": "stdout",
          "text": [
            "[ 0.          0.06141391  0.12282782  0.18424172  0.24565563  0.30706954\n",
            "  0.36848345  0.42989735  0.49131126  0.55272517  0.61413908  0.67555299\n",
            "  0.73696689  0.7983808   0.85979471  0.92120862  0.98262252  1.08807286\n",
            "  1.21090068  1.3337285   1.45655631  1.57938413  1.70221194  1.82503976\n",
            "  1.94786757  2.07069539  2.1935232   2.31635102  2.43917883  2.56200665\n",
            "  2.68483447  2.80766228  2.9304901   3.03576674  3.11816215  3.20055755\n",
            "  3.28295295  3.36534836  3.44774376  3.53013916  3.61253457  3.69492997\n",
            "  3.77732537  3.85972078  3.94211618  4.02451159  4.10690699  4.18930239\n",
            "  4.2716978   4.3540932   4.4364886   4.51888401  4.60127941  4.68367481\n",
            "  4.76607022  4.84846562  4.93086102  5.01325643  5.09565183  5.17804723\n",
            "  5.26044264  5.34283804  5.42523345  5.50762885  5.59002425  5.67241966\n",
            "  5.75481506  5.83721046  5.91960587  6.00323586  6.13646133  6.2696868\n",
            "  6.40291228  6.53613775  6.66936322  6.80258869  6.93581416  7.06903963\n",
            "  7.2022651   7.33549057  7.46871605  7.60194152  7.73516699  7.86839246\n",
            "  8.00161793  8.1348434   8.26806887  8.40129434  8.53451982  8.66774529\n",
            "  8.80097076  8.93419623  9.0674217   9.20064717  9.33387264  9.46709811\n",
            "  9.60032359  9.73354906  9.86677453 10.        ]\n",
            "[0.         0.12282782 0.24565563 0.36848345 0.49131126 0.61413908\n",
            " 0.73696689 0.85979471 0.98262252 1.10545034 1.22827816 1.35110597\n",
            " 1.47393379 1.5967616  1.71958942 1.84241723 1.96524505 1.95596357\n",
            " 1.89454966 1.83313575 1.77172184 1.71030794 1.64889403 1.58748012\n",
            " 1.52606621 1.46465231 1.4032384  1.34182449 1.28041058 1.21899667\n",
            " 1.15758277 1.09616886 1.03475495 1.04768899 1.15754953 1.26741007\n",
            " 1.3772706  1.48713114 1.59699168 1.70685222 1.81671276 1.9265733\n",
            " 2.03643383 2.14629437 2.25615491 2.36601545 2.47587599 2.58573652\n",
            " 2.69559706 2.8054576  2.91531814 3.02517868 3.13503921 3.24489975\n",
            " 3.35476029 3.46462083 3.57448137 3.6843419  3.79420244 3.90406298\n",
            " 4.01392352 4.12378406 4.23364459 4.34350513 4.45336567 4.56322621\n",
            " 4.67308675 4.78294728 4.89280782 4.99919103 4.96588467 4.9325783\n",
            " 4.89927193 4.86596556 4.8326592  4.79935283 4.76604646 4.73274009\n",
            " 4.69943372 4.66612736 4.63282099 4.59951462 4.56620825 4.53290189\n",
            " 4.49959552 4.46628915 4.43298278 4.39967641 4.36637005 4.33306368\n",
            " 4.29975731 4.26645094 4.23314457 4.19983821 4.16653184 4.13322547\n",
            " 4.0999191  4.06661274 4.03330637 4.        ]\n"
          ]
        }
      ],
      "source": [
        "import numpy as np\n",
        "\n",
        "\n",
        "X = np.array([0, 1, 3, 6, 10])\n",
        "Y = np.array([0, 2, 1, 5, 4])\n",
        "\n",
        "\n",
        "dx = np.diff(X)\n",
        "dy = np.diff(Y)\n",
        "segment_lengths = np.sqrt(dx**2 + dy**2)\n",
        "cumulative_lengths = np.insert(np.cumsum(segment_lengths), 0, 0)\n",
        "\n",
        "\n",
        "num_points = 100\n",
        "uniform_distances = np.linspace(0, cumulative_lengths[-1], num_points)\n",
        "\n",
        "new_X = np.interp(uniform_distances, cumulative_lengths, X)\n",
        "new_Y = np.interp(uniform_distances, cumulative_lengths, Y)\n",
        "\n",
        "print(new_X)\n",
        "print(new_Y)"
      ]
    },
    {
      "cell_type": "markdown",
      "id": "2b69272e",
      "metadata": {
        "id": "2b69272e"
      },
      "source": [
        "#### 99. Given an integer n and a 2D array X, select from X the rows which can be interpreted as draws from a multinomial distribution with n degrees, i.e., the rows which only contain integers and which sum to n. (★★★)"
      ]
    },
    {
      "cell_type": "code",
      "execution_count": null,
      "id": "55c8b034",
      "metadata": {
        "id": "55c8b034",
        "colab": {
          "base_uri": "https://localhost:8080/"
        },
        "outputId": "48034316-1d23-42f4-a27a-37437da3f26e"
      },
      "outputs": [
        {
          "output_type": "stream",
          "name": "stdout",
          "text": [
            "[[9 0 1]\n",
            " [7 1 7]\n",
            " [2 8 0]\n",
            " [0 4 2]\n",
            " [1 5 5]\n",
            " [7 4 1]]\n",
            "[[9. 0. 1.]\n",
            " [2. 8. 0.]]\n"
          ]
        }
      ],
      "source": [
        "np.random.seed(11)\n",
        "arr=np.random.randint(10,size=(6,3))\n",
        "n=10\n",
        "arr2=np.array([])\n",
        "for i in range(len(arr)):\n",
        "  temp=arr[i,:]\n",
        "  if np.sum(temp)==n:\n",
        "    arr2=np.append(arr2,temp)\n",
        "print(arr)\n",
        "print(arr2.reshape(-1,3))"
      ]
    },
    {
      "cell_type": "markdown",
      "id": "59ab5516",
      "metadata": {
        "id": "59ab5516"
      },
      "source": [
        "#### 100. Compute bootstrapped 95% confidence intervals for the mean of a 1D array X (i.e., resample the elements of an array with replacement N times, compute the mean of each sample, and then compute percentiles over the means). (★★★)"
      ]
    },
    {
      "cell_type": "code",
      "execution_count": null,
      "id": "450877d8",
      "metadata": {
        "id": "450877d8",
        "colab": {
          "base_uri": "https://localhost:8080/"
        },
        "outputId": "a0b12c4c-87ff-44f7-e2fd-7117a8a1a01c"
      },
      "outputs": [
        {
          "output_type": "stream",
          "name": "stdout",
          "text": [
            "95% Confidence Interval for the Mean: (np.float64(25.80625), np.float64(64.99374999999999))\n"
          ]
        }
      ],
      "source": [
        "arr=np.random.randint(100,size=10)\n",
        "Mean=np.array([])\n",
        "for i in range(50):\n",
        "  ind=np.random.choice(arr.size,size=4)\n",
        "  arr2=np.copy(arr[ind])\n",
        "  Mean=np.append(Mean,arr2.mean())\n",
        "ci_lower = np.percentile(Mean, 2.5)\n",
        "ci_upper = np.percentile(Mean, 97.5)\n",
        "\n",
        "print(\"95% Confidence Interval for the Mean:\", (ci_lower, ci_upper))"
      ]
    }
  ],
  "metadata": {
    "language_info": {
      "name": "python"
    },
    "colab": {
      "provenance": []
    },
    "kernelspec": {
      "name": "python3",
      "display_name": "Python 3"
    }
  },
  "nbformat": 4,
  "nbformat_minor": 5
}
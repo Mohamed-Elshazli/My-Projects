{
  "cells": [
    {
      "cell_type": "markdown",
      "id": "759d04ba",
      "metadata": {
        "id": "759d04ba"
      },
      "source": [
        "**1-Write a Python program to calculate the length of a string using 2 ways"
      ]
    },
    {
      "cell_type": "code",
      "execution_count": null,
      "id": "e434c950",
      "metadata": {
        "id": "e434c950",
        "outputId": "7f2b424f-413c-441e-aac6-dbabcc47f49b",
        "colab": {
          "base_uri": "https://localhost:8080/"
        }
      },
      "outputs": [
        {
          "output_type": "stream",
          "name": "stdout",
          "text": [
            "enter string: mohamed\n",
            "7\n"
          ]
        }
      ],
      "source": [
        "string1=input(\"enter string: \")\n",
        "length=0\n",
        "for s in string1:\n",
        "  length+=1\n",
        "print (length)"
      ]
    },
    {
      "cell_type": "code",
      "execution_count": null,
      "id": "7a2dfa32",
      "metadata": {
        "id": "7a2dfa32",
        "colab": {
          "base_uri": "https://localhost:8080/"
        },
        "outputId": "a12c5cd1-2a86-41fe-be27-b2014ae113c1"
      },
      "outputs": [
        {
          "output_type": "stream",
          "name": "stdout",
          "text": [
            "enter string: mohamed\n",
            "length of string is : 7\n"
          ]
        }
      ],
      "source": [
        "string1=input(\"enter string: \")\n",
        "print(\"length of string is :\",len(string1))"
      ]
    },
    {
      "cell_type": "markdown",
      "id": "d7cc9da7",
      "metadata": {
        "id": "d7cc9da7"
      },
      "source": [
        "**2-Write a Python program to get a string made of the first 2 and last 2 characters of a given string. If the string length is less than 2, return the empty string instead (\"##Sample String : 'w3resource'\n",
        "Expected Result : 'w3ce'\n",
        "##Sample String : 'w3'\n",
        "Expected Result : 'w3w3'\n",
        "##Sample String : ' w'\n",
        "Expected Result : Empty String)"
      ]
    },
    {
      "cell_type": "code",
      "execution_count": null,
      "id": "dafa9dd8",
      "metadata": {
        "id": "dafa9dd8",
        "outputId": "821bfb5d-6e1a-4bf2-c63b-4e24876c6f34",
        "colab": {
          "base_uri": "https://localhost:8080/"
        }
      },
      "outputs": [
        {
          "output_type": "stream",
          "name": "stdout",
          "text": [
            "enter string: eleven\n",
            "elen\n"
          ]
        }
      ],
      "source": [
        "string2=input(\"enter string: \")\n",
        "if(len(string2)>= 2):\n",
        "  result=string2[0:2]+string2[-2:]\n",
        "else:\n",
        "  result=\"' '\"\n",
        "print(result)"
      ]
    },
    {
      "cell_type": "markdown",
      "id": "1534f956",
      "metadata": {
        "id": "1534f956"
      },
      "source": [
        "**3-Write a Python program to add 'ing' at the end of a given string (length should be at least 3). If the given string already ends with 'ing', add 'ly' instead. If the string length of the given string is less than 3, leave it unchanged. (Sample String : 'abc'\n",
        "Expected Result : 'abcing')"
      ]
    },
    {
      "cell_type": "code",
      "execution_count": null,
      "id": "7ff8cec4",
      "metadata": {
        "id": "7ff8cec4",
        "outputId": "c962c249-6cd8-4cbe-bc4a-9b0f57666305",
        "colab": {
          "base_uri": "https://localhost:8080/"
        }
      },
      "outputs": [
        {
          "output_type": "stream",
          "name": "stdout",
          "text": [
            "enter string: playing\n",
            "playly\n"
          ]
        }
      ],
      "source": [
        "mystr=input(\"enter string: \")\n",
        "if len(mystr)>=3:\n",
        "  if mystr[-3:] == \"ing\":\n",
        "    mystr=mystr.replace(\"ing\",\"ly\")\n",
        "  elif mystr[-3:]!=\"ing\":\n",
        "    mystr=mystr+\"ing\"\n",
        "print(mystr)"
      ]
    },
    {
      "cell_type": "markdown",
      "id": "1c0a6627",
      "metadata": {
        "id": "1c0a6627"
      },
      "source": [
        "**4-Write a Python function that takes a list of words and return the longest word and the length of the longest one\n",
        "(Longest word: Exercises\n",
        "Length of the longest word: 9)"
      ]
    },
    {
      "cell_type": "code",
      "execution_count": null,
      "id": "397341d9",
      "metadata": {
        "id": "397341d9",
        "outputId": "2d7c767e-303e-4764-f233-d95e8c8388c7",
        "colab": {
          "base_uri": "https://localhost:8080/"
        }
      },
      "outputs": [
        {
          "output_type": "stream",
          "name": "stdout",
          "text": [
            "longest word:  football\n",
            "length of longest word:  8\n"
          ]
        }
      ],
      "source": [
        "lst=[\"mohamed\",\"playing\",\"football\",\"gym\",\"laptop\"]\n",
        "max_index=0\n",
        "for i in range(len(lst)):\n",
        "  if(len(lst[i])>len(lst[max_index])):\n",
        "    max_index=i\n",
        "print(\"longest word: \", lst[max_index])\n",
        "print(\"length of longest word: \", len(lst[max_index]))"
      ]
    },
    {
      "cell_type": "markdown",
      "id": "53a03a6a",
      "metadata": {
        "id": "53a03a6a"
      },
      "source": [
        "**5-Write a Python program to change a given string to a newly string where the first and last chars have been exchanged using 2 ways (Sample String:abca  Expected Result:ebce)"
      ]
    },
    {
      "cell_type": "code",
      "execution_count": null,
      "id": "fd327d2a",
      "metadata": {
        "id": "fd327d2a",
        "outputId": "0321001e-04bd-4739-d50c-13e97db2c3d4",
        "colab": {
          "base_uri": "https://localhost:8080/"
        }
      },
      "outputs": [
        {
          "output_type": "stream",
          "name": "stdout",
          "text": [
            "enter string: dreams\n",
            "sreamd\n"
          ]
        }
      ],
      "source": [
        "string4=input(\"enter string: \")\n",
        "lst=list(string4)\n",
        "lst[0],lst[-1]=lst[-1],lst[0]\n",
        "string4=\"\".join(lst)\n",
        "print(string4)"
      ]
    },
    {
      "cell_type": "code",
      "execution_count": 3,
      "id": "285788b4",
      "metadata": {
        "id": "285788b4",
        "colab": {
          "base_uri": "https://localhost:8080/"
        },
        "outputId": "9cc78ae0-093d-4b4a-8a1d-fc53eec60cb2"
      },
      "outputs": [
        {
          "output_type": "stream",
          "name": "stdout",
          "text": [
            "enter string: abcd\n",
            "dbca\n"
          ]
        }
      ],
      "source": [
        "string4=input(\"enter string: \")\n",
        "string4=string4[-1]+string4[1:-1]+string4[0]\n",
        "print(string4)"
      ]
    },
    {
      "cell_type": "markdown",
      "id": "25f89808",
      "metadata": {
        "id": "25f89808"
      },
      "source": [
        "**6-Write a Python program to remove characters that have odd index values in a given string (Sample String:abca Expected Result:ac)"
      ]
    },
    {
      "cell_type": "code",
      "execution_count": null,
      "id": "05959bd7",
      "metadata": {
        "id": "05959bd7",
        "colab": {
          "base_uri": "https://localhost:8080/"
        },
        "outputId": "4c42fb75-27f2-4d8e-c047-e8f6d8d90fbf"
      },
      "outputs": [
        {
          "output_type": "stream",
          "name": "stdout",
          "text": [
            "enter string : mohamed\n",
            "mhmd\n"
          ]
        }
      ],
      "source": [
        "mystr=input(\"enter string : \")\n",
        "result_string=\"\"\n",
        "for i in range(len(mystr)):\n",
        "  if(i%2==0):\n",
        "    result_string=result_string+mystr[i]\n",
        "print(result_string)"
      ]
    },
    {
      "cell_type": "markdown",
      "id": "eb16e898",
      "metadata": {
        "id": "eb16e898"
      },
      "source": [
        "**7-Write a Python program to count the occurrences of each word in a given sentence (Sample String:amr and ahmed are frindes but amr is the tallest Expected Result:2)"
      ]
    },
    {
      "cell_type": "code",
      "execution_count": 5,
      "id": "01ce6cf5",
      "metadata": {
        "id": "01ce6cf5",
        "colab": {
          "base_uri": "https://localhost:8080/"
        },
        "outputId": "499f811b-ccf3-4a59-c82c-08a11fb77819"
      },
      "outputs": [
        {
          "output_type": "stream",
          "name": "stdout",
          "text": [
            "enter line :amr and ahmed are frindes but amr is the tallest \n",
            "enter word to detect: amr\n",
            "result:  2\n"
          ]
        }
      ],
      "source": [
        "mystr=input(\"enter line :\")\n",
        "word=input(\"enter word to detect: \")\n",
        "mystr=mystr.split()\n",
        "result=0\n",
        "for i in mystr:\n",
        "  if(i == word):\n",
        "    result+=1\n",
        "print(\"result: \",result)"
      ]
    },
    {
      "cell_type": "markdown",
      "id": "4e8125f1",
      "metadata": {
        "id": "4e8125f1"
      },
      "source": [
        "**8-Write a Python script that takes input from the user and displays that input back in upper and lower cases"
      ]
    },
    {
      "cell_type": "code",
      "execution_count": null,
      "id": "66c8f778",
      "metadata": {
        "id": "66c8f778",
        "colab": {
          "base_uri": "https://localhost:8080/"
        },
        "outputId": "4ed40bf8-496e-42a6-b893-13991f3e3bb9"
      },
      "outputs": [
        {
          "output_type": "stream",
          "name": "stdout",
          "text": [
            "enter string: My name is Mohamed\n",
            "upper case:  MY NAME IS MOHAMED\n",
            "lower case:  my name is mohamed\n"
          ]
        }
      ],
      "source": [
        "mystr=input(\"enter string: \")\n",
        "upper_string=mystr.upper()\n",
        "lower_string=mystr.lower()\n",
        "print(\"upper case: \",upper_string)\n",
        "print(\"lower case: \",lower_string)"
      ]
    },
    {
      "cell_type": "markdown",
      "id": "fcd68aa1",
      "metadata": {
        "id": "fcd68aa1"
      },
      "source": [
        "**9-Write a Python function to reverse a string if its length is a multiple of 4"
      ]
    },
    {
      "cell_type": "code",
      "execution_count": null,
      "id": "0671a931",
      "metadata": {
        "id": "0671a931",
        "colab": {
          "base_uri": "https://localhost:8080/"
        },
        "outputId": "b34d9c33-a840-41ac-b700-0bf1f3e7abac"
      },
      "outputs": [
        {
          "output_type": "stream",
          "name": "stdout",
          "text": [
            "enter string: abcd\n",
            "dcba\n"
          ]
        }
      ],
      "source": [
        "mystr=input(\"enter string: \")\n",
        "if(len(mystr)%4==0):\n",
        "  mystr=mystr[::-1]\n",
        "print(mystr)"
      ]
    },
    {
      "cell_type": "markdown",
      "id": "b577c68d",
      "metadata": {
        "id": "b577c68d"
      },
      "source": [
        "**10- Write a Python program to remove a newline in Python"
      ]
    },
    {
      "cell_type": "code",
      "execution_count": null,
      "id": "e0c6525a",
      "metadata": {
        "id": "e0c6525a",
        "colab": {
          "base_uri": "https://localhost:8080/"
        },
        "outputId": "581b7902-b3ca-4bf9-c40e-46da2681e3eb"
      },
      "outputs": [
        {
          "output_type": "stream",
          "name": "stdout",
          "text": [
            "enter line: mohamed\\n is good\\n person\n",
            "mohamed  is good  person\n"
          ]
        }
      ],
      "source": [
        "mystr=input(\"enter line: \")\n",
        "mystr=mystr.replace(\"\\\\n\",\"\")\n",
        "print(mystr)"
      ]
    },
    {
      "cell_type": "markdown",
      "id": "80db5ae0",
      "metadata": {
        "id": "80db5ae0"
      },
      "source": [
        "**11-Write a Python program to check whether a string starts with specified characters"
      ]
    },
    {
      "cell_type": "code",
      "execution_count": null,
      "id": "0cc4e03e",
      "metadata": {
        "id": "0cc4e03e",
        "colab": {
          "base_uri": "https://localhost:8080/"
        },
        "outputId": "dfc49583-235a-4cd6-a14a-d1d56cb85fd7"
      },
      "outputs": [
        {
          "output_type": "stream",
          "name": "stdout",
          "text": [
            "enter string: mohamed\n",
            "enter the char if to check if it start with it or not: a\n",
            "no mohamed does not start with a \n"
          ]
        }
      ],
      "source": [
        "mystr=input(\"enter string: \")\n",
        "l=input(\"enter the char if to check if it start with it or not: \")\n",
        "if (mystr[0]==l):\n",
        "  print(f\"yes {mystr} start with {l} \")\n",
        "else:\n",
        "  print(f\"no {mystr} does not start with {l} \")"
      ]
    },
    {
      "cell_type": "markdown",
      "id": "593a68db",
      "metadata": {
        "id": "593a68db"
      },
      "source": [
        "**12- Write a Python program to add prefix text to all of the lines in a string"
      ]
    },
    {
      "cell_type": "code",
      "execution_count": null,
      "id": "d2e46ada",
      "metadata": {
        "id": "d2e46ada",
        "colab": {
          "base_uri": "https://localhost:8080/"
        },
        "outputId": "eca189d6-3409-4e2b-b7a7-7fffbbda3f56"
      },
      "outputs": [
        {
          "output_type": "stream",
          "name": "stdout",
          "text": [
            "enter string:  my name is mohaed\\n im 20 years old\\\\nn nice to meet you\n",
            " my name is mohaed\\n im 20 years old\\\\nn nice to meet you\n"
          ]
        }
      ],
      "source": [
        "mystr=input(\"enter string: \",end =\"\")\n",
        "print(mystr)"
      ]
    },
    {
      "cell_type": "markdown",
      "id": "86fa1543",
      "metadata": {
        "id": "86fa1543"
      },
      "source": [
        "**13-Write a Python program to print the following numbers up to 2 decimal places"
      ]
    },
    {
      "cell_type": "code",
      "execution_count": null,
      "id": "cd4a9d89",
      "metadata": {
        "id": "cd4a9d89",
        "colab": {
          "base_uri": "https://localhost:8080/"
        },
        "outputId": "db67c911-ad43-492b-a5ed-0be9efaa04b9"
      },
      "outputs": [
        {
          "output_type": "stream",
          "name": "stdout",
          "text": [
            "enter number: 5.17893\n",
            "5.18\n"
          ]
        }
      ],
      "source": [
        "num=float(input(\"enter number: \"))\n",
        "print(round(num,2))"
      ]
    },
    {
      "cell_type": "markdown",
      "id": "452c0ab0",
      "metadata": {
        "id": "452c0ab0"
      },
      "source": [
        "**14-Write a Python program to print the following numbers up to 2 decimal places with a sign"
      ]
    },
    {
      "cell_type": "code",
      "execution_count": 16,
      "id": "73e82479",
      "metadata": {
        "id": "73e82479",
        "colab": {
          "base_uri": "https://localhost:8080/"
        },
        "outputId": "ce16ac16-a31b-4e0f-afaf-e92b8a827079"
      },
      "outputs": [
        {
          "output_type": "stream",
          "name": "stdout",
          "text": [
            "+100.37\n"
          ]
        }
      ],
      "source": [
        "num=100.365621\n",
        "print(f\"{num:+.2f}\")"
      ]
    },
    {
      "cell_type": "markdown",
      "id": "32b1811a",
      "metadata": {
        "id": "32b1811a"
      },
      "source": [
        "**15-Write a Python program to display a number with a comma separator"
      ]
    },
    {
      "cell_type": "code",
      "execution_count": 15,
      "id": "f30fc0b6",
      "metadata": {
        "id": "f30fc0b6",
        "colab": {
          "base_uri": "https://localhost:8080/"
        },
        "outputId": "638a1632-1063-4c5b-929d-66969e5b45c3"
      },
      "outputs": [
        {
          "output_type": "stream",
          "name": "stdout",
          "text": [
            "100,000,000\n"
          ]
        }
      ],
      "source": [
        "num=100000000\n",
        "print(f\"{num:,}\")"
      ]
    },
    {
      "cell_type": "markdown",
      "id": "0477f487",
      "metadata": {
        "id": "0477f487"
      },
      "source": [
        "**16-Write a Python program to reverse a string using 2 ways"
      ]
    },
    {
      "cell_type": "code",
      "execution_count": null,
      "id": "aa8beec8",
      "metadata": {
        "id": "aa8beec8",
        "colab": {
          "base_uri": "https://localhost:8080/"
        },
        "outputId": "845043e5-e112-4fab-f694-8767003c676c"
      },
      "outputs": [
        {
          "output_type": "stream",
          "name": "stdout",
          "text": [
            "enter string: abv\n",
            "vba\n"
          ]
        }
      ],
      "source": [
        "mystr=input(\"enter string: \")\n",
        "mystr=mystr[::-1]\n",
        "print(mystr)"
      ]
    },
    {
      "cell_type": "code",
      "source": [
        "mystr=input(\"enter string: \")\n",
        "i=len(mystr)-1\n",
        "new_str=\"\"\n",
        "while(i>=0):\n",
        "  new_str=new_str+mystr[i]\n",
        "  i=i-1\n",
        "mystr=new_str\n",
        "print(mystr)"
      ],
      "metadata": {
        "colab": {
          "base_uri": "https://localhost:8080/"
        },
        "id": "u62ldERJJUgS",
        "outputId": "41e5ceb2-9266-4240-ad91-93ea7da355cf"
      },
      "id": "u62ldERJJUgS",
      "execution_count": null,
      "outputs": [
        {
          "output_type": "stream",
          "name": "stdout",
          "text": [
            "enter string: abc!\n",
            "!cba\n"
          ]
        }
      ]
    },
    {
      "cell_type": "markdown",
      "id": "5afc3166",
      "metadata": {
        "id": "5afc3166"
      },
      "source": [
        " **17-Write a Python program to count repeated characters in a string (hint:use dictionary)"
      ]
    },
    {
      "cell_type": "code",
      "execution_count": null,
      "id": "515a469c",
      "metadata": {
        "id": "515a469c",
        "colab": {
          "base_uri": "https://localhost:8080/"
        },
        "outputId": "e0a8758d-4cf3-445f-d093-4205983e09ed"
      },
      "outputs": [
        {
          "output_type": "stream",
          "name": "stdout",
          "text": [
            "{'b': 1, 'a': 3, 'n': 2}\n"
          ]
        }
      ],
      "source": [
        "mystr=\"banana\"\n",
        "mydict={}\n",
        "for s in mystr:\n",
        "  if(s not in mydict.keys()):\n",
        "    mydict[s]=1\n",
        "  else:\n",
        "    mydict[s]+=1\n",
        "print(mydict)"
      ]
    },
    {
      "cell_type": "markdown",
      "id": "ae14e4e5",
      "metadata": {
        "id": "ae14e4e5"
      },
      "source": [
        "**18-Write a Python program to find the first non-repeating character in a given string"
      ]
    },
    {
      "cell_type": "code",
      "execution_count": null,
      "id": "d73778e5",
      "metadata": {
        "id": "d73778e5",
        "colab": {
          "base_uri": "https://localhost:8080/"
        },
        "outputId": "78b47232-8250-4f6d-f494-572e04fff465"
      },
      "outputs": [
        {
          "output_type": "stream",
          "name": "stdout",
          "text": [
            "c\n"
          ]
        }
      ],
      "source": [
        "mystr=\"abcbaz\"\n",
        "mydict={}\n",
        "for s in mystr:\n",
        "  if(s not in mydict.keys()):\n",
        "    mydict[s]=1\n",
        "  else:\n",
        "    mydict[s]+=1\n",
        "for key ,value in mydict.items():\n",
        "  if(value==1):\n",
        "    print(key)\n",
        "    break"
      ]
    },
    {
      "cell_type": "markdown",
      "id": "3adf5669",
      "metadata": {
        "id": "3adf5669"
      },
      "source": [
        "**19-Write a Python program to remove spaces from a given string"
      ]
    },
    {
      "cell_type": "code",
      "execution_count": null,
      "id": "b4f22602",
      "metadata": {
        "id": "b4f22602",
        "colab": {
          "base_uri": "https://localhost:8080/"
        },
        "outputId": "92936c9f-aafd-4a60-d98c-831a2a660ca9"
      },
      "outputs": [
        {
          "output_type": "stream",
          "name": "stdout",
          "text": [
            "mohamedleavespaces\n"
          ]
        }
      ],
      "source": [
        "mystr=\"mohamed     leave   spaces\"\n",
        "mystr=mystr.replace(\" \",\"\")\n",
        "print(mystr)"
      ]
    },
    {
      "cell_type": "markdown",
      "id": "734de60c",
      "metadata": {
        "id": "734de60c"
      },
      "source": [
        "**20-Write a Python program to count the number of non-empty substrings of a given string"
      ]
    },
    {
      "cell_type": "code",
      "execution_count": null,
      "id": "ef3f2274",
      "metadata": {
        "id": "ef3f2274"
      },
      "outputs": [],
      "source": [
        "mystr=\"\""
      ]
    },
    {
      "cell_type": "markdown",
      "id": "509998e2",
      "metadata": {
        "id": "509998e2"
      },
      "source": [
        "**21-write a Python program to swap first and last element of any list."
      ]
    },
    {
      "cell_type": "code",
      "execution_count": null,
      "id": "68692d7f",
      "metadata": {
        "id": "68692d7f",
        "colab": {
          "base_uri": "https://localhost:8080/"
        },
        "outputId": "002aeaf3-60f4-42cf-b48c-d6bf0ff409e9"
      },
      "outputs": [
        {
          "output_type": "stream",
          "name": "stdout",
          "text": [
            "[70, 90, 80, 100]\n"
          ]
        }
      ],
      "source": [
        "lst=[100,90,80,70]\n",
        "lst[0],lst[-1]=lst[-1],lst[0]\n",
        "print(lst)"
      ]
    },
    {
      "cell_type": "markdown",
      "id": "959e0837",
      "metadata": {
        "id": "959e0837"
      },
      "source": [
        "**22-Given a list in Python and provided the positions of the elements, write a program to swap the two elements in the list. (Input : List = [23, 65, 19, 90], pos1 = 1, pos2 = 3\n",
        "Output : [19, 65, 23, 90])"
      ]
    },
    {
      "cell_type": "code",
      "execution_count": null,
      "id": "225d8c6d",
      "metadata": {
        "id": "225d8c6d",
        "colab": {
          "base_uri": "https://localhost:8080/"
        },
        "outputId": "3b679176-71a3-4ee7-d57f-0734f0fffb9b"
      },
      "outputs": [
        {
          "output_type": "stream",
          "name": "stdout",
          "text": [
            "enter the first position you want to swap: 9\n",
            "enter the second position you want to swap: 2\n",
            "the position out of range.\n",
            "[23, 65, 19, 90]\n"
          ]
        }
      ],
      "source": [
        "lst=[23,65,19,90]\n",
        "pos1=int(input(\"enter the first position you want to swap: \"))\n",
        "pos2=int(input(\"enter the second position you want to swap: \"))\n",
        "if pos1<len(lst) and pos2<len(lst):\n",
        "  lst[pos1],lst[pos2]=lst[pos2],lst[pos1]\n",
        "else:\n",
        "  print(\"the position out of range.\")\n",
        "print(lst)"
      ]
    },
    {
      "cell_type": "markdown",
      "id": "66fc6682",
      "metadata": {
        "id": "66fc6682"
      },
      "source": [
        "**23- search for the all ways to know the length of the list"
      ]
    },
    {
      "cell_type": "code",
      "execution_count": null,
      "id": "63ff8b43",
      "metadata": {
        "id": "63ff8b43"
      },
      "outputs": [],
      "source": [
        "**24-write a Python code to find the Maximum number of list of numbers."
      ]
    },
    {
      "cell_type": "code",
      "execution_count": null,
      "id": "15f342de",
      "metadata": {
        "id": "15f342de",
        "colab": {
          "base_uri": "https://localhost:8080/"
        },
        "outputId": "ca211c2a-4245-480a-c3ed-6f3d608a694a"
      },
      "outputs": [
        {
          "output_type": "stream",
          "name": "stdout",
          "text": [
            "99\n"
          ]
        }
      ],
      "source": [
        "lst=[90,34,22,76,12,99]\n",
        "print(max(lst))"
      ]
    },
    {
      "cell_type": "code",
      "execution_count": null,
      "id": "1a89b9d3",
      "metadata": {
        "id": "1a89b9d3"
      },
      "outputs": [],
      "source": [
        "**25-write a Python code to find the Minimum number of list of numbers."
      ]
    },
    {
      "cell_type": "code",
      "execution_count": null,
      "id": "21f8cbd6",
      "metadata": {
        "id": "21f8cbd6",
        "colab": {
          "base_uri": "https://localhost:8080/"
        },
        "outputId": "45cf7d4e-9ff0-47c3-eb19-3c039d1b7c08"
      },
      "outputs": [
        {
          "output_type": "stream",
          "name": "stdout",
          "text": [
            "12\n"
          ]
        }
      ],
      "source": [
        "lst=[90,34,22,76,12,99]\n",
        "print(min(lst))"
      ]
    },
    {
      "cell_type": "markdown",
      "id": "96822d96",
      "metadata": {
        "id": "96822d96"
      },
      "source": [
        "**26-search for if an elem is existing in list"
      ]
    },
    {
      "cell_type": "code",
      "execution_count": null,
      "id": "51ca5c9a",
      "metadata": {
        "id": "51ca5c9a",
        "colab": {
          "base_uri": "https://localhost:8080/"
        },
        "outputId": "a719c29a-2f1c-4eb7-b09f-b45cf3177f32"
      },
      "outputs": [
        {
          "output_type": "stream",
          "name": "stdout",
          "text": [
            "enter number you want to check: 12\n",
            "the number exist in lst.\n"
          ]
        }
      ],
      "source": [
        "lst=[90,34,22,76,12,99]\n",
        "num=int(input(\"enter number you want to check: \"))\n",
        "if num in lst:\n",
        "  print(\"the number exist in lst.\")\n",
        "else:\n",
        "  print(\"the number does not exist in the lst\")"
      ]
    },
    {
      "cell_type": "markdown",
      "id": "d9557da7",
      "metadata": {
        "id": "d9557da7"
      },
      "source": [
        "**27- clear python list using different ways"
      ]
    },
    {
      "cell_type": "code",
      "execution_count": null,
      "id": "b69858a3",
      "metadata": {
        "id": "b69858a3",
        "colab": {
          "base_uri": "https://localhost:8080/"
        },
        "outputId": "6c0e5ebf-c3e2-4426-bde4-65487017e70d"
      },
      "outputs": [
        {
          "output_type": "stream",
          "name": "stdout",
          "text": [
            "[]\n"
          ]
        }
      ],
      "source": [
        "lst=[90,34,22,76,12,99]\n",
        "lst.clear()\n",
        "print(lst)"
      ]
    },
    {
      "cell_type": "code",
      "source": [
        "#second way to clear list\n",
        "lst=[90,34,22,76,12,99]\n",
        "while(lst):\n",
        "  lst.pop()\n",
        "print(lst)"
      ],
      "metadata": {
        "colab": {
          "base_uri": "https://localhost:8080/"
        },
        "id": "8UwekB9YrXXQ",
        "outputId": "7c6fe808-779b-443a-cbe9-bb658d59c3de"
      },
      "id": "8UwekB9YrXXQ",
      "execution_count": null,
      "outputs": [
        {
          "output_type": "stream",
          "name": "stdout",
          "text": [
            "[]\n"
          ]
        }
      ]
    },
    {
      "cell_type": "markdown",
      "id": "52160e88",
      "metadata": {
        "id": "52160e88"
      },
      "source": [
        "**28-remove duplicated elements from a list"
      ]
    },
    {
      "cell_type": "code",
      "execution_count": null,
      "id": "5e362228",
      "metadata": {
        "id": "5e362228"
      },
      "outputs": [],
      "source": [
        "lst=[1,3,5,1,6,8,3,2,7,7]\n",
        "lst=set(lst)\n",
        "lst=list(lst)\n",
        "print(lst)"
      ]
    },
    {
      "cell_type": "markdown",
      "id": "282337f7",
      "metadata": {
        "id": "282337f7"
      },
      "source": [
        "**29-Given list values and keys list, convert these values to key value pairs in form of list of dictionaries. (Input : test_list = [“Gfg”, 3, “is”, 8], key_list = [“name”, “id”]\n",
        "Output : [{‘name’: ‘Gfg’, ‘id’: 3}, {‘name’: ‘is’, ‘id’: 8}])"
      ]
    },
    {
      "cell_type": "code",
      "execution_count": 20,
      "id": "4d4e2d28",
      "metadata": {
        "id": "4d4e2d28",
        "colab": {
          "base_uri": "https://localhost:8080/"
        },
        "outputId": "46445017-da82-428b-9c6a-1525ed3c6b9b"
      },
      "outputs": [
        {
          "output_type": "stream",
          "name": "stdout",
          "text": [
            "[{'name': 'Gfg', 'id': 3}, {'name': 'is', 'id': 8}]\n"
          ]
        }
      ],
      "source": [
        "test_list = [\"Gfg\", 3, \"is\", 8]\n",
        "key_list = [\"name\", \"id\"]\n",
        "lst2=[]\n",
        "i=0\n",
        "while(i<len(test_list)):\n",
        "  mydict={key_list[0]:test_list[i],key_list[1]:test_list[i+1]}\n",
        "  i+=2\n",
        "  lst2.append(mydict)\n",
        "print(lst2)"
      ]
    },
    {
      "cell_type": "markdown",
      "id": "c26b6e9f",
      "metadata": {
        "id": "c26b6e9f"
      },
      "source": [
        "**30-write a python program to count unique values inside a list using different ways"
      ]
    },
    {
      "cell_type": "code",
      "execution_count": 38,
      "id": "72132667",
      "metadata": {
        "id": "72132667",
        "colab": {
          "base_uri": "https://localhost:8080/"
        },
        "outputId": "ed05fddd-9923-42f6-9546-7067558a03b6"
      },
      "outputs": [
        {
          "output_type": "stream",
          "name": "stdout",
          "text": [
            "the number of unique values in lst:  7\n"
          ]
        }
      ],
      "source": [
        "lst=[1,4,2,1,5,7,5,1,3,6,3]\n",
        "lst2=set(lst)\n",
        "print(\"the number of unique values in lst: \",len(lst2))"
      ]
    },
    {
      "cell_type": "code",
      "source": [
        "#second way to solve\n",
        "lst=[1,4,2,1,5,7,5,1,3,6,3]\n",
        "lst2=[]\n",
        "for i in lst:\n",
        "  if i not in lst2:\n",
        "    lst2.append(i)\n",
        "print(\"the number of unique values in lst: \",len(lst2))"
      ],
      "metadata": {
        "colab": {
          "base_uri": "https://localhost:8080/"
        },
        "id": "_iDrha1W4ANR",
        "outputId": "9f699f77-c27a-475c-d7c9-d5cd7bb3088d"
      },
      "id": "_iDrha1W4ANR",
      "execution_count": 39,
      "outputs": [
        {
          "output_type": "stream",
          "name": "stdout",
          "text": [
            "the number of unique values in lst:  7\n"
          ]
        }
      ]
    },
    {
      "cell_type": "markdown",
      "id": "fed6677c",
      "metadata": {
        "id": "fed6677c"
      },
      "source": [
        "**31-write a python program Extract all elements with Frequency greater than K (Input : test_list = [4, 6, 4, 3, 3, 4, 3, 4, 3, 8], K = 3\n",
        "Output : [4, 3] )"
      ]
    },
    {
      "cell_type": "code",
      "execution_count": null,
      "id": "d81f3f9d",
      "metadata": {
        "id": "d81f3f9d",
        "colab": {
          "base_uri": "https://localhost:8080/"
        },
        "outputId": "0d5d0a02-01a8-4001-800f-c6fd0c81abff"
      },
      "outputs": [
        {
          "output_type": "stream",
          "name": "stdout",
          "text": [
            "please enter K to extract number with frequency greater than it: 3\n",
            "[4, 3]\n"
          ]
        }
      ],
      "source": [
        " lst=[4, 6, 4, 3, 3, 4, 3, 4, 3, 8]\n",
        " k=int(input(\"please enter K to extract number with frequency greater than it: \"))\n",
        " mydict={}\n",
        " for i in lst:\n",
        "  if i not in mydict:\n",
        "    mydict[i]=1\n",
        "  else:\n",
        "    mydict[i]+=1\n",
        "lst2=[]\n",
        "for i in mydict.items():\n",
        "  if i[1]>k:\n",
        "    lst2.append(i[0])\n",
        "print(lst2)"
      ]
    },
    {
      "cell_type": "markdown",
      "id": "caca5224",
      "metadata": {
        "id": "caca5224"
      },
      "source": [
        "**32-write a python program to find the Strongest Neighbour (Input: 1 2 2 3 4 5\n",
        "Output: 2 2 3 4 5)"
      ]
    },
    {
      "cell_type": "code",
      "execution_count": null,
      "id": "39fbd9b2",
      "metadata": {
        "id": "39fbd9b2",
        "colab": {
          "base_uri": "https://localhost:8080/"
        },
        "outputId": "d52c2ec2-cf20-4cbf-bf07-283856a977f1"
      },
      "outputs": [
        {
          "output_type": "stream",
          "name": "stdout",
          "text": [
            "[6, 6, 3, 8, 8]\n"
          ]
        }
      ],
      "source": [
        "lst=[5,6,1,3,8,2]\n",
        "neighbor=[]\n",
        "for i in range(len(lst)-1):\n",
        "  neighbor.append(max(lst[i],lst[i+1]))\n",
        "print(neighbor)"
      ]
    },
    {
      "cell_type": "markdown",
      "id": "a9fa8baf",
      "metadata": {
        "id": "a9fa8baf"
      },
      "source": [
        "**33-write a Python Program to print all Possible Combinations from the three Digits (Input: [1, 2, 3]\n",
        "Output:\n",
        "1 2 3 ##\n",
        "1 3 2 ##\n",
        "2 1 3 ##\n",
        "2 3 1 ##\n",
        "3 1 2 ##\n",
        "3 2 1)"
      ]
    },
    {
      "cell_type": "code",
      "execution_count": 37,
      "id": "8c520a76",
      "metadata": {
        "id": "8c520a76",
        "colab": {
          "base_uri": "https://localhost:8080/"
        },
        "outputId": "186d3ff2-8df7-4cc0-f9e9-2c872445811b"
      },
      "outputs": [
        {
          "output_type": "stream",
          "name": "stdout",
          "text": [
            "1 2 3 ## 1 3 2 ## 2 1 3 ## 2 3 1 ## 3 1 2 ## 3 2 1 ## "
          ]
        }
      ],
      "source": [
        "digits = [1, 2, 3]\n",
        "\n",
        "for i in digits:\n",
        "    for j in digits:\n",
        "        for k in digits:\n",
        "            if i != j and j != k and i != k:\n",
        "                print(f\"{i} {j} {k}\", end=\" ## \")\n"
      ]
    },
    {
      "cell_type": "markdown",
      "id": "5288bb89",
      "metadata": {
        "id": "5288bb89"
      },
      "source": [
        "**34-write a Python program to find all the Combinations in the list with the given condition (Input: test_list = [1,2,3]\n",
        "Output:\n",
        " [1], [1, 2], [1, 2, 3], [1, 3]\n",
        " [2], [2, 3], [3])"
      ]
    },
    {
      "cell_type": "code",
      "execution_count": 40,
      "id": "59b89646",
      "metadata": {
        "id": "59b89646",
        "colab": {
          "base_uri": "https://localhost:8080/"
        },
        "outputId": "e0331ef7-74c9-4e4e-9e6c-734cb5b2e29a"
      },
      "outputs": [
        {
          "output_type": "stream",
          "name": "stdout",
          "text": [
            "[1]\n",
            "[1, 2]\n",
            "[1, 2, 3]\n",
            "[2]\n",
            "[2, 3]\n",
            "[3]\n"
          ]
        }
      ],
      "source": [
        "test_list = [1, 2, 3]\n",
        "result = []\n",
        "\n",
        "for i in range(len(test_list)):\n",
        "    for j in range(i + 1, len(test_list) + 1):\n",
        "        result.append(test_list[i:j])\n",
        "\n",
        "for item in result:\n",
        "    print(item)"
      ]
    },
    {
      "cell_type": "markdown",
      "id": "39973705",
      "metadata": {
        "id": "39973705"
      },
      "source": [
        "**35-write a Python program to get all unique combinations of two Lists (List_1 = [\"a\",\"b\"]\n",
        "List_2 = [1,2]\n",
        "Unique_combination = [[('a',1),('b',2)],[('a',2),('b',1)]] )"
      ]
    },
    {
      "cell_type": "code",
      "execution_count": null,
      "id": "8c4ba22b",
      "metadata": {
        "id": "8c4ba22b",
        "colab": {
          "base_uri": "https://localhost:8080/"
        },
        "outputId": "de568b1f-86ff-48b0-c026-1ea09d0967bc"
      },
      "outputs": [
        {
          "output_type": "stream",
          "name": "stdout",
          "text": [
            "[('a', 1), ('a', 2), ('b', 1), ('b', 2)]\n"
          ]
        }
      ],
      "source": [
        "lst1=[\"a\",\"b\"]\n",
        "lst2=[1,2]\n",
        "lst3=[]\n",
        "for i in lst1:\n",
        "  for j in lst2:\n",
        "    lst3.append((i,j))\n",
        "print(lst3)"
      ]
    },
    {
      "cell_type": "markdown",
      "id": "25199af5",
      "metadata": {
        "id": "25199af5"
      },
      "source": [
        "**36-Remove all the occurrences of an element from a list in Python (Input : 1 1 2 3 4 5 1 2 1\n",
        "\n",
        "**Output : 2 3 4 5 2)"
      ]
    },
    {
      "cell_type": "code",
      "execution_count": 35,
      "id": "6dc4c2ba",
      "metadata": {
        "id": "6dc4c2ba",
        "colab": {
          "base_uri": "https://localhost:8080/"
        },
        "outputId": "4723f83c-836b-4daa-ca16-32f75128b569"
      },
      "outputs": [
        {
          "output_type": "stream",
          "name": "stdout",
          "text": [
            "enter number to remove: 1\n",
            "[2, 3, 4, 5, 2]\n"
          ]
        }
      ],
      "source": [
        "lst=[1,1,2,3,4,5,1,2,1]\n",
        "lst2=[]\n",
        "num=int(input(\"enter number to remove: \"))\n",
        "for i in (lst):\n",
        "   if num==i:\n",
        "      lst.remove(i)\n",
        "if(lst[-1]==num):\n",
        "  lst.pop()\n",
        "print(lst)"
      ]
    },
    {
      "cell_type": "markdown",
      "id": "bf1a3c93",
      "metadata": {
        "id": "bf1a3c93"
      },
      "source": [
        " **37-write a python program to Replace index elements with elements in Other List (The original list 1 is : [‘Gfg’, ‘is’, ‘best’] The original list 2 is : [0, 1, 2, 1, 0, 0, 0, 2, 1, 1, 2, 0] The lists after index elements replacements is : [‘Gfg’, ‘is’, ‘best’, ‘is’, ‘Gfg’, ‘Gfg’, ‘Gfg’, ‘best’, ‘is’, ‘is’, ‘best’, ‘Gfg’])"
      ]
    },
    {
      "cell_type": "code",
      "execution_count": 36,
      "id": "fdd66a71",
      "metadata": {
        "id": "fdd66a71",
        "colab": {
          "base_uri": "https://localhost:8080/"
        },
        "outputId": "7dd04729-ce23-4757-bfd4-e0779aa8e75c"
      },
      "outputs": [
        {
          "output_type": "stream",
          "name": "stdout",
          "text": [
            "['Gfg', 'is', 'best', 'is', 'Gfg', 'Gfg', 'Gfg', 'best', 'is', 'is', 'best', 'Gfg']\n"
          ]
        }
      ],
      "source": [
        "lst1=[\"Gfg\", \"is\", \"best\"]\n",
        "lst2=[0, 1, 2, 1, 0, 0, 0, 2, 1, 1, 2, 0]\n",
        "lst3=[]\n",
        "for i in (lst2) :\n",
        "  if(i>=0 and i<len(lst1)):\n",
        "    lst3.append(lst1[i])\n",
        "lst1=lst3\n",
        "lst.clear()\n",
        "print(lst1)"
      ]
    },
    {
      "cell_type": "markdown",
      "id": "af0f56e8",
      "metadata": {
        "id": "af0f56e8"
      },
      "source": [
        "**38- write python program to Retain records with N occurrences of K(Input : test_list = [(4, 5, 5, 4), (5, 4, 3)], K = 5, N = 2\n",
        "Output : [(4, 5, 5, 4)]\n",
        "Input : test_list = [(4, 5, 5, 4), (5, 4, 3)], K = 5, N = 3\n",
        "Output : [] )"
      ]
    },
    {
      "cell_type": "code",
      "execution_count": null,
      "id": "67b06671",
      "metadata": {
        "id": "67b06671",
        "colab": {
          "base_uri": "https://localhost:8080/"
        },
        "outputId": "4f5842ab-d4df-4182-cf85-2b918a6aa92a"
      },
      "outputs": [
        {
          "output_type": "stream",
          "name": "stdout",
          "text": [
            "enter N: 9\n",
            "enter K :2\n",
            "[(9, 1, 9, 4, 3, 2, 6), (9, 9, 4, 2, 3, 3, 3)]\n"
          ]
        }
      ],
      "source": [
        "lst=[(3,5,3,7,1,5),(9,1,9,4,3,2,6),(2,1,7,8,3,7),(9,9,4,2,3,3,3)]\n",
        "lst2=[]\n",
        "N=int(input(\"enter N: \"))\n",
        "K=int(input(\"enter K :\"))\n",
        "\n",
        "for i in range(len(lst)):\n",
        "  count=0\n",
        "  for j in range(len(lst[i])):\n",
        "    if lst[i][j] ==N:\n",
        "      count+=1\n",
        "  if count==K:\n",
        "    lst2.append(lst[i])\n",
        "print(lst2)"
      ]
    },
    {
      "cell_type": "markdown",
      "id": "de76f183",
      "metadata": {
        "id": "de76f183"
      },
      "source": [
        "**39-write a Python Program to Sort the list according to the column using lambda\n",
        "array = [[1, 3, 3], [2, 1, 2], [3, 2, 1]]\n",
        "Output :\n",
        "Sorted array specific to column 0, [[1, 3, 3], [2, 1, 2], [3, 2, 1]]\n",
        "Sorted array specific to column 1, [[2, 1, 2], [3, 2, 1], [1, 3, 3]]\n",
        "Sorted array specific to column 2, [[3, 2, 1], [2, 1, 2], [1, 3, 3]]"
      ]
    },
    {
      "cell_type": "code",
      "execution_count": null,
      "id": "dc883308",
      "metadata": {
        "id": "dc883308",
        "colab": {
          "base_uri": "https://localhost:8080/"
        },
        "outputId": "08810e88-3a85-4cfa-fe10-339ed973f030"
      },
      "outputs": [
        {
          "output_type": "stream",
          "name": "stdout",
          "text": [
            "sorted of column 0:  [[1, 3, 3], [2, 1, 2], [3, 2, 1]]\n",
            "sorted of column 1:  [[2, 1, 2], [3, 2, 1], [1, 3, 3]]\n",
            "sorted of column 2:  [[3, 2, 1], [2, 1, 2], [1, 3, 3]]\n"
          ]
        }
      ],
      "source": [
        "\n",
        "lst= [[1, 3, 3], [2, 1, 2], [3, 2, 1]]\n",
        "lst=sorted(lst, key = lambda x :x[0])\n",
        "print(\"sorted of column 0: \",lst)\n",
        "lst=sorted(lst, key = lambda x :x[1])\n",
        "print(\"sorted of column 1: \",lst)\n",
        "lst=sorted(lst, key = lambda x :x[2])\n",
        "print(\"sorted of column 2: \",lst)"
      ]
    },
    {
      "cell_type": "code",
      "execution_count": null,
      "id": "d2e7b31f",
      "metadata": {
        "id": "d2e7b31f"
      },
      "outputs": [],
      "source": [
        "**40- write a program to Sort Python Dictionaries by Key or Value\n",
        "Input:\n",
        "{'ravi': 10, 'rajnish': 9, 'sanjeev': 15, 'yash': 2, 'suraj': 32}\n",
        "\n",
        "Output:\n",
        "{'rajnish': 9, 'ravi': 10, 'sanjeev': 15, 'suraj': 32, 'yash': 2}"
      ]
    },
    {
      "cell_type": "code",
      "execution_count": null,
      "id": "a96db4a0",
      "metadata": {
        "id": "a96db4a0",
        "colab": {
          "base_uri": "https://localhost:8080/"
        },
        "outputId": "37d23e1a-8417-4b78-890e-63a5a9b057c5"
      },
      "outputs": [
        {
          "output_type": "stream",
          "name": "stdout",
          "text": [
            "{'yash': 2, 'rajnish': 9, 'ravi': 10, 'sanjeev': 15, 'suraj': 32}\n"
          ]
        }
      ],
      "source": [
        "mydict={'ravi': 10, 'rajnish': 9, 'sanjeev': 15, 'yash': 2, 'suraj': 32}\n",
        "my_sorted_dict=dict(sorted(mydict.items(),key=lambda x:x[1]))\n",
        "\n",
        "print(my_sorted_dict)"
      ]
    },
    {
      "cell_type": "markdown",
      "id": "ec63c23a",
      "metadata": {
        "id": "ec63c23a"
      },
      "source": [
        "**41-write python program to Remove keys with Values Greater than K ( Including mixed values )\n",
        "nput : test_dict = {‘Gfg’ : 3, ‘is’ : 7, ‘best’ : 10, ‘for’ : 6, ‘geeks’ : ‘CS’},\n",
        "K = 7\n",
        "Output : {‘Gfg’ : 3, ‘for’ : 6, ‘geeks’ : ‘CS’}"
      ]
    },
    {
      "cell_type": "code",
      "execution_count": null,
      "id": "e39c3a40",
      "metadata": {
        "id": "e39c3a40",
        "colab": {
          "base_uri": "https://localhost:8080/"
        },
        "outputId": "5bcc7b38-b90b-439a-f54a-e64d90e995b0"
      },
      "outputs": [
        {
          "output_type": "stream",
          "name": "stdout",
          "text": [
            "enter K value fro threshold: 8\n",
            "{'CS': 7, 'IT': 4}\n"
          ]
        }
      ],
      "source": [
        "mydict={\"CS\":7,\"AI\":9,\"IT\":4,\"IS\":8,\"medicine\":12,\"Engineer\":9}\n",
        "threshold=int(input(\"enter K value fro threshold: \"))\n",
        "Key=list(mydict.keys())\n",
        "for k in Key:\n",
        "  if(mydict[k] >= threshold):\n",
        "    del mydict[k]\n",
        "print(mydict)\n"
      ]
    },
    {
      "cell_type": "markdown",
      "id": "f143f0fe",
      "metadata": {
        "id": "f143f0fe"
      },
      "source": [
        "**42-Write a Python program to concatenate the following dictionaries to create a new one\n",
        "\n",
        "Sample Dictionary :\n",
        "dic1={1:10, 2:20}\n",
        "dic2={3:30, 4:40}\n",
        "dic3={5:50,6:60}\n",
        "Expected Result : {1: 10, 2: 20, 3: 30, 4: 40, 5: 50, 6: 60}"
      ]
    },
    {
      "cell_type": "code",
      "execution_count": null,
      "id": "74ffdfea",
      "metadata": {
        "id": "74ffdfea",
        "colab": {
          "base_uri": "https://localhost:8080/"
        },
        "outputId": "e625332b-ee3d-4ae0-934c-d98cc725f2a1"
      },
      "outputs": [
        {
          "output_type": "stream",
          "name": "stdout",
          "text": [
            "{1: 10, 2: 20, 3: 30, 4: 40, 5: 50, 6: 60}\n"
          ]
        }
      ],
      "source": [
        "dic1={1:10, 2:20}\n",
        "dic2={3:30, 4:40}\n",
        "dic3={5:50,6:60}\n",
        "dic4=dic1.copy()\n",
        "dic4.update(dic2)\n",
        "dic4.update(dic3)\n",
        "print(dic4)"
      ]
    },
    {
      "cell_type": "markdown",
      "id": "fb04c93c",
      "metadata": {
        "id": "fb04c93c"
      },
      "source": [
        "**43-Write a Python program to iterate over dictionaries using for loops"
      ]
    },
    {
      "cell_type": "code",
      "execution_count": null,
      "id": "6aebc470",
      "metadata": {
        "id": "6aebc470",
        "colab": {
          "base_uri": "https://localhost:8080/"
        },
        "outputId": "8993b0f2-91f4-4164-f02d-5d3d1315cacd"
      },
      "outputs": [
        {
          "output_type": "stream",
          "name": "stdout",
          "text": [
            "('CS', 7)\n",
            "('AI', 9)\n",
            "('IT', 4)\n",
            "('IS', 8)\n",
            "('medicine', 12)\n",
            "('Engineer', 9)\n"
          ]
        }
      ],
      "source": [
        "mydict={\"CS\":7,\"AI\":9,\"IT\":4,\"IS\":8,\"medicine\":12,\"Engineer\":9}\n",
        "for dic in mydict.items():\n",
        "  print(dic)"
      ]
    },
    {
      "cell_type": "markdown",
      "id": "5f491a9d",
      "metadata": {
        "id": "5f491a9d"
      },
      "source": [
        "**44- Write a Python script to merge two Python dictionaries"
      ]
    },
    {
      "cell_type": "code",
      "execution_count": 42,
      "id": "b8a14028",
      "metadata": {
        "id": "b8a14028",
        "colab": {
          "base_uri": "https://localhost:8080/"
        },
        "outputId": "0540bb81-6abe-46c5-e36b-c417e78ef369"
      },
      "outputs": [
        {
          "output_type": "stream",
          "name": "stdout",
          "text": [
            "{'x': 1, 'y': 3, 'z': 4}\n"
          ]
        }
      ],
      "source": [
        "d1 = {'x': 1, 'y': 2}\n",
        "d2 = {'y': 3, 'z': 4}\n",
        "d3={**d1,**d2}\n",
        "print(d3)"
      ]
    },
    {
      "cell_type": "markdown",
      "id": "216fc72d",
      "metadata": {
        "id": "216fc72d"
      },
      "source": [
        "**45-Write a Python program to get the maximum and minimum values of a dictionary values"
      ]
    },
    {
      "cell_type": "code",
      "execution_count": null,
      "id": "d6883f5f",
      "metadata": {
        "id": "d6883f5f",
        "colab": {
          "base_uri": "https://localhost:8080/"
        },
        "outputId": "34b8bad3-293a-4627-80b8-a016a282b4f9"
      },
      "outputs": [
        {
          "output_type": "stream",
          "name": "stdout",
          "text": [
            "the max value in the dictionary is: 12\n",
            "the min value in the dictionary is: 4\n"
          ]
        }
      ],
      "source": [
        "mydict={\"CS\":7,\"AI\":9,\"IT\":4,\"IS\":8,\"medicine\":12,\"Engineer\":9}\n",
        "myvalues=mydict.values()\n",
        "print(\"the max value in the dictionary is:\",max(myvalues))\n",
        "print(\"the min value in the dictionary is:\",min(myvalues))"
      ]
    },
    {
      "cell_type": "markdown",
      "id": "b6a53011",
      "metadata": {
        "id": "b6a53011"
      },
      "source": [
        "**46- Write a Python program to drop empty items from a given dictionary.\n",
        "Original Dictionary:\n",
        "{'c1': 'Red', 'c2': 'Green', 'c3': None}\n",
        "New Dictionary after dropping empty items:\n",
        "{'c1': 'Red', 'c2': 'Green'}"
      ]
    },
    {
      "cell_type": "code",
      "execution_count": null,
      "id": "b5c6fecf",
      "metadata": {
        "id": "b5c6fecf",
        "colab": {
          "base_uri": "https://localhost:8080/"
        },
        "outputId": "ed8645c8-3a9a-40ff-fc9b-3e77549e2a19"
      },
      "outputs": [
        {
          "output_type": "stream",
          "name": "stdout",
          "text": [
            "{'c1': 'Red', 'c3': 'Green'}\n"
          ]
        }
      ],
      "source": [
        "mydict= {'c1': 'Red',\"c2\":None ,'c3': 'Green', 'c4': None}\n",
        "mydict={k: v for k ,v in mydict.items() if v!=None}\n",
        "print(mydict)"
      ]
    },
    {
      "cell_type": "markdown",
      "id": "46d718c7",
      "metadata": {
        "id": "46d718c7"
      },
      "source": [
        "**47-Write a Python program to create a tuple of numbers and print one item"
      ]
    },
    {
      "cell_type": "code",
      "execution_count": 43,
      "id": "13216ff5",
      "metadata": {
        "id": "13216ff5",
        "colab": {
          "base_uri": "https://localhost:8080/"
        },
        "outputId": "6ffba77d-18c9-48f7-f135-0b26a0aaa88c"
      },
      "outputs": [
        {
          "output_type": "stream",
          "name": "stdout",
          "text": [
            "enter index you to print: 3\n",
            "7\n"
          ]
        }
      ],
      "source": [
        "tp=(5,4,1,7,4)\n",
        "i=int(input(\"enter index you to print: \"))\n",
        "print(tp[i])"
      ]
    },
    {
      "cell_type": "markdown",
      "id": "2be5b56b",
      "metadata": {
        "id": "2be5b56b"
      },
      "source": [
        "**48-Write a Python program to unpack a tuple into several variables"
      ]
    },
    {
      "cell_type": "code",
      "execution_count": 44,
      "id": "595f44be",
      "metadata": {
        "id": "595f44be",
        "colab": {
          "base_uri": "https://localhost:8080/"
        },
        "outputId": "19ba5656-4cf5-4cbd-ca29-96cd13c5933a"
      },
      "outputs": [
        {
          "output_type": "stream",
          "name": "stdout",
          "text": [
            "mohamed\n",
            "Ai\n",
            "[95, 86, 100]\n"
          ]
        }
      ],
      "source": [
        "tp=(\"mohamed\",\"Ai\",95,86,100)\n",
        "(name,faculty,*grades)=tp\n",
        "print(name)\n",
        "print(faculty)\n",
        "print(grades)"
      ]
    },
    {
      "cell_type": "markdown",
      "id": "392388a7",
      "metadata": {
        "id": "392388a7"
      },
      "source": [
        "**49-Write a Python program to add an item to a tuple"
      ]
    },
    {
      "cell_type": "code",
      "execution_count": null,
      "id": "54cc092e",
      "metadata": {
        "id": "54cc092e",
        "colab": {
          "base_uri": "https://localhost:8080/"
        },
        "outputId": "ab50d9ce-c748-4a4a-d831-71404a08c00f"
      },
      "outputs": [
        {
          "output_type": "stream",
          "name": "stdout",
          "text": [
            "enter number you want to add to tuple9\n",
            "(5, 3, 6, 8, 1, 9)\n"
          ]
        }
      ],
      "source": [
        "tp=(5,3,6,8,1)\n",
        "num=int(input(\"enter number you want to add to tuple\"))\n",
        "tp=list(tp)\n",
        "tp.append(num)\n",
        "tp=tuple(tp)\n",
        "print(tp)"
      ]
    },
    {
      "cell_type": "markdown",
      "id": "3e8fd124",
      "metadata": {
        "id": "3e8fd124"
      },
      "source": [
        "**50-Write a Python program to convert a tuple to a string"
      ]
    },
    {
      "cell_type": "code",
      "execution_count": null,
      "id": "92a71ddc",
      "metadata": {
        "id": "92a71ddc",
        "colab": {
          "base_uri": "https://localhost:8080/"
        },
        "outputId": "3b82ec82-a093-42f2-c95a-a4b30b2dc9ac"
      },
      "outputs": [
        {
          "output_type": "stream",
          "name": "stdout",
          "text": [
            "abc\n",
            "<class 'str'>\n"
          ]
        }
      ],
      "source": [
        "tp=(\"a\",\"b\",\"c\")\n",
        "mystr=\"\".join(tp)\n",
        "print(mystr)\n",
        "print(type(mystr))"
      ]
    },
    {
      "cell_type": "markdown",
      "id": "f4f64ef4",
      "metadata": {
        "id": "f4f64ef4"
      },
      "source": [
        "**51-Write a Python program to convert a list to a tuple"
      ]
    },
    {
      "cell_type": "code",
      "execution_count": null,
      "id": "210d56d3",
      "metadata": {
        "id": "210d56d3",
        "colab": {
          "base_uri": "https://localhost:8080/"
        },
        "outputId": "b93503bb-f5aa-4fc3-c0af-d49bb03196e6"
      },
      "outputs": [
        {
          "output_type": "stream",
          "name": "stdout",
          "text": [
            "<class 'tuple'>\n"
          ]
        }
      ],
      "source": [
        "lst=[8,6,3,89,2]\n",
        "tp=tuple(lst)\n",
        "print(type(tp))"
      ]
    },
    {
      "cell_type": "markdown",
      "id": "b1e00ef7",
      "metadata": {
        "id": "b1e00ef7"
      },
      "source": [
        "**52-Write a Python program to reverse a tuple"
      ]
    },
    {
      "cell_type": "code",
      "execution_count": null,
      "id": "f45bfdc7",
      "metadata": {
        "id": "f45bfdc7",
        "colab": {
          "base_uri": "https://localhost:8080/"
        },
        "outputId": "9868f044-f9b9-4fbb-ac8a-0600abed6d8f"
      },
      "outputs": [
        {
          "output_type": "stream",
          "name": "stdout",
          "text": [
            "(1, 4, 2, 5)\n"
          ]
        }
      ],
      "source": [
        "tp=(5,2,4,1)\n",
        "tp=tp[::-1]\n",
        "print(tp)"
      ]
    },
    {
      "cell_type": "markdown",
      "id": "3cd347d1",
      "metadata": {
        "id": "3cd347d1"
      },
      "source": [
        "**53-Write a Python program to replace the last value of tuples in a list.\n",
        "Sample list: [(10, 20, 40), (40, 50, 60), (70, 80, 90)]\n",
        "Expected Output: [(10, 20, 100), (40, 50, 100), (70, 80, 100)]"
      ]
    },
    {
      "cell_type": "code",
      "execution_count": null,
      "id": "3c4a2a4c",
      "metadata": {
        "id": "3c4a2a4c",
        "colab": {
          "base_uri": "https://localhost:8080/"
        },
        "outputId": "86496a3e-2657-4e41-a493-3eaf4e3c48d8"
      },
      "outputs": [
        {
          "output_type": "stream",
          "name": "stdout",
          "text": [
            "enter number you want change in last number: 99\n",
            "[(10, 20, 99), (40, 50, 99)]\n"
          ]
        }
      ],
      "source": [
        "lst=[(10, 20, 40), (40, 50, 60)]\n",
        "num=int(input(\"enter number you want change in last number: \"))\n",
        "for i in range(len(lst)):\n",
        "  lst[i]=list(lst[i])\n",
        "for i in range(len(lst)):\n",
        "  lst[i][-1]=num\n",
        "\n",
        "for i in range(len(lst)):\n",
        "  lst[i]=tuple(lst[i])\n",
        "print(lst)"
      ]
    },
    {
      "cell_type": "markdown",
      "id": "76bb7b39",
      "metadata": {
        "id": "76bb7b39"
      },
      "source": [
        "\\**54-Write a Python program to convert a given string list to a tuple\n",
        "Original string: python 3.0\n",
        "<class 'str'>\n",
        "Convert the said string to a tuple:\n",
        "('p', 'y', 't', 'h', 'o', 'n', '3', '.', '0')"
      ]
    },
    {
      "cell_type": "code",
      "execution_count": null,
      "id": "51951937",
      "metadata": {
        "id": "51951937",
        "colab": {
          "base_uri": "https://localhost:8080/"
        },
        "outputId": "2f29cec2-3db5-4f3a-92f7-2bda9b8eeaf2"
      },
      "outputs": [
        {
          "output_type": "stream",
          "name": "stdout",
          "text": [
            "('p', 'y', 't', 'h', 'o', 'n', ' ', '3', '.', '0')\n",
            "<class 'tuple'>\n"
          ]
        }
      ],
      "source": [
        "mystr=\"python 3.0\"\n",
        "mystr=tuple(mystr)\n",
        "print(mystr)\n",
        "print(type(tp))"
      ]
    },
    {
      "cell_type": "markdown",
      "id": "5a1d5d97",
      "metadata": {
        "id": "5a1d5d97"
      },
      "source": [
        "**55-Write a Python program to calculate the average value of the numbers in a given tuple of tuples"
      ]
    },
    {
      "cell_type": "code",
      "execution_count": null,
      "id": "834e7992",
      "metadata": {
        "id": "834e7992",
        "colab": {
          "base_uri": "https://localhost:8080/"
        },
        "outputId": "5bf84d94-98cd-42a5-c452-ea90b1a1bd96"
      },
      "outputs": [
        {
          "output_type": "stream",
          "name": "stdout",
          "text": [
            "the average of tuple (25, 15) is : 20\n",
            "the average of tuple (12, 10, 56) is : 26\n",
            "the average of tuple (24, 12, 9, 41) is : 21.5\n"
          ]
        }
      ],
      "source": [
        "import statistics\n",
        "tp=((25,15),(12,10,56),(24,12,9,41))\n",
        "for i in tp:\n",
        "  print(f\"the average of tuple {i} is :\",statistics.mean(i))"
      ]
    },
    {
      "cell_type": "markdown",
      "id": "51edab9c",
      "metadata": {
        "id": "51edab9c"
      },
      "source": [
        "**56-Write a Python program to add member(s) to a set."
      ]
    },
    {
      "cell_type": "code",
      "execution_count": null,
      "id": "2b65df79",
      "metadata": {
        "id": "2b65df79",
        "colab": {
          "base_uri": "https://localhost:8080/"
        },
        "outputId": "8070ba53-3c25-49f0-c70d-e4a85a5f0637"
      },
      "outputs": [
        {
          "output_type": "stream",
          "name": "stdout",
          "text": [
            "{0, 1, 2, 5, 6, 8, 9}\n"
          ]
        }
      ],
      "source": [
        "st={5,2,6,8,1,0}\n",
        "st.add(9)\n",
        "print(st)"
      ]
    },
    {
      "cell_type": "markdown",
      "id": "965590cc",
      "metadata": {
        "id": "965590cc"
      },
      "source": [
        "**57-Write a Python program to remove an item from a set if it is present in the set."
      ]
    },
    {
      "cell_type": "code",
      "execution_count": null,
      "id": "866bab28",
      "metadata": {
        "id": "866bab28",
        "colab": {
          "base_uri": "https://localhost:8080/"
        },
        "outputId": "d5e5617d-b6f7-48c1-ce25-7fbd44382153"
      },
      "outputs": [
        {
          "output_type": "stream",
          "name": "stdout",
          "text": [
            "{0, 1, 2, 5, 8}\n"
          ]
        }
      ],
      "source": [
        "st={5,2,6,8,1,0}\n",
        "st.discard(6)\n",
        "st.discard(9)\n",
        "print(st)"
      ]
    },
    {
      "cell_type": "markdown",
      "id": "2b7cfed1",
      "metadata": {
        "id": "2b7cfed1"
      },
      "source": [
        "**58-Write a Python program to create an intersection,union,difference and symmetric difference of sets"
      ]
    },
    {
      "cell_type": "code",
      "execution_count": null,
      "id": "7f94b7fe",
      "metadata": {
        "id": "7f94b7fe",
        "colab": {
          "base_uri": "https://localhost:8080/"
        },
        "outputId": "6a21afc0-3ebc-4c92-df59-32525dbd3fd9"
      },
      "outputs": [
        {
          "output_type": "stream",
          "name": "stdout",
          "text": [
            "union:  {1, 2, 3, 4, 5, 6, 7, 8}\n",
            "intersection:  {1, 3}\n",
            "symmetric:  {2, 4, 5, 6, 7, 8}\n"
          ]
        }
      ],
      "source": [
        "set1={1,2,3,4}\n",
        "set2={1,3,5,6,7,8}\n",
        "print(\"union: \",set1|set2)\n",
        "print(\"intersection: \",set1.intersection(set2))\n",
        "print(\"symmetric: \",set1 ^ set2)"
      ]
    },
    {
      "cell_type": "markdown",
      "id": "b94931e2",
      "metadata": {
        "id": "b94931e2"
      },
      "source": [
        "**59-Write a Python program to find the maximum and minimum values in a set"
      ]
    },
    {
      "cell_type": "code",
      "execution_count": null,
      "id": "203f9600",
      "metadata": {
        "id": "203f9600",
        "colab": {
          "base_uri": "https://localhost:8080/"
        },
        "outputId": "d38cbd56-6576-45ad-a6ca-869f42478c7f"
      },
      "outputs": [
        {
          "output_type": "stream",
          "name": "stdout",
          "text": [
            "max:  99\n",
            "min:  3\n"
          ]
        }
      ],
      "source": [
        "st={3,5,88,34,12,99}\n",
        "print(\"max: \",max(st))\n",
        "print(\"min: \",min(st))"
      ]
    },
    {
      "cell_type": "markdown",
      "id": "255fd554",
      "metadata": {
        "id": "255fd554"
      },
      "source": [
        "**60- Write a Python program that finds all pairs of elements in a list whose sum is equal to a given value."
      ]
    },
    {
      "cell_type": "code",
      "execution_count": null,
      "id": "c2d94e1f",
      "metadata": {
        "id": "c2d94e1f",
        "colab": {
          "base_uri": "https://localhost:8080/"
        },
        "outputId": "5afcae81-be12-4686-d96e-cdb5300be39e"
      },
      "outputs": [
        {
          "output_type": "stream",
          "name": "stdout",
          "text": [
            "enter number: 10\n",
            "7 3\n",
            "1 9\n",
            "9 1\n",
            "3 7\n",
            "6 4\n",
            "4 6\n"
          ]
        }
      ],
      "source": [
        "lst=[7,5,1,8,9,3,6,4]\n",
        "lst2=[]\n",
        "num=int(input(\"enter number: \"))\n",
        "for i in range(int(len(lst))):\n",
        "  for j in range(len(lst)):\n",
        "    if i !=j:\n",
        "      if lst[i]+lst[j] == num:\n",
        "        print(lst[i],lst[j])"
      ]
    }
  ],
  "metadata": {
    "kernelspec": {
      "display_name": "Python 3 (ipykernel)",
      "language": "python",
      "name": "python3"
    },
    "language_info": {
      "codemirror_mode": {
        "name": "ipython",
        "version": 3
      },
      "file_extension": ".py",
      "mimetype": "text/x-python",
      "name": "python",
      "nbconvert_exporter": "python",
      "pygments_lexer": "ipython3",
      "version": "3.9.7"
    },
    "colab": {
      "provenance": [],
      "toc_visible": true
    }
  },
  "nbformat": 4,
  "nbformat_minor": 5
}
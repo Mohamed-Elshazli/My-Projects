{
  "cells": [
    {
      "cell_type": "markdown",
      "id": "ff38aad7",
      "metadata": {
        "id": "ff38aad7"
      },
      "source": [
        "### 1-Write a Python program that takes two numbers as user input and performs addition on them."
      ]
    },
    {
      "cell_type": "code",
      "execution_count": null,
      "id": "91696b79",
      "metadata": {
        "id": "91696b79",
        "outputId": "a65f217e-3ecc-4a1f-f194-be9caa16cf7d",
        "colab": {
          "base_uri": "https://localhost:8080/"
        }
      },
      "outputs": [
        {
          "output_type": "stream",
          "name": "stdout",
          "text": [
            "enter number :9\n",
            "enter the second number :7\n",
            "9 + 7 =  16\n"
          ]
        }
      ],
      "source": [
        "num1=int(input(\"enter number :\"))\n",
        "num2=int(input(\"enter the second number :\"))\n",
        "print(f\"{num1} + {num2} = \" ,num1+num2)"
      ]
    },
    {
      "cell_type": "markdown",
      "id": "360854ff",
      "metadata": {
        "id": "360854ff"
      },
      "source": [
        "### 2-Write a Python program that takes an integer as input and checks if it is even or odd. Print \"Even\" if the number is divisible by 2, otherwise print \"Odd\"."
      ]
    },
    {
      "cell_type": "code",
      "execution_count": null,
      "id": "ee4c35fe",
      "metadata": {
        "ExecuteTime": {
          "end_time": "2023-07-23T21:35:24.351946Z",
          "start_time": "2023-07-23T21:35:23.287212Z"
        },
        "id": "ee4c35fe",
        "outputId": "d910c159-1331-4087-b44d-3cceeb5982e1",
        "colab": {
          "base_uri": "https://localhost:8080/"
        }
      },
      "outputs": [
        {
          "output_type": "stream",
          "name": "stdout",
          "text": [
            "enter number : 10\n",
            "Even\n"
          ]
        }
      ],
      "source": [
        "num=int(input(\"enter number : \"))\n",
        "if num % 2==0:\n",
        "  print(\"Even\")\n",
        "else:\n",
        "  print(\"Odd\")"
      ]
    },
    {
      "cell_type": "code",
      "execution_count": null,
      "id": "24616afc",
      "metadata": {
        "id": "24616afc"
      },
      "outputs": [],
      "source": []
    },
    {
      "cell_type": "markdown",
      "id": "6ea0354c",
      "metadata": {
        "id": "6ea0354c"
      },
      "source": [
        "### 3-Write a Python program that prints all the even numbers from 1 to 20 using a for loop"
      ]
    },
    {
      "cell_type": "code",
      "execution_count": null,
      "id": "df43b7f5",
      "metadata": {
        "ExecuteTime": {
          "end_time": "2023-07-23T21:36:51.373589Z",
          "start_time": "2023-07-23T21:36:51.365580Z"
        },
        "id": "df43b7f5",
        "outputId": "aa5f2152-7caa-4a69-9ebf-b3b4cc4f2a96",
        "colab": {
          "base_uri": "https://localhost:8080/"
        }
      },
      "outputs": [
        {
          "output_type": "stream",
          "name": "stdout",
          "text": [
            "2\n",
            "4\n",
            "6\n",
            "8\n",
            "10\n",
            "12\n",
            "14\n",
            "16\n",
            "18\n",
            "20\n"
          ]
        }
      ],
      "source": [
        "for num in range(1,21):\n",
        "  if num % 2 == 0:\n",
        "    print(num)"
      ]
    },
    {
      "cell_type": "code",
      "execution_count": null,
      "id": "cc16a5c2",
      "metadata": {
        "ExecuteTime": {
          "end_time": "2023-07-23T22:04:21.481350Z",
          "start_time": "2023-07-23T22:04:21.452242Z"
        },
        "id": "cc16a5c2"
      },
      "outputs": [],
      "source": []
    },
    {
      "cell_type": "code",
      "execution_count": null,
      "id": "7b7ee5e8",
      "metadata": {
        "id": "7b7ee5e8"
      },
      "outputs": [],
      "source": []
    },
    {
      "cell_type": "markdown",
      "id": "2d66bab2",
      "metadata": {
        "id": "2d66bab2"
      },
      "source": [
        "### 4-Write a Python function that takes a string as input and counts the number of vowels (a, e, i, o, u) in the string. The function should return the count"
      ]
    },
    {
      "cell_type": "code",
      "execution_count": null,
      "id": "a37a84fd",
      "metadata": {
        "ExecuteTime": {
          "end_time": "2023-07-23T21:45:58.522044Z",
          "start_time": "2023-07-23T21:45:58.514370Z"
        },
        "id": "a37a84fd"
      },
      "outputs": [],
      "source": [
        "def vowels_count(word):\n",
        "  word_lower=word.lower()\n",
        "  count=0\n",
        "  for ch in word_lower:\n",
        "    if ch ==\"a\" or ch== \"e\" or ch==\"i\"or ch==\"o\" or ch==\"u\":\n",
        "      count+=1\n",
        "  return count"
      ]
    },
    {
      "cell_type": "code",
      "execution_count": null,
      "id": "2eb8e4de",
      "metadata": {
        "ExecuteTime": {
          "end_time": "2023-07-23T23:56:27.324204Z",
          "start_time": "2023-07-23T23:56:26.972092Z"
        },
        "id": "2eb8e4de",
        "outputId": "c4b1d99d-a501-4ac8-edc7-f61aa3e20c07",
        "colab": {
          "base_uri": "https://localhost:8080/"
        }
      },
      "outputs": [
        {
          "output_type": "stream",
          "name": "stdout",
          "text": [
            "2\n"
          ]
        }
      ],
      "source": [
        "print(vowels_count(\"Ahmed\"))"
      ]
    },
    {
      "cell_type": "code",
      "execution_count": null,
      "id": "24105679",
      "metadata": {
        "ExecuteTime": {
          "end_time": "2023-07-23T21:43:41.353283Z",
          "start_time": "2023-07-23T21:43:41.332496Z"
        },
        "id": "24105679",
        "outputId": "4d828633-a555-494c-8acd-08a7e417f188",
        "colab": {
          "base_uri": "https://localhost:8080/"
        }
      },
      "outputs": [
        {
          "output_type": "stream",
          "name": "stdout",
          "text": [
            "3\n"
          ]
        }
      ],
      "source": [
        "print(vowels_count(\"mOhamed\"))"
      ]
    },
    {
      "cell_type": "markdown",
      "id": "a9a0ea06",
      "metadata": {
        "id": "a9a0ea06"
      },
      "source": [
        "### 5-Write a Python program that creates a list of numbers from 1 to 10. Use a loop to iterate over the list and print each number of power 2."
      ]
    },
    {
      "cell_type": "code",
      "execution_count": null,
      "id": "6fa658cf",
      "metadata": {
        "ExecuteTime": {
          "end_time": "2023-07-23T21:48:02.328880Z",
          "start_time": "2023-07-23T21:48:02.314313Z"
        },
        "id": "6fa658cf",
        "outputId": "4f8241a2-1a15-48b3-e43f-1d682193ae99",
        "colab": {
          "base_uri": "https://localhost:8080/"
        }
      },
      "outputs": [
        {
          "output_type": "stream",
          "name": "stdout",
          "text": [
            "1\n",
            "4\n",
            "9\n",
            "16\n",
            "25\n",
            "36\n",
            "49\n",
            "64\n",
            "81\n",
            "100\n"
          ]
        }
      ],
      "source": [
        "lst=[1,2,3,4,5,6,7,8,9,10]\n",
        "for i in range(10):\n",
        "  print(lst[i]**2)"
      ]
    },
    {
      "cell_type": "code",
      "execution_count": null,
      "id": "f0e52d30",
      "metadata": {
        "ExecuteTime": {
          "end_time": "2023-07-15T16:20:03.747408Z",
          "start_time": "2023-07-15T16:20:03.740547Z"
        },
        "id": "f0e52d30"
      },
      "outputs": [],
      "source": []
    },
    {
      "cell_type": "markdown",
      "id": "430c9df9",
      "metadata": {
        "id": "430c9df9"
      },
      "source": [
        "### 6-Write a Python program that calculates the average grade for a student based on their scores in different subjects. The program should include the following steps:\n",
        "\n",
        "#### 1-Create variables to store the student's name, subject names, and corresponding scores. Initialize the variables with sample data.\n",
        "\n",
        "#### 2-Prompt the user to enter the student's name and assign it to the name variable.\n",
        "\n",
        "#### 3-Use a loop to prompt the user to enter the subject names and corresponding scores. Store the subject names in a list and the scores in another list.\n",
        "\n",
        "#### 4-After collecting the scores, calculate the average grade by summing up all the scores and dividing by the total number of subjects.\n",
        "\n",
        "#### 5-Check if the average grade is above a 70, print a congratulatory message. Otherwise, print an encouragement message."
      ]
    },
    {
      "cell_type": "code",
      "execution_count": null,
      "id": "e0254271",
      "metadata": {
        "ExecuteTime": {
          "end_time": "2023-07-15T16:16:17.066909Z",
          "start_time": "2023-07-15T16:16:07.636799Z"
        },
        "id": "e0254271"
      },
      "outputs": [],
      "source": [
        "class Student:\n",
        "  def __init__(self):\n",
        "    self.name=\"\"\n",
        "    self.subject_name=[]\n",
        "    self.subject_score=[]\n",
        "  def setName(self,name):\n",
        "    self.name=name\n",
        "  def setSubjectName(self,subject_name):\n",
        "    self.subject_name.append(subject_name)\n",
        "  def setSubjectScore(self,subject_score):\n",
        "    self.subject_score.append(subject_score)\n",
        "  def average_grade(self):\n",
        "     return sum(self.subject_score)/len(self.subject_score)\n",
        "\n"
      ]
    },
    {
      "cell_type": "code",
      "execution_count": null,
      "id": "37b3ff97",
      "metadata": {
        "ExecuteTime": {
          "end_time": "2023-07-23T21:56:24.493717Z",
          "start_time": "2023-07-23T21:56:17.227071Z"
        },
        "id": "37b3ff97",
        "colab": {
          "base_uri": "https://localhost:8080/"
        },
        "outputId": "3156d602-936c-486e-a67a-a265197539d1"
      },
      "outputs": [
        {
          "output_type": "stream",
          "name": "stdout",
          "text": [
            "enter your name :mohamed\n",
            "enter subject name: cs\n",
            "enter subject score: 83\n",
            "enter subject name: math1\n",
            "enter subject score: 87\n",
            "enter subject name: logic\n",
            "enter subject score: 91\n",
            "enter subject name: ecnomics\n",
            "enter subject score: 86\n",
            "enter subject name: ds\n",
            "enter subject score: 71\n",
            "congratulations you work hard!!\n"
          ]
        }
      ],
      "source": [
        "\n",
        "student=Student()\n",
        "name=input(\"enter your name :\")\n",
        "student.setName(name)\n",
        "for i in range(5):\n",
        "  subject_name=input(\"enter subject name: \")\n",
        "  student.setSubjectName(subject_name)\n",
        "  subject_score=int(input(\"enter subject score: \"))\n",
        "  student.setSubjectScore(subject_score)\n",
        "if(student.average_grade()>70):\n",
        "  print(f\"congratulations you work hard!!\")\n",
        "else:\n",
        "  print(f\"you will do better next time\")\n"
      ]
    },
    {
      "cell_type": "markdown",
      "id": "ae9df360",
      "metadata": {
        "id": "ae9df360"
      },
      "source": [
        "### 7-Find Common Elements\n",
        "### Write a Python function that takes two lists as input and returns a new list containing the common elements present in both lists."
      ]
    },
    {
      "cell_type": "code",
      "execution_count": null,
      "id": "d030c3c0",
      "metadata": {
        "ExecuteTime": {
          "end_time": "2023-07-23T22:08:16.794474Z",
          "start_time": "2023-07-23T22:08:16.775639Z"
        },
        "id": "d030c3c0"
      },
      "outputs": [],
      "source": [
        "def common_element(lst1,lst2):\n",
        "  common=[]\n",
        "  for i in range (len(lst1)):\n",
        "    if lst1[i] in lst2:\n",
        "      common.append(lst1[i])\n",
        "  return common"
      ]
    },
    {
      "cell_type": "code",
      "execution_count": null,
      "id": "371369cd",
      "metadata": {
        "ExecuteTime": {
          "end_time": "2023-07-23T23:56:27.326200Z",
          "start_time": "2023-07-23T23:56:27.326200Z"
        },
        "id": "371369cd",
        "outputId": "a31ad1c3-449e-483f-e985-1d9fe51386d5",
        "colab": {
          "base_uri": "https://localhost:8080/"
        }
      },
      "outputs": [
        {
          "output_type": "stream",
          "name": "stdout",
          "text": [
            "[4, 5]\n"
          ]
        }
      ],
      "source": [
        "lst1=[1,2,4,5,6]\n",
        "lst2=[4,5,10,12]\n",
        "print(common_element(lst1,lst2))"
      ]
    },
    {
      "cell_type": "markdown",
      "id": "9a2f34cb",
      "metadata": {
        "id": "9a2f34cb"
      },
      "source": [
        "### 8-Write a Python function that takes a list of numbers and an element to remove from the list."
      ]
    },
    {
      "cell_type": "code",
      "execution_count": null,
      "id": "78de9fe8",
      "metadata": {
        "ExecuteTime": {
          "end_time": "2023-07-23T22:21:36.514592Z",
          "start_time": "2023-07-23T22:21:36.505437Z"
        },
        "id": "78de9fe8"
      },
      "outputs": [],
      "source": [
        "def remove(lst,element):\n",
        "  if element in lst:\n",
        "    lst.remove(element)\n",
        "  else :\n",
        "    print(\"this element is not in the lst\")\n"
      ]
    },
    {
      "cell_type": "code",
      "execution_count": null,
      "id": "d80aa813",
      "metadata": {
        "ExecuteTime": {
          "end_time": "2023-07-23T22:21:37.220121Z",
          "start_time": "2023-07-23T22:21:37.215586Z"
        },
        "id": "d80aa813",
        "outputId": "10d0363f-c411-43af-f115-d091f86f17b1",
        "colab": {
          "base_uri": "https://localhost:8080/"
        }
      },
      "outputs": [
        {
          "output_type": "stream",
          "name": "stdout",
          "text": [
            "[10, 30, 90]\n"
          ]
        }
      ],
      "source": [
        "lst=[10,20,30,90]\n",
        "remove(lst,20)\n",
        "print(lst)"
      ]
    },
    {
      "cell_type": "code",
      "execution_count": null,
      "id": "3feaf264",
      "metadata": {
        "ExecuteTime": {
          "end_time": "2023-07-23T22:21:38.480436Z",
          "start_time": "2023-07-23T22:21:38.464574Z"
        },
        "id": "3feaf264",
        "outputId": "5294aaf0-79c7-4809-b314-69dfb1e1f4d9",
        "colab": {
          "base_uri": "https://localhost:8080/"
        }
      },
      "outputs": [
        {
          "output_type": "stream",
          "name": "stdout",
          "text": [
            "this element is not in the lst\n",
            "[10, 20, 30, 90]\n"
          ]
        }
      ],
      "source": [
        "lst=[10,20,30,90]\n",
        "remove(lst,100)\n",
        "print(lst)"
      ]
    },
    {
      "cell_type": "markdown",
      "id": "f1658f3b",
      "metadata": {
        "ExecuteTime": {
          "end_time": "2023-07-23T22:18:08.230185Z",
          "start_time": "2023-07-23T22:18:08.224220Z"
        },
        "id": "f1658f3b"
      },
      "source": [
        "### 9-Given 4 numbers A, B, C and D. Print the last 2 digits from their Multiplication.\n",
        "### Example :\n",
        "### the Multiplication of 4 numbers is 5 * 7 * 2 * 4 = 280 so the answer will be the last 2 digits which are 80."
      ]
    },
    {
      "cell_type": "code",
      "execution_count": 32,
      "id": "e3acbe03",
      "metadata": {
        "ExecuteTime": {
          "end_time": "2023-07-23T22:26:11.183016Z",
          "start_time": "2023-07-23T22:26:03.981069Z"
        },
        "id": "e3acbe03",
        "colab": {
          "base_uri": "https://localhost:8080/"
        },
        "outputId": "7b8579f3-d2c3-4c32-be70-d53f14bd3e9a"
      },
      "outputs": [
        {
          "output_type": "stream",
          "name": "stdout",
          "text": [
            "enter number: 6\n",
            "enter number: 8\n",
            "enter number: 2\n",
            "enter number: 5\n",
            "80\n"
          ]
        }
      ],
      "source": [
        "a=int(input(\"enter number: \"))\n",
        "b=int(input(\"enter number: \"))\n",
        "c=int(input(\"enter number: \"))\n",
        "d=int(input(\"enter number: \"))\n",
        "multiply=a*b*c*d\n",
        "multiply=str(multiply)\n",
        "print(multiply[-2:])"
      ]
    },
    {
      "cell_type": "markdown",
      "id": "d7ab15bb",
      "metadata": {
        "ExecuteTime": {
          "end_time": "2023-07-23T22:26:14.833712Z",
          "start_time": "2023-07-23T22:26:14.819130Z"
        },
        "id": "d7ab15bb"
      },
      "source": [
        "38### 10- Given a number X. Determine if the number is prime or not"
      ]
    },
    {
      "cell_type": "code",
      "execution_count": null,
      "id": "59b27f0a",
      "metadata": {
        "ExecuteTime": {
          "end_time": "2023-07-23T22:35:25.933766Z",
          "start_time": "2023-07-23T22:35:24.168681Z"
        },
        "id": "59b27f0a",
        "colab": {
          "base_uri": "https://localhost:8080/"
        },
        "outputId": "194c813e-6c5c-4ce0-d47c-265d5e38b444"
      },
      "outputs": [
        {
          "output_type": "stream",
          "name": "stdout",
          "text": [
            "enter number: 11\n",
            "prime\n"
          ]
        }
      ],
      "source": [
        "x=int(input(\"enter number: \"))\n",
        "for i in range (2,int(x**(1/2))):\n",
        "  if(x % i == 0):\n",
        "    print(\"not prime\")\n",
        "    break\n",
        "  elif (i == int(x**(1/2)-1)):\n",
        "    print(\"prime\")"
      ]
    },
    {
      "cell_type": "code",
      "execution_count": null,
      "id": "03f6ff0e",
      "metadata": {
        "id": "03f6ff0e"
      },
      "outputs": [],
      "source": []
    },
    {
      "cell_type": "markdown",
      "id": "e1d1dcf9",
      "metadata": {
        "id": "e1d1dcf9"
      },
      "source": [
        "### 11- Given a number N and a list A of N numbers. Determine if the number X exists in array A or not and print its position (0-index)."
      ]
    },
    {
      "cell_type": "code",
      "execution_count": null,
      "id": "2b002b0e",
      "metadata": {
        "ExecuteTime": {
          "end_time": "2023-07-23T22:53:41.474835Z",
          "start_time": "2023-07-23T22:53:41.458293Z"
        },
        "id": "2b002b0e",
        "colab": {
          "base_uri": "https://localhost:8080/"
        },
        "outputId": "3973804d-1f9a-4962-e0eb-0e1009a7c082"
      },
      "outputs": [
        {
          "output_type": "stream",
          "name": "stdout",
          "text": [
            "enter the size of array: 5\n",
            "enter number: 4\n",
            "enter number: 7\n",
            "enter number: 1\n",
            "enter number: 9\n",
            "enter number: 3\n",
            "enter the number you want to check : 1\n",
            "the number is exist in the list in index 2\n"
          ]
        }
      ],
      "source": [
        "n=int(input(\"enter the size of array: \"))\n",
        "lst=[]\n",
        "for i in range(n):\n",
        "  num=int(input(\"enter number: \"))\n",
        "  lst.append(num)\n",
        "x=int(input(\"enter the number you want to check : \"))\n",
        "if x in lst:\n",
        "  print (f\"the number is exist in the list in index {lst.index(x)}\")\n",
        "else:\n",
        "  print(f\"the number is not in the lst\")\n"
      ]
    },
    {
      "cell_type": "markdown",
      "id": "f2ec854b",
      "metadata": {
        "id": "f2ec854b"
      },
      "source": [
        "### 12- Given a number N and a list A of N numbers. Determine if the array is lucky or not.\n",
        "\n",
        "#### Note: the array is lucky if the frequency (number of occurrence) of the minimum element is odd."
      ]
    },
    {
      "cell_type": "code",
      "execution_count": 34,
      "id": "0c4f7f4b",
      "metadata": {
        "ExecuteTime": {
          "end_time": "2023-07-23T23:02:02.490192Z",
          "start_time": "2023-07-23T23:02:02.476874Z"
        },
        "id": "0c4f7f4b",
        "colab": {
          "base_uri": "https://localhost:8080/"
        },
        "outputId": "9083feb0-7af5-4961-e274-7be588fe3bc9"
      },
      "outputs": [
        {
          "output_type": "stream",
          "name": "stdout",
          "text": [
            "enter size of array: 5\n",
            "enter number :3\n",
            "enter number :7\n",
            "enter number :8\n",
            "enter number :3\n",
            "enter number :3\n",
            "its lucky array\n"
          ]
        }
      ],
      "source": [
        "n=int(input(\"enter size of array: \"))\n",
        "lst=[]\n",
        "for i in range(n):\n",
        "  num=int(input(\"enter number :\"))\n",
        "  lst.append(num)\n",
        "minimum_val=lst[0]\n",
        "for i in lst:\n",
        "  if (i<min):\n",
        "    min=i\n",
        "lucky=0\n",
        "for i in lst:\n",
        "  if i == minimum_val:\n",
        "    lucky+=1\n",
        "if lucky%2!=0:\n",
        "  print(\"its lucky array\")\n",
        "else:\n",
        "  print(\"its not lucky array\")"
      ]
    },
    {
      "cell_type": "markdown",
      "id": "e1ce1ae5",
      "metadata": {
        "id": "e1ce1ae5"
      },
      "source": [
        "### 13-Given a number N and a list A of N numbers. Print the array after doing the following operations:\n",
        "\n",
        "#### Find minimum number in these numbers.\n",
        "#### Find maximum number in these numbers.\n",
        "##### Swap minimum number with maximum number."
      ]
    },
    {
      "cell_type": "code",
      "execution_count": null,
      "id": "e0d6e639",
      "metadata": {
        "ExecuteTime": {
          "end_time": "2023-07-23T23:10:04.293733Z",
          "start_time": "2023-07-23T23:10:04.280256Z"
        },
        "id": "e0d6e639",
        "colab": {
          "base_uri": "https://localhost:8080/"
        },
        "outputId": "66ee09ca-3788-4a66-f4de-476818c8767a"
      },
      "outputs": [
        {
          "output_type": "stream",
          "name": "stdout",
          "text": [
            "enter the size of list5\n",
            "enter number: 8\n",
            "enter number: 1\n",
            "enter number: 4\n",
            "enter number: 9\n",
            "enter number: 3\n",
            "the max in the list is : 9\n",
            "the max in the list is : 1\n",
            "lst after swap max and minimum:  [8, 9, 4, 1, 3]\n"
          ]
        }
      ],
      "source": [
        "n=int(input(\"enter the size of list\"))\n",
        "lst=[]\n",
        "for i in range (n):\n",
        "  n2=int(input(\"enter number: \"))\n",
        "  lst.append(n2)\n",
        "min =lst[0]\n",
        "max=lst[0]\n",
        "min_ind =0\n",
        "max_ind=0\n",
        "for i in range(n):\n",
        "  if(min>lst[i]):\n",
        "    min=lst[i]\n",
        "    min_ind=i\n",
        "  elif(max<lst[i]):\n",
        "    max=lst[i]\n",
        "    max_ind=i\n",
        "print(\"the max in the list is :\",max)\n",
        "print(\"the max in the list is :\",min)\n",
        "lst[min_ind]=max\n",
        "lst[max_ind]=min\n",
        "print(\"lst after swap max and minimum: \",lst)"
      ]
    },
    {
      "cell_type": "code",
      "execution_count": null,
      "id": "20165184",
      "metadata": {
        "ExecuteTime": {
          "end_time": "2023-07-23T23:10:04.651957Z",
          "start_time": "2023-07-23T23:10:04.648955Z"
        },
        "id": "20165184"
      },
      "outputs": [],
      "source": []
    },
    {
      "cell_type": "code",
      "execution_count": null,
      "id": "4e5ac998",
      "metadata": {
        "ExecuteTime": {
          "end_time": "2023-07-23T23:56:27.327202Z",
          "start_time": "2023-07-23T23:56:27.327202Z"
        },
        "id": "4e5ac998"
      },
      "outputs": [],
      "source": []
    },
    {
      "cell_type": "markdown",
      "id": "9eb8e9c5",
      "metadata": {
        "ExecuteTime": {
          "end_time": "2023-07-23T23:10:06.436833Z",
          "start_time": "2023-07-23T23:10:06.422086Z"
        },
        "id": "9eb8e9c5"
      },
      "source": [
        "### 14-Given a number N and an array A of N numbers. Print the lowest number and its position.\n",
        "\n",
        "### Note: if there are more than one answer print first one's position."
      ]
    },
    {
      "cell_type": "code",
      "execution_count": null,
      "id": "018e01c8",
      "metadata": {
        "ExecuteTime": {
          "end_time": "2023-07-23T23:20:38.498527Z",
          "start_time": "2023-07-23T23:20:38.490451Z"
        },
        "id": "018e01c8",
        "colab": {
          "base_uri": "https://localhost:8080/"
        },
        "outputId": "6ab94fac-0e04-4847-bd49-58aec464c60b"
      },
      "outputs": [
        {
          "output_type": "stream",
          "name": "stdout",
          "text": [
            "the min number is 1\n",
            "its in index number 1\n"
          ]
        }
      ],
      "source": [
        "lst=[5,1,8,20,1,3]\n",
        "min =lst[0]\n",
        "for i in range(len(lst)):\n",
        "  if(min>lst[i]):\n",
        "    min=lst[i]\n",
        "    index=i\n",
        "print(f\"the min number is {min}\")\n",
        "print(f\"its in index number {index}\")"
      ]
    },
    {
      "cell_type": "code",
      "execution_count": null,
      "id": "477554c7",
      "metadata": {
        "ExecuteTime": {
          "end_time": "2023-07-23T23:20:55.126958Z",
          "start_time": "2023-07-23T23:20:55.120450Z"
        },
        "id": "477554c7"
      },
      "outputs": [],
      "source": []
    },
    {
      "cell_type": "code",
      "execution_count": null,
      "id": "27e032e4",
      "metadata": {
        "ExecuteTime": {
          "end_time": "2023-07-23T23:20:55.425024Z",
          "start_time": "2023-07-23T23:20:55.407711Z"
        },
        "id": "27e032e4"
      },
      "outputs": [],
      "source": []
    },
    {
      "cell_type": "markdown",
      "id": "f35d3427",
      "metadata": {
        "ExecuteTime": {
          "end_time": "2023-07-23T23:20:55.880128Z",
          "start_time": "2023-07-23T23:20:55.861804Z"
        },
        "id": "f35d3427"
      },
      "source": [
        "### 15-Given a number N and an array A of N numbers. Print the numbers after sorting them"
      ]
    },
    {
      "cell_type": "code",
      "execution_count": null,
      "id": "a6e0edd4",
      "metadata": {
        "ExecuteTime": {
          "end_time": "2023-07-23T23:46:13.340484Z",
          "start_time": "2023-07-23T23:46:13.324468Z"
        },
        "id": "a6e0edd4",
        "colab": {
          "base_uri": "https://localhost:8080/"
        },
        "outputId": "5f6ee3bc-43aa-43f0-85b5-2eb3acb78418"
      },
      "outputs": [
        {
          "name": "stdout",
          "output_type": "stream",
          "text": [
            "enter size of array: 6\n",
            "enter number: 20\n",
            "enter number: 15\n",
            "enter number: 7\n",
            "enter number: 33\n",
            "enter number: 37\n",
            "enter number: 25\n"
          ]
        },
        {
          "output_type": "execute_result",
          "data": {
            "text/plain": [
              "[7, 15, 20, 25, 33, 37]"
            ]
          },
          "metadata": {},
          "execution_count": 18
        }
      ],
      "source": [
        "n=int(input(\"enter size of array: \"))\n",
        "lst=[]\n",
        "for i in range(n):\n",
        "  num=int(input(\"enter number: \"))\n",
        "  lst.append(num)\n",
        "lst.sort()\n",
        "lst"
      ]
    },
    {
      "cell_type": "markdown",
      "id": "a172f354",
      "metadata": {
        "ExecuteTime": {
          "end_time": "2023-07-23T23:46:15.127981Z",
          "start_time": "2023-07-23T23:46:15.108766Z"
        },
        "id": "a172f354"
      },
      "source": [
        "### 16- Write a Python program to remove spaces from a given string"
      ]
    },
    {
      "cell_type": "code",
      "execution_count": null,
      "id": "36d3569d",
      "metadata": {
        "ExecuteTime": {
          "end_time": "2023-07-23T23:50:06.443640Z",
          "start_time": "2023-07-23T23:50:01.592919Z"
        },
        "id": "36d3569d",
        "colab": {
          "base_uri": "https://localhost:8080/",
          "height": 35
        },
        "outputId": "75dc83ea-55bb-43ec-de41-87a60db92350"
      },
      "outputs": [
        {
          "output_type": "execute_result",
          "data": {
            "text/plain": [
              "'mohamed'"
            ],
            "application/vnd.google.colaboratory.intrinsic+json": {
              "type": "string"
            }
          },
          "metadata": {},
          "execution_count": 5
        }
      ],
      "source": [
        "string =(\"m o ha me        d\")\n",
        "string.replace(\" \",\"\")"
      ]
    },
    {
      "cell_type": "markdown",
      "id": "a5470d49",
      "metadata": {
        "id": "a5470d49"
      },
      "source": [
        "### 17-write a Python program to swap first and last element of any list."
      ]
    },
    {
      "cell_type": "code",
      "execution_count": null,
      "id": "9d73887b",
      "metadata": {
        "ExecuteTime": {
          "end_time": "2023-07-23T23:50:59.283429Z",
          "start_time": "2023-07-23T23:50:59.272096Z"
        },
        "id": "9d73887b",
        "colab": {
          "base_uri": "https://localhost:8080/"
        },
        "outputId": "7254c6cc-f88e-4c9b-c829-74433134cd41"
      },
      "outputs": [
        {
          "output_type": "stream",
          "name": "stdout",
          "text": [
            "c 3\n"
          ]
        }
      ],
      "source": [
        "lst=[3,None,\"mohamed\",8,\"c\"]\n",
        "lst[0],lst[-1]=lst[-1],lst[0]\n",
        "print(lst[0],lst[-1])"
      ]
    },
    {
      "cell_type": "markdown",
      "source": [
        "# **Write a Python Program to Find HCF.**\n",
        "## Highest Common Factor(HCF): HCF, or Highest Common Factor, is the largest positive integer that divides two or more numbers without leaving a remainder. Formula: For two numbers a and b, the HCF can be found using the formula:\n",
        "\n",
        "** HCF(𝑎, 𝑏) = GCD(𝑎, 𝑏)**\n",
        "For more than two numbers, you can find the HCF by taking the GCD of pairs of numbers at a time until you reach the last pair.\n",
        "\n",
        "# **Note: GCD stands for Greatest Common Divisor, use function.**\n"
      ],
      "metadata": {
        "id": "iS6JiE4uPbyH"
      },
      "id": "iS6JiE4uPbyH"
    },
    {
      "cell_type": "code",
      "source": [
        "def GCD(a,b):\n",
        "  if a>b:\n",
        "    for i in range(2,a):\n",
        "      if a %i==0 and b%i==0:\n",
        "        gcd=i\n",
        "    return gcd\n",
        "  else :\n",
        "    for i in range(2,b):\n",
        "      if a %i==0 and b%i==0:\n",
        "        gcd=i\n",
        "    return gcd\n",
        "\n"
      ],
      "metadata": {
        "id": "9qUfYf0wPnvt"
      },
      "id": "9qUfYf0wPnvt",
      "execution_count": 40,
      "outputs": []
    },
    {
      "cell_type": "code",
      "source": [
        "GCD(20,15)"
      ],
      "metadata": {
        "id": "z_H0XSJnPeMw",
        "colab": {
          "base_uri": "https://localhost:8080/"
        },
        "outputId": "91a3ccf4-8162-4f13-b35c-ffd5025aa456"
      },
      "id": "z_H0XSJnPeMw",
      "execution_count": 42,
      "outputs": [
        {
          "output_type": "execute_result",
          "data": {
            "text/plain": [
              "5"
            ]
          },
          "metadata": {},
          "execution_count": 42
        }
      ]
    },
    {
      "cell_type": "code",
      "source": [],
      "metadata": {
        "id": "pWdp1rtpGH-S"
      },
      "id": "pWdp1rtpGH-S",
      "execution_count": null,
      "outputs": []
    }
  ],
  "metadata": {
    "kernelspec": {
      "display_name": "Python 3 (ipykernel)",
      "language": "python",
      "name": "python3"
    },
    "language_info": {
      "codemirror_mode": {
        "name": "ipython",
        "version": 3
      },
      "file_extension": ".py",
      "mimetype": "text/x-python",
      "name": "python",
      "nbconvert_exporter": "python",
      "pygments_lexer": "ipython3",
      "version": "3.9.12"
    },
    "colab": {
      "provenance": []
    }
  },
  "nbformat": 4,
  "nbformat_minor": 5
}
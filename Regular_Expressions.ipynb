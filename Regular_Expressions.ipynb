{
  "cells": [
    {
      "cell_type": "markdown",
      "metadata": {
        "id": "OECbPo8X5u45"
      },
      "source": [
        "### Regular Expression"
      ]
    },
    {
      "cell_type": "markdown",
      "metadata": {
        "ExecuteTime": {
          "end_time": "2021-08-09T16:49:45.841098Z",
          "start_time": "2021-08-09T16:49:45.834116Z"
        },
        "id": "sXQHtlpG5u48"
      },
      "source": [
        "AI :  <br>\n",
        "- 80% Data <br>\n",
        "- 20% Model (Actual AI) <br>\n",
        "\n",
        "80% Data:\n",
        "   - 90% : Data Cleaning, Filtering\n",
        "   - 10% : Apply Data Analysis Algorithms (i.e. Understand Data )"
      ]
    },
    {
      "cell_type": "markdown",
      "metadata": {
        "id": "zWO_wLy85u48"
      },
      "source": [
        "**Why do we need data cleaning?** <br>\n",
        "\n",
        "31/3/1998 <br>\n",
        "31/03/1998 <br>\n",
        "03/31/1998 <br>\n",
        "31.3.1998 <br>\n",
        "3131998 <br>\n",
        "31st Mar. 1998 <br>"
      ]
    },
    {
      "cell_type": "code",
      "execution_count": null,
      "metadata": {
        "ExecuteTime": {
          "end_time": "2025-02-05T16:45:02.635262Z",
          "start_time": "2025-02-05T16:45:02.624837Z"
        },
        "id": "5xBNfFji5u48"
      },
      "outputs": [],
      "source": [
        "# Regular Expressions (Advanced String manipulation )"
      ]
    },
    {
      "cell_type": "code",
      "execution_count": 2,
      "metadata": {
        "ExecuteTime": {
          "end_time": "2025-05-09T07:52:38.125947Z",
          "start_time": "2025-05-09T07:52:38.119136Z"
        },
        "id": "F7riC5T35u49"
      },
      "outputs": [],
      "source": [
        "import re # ( Regular expression )"
      ]
    },
    {
      "cell_type": "code",
      "execution_count": 11,
      "metadata": {
        "ExecuteTime": {
          "end_time": "2025-05-09T07:52:38.455226Z",
          "start_time": "2025-05-09T07:52:38.445842Z"
        },
        "id": "fVR1feND5u49"
      },
      "outputs": [],
      "source": [
        "mytext = '''abcdefghijklmnopqurtuvwxyz\n",
        "ABCDEFGHIJKLMNOPQRSTUVWXYZ\n",
        "123456789010\n",
        "Ha HaHa\n",
        "MetaCharacters (Need to be escaped):\n",
        ". ^ _ $ * + ? { } [ ] \\ | ( )\n",
        "abc\n",
        "c.t\n",
        "cat\n",
        "mat\n",
        "hat\n",
        "bat\n",
        "fat\n",
        "sat\n",
        "01092329340\n",
        "01123234355\n",
        "01023455411\n",
        "01234567875\n",
        "01534567456\n",
        "01134567856\n",
        "Ahmed-com\n",
        "321-555-4321\n",
        "123.555.1234\n",
        "123*555*1234\n",
        "123*555-1234\n",
        "123-555*1234\n",
        "800-555-1234\n",
        "900-555-1234\n",
        "100a121C4543\n",
        "Mr. Schafer\n",
        "Mr Smith\n",
        "Ms Davis\n",
        "Mrs. Robinson\n",
        "Mr. T\n",
        "Mr.\n",
        "'''\n",
        "\n",
        "sentence = 'my name is Ahmed'"
      ]
    },
    {
      "cell_type": "markdown",
      "metadata": {
        "id": "JPtOFqaZ5u4-"
      },
      "source": [
        "### Rules:\n",
        "\n",
        ".       - Any Character Except New Line <br>\n",
        "\\d      - Digit (0-9)<br>\n",
        "\\D      - Not a Digit (0-9)<br>\n",
        "\\w      - Word Character (a-z, A-Z, 0-9, _) <br>\n",
        "\\W      - Not a Word Character<br>\n",
        "\\s      - Whitespace (space, tab, newline) <br>\n",
        "\\S      - Not Whitespace (space, tab, newline)<br>\n",
        "\n",
        "\\b      - Word Boundary <br>\n",
        "\\B      - Not a Word Boundary <br>\n",
        "^       - Beginning of a String <br>\n",
        "$       - End of a String <br>\n",
        "\n",
        "[]      - Matches Characters in brackets <br>\n",
        "[^ ]    - Matches Characters NOT in brackets <br>\n",
        "|       - Either Or <br>\n",
        "( )     - Group <br>\n",
        "\n",
        "Quantifiers:\n",
        "<br>\n",
        " {*}       - 0 or More <br>\n",
        " {+}       - 1 or More <br>\n",
        " ?       - 0 or One <br>\n",
        "{3}     - Exact Number <br>\n",
        "{3,4}   - Range of Numbers (Minimum, Maximum) <br>\n",
        "\n",
        "\n",
        "#### Sample Regexs ####\n",
        "\n",
        "[a-zA-Z0-9_.+-]+@[a-zA-Z0-9-]+\\\\.[a-zA-Z0-9-.]+\n"
      ]
    },
    {
      "cell_type": "code",
      "execution_count": null,
      "metadata": {
        "ExecuteTime": {
          "end_time": "2025-03-14T21:25:35.291574Z",
          "start_time": "2025-03-14T21:25:35.282749Z"
        },
        "scrolled": true,
        "id": "JilXJTge5u4-",
        "outputId": "55cd975a-438a-4087-ed0a-f89a91201816"
      },
      "outputs": [
        {
          "name": "stdout",
          "output_type": "stream",
          "text": [
            "\tAhmed\n",
            "\\tAhmed\n"
          ]
        }
      ],
      "source": [
        "print(\"\\tAhmed\") # special character (\\t, \\n)\n",
        "print(r\"\\tAhmed\") # raw print"
      ]
    },
    {
      "cell_type": "code",
      "execution_count": null,
      "metadata": {
        "ExecuteTime": {
          "end_time": "2025-02-05T16:45:03.951468Z",
          "start_time": "2025-02-05T16:45:03.940790Z"
        },
        "scrolled": false,
        "id": "ObEj5sfX5u4_",
        "outputId": "2608326a-db0c-483d-a4fe-54456f9bc345"
      },
      "outputs": [
        {
          "name": "stdout",
          "output_type": "stream",
          "text": [
            "Ahmed\n",
            "Ahmed\n",
            "----------------\n",
            "Ahmed\\nAhmed\n"
          ]
        }
      ],
      "source": [
        "print(\"Ahmed\\nAhmed\") # new line\n",
        "print(\"----------------\")\n",
        "print(r\"Ahmed\\nAhmed\")"
      ]
    },
    {
      "cell_type": "code",
      "execution_count": null,
      "metadata": {
        "ExecuteTime": {
          "end_time": "2025-05-09T07:48:29.395122Z",
          "start_time": "2025-05-09T07:48:29.372523Z"
        },
        "id": "M_bROWJW5u4_",
        "outputId": "babd1a68-667f-40f1-9f17-1c1b165d93c5"
      },
      "outputs": [
        {
          "data": {
            "text/plain": [
              "6"
            ]
          },
          "execution_count": 2,
          "metadata": {},
          "output_type": "execute_result"
        }
      ],
      "source": [
        "string = \"Ahmed Emad Ali Hossam Emad\" # string\n",
        "string.find(\"Emad\") # Search substring: return index of first substring"
      ]
    },
    {
      "cell_type": "code",
      "execution_count": null,
      "metadata": {
        "ExecuteTime": {
          "end_time": "2025-02-15T15:23:45.993188Z",
          "start_time": "2025-02-15T15:23:45.983042Z"
        },
        "id": "ykPJ41na5u4_",
        "outputId": "49d2a6a5-2ee2-412e-9ad0-bd49a39366b7"
      },
      "outputs": [
        {
          "data": {
            "text/plain": [
              "22"
            ]
          },
          "execution_count": 5,
          "metadata": {},
          "output_type": "execute_result"
        }
      ],
      "source": [
        "string = \"Ahmed Emad Ali Hossam Emad\" # string\n",
        "string.find(\"Emad\", 7) # Search substring: return index of first substring"
      ]
    },
    {
      "cell_type": "code",
      "execution_count": null,
      "metadata": {
        "ExecuteTime": {
          "end_time": "2025-05-09T07:50:09.811927Z",
          "start_time": "2025-05-09T07:50:09.794244Z"
        },
        "id": "A69UzoXk5u4_",
        "outputId": "95ba8edc-dacc-45c1-cb87-410fb1a63c99"
      },
      "outputs": [
        {
          "data": {
            "text/plain": [
              "-1"
            ]
          },
          "execution_count": 5,
          "metadata": {},
          "output_type": "execute_result"
        }
      ],
      "source": [
        "string = \"nothing\"\n",
        "string.find(\"ahmed\") # -1 = not found"
      ]
    },
    {
      "cell_type": "code",
      "execution_count": null,
      "metadata": {
        "ExecuteTime": {
          "end_time": "2025-05-09T07:50:10.158968Z",
          "start_time": "2025-05-09T07:50:10.150721Z"
        },
        "id": "IL3RECKK5u4_",
        "outputId": "3e6b0845-7a85-43c1-b631-cae68a93a55b"
      },
      "outputs": [
        {
          "data": {
            "text/plain": [
              "'nothing'"
            ]
          },
          "execution_count": 6,
          "metadata": {},
          "output_type": "execute_result"
        }
      ],
      "source": [
        "string"
      ]
    },
    {
      "cell_type": "code",
      "execution_count": null,
      "metadata": {
        "ExecuteTime": {
          "end_time": "2025-05-09T07:50:11.512227Z",
          "start_time": "2025-05-09T07:50:11.497938Z"
        },
        "id": "ML8XMIZL5u5A",
        "outputId": "aed216db-837f-4528-9650-dcd1ab051727"
      },
      "outputs": [
        {
          "data": {
            "text/plain": [
              "3"
            ]
          },
          "execution_count": 7,
          "metadata": {},
          "output_type": "execute_result"
        }
      ],
      "source": [
        "string.index(\"h\")"
      ]
    },
    {
      "cell_type": "code",
      "execution_count": null,
      "metadata": {
        "ExecuteTime": {
          "end_time": "2025-05-09T07:50:20.695362Z",
          "start_time": "2025-05-09T07:50:20.598585Z"
        },
        "id": "DGgyLPUB5u5A",
        "outputId": "2bc921f7-c6af-4d01-994c-befd20c1b555"
      },
      "outputs": [
        {
          "ename": "ValueError",
          "evalue": "substring not found",
          "output_type": "error",
          "traceback": [
            "\u001b[0;31m---------------------------------------------------------------------------\u001b[0m",
            "\u001b[0;31mValueError\u001b[0m                                Traceback (most recent call last)",
            "\u001b[0;32m/var/folders/_r/3sb29fjj12d916yfxyrhd_gc0000gn/T/ipykernel_60955/3517363092.py\u001b[0m in \u001b[0;36m<module>\u001b[0;34m\u001b[0m\n\u001b[0;32m----> 1\u001b[0;31m \u001b[0mstring\u001b[0m\u001b[0;34m.\u001b[0m\u001b[0mindex\u001b[0m\u001b[0;34m(\u001b[0m\u001b[0;34m\"aaaa\"\u001b[0m\u001b[0;34m)\u001b[0m\u001b[0;34m\u001b[0m\u001b[0;34m\u001b[0m\u001b[0m\n\u001b[0m",
            "\u001b[0;31mValueError\u001b[0m: substring not found"
          ]
        }
      ],
      "source": [
        "string.index(\"aaaa\")"
      ]
    },
    {
      "cell_type": "markdown",
      "metadata": {
        "id": "r9CMP8Ch5u5A"
      },
      "source": [
        "#### using RegEx"
      ]
    },
    {
      "cell_type": "code",
      "execution_count": null,
      "metadata": {
        "ExecuteTime": {
          "end_time": "2025-05-09T07:52:41.253286Z",
          "start_time": "2025-05-09T07:52:41.236573Z"
        },
        "id": "ljS301iq5u5A",
        "outputId": "d1e93c96-0642-4511-fb8c-9ceaf67ee432"
      },
      "outputs": [
        {
          "name": "stdout",
          "output_type": "stream",
          "text": [
            "<class 'callable_iterator'>\n",
            "<re.Match object; span=(0, 3), match='abc'>\n",
            "<re.Match object; span=(142, 145), match='abc'>\n"
          ]
        }
      ],
      "source": [
        "pattern = re.compile(r\"abc\") # search for abc\n",
        "matches = pattern.finditer(mytext) # store all the \"abc\" you found (could be a list )\n",
        "\n",
        "print(type(matches))\n",
        "\n",
        "for match in matches:\n",
        "    print(match)"
      ]
    },
    {
      "cell_type": "code",
      "execution_count": null,
      "metadata": {
        "ExecuteTime": {
          "end_time": "2025-05-09T07:53:47.980058Z",
          "start_time": "2025-05-09T07:53:47.969891Z"
        },
        "id": "FuHDryta5u5A"
      },
      "outputs": [],
      "source": [
        "def find_match(pattern, text):\n",
        "    pattern = re.compile(pattern) # search for abc\n",
        "    matches = pattern.finditer(text) # store all the \"abc\" you found (could be a list )\n",
        "    for match in matches:\n",
        "        print(match)"
      ]
    },
    {
      "cell_type": "code",
      "execution_count": null,
      "metadata": {
        "ExecuteTime": {
          "end_time": "2025-05-09T07:53:52.428884Z",
          "start_time": "2025-05-09T07:53:52.417565Z"
        },
        "id": "7tTiCuvO5u5A",
        "outputId": "48d77081-e114-4fb0-f1dd-06f3c977f1e7"
      },
      "outputs": [
        {
          "name": "stdout",
          "output_type": "stream",
          "text": [
            "<re.Match object; span=(0, 3), match='abc'>\n",
            "<re.Match object; span=(142, 145), match='abc'>\n"
          ]
        }
      ],
      "source": [
        "find_match(\"abc\", mytext)"
      ]
    },
    {
      "cell_type": "code",
      "execution_count": null,
      "metadata": {
        "ExecuteTime": {
          "end_time": "2025-05-09T07:54:56.280368Z",
          "start_time": "2025-05-09T07:54:56.270683Z"
        },
        "scrolled": true,
        "id": "zq9CD_pY5u5A",
        "outputId": "872bc9de-88a0-4146-8654-e729b85a462d"
      },
      "outputs": [
        {
          "name": "stdout",
          "output_type": "stream",
          "text": [
            "Ahmed\n",
            "Ahmed\n"
          ]
        }
      ],
      "source": [
        "# Reminder\n",
        "string = \"Ahmed Hafez\"\n",
        "print(string[0 : 5])\n",
        "\n",
        "start = 0\n",
        "end = 5\n",
        "print(string[start : end])"
      ]
    },
    {
      "cell_type": "code",
      "execution_count": null,
      "metadata": {
        "ExecuteTime": {
          "end_time": "2025-05-09T07:56:25.459280Z",
          "start_time": "2025-05-09T07:56:25.447157Z"
        },
        "id": "de2rt_5e5u5A",
        "outputId": "6c17145c-8810-4526-815e-0a53fb11f68e"
      },
      "outputs": [
        {
          "name": "stdout",
          "output_type": "stream",
          "text": [
            "start:  0 end:  3\n",
            "start:  142 end:  145\n"
          ]
        }
      ],
      "source": [
        "def find_match_start_end(pattern, text):\n",
        "    pattern = re.compile(pattern) # search for abc\n",
        "    matches = pattern.finditer(text) # store all the \"abc\" you found (could be a list )\n",
        "    for match in matches:\n",
        "        print(\"start: \", match.span()[0], \"end: \" , match.span()[1])\n",
        "\n",
        "find_match_start_end(\"abc\", mytext)"
      ]
    },
    {
      "cell_type": "code",
      "execution_count": null,
      "metadata": {
        "ExecuteTime": {
          "end_time": "2025-05-09T07:56:27.942902Z",
          "start_time": "2025-05-09T07:56:27.924823Z"
        },
        "id": "HNk7hoGs5u5B",
        "outputId": "ca72f089-d2a0-48e2-b513-f1a27ce91fa1"
      },
      "outputs": [
        {
          "data": {
            "text/plain": [
              "'ab'"
            ]
          },
          "execution_count": 19,
          "metadata": {},
          "output_type": "execute_result"
        }
      ],
      "source": [
        "mytext[0 : 2]"
      ]
    },
    {
      "cell_type": "code",
      "execution_count": null,
      "metadata": {
        "ExecuteTime": {
          "end_time": "2025-05-09T07:56:53.527678Z",
          "start_time": "2025-05-09T07:56:53.513306Z"
        },
        "id": "Bz7y7H0U5u5B",
        "outputId": "e7ee9e0f-723d-4bee-bb20-41b837f34331"
      },
      "outputs": [
        {
          "data": {
            "text/plain": [
              "['abc', 'abc']"
            ]
          },
          "execution_count": 20,
          "metadata": {},
          "output_type": "execute_result"
        }
      ],
      "source": [
        "pattern = re.compile(r\"abc\") # search for abc\n",
        "matches = pattern.finditer(mytext) # store all the \"abc\" you found (could be a list )\n",
        "\n",
        "results = [ ]\n",
        "\n",
        "for match in matches:\n",
        "    start = match.span()[0]\n",
        "    end = match.span()[1]\n",
        "    results.append(mytext[start:end]) # substring ( match ) ( i.e. abc )\n",
        "results"
      ]
    },
    {
      "cell_type": "code",
      "execution_count": null,
      "metadata": {
        "ExecuteTime": {
          "end_time": "2025-05-09T07:57:08.986017Z",
          "start_time": "2025-05-09T07:57:08.969974Z"
        },
        "id": "K-9bHEtw5u5B",
        "outputId": "bbfaf9f8-0d2a-434a-b5d8-3fabd891e213"
      },
      "outputs": [
        {
          "data": {
            "text/plain": [
              "['abc', 'abc']"
            ]
          },
          "execution_count": 21,
          "metadata": {},
          "output_type": "execute_result"
        }
      ],
      "source": [
        "pattern = re.compile(r\"abc\") # search for abc\n",
        "matches = pattern.finditer(mytext) # store all the \"abc\" you found (could be a list )\n",
        "\n",
        "results = [ ]\n",
        "for match in matches:\n",
        "    start = match.span()[0]\n",
        "    end = match.span()[1]\n",
        "    newmatch = mytext[start : end]\n",
        "    results.append(newmatch) # substring ( match ) ( i.e. abc )\n",
        "\n",
        "results"
      ]
    },
    {
      "cell_type": "markdown",
      "metadata": {
        "id": "iALn6eLE5u5B"
      },
      "source": [
        "### count the number of matches"
      ]
    },
    {
      "cell_type": "code",
      "execution_count": null,
      "metadata": {
        "ExecuteTime": {
          "end_time": "2025-05-09T07:57:38.521730Z",
          "start_time": "2025-05-09T07:57:38.502611Z"
        },
        "id": "fLryZIUL5u5B",
        "outputId": "7db73881-e16a-4f92-f3c7-24a6a6a2c531"
      },
      "outputs": [
        {
          "ename": "TypeError",
          "evalue": "object of type 'callable_iterator' has no len()",
          "output_type": "error",
          "traceback": [
            "\u001b[0;31m---------------------------------------------------------------------------\u001b[0m",
            "\u001b[0;31mTypeError\u001b[0m                                 Traceback (most recent call last)",
            "\u001b[0;32m/var/folders/_r/3sb29fjj12d916yfxyrhd_gc0000gn/T/ipykernel_60955/561747406.py\u001b[0m in \u001b[0;36m<module>\u001b[0;34m\u001b[0m\n\u001b[1;32m      2\u001b[0m \u001b[0mmatches\u001b[0m \u001b[0;34m=\u001b[0m \u001b[0mpattern\u001b[0m\u001b[0;34m.\u001b[0m\u001b[0mfinditer\u001b[0m\u001b[0;34m(\u001b[0m\u001b[0mmytext\u001b[0m\u001b[0;34m)\u001b[0m \u001b[0;31m# store all the \"abc\" you found (could be a list )\u001b[0m\u001b[0;34m\u001b[0m\u001b[0;34m\u001b[0m\u001b[0m\n\u001b[1;32m      3\u001b[0m \u001b[0;34m\u001b[0m\u001b[0m\n\u001b[0;32m----> 4\u001b[0;31m \u001b[0mprint\u001b[0m\u001b[0;34m(\u001b[0m\u001b[0mlen\u001b[0m\u001b[0;34m(\u001b[0m\u001b[0mmatches\u001b[0m\u001b[0;34m)\u001b[0m\u001b[0;34m)\u001b[0m\u001b[0;34m\u001b[0m\u001b[0;34m\u001b[0m\u001b[0m\n\u001b[0m",
            "\u001b[0;31mTypeError\u001b[0m: object of type 'callable_iterator' has no len()"
          ]
        }
      ],
      "source": [
        "pattern = re.compile(r\"abc\") # search for abc\n",
        "matches = pattern.finditer(mytext) # store all the \"abc\" you found (could be a list )\n",
        "\n",
        "print(len(matches))"
      ]
    },
    {
      "cell_type": "code",
      "execution_count": null,
      "metadata": {
        "ExecuteTime": {
          "end_time": "2025-05-09T07:58:03.144416Z",
          "start_time": "2025-05-09T07:58:03.134131Z"
        },
        "id": "rY_Wu9p35u5B",
        "outputId": "b784d75e-303a-4bcf-ea85-4e2b286f48f2"
      },
      "outputs": [
        {
          "name": "stdout",
          "output_type": "stream",
          "text": [
            "start:  0 end:  3\n",
            "start:  142 end:  145\n",
            "number of matches:  2\n"
          ]
        }
      ],
      "source": [
        "import re\n",
        "pattern = re.compile(r\"abc\") # search for abc\n",
        "matches = pattern.finditer(mytext) # store all the \"abc\" you found (could be a list )\n",
        "\n",
        "counter = 0\n",
        "\n",
        "for elment in matches:\n",
        "    print(\"start: \" , elment.span()[0] , \"end: \" , elment.span()[1] )\n",
        "    counter+=1\n",
        "print(\"number of matches: \", counter)"
      ]
    },
    {
      "cell_type": "code",
      "execution_count": 9,
      "metadata": {
        "ExecuteTime": {
          "end_time": "2025-05-09T07:59:15.779278Z",
          "start_time": "2025-05-09T07:59:15.773052Z"
        },
        "id": "PTjcL_Ub5u5B",
        "outputId": "2b4210bd-0c13-4028-d60b-f11f59da1194",
        "colab": {
          "base_uri": "https://localhost:8080/"
        }
      },
      "outputs": [
        {
          "output_type": "stream",
          "name": "stdout",
          "text": [
            "re.compile('abc')\n"
          ]
        }
      ],
      "source": [
        "# make a copy  ( can't )\n",
        "\n",
        "pattern = re.compile(r\"abc\") # search for abc\n",
        "matches = pattern.finditer(mytext) # store all the \"abc\" you found (could be a list )\n",
        "print(pattern)"
      ]
    },
    {
      "cell_type": "code",
      "execution_count": 12,
      "metadata": {
        "ExecuteTime": {
          "end_time": "2025-05-09T07:59:46.523020Z",
          "start_time": "2025-05-09T07:59:46.506168Z"
        },
        "id": "IuGSJdKn5u5B",
        "outputId": "625f90a8-88bc-4645-ff08-efb6884bce69",
        "colab": {
          "base_uri": "https://localhost:8080/"
        }
      },
      "outputs": [
        {
          "output_type": "stream",
          "name": "stdout",
          "text": [
            "2\n",
            "number of matches:  0\n"
          ]
        }
      ],
      "source": [
        "pattern = re.compile(r\"abc\") # search for abc\n",
        "matches = pattern.finditer(mytext) # store all the \"abc\" you found (could be a list )\n",
        "\n",
        "data = list(matches)\n",
        "print(len(data))\n",
        "\n",
        "counter = 0\n",
        "\n",
        "for elment in matches:\n",
        "    print(\"start: \" , elment.span()[0] , \"end: \" , elment.span()[1] )\n",
        "    counter+=1\n",
        "print(\"number of matches: \", counter)"
      ]
    },
    {
      "cell_type": "code",
      "execution_count": 7,
      "metadata": {
        "ExecuteTime": {
          "end_time": "2024-11-05T16:37:08.424193Z",
          "start_time": "2024-11-05T16:37:08.419288Z"
        },
        "id": "3Iz3hbp-5u5B"
      },
      "outputs": [],
      "source": [
        "# search for a pattern that doesn't exist"
      ]
    },
    {
      "cell_type": "code",
      "execution_count": 13,
      "metadata": {
        "ExecuteTime": {
          "end_time": "2025-05-09T08:00:11.874316Z",
          "start_time": "2025-05-09T08:00:11.861632Z"
        },
        "scrolled": true,
        "id": "gHZ-vHFo5u5C",
        "outputId": "37b8dc8e-5ce5-4a16-9280-4a662ad09ae3",
        "colab": {
          "base_uri": "https://localhost:8080/"
        }
      },
      "outputs": [
        {
          "output_type": "stream",
          "name": "stdout",
          "text": [
            "Found 0 matches\n"
          ]
        }
      ],
      "source": [
        "pattern = re.compile(\"bca\")\n",
        "matches = pattern.finditer(mytext)\n",
        "counter = 0\n",
        "for match in matches:\n",
        "    print(match)\n",
        "    counter+=1\n",
        "print(f\"Found {counter} matches\")"
      ]
    },
    {
      "cell_type": "code",
      "execution_count": null,
      "metadata": {
        "ExecuteTime": {
          "end_time": "2025-05-09T08:01:06.874888Z",
          "start_time": "2025-05-09T08:01:06.866152Z"
        },
        "id": "16ZjhJYP5u5C",
        "outputId": "7debf679-6cb1-4210-be6a-a44213b9eaf0"
      },
      "outputs": [
        {
          "name": "stdout",
          "output_type": "stream",
          "text": [
            "<re.Match object; span=(146, 149), match='c.t'>\n",
            "<re.Match object; span=(150, 153), match='cat'>\n"
          ]
        }
      ],
      "source": [
        "pattern = re.compile(\"c.t\")\n",
        "matches = pattern.finditer(mytext)\n",
        "for match in matches:\n",
        "    print(match)"
      ]
    },
    {
      "cell_type": "code",
      "execution_count": null,
      "metadata": {
        "ExecuteTime": {
          "end_time": "2025-05-09T08:01:21.274647Z",
          "start_time": "2025-05-09T08:01:21.263482Z"
        },
        "id": "ySMY-Uep5u5C",
        "outputId": "040efc55-163b-4ed3-9dcd-c746e45f37ca"
      },
      "outputs": [
        {
          "name": "stdout",
          "output_type": "stream",
          "text": [
            "<re.Match object; span=(146, 149), match='c.t'>\n",
            "<re.Match object; span=(150, 153), match='cat'>\n"
          ]
        }
      ],
      "source": [
        "pattern = re.compile(r\"c.t\") # matches everything ( excpet new lines )\n",
        "matches = pattern.finditer(mytext)\n",
        "for match in matches:\n",
        "    print(match)"
      ]
    },
    {
      "cell_type": "code",
      "execution_count": null,
      "metadata": {
        "ExecuteTime": {
          "end_time": "2025-05-09T08:01:51.185872Z",
          "start_time": "2025-05-09T08:01:51.176971Z"
        },
        "id": "4bUIex4Q5u5C",
        "outputId": "a55e3e36-87c9-4ffb-81b6-08156412c190"
      },
      "outputs": [
        {
          "name": "stdout",
          "output_type": "stream",
          "text": [
            "<re.Match object; span=(146, 149), match='c.t'>\n"
          ]
        }
      ],
      "source": [
        "pattern = re.compile(\"c\\.t\") # matches c.t\n",
        "matches = pattern.finditer(mytext)\n",
        "for match in matches:\n",
        "    print(match)"
      ]
    },
    {
      "cell_type": "code",
      "execution_count": null,
      "metadata": {
        "ExecuteTime": {
          "end_time": "2025-05-09T08:02:49.669798Z",
          "start_time": "2025-05-09T08:02:49.653880Z"
        },
        "id": "UIbSRrR55u5C",
        "outputId": "ca18f702-3ad2-43d0-f32b-c6fb2fb70278"
      },
      "outputs": [
        {
          "name": "stdout",
          "output_type": "stream",
          "text": [
            "<re.Match object; span=(0, 1), match='a'>\n",
            "<re.Match object; span=(1, 2), match='b'>\n",
            "<re.Match object; span=(2, 3), match='c'>\n",
            "<re.Match object; span=(3, 4), match='d'>\n",
            "<re.Match object; span=(4, 5), match='e'>\n",
            "<re.Match object; span=(5, 6), match='f'>\n",
            "<re.Match object; span=(6, 7), match='g'>\n",
            "<re.Match object; span=(7, 8), match='h'>\n",
            "<re.Match object; span=(8, 9), match='i'>\n",
            "<re.Match object; span=(9, 10), match='j'>\n",
            "<re.Match object; span=(10, 11), match='k'>\n",
            "<re.Match object; span=(11, 12), match='l'>\n",
            "<re.Match object; span=(12, 13), match='m'>\n",
            "<re.Match object; span=(13, 14), match='n'>\n",
            "<re.Match object; span=(14, 15), match='o'>\n",
            "<re.Match object; span=(15, 16), match='p'>\n",
            "<re.Match object; span=(16, 17), match='q'>\n",
            "<re.Match object; span=(17, 18), match='u'>\n",
            "<re.Match object; span=(18, 19), match='r'>\n",
            "<re.Match object; span=(19, 20), match='t'>\n",
            "<re.Match object; span=(20, 21), match='u'>\n",
            "<re.Match object; span=(21, 22), match='v'>\n",
            "<re.Match object; span=(22, 23), match='w'>\n",
            "<re.Match object; span=(23, 24), match='x'>\n",
            "<re.Match object; span=(24, 25), match='y'>\n",
            "<re.Match object; span=(25, 26), match='z'>\n",
            "<re.Match object; span=(27, 28), match='A'>\n",
            "<re.Match object; span=(28, 29), match='B'>\n",
            "<re.Match object; span=(29, 30), match='C'>\n",
            "<re.Match object; span=(30, 31), match='D'>\n",
            "<re.Match object; span=(31, 32), match='E'>\n",
            "<re.Match object; span=(32, 33), match='F'>\n",
            "<re.Match object; span=(33, 34), match='G'>\n",
            "<re.Match object; span=(34, 35), match='H'>\n",
            "<re.Match object; span=(35, 36), match='I'>\n",
            "<re.Match object; span=(36, 37), match='J'>\n",
            "<re.Match object; span=(37, 38), match='K'>\n",
            "<re.Match object; span=(38, 39), match='L'>\n",
            "<re.Match object; span=(39, 40), match='M'>\n",
            "<re.Match object; span=(40, 41), match='N'>\n",
            "<re.Match object; span=(41, 42), match='O'>\n",
            "<re.Match object; span=(42, 43), match='P'>\n",
            "<re.Match object; span=(43, 44), match='Q'>\n",
            "<re.Match object; span=(44, 45), match='R'>\n",
            "<re.Match object; span=(45, 46), match='S'>\n",
            "<re.Match object; span=(46, 47), match='T'>\n",
            "<re.Match object; span=(47, 48), match='U'>\n",
            "<re.Match object; span=(48, 49), match='V'>\n",
            "<re.Match object; span=(49, 50), match='W'>\n",
            "<re.Match object; span=(50, 51), match='X'>\n",
            "<re.Match object; span=(51, 52), match='Y'>\n",
            "<re.Match object; span=(52, 53), match='Z'>\n",
            "<re.Match object; span=(54, 55), match='1'>\n",
            "<re.Match object; span=(55, 56), match='2'>\n",
            "<re.Match object; span=(56, 57), match='3'>\n",
            "<re.Match object; span=(57, 58), match='4'>\n",
            "<re.Match object; span=(58, 59), match='5'>\n",
            "<re.Match object; span=(59, 60), match='6'>\n",
            "<re.Match object; span=(60, 61), match='7'>\n",
            "<re.Match object; span=(61, 62), match='8'>\n",
            "<re.Match object; span=(62, 63), match='9'>\n",
            "<re.Match object; span=(63, 64), match='0'>\n",
            "<re.Match object; span=(64, 65), match='1'>\n",
            "<re.Match object; span=(65, 66), match='0'>\n",
            "<re.Match object; span=(67, 68), match='H'>\n",
            "<re.Match object; span=(68, 69), match='a'>\n",
            "<re.Match object; span=(69, 70), match=' '>\n",
            "<re.Match object; span=(70, 71), match='H'>\n",
            "<re.Match object; span=(71, 72), match='a'>\n",
            "<re.Match object; span=(72, 73), match='H'>\n",
            "<re.Match object; span=(73, 74), match='a'>\n",
            "<re.Match object; span=(75, 76), match='M'>\n",
            "<re.Match object; span=(76, 77), match='e'>\n",
            "<re.Match object; span=(77, 78), match='t'>\n",
            "<re.Match object; span=(78, 79), match='a'>\n",
            "<re.Match object; span=(79, 80), match='C'>\n",
            "<re.Match object; span=(80, 81), match='h'>\n",
            "<re.Match object; span=(81, 82), match='a'>\n",
            "<re.Match object; span=(82, 83), match='r'>\n",
            "<re.Match object; span=(83, 84), match='a'>\n",
            "<re.Match object; span=(84, 85), match='c'>\n",
            "<re.Match object; span=(85, 86), match='t'>\n",
            "<re.Match object; span=(86, 87), match='e'>\n",
            "<re.Match object; span=(87, 88), match='r'>\n",
            "<re.Match object; span=(88, 89), match='s'>\n",
            "<re.Match object; span=(89, 90), match=' '>\n",
            "<re.Match object; span=(90, 91), match='('>\n",
            "<re.Match object; span=(91, 92), match='N'>\n",
            "<re.Match object; span=(92, 93), match='e'>\n",
            "<re.Match object; span=(93, 94), match='e'>\n",
            "<re.Match object; span=(94, 95), match='d'>\n",
            "<re.Match object; span=(95, 96), match=' '>\n",
            "<re.Match object; span=(96, 97), match='t'>\n",
            "<re.Match object; span=(97, 98), match='o'>\n",
            "<re.Match object; span=(98, 99), match=' '>\n",
            "<re.Match object; span=(99, 100), match='b'>\n",
            "<re.Match object; span=(100, 101), match='e'>\n",
            "<re.Match object; span=(101, 102), match=' '>\n",
            "<re.Match object; span=(102, 103), match='e'>\n",
            "<re.Match object; span=(103, 104), match='s'>\n",
            "<re.Match object; span=(104, 105), match='c'>\n",
            "<re.Match object; span=(105, 106), match='a'>\n",
            "<re.Match object; span=(106, 107), match='p'>\n",
            "<re.Match object; span=(107, 108), match='e'>\n",
            "<re.Match object; span=(108, 109), match='d'>\n",
            "<re.Match object; span=(109, 110), match=')'>\n",
            "<re.Match object; span=(110, 111), match=':'>\n",
            "<re.Match object; span=(112, 113), match='.'>\n",
            "<re.Match object; span=(113, 114), match=' '>\n",
            "<re.Match object; span=(114, 115), match='^'>\n",
            "<re.Match object; span=(115, 116), match=' '>\n",
            "<re.Match object; span=(116, 117), match='_'>\n",
            "<re.Match object; span=(117, 118), match=' '>\n",
            "<re.Match object; span=(118, 119), match='$'>\n",
            "<re.Match object; span=(119, 120), match=' '>\n",
            "<re.Match object; span=(120, 121), match='*'>\n",
            "<re.Match object; span=(121, 122), match=' '>\n",
            "<re.Match object; span=(122, 123), match='+'>\n",
            "<re.Match object; span=(123, 124), match=' '>\n",
            "<re.Match object; span=(124, 125), match='?'>\n",
            "<re.Match object; span=(125, 126), match=' '>\n",
            "<re.Match object; span=(126, 127), match='{'>\n",
            "<re.Match object; span=(127, 128), match=' '>\n",
            "<re.Match object; span=(128, 129), match='}'>\n",
            "<re.Match object; span=(129, 130), match=' '>\n",
            "<re.Match object; span=(130, 131), match='['>\n",
            "<re.Match object; span=(131, 132), match=' '>\n",
            "<re.Match object; span=(132, 133), match=']'>\n",
            "<re.Match object; span=(133, 134), match=' '>\n",
            "<re.Match object; span=(134, 135), match='\\\\'>\n",
            "<re.Match object; span=(135, 136), match=' '>\n",
            "<re.Match object; span=(136, 137), match='|'>\n",
            "<re.Match object; span=(137, 138), match=' '>\n",
            "<re.Match object; span=(138, 139), match='('>\n",
            "<re.Match object; span=(139, 140), match=' '>\n",
            "<re.Match object; span=(140, 141), match=')'>\n",
            "<re.Match object; span=(142, 143), match='a'>\n",
            "<re.Match object; span=(143, 144), match='b'>\n",
            "<re.Match object; span=(144, 145), match='c'>\n",
            "<re.Match object; span=(146, 147), match='c'>\n",
            "<re.Match object; span=(147, 148), match='.'>\n",
            "<re.Match object; span=(148, 149), match='t'>\n",
            "<re.Match object; span=(150, 151), match='c'>\n",
            "<re.Match object; span=(151, 152), match='a'>\n",
            "<re.Match object; span=(152, 153), match='t'>\n",
            "<re.Match object; span=(154, 155), match='m'>\n",
            "<re.Match object; span=(155, 156), match='a'>\n",
            "<re.Match object; span=(156, 157), match='t'>\n",
            "<re.Match object; span=(157, 158), match=' '>\n",
            "<re.Match object; span=(159, 160), match='h'>\n",
            "<re.Match object; span=(160, 161), match='a'>\n",
            "<re.Match object; span=(161, 162), match='t'>\n",
            "<re.Match object; span=(163, 164), match='b'>\n",
            "<re.Match object; span=(164, 165), match='a'>\n",
            "<re.Match object; span=(165, 166), match='t'>\n",
            "<re.Match object; span=(167, 168), match='f'>\n",
            "<re.Match object; span=(168, 169), match='a'>\n",
            "<re.Match object; span=(169, 170), match='t'>\n",
            "<re.Match object; span=(171, 172), match='s'>\n",
            "<re.Match object; span=(172, 173), match='a'>\n",
            "<re.Match object; span=(173, 174), match='t'>\n",
            "<re.Match object; span=(175, 176), match='0'>\n",
            "<re.Match object; span=(176, 177), match='1'>\n",
            "<re.Match object; span=(177, 178), match='0'>\n",
            "<re.Match object; span=(178, 179), match='9'>\n",
            "<re.Match object; span=(179, 180), match='2'>\n",
            "<re.Match object; span=(180, 181), match='3'>\n",
            "<re.Match object; span=(181, 182), match='2'>\n",
            "<re.Match object; span=(182, 183), match='9'>\n",
            "<re.Match object; span=(183, 184), match='3'>\n",
            "<re.Match object; span=(184, 185), match='4'>\n",
            "<re.Match object; span=(185, 186), match='0'>\n",
            "<re.Match object; span=(187, 188), match='0'>\n",
            "<re.Match object; span=(188, 189), match='1'>\n",
            "<re.Match object; span=(189, 190), match='1'>\n",
            "<re.Match object; span=(190, 191), match='2'>\n",
            "<re.Match object; span=(191, 192), match='3'>\n",
            "<re.Match object; span=(192, 193), match='2'>\n",
            "<re.Match object; span=(193, 194), match='3'>\n",
            "<re.Match object; span=(194, 195), match='4'>\n",
            "<re.Match object; span=(195, 196), match='3'>\n",
            "<re.Match object; span=(196, 197), match='5'>\n",
            "<re.Match object; span=(197, 198), match='5'>\n",
            "<re.Match object; span=(199, 200), match='0'>\n",
            "<re.Match object; span=(200, 201), match='1'>\n",
            "<re.Match object; span=(201, 202), match='0'>\n",
            "<re.Match object; span=(202, 203), match='2'>\n",
            "<re.Match object; span=(203, 204), match='3'>\n",
            "<re.Match object; span=(204, 205), match='4'>\n",
            "<re.Match object; span=(205, 206), match='5'>\n",
            "<re.Match object; span=(206, 207), match='5'>\n",
            "<re.Match object; span=(207, 208), match='4'>\n",
            "<re.Match object; span=(208, 209), match='1'>\n",
            "<re.Match object; span=(209, 210), match='1'>\n",
            "<re.Match object; span=(211, 212), match='0'>\n",
            "<re.Match object; span=(212, 213), match='1'>\n",
            "<re.Match object; span=(213, 214), match='2'>\n",
            "<re.Match object; span=(214, 215), match='3'>\n",
            "<re.Match object; span=(215, 216), match='4'>\n",
            "<re.Match object; span=(216, 217), match='5'>\n",
            "<re.Match object; span=(217, 218), match='6'>\n",
            "<re.Match object; span=(218, 219), match='7'>\n",
            "<re.Match object; span=(219, 220), match='8'>\n",
            "<re.Match object; span=(220, 221), match='7'>\n",
            "<re.Match object; span=(221, 222), match='5'>\n",
            "<re.Match object; span=(223, 224), match='0'>\n",
            "<re.Match object; span=(224, 225), match='1'>\n",
            "<re.Match object; span=(225, 226), match='5'>\n",
            "<re.Match object; span=(226, 227), match='3'>\n",
            "<re.Match object; span=(227, 228), match='4'>\n",
            "<re.Match object; span=(228, 229), match='5'>\n",
            "<re.Match object; span=(229, 230), match='6'>\n",
            "<re.Match object; span=(230, 231), match='7'>\n",
            "<re.Match object; span=(231, 232), match='4'>\n",
            "<re.Match object; span=(232, 233), match='5'>\n",
            "<re.Match object; span=(233, 234), match='6'>\n",
            "<re.Match object; span=(235, 236), match='0'>\n",
            "<re.Match object; span=(236, 237), match='1'>\n",
            "<re.Match object; span=(237, 238), match='1'>\n",
            "<re.Match object; span=(238, 239), match='3'>\n",
            "<re.Match object; span=(239, 240), match='4'>\n",
            "<re.Match object; span=(240, 241), match='5'>\n",
            "<re.Match object; span=(241, 242), match='6'>\n",
            "<re.Match object; span=(242, 243), match='7'>\n",
            "<re.Match object; span=(243, 244), match='8'>\n",
            "<re.Match object; span=(244, 245), match='5'>\n",
            "<re.Match object; span=(245, 246), match='6'>\n",
            "<re.Match object; span=(247, 248), match='A'>\n",
            "<re.Match object; span=(248, 249), match='h'>\n",
            "<re.Match object; span=(249, 250), match='m'>\n",
            "<re.Match object; span=(250, 251), match='e'>\n",
            "<re.Match object; span=(251, 252), match='d'>\n",
            "<re.Match object; span=(252, 253), match='-'>\n",
            "<re.Match object; span=(253, 254), match='c'>\n",
            "<re.Match object; span=(254, 255), match='o'>\n",
            "<re.Match object; span=(255, 256), match='m'>\n",
            "<re.Match object; span=(257, 258), match='3'>\n",
            "<re.Match object; span=(258, 259), match='2'>\n",
            "<re.Match object; span=(259, 260), match='1'>\n",
            "<re.Match object; span=(260, 261), match='-'>\n",
            "<re.Match object; span=(261, 262), match='5'>\n",
            "<re.Match object; span=(262, 263), match='5'>\n",
            "<re.Match object; span=(263, 264), match='5'>\n",
            "<re.Match object; span=(264, 265), match='-'>\n",
            "<re.Match object; span=(265, 266), match='4'>\n",
            "<re.Match object; span=(266, 267), match='3'>\n",
            "<re.Match object; span=(267, 268), match='2'>\n",
            "<re.Match object; span=(268, 269), match='1'>\n",
            "<re.Match object; span=(270, 271), match='1'>\n",
            "<re.Match object; span=(271, 272), match='2'>\n",
            "<re.Match object; span=(272, 273), match='3'>\n",
            "<re.Match object; span=(273, 274), match='.'>\n",
            "<re.Match object; span=(274, 275), match='5'>\n",
            "<re.Match object; span=(275, 276), match='5'>\n",
            "<re.Match object; span=(276, 277), match='5'>\n",
            "<re.Match object; span=(277, 278), match='.'>\n",
            "<re.Match object; span=(278, 279), match='1'>\n",
            "<re.Match object; span=(279, 280), match='2'>\n",
            "<re.Match object; span=(280, 281), match='3'>\n",
            "<re.Match object; span=(281, 282), match='4'>\n",
            "<re.Match object; span=(283, 284), match='1'>\n",
            "<re.Match object; span=(284, 285), match='2'>\n",
            "<re.Match object; span=(285, 286), match='3'>\n",
            "<re.Match object; span=(286, 287), match='*'>\n",
            "<re.Match object; span=(287, 288), match='5'>\n",
            "<re.Match object; span=(288, 289), match='5'>\n",
            "<re.Match object; span=(289, 290), match='5'>\n",
            "<re.Match object; span=(290, 291), match='*'>\n",
            "<re.Match object; span=(291, 292), match='1'>\n",
            "<re.Match object; span=(292, 293), match='2'>\n",
            "<re.Match object; span=(293, 294), match='3'>\n",
            "<re.Match object; span=(294, 295), match='4'>\n",
            "<re.Match object; span=(296, 297), match='1'>\n",
            "<re.Match object; span=(297, 298), match='2'>\n",
            "<re.Match object; span=(298, 299), match='3'>\n",
            "<re.Match object; span=(299, 300), match='*'>\n",
            "<re.Match object; span=(300, 301), match='5'>\n",
            "<re.Match object; span=(301, 302), match='5'>\n",
            "<re.Match object; span=(302, 303), match='5'>\n",
            "<re.Match object; span=(303, 304), match='-'>\n",
            "<re.Match object; span=(304, 305), match='1'>\n",
            "<re.Match object; span=(305, 306), match='2'>\n",
            "<re.Match object; span=(306, 307), match='3'>\n",
            "<re.Match object; span=(307, 308), match='4'>\n",
            "<re.Match object; span=(309, 310), match='1'>\n",
            "<re.Match object; span=(310, 311), match='2'>\n",
            "<re.Match object; span=(311, 312), match='3'>\n",
            "<re.Match object; span=(312, 313), match='-'>\n",
            "<re.Match object; span=(313, 314), match='5'>\n",
            "<re.Match object; span=(314, 315), match='5'>\n",
            "<re.Match object; span=(315, 316), match='5'>\n",
            "<re.Match object; span=(316, 317), match='*'>\n",
            "<re.Match object; span=(317, 318), match='1'>\n",
            "<re.Match object; span=(318, 319), match='2'>\n",
            "<re.Match object; span=(319, 320), match='3'>\n",
            "<re.Match object; span=(320, 321), match='4'>\n",
            "<re.Match object; span=(322, 323), match='8'>\n",
            "<re.Match object; span=(323, 324), match='0'>\n",
            "<re.Match object; span=(324, 325), match='0'>\n",
            "<re.Match object; span=(325, 326), match='-'>\n",
            "<re.Match object; span=(326, 327), match='5'>\n",
            "<re.Match object; span=(327, 328), match='5'>\n",
            "<re.Match object; span=(328, 329), match='5'>\n",
            "<re.Match object; span=(329, 330), match='-'>\n",
            "<re.Match object; span=(330, 331), match='1'>\n",
            "<re.Match object; span=(331, 332), match='2'>\n",
            "<re.Match object; span=(332, 333), match='3'>\n",
            "<re.Match object; span=(333, 334), match='4'>\n",
            "<re.Match object; span=(335, 336), match='9'>\n",
            "<re.Match object; span=(336, 337), match='0'>\n",
            "<re.Match object; span=(337, 338), match='0'>\n",
            "<re.Match object; span=(338, 339), match='-'>\n",
            "<re.Match object; span=(339, 340), match='5'>\n",
            "<re.Match object; span=(340, 341), match='5'>\n",
            "<re.Match object; span=(341, 342), match='5'>\n",
            "<re.Match object; span=(342, 343), match='-'>\n",
            "<re.Match object; span=(343, 344), match='1'>\n",
            "<re.Match object; span=(344, 345), match='2'>\n",
            "<re.Match object; span=(345, 346), match='3'>\n",
            "<re.Match object; span=(346, 347), match='4'>\n",
            "<re.Match object; span=(348, 349), match='1'>\n",
            "<re.Match object; span=(349, 350), match='0'>\n",
            "<re.Match object; span=(350, 351), match='0'>\n",
            "<re.Match object; span=(351, 352), match='a'>\n",
            "<re.Match object; span=(352, 353), match='1'>\n",
            "<re.Match object; span=(353, 354), match='2'>\n",
            "<re.Match object; span=(354, 355), match='1'>\n",
            "<re.Match object; span=(355, 356), match='C'>\n",
            "<re.Match object; span=(356, 357), match='4'>\n",
            "<re.Match object; span=(357, 358), match='5'>\n",
            "<re.Match object; span=(358, 359), match='4'>\n",
            "<re.Match object; span=(359, 360), match='3'>\n",
            "<re.Match object; span=(361, 362), match='M'>\n",
            "<re.Match object; span=(362, 363), match='r'>\n",
            "<re.Match object; span=(363, 364), match='.'>\n",
            "<re.Match object; span=(364, 365), match=' '>\n",
            "<re.Match object; span=(365, 366), match='S'>\n",
            "<re.Match object; span=(366, 367), match='c'>\n",
            "<re.Match object; span=(367, 368), match='h'>\n",
            "<re.Match object; span=(368, 369), match='a'>\n",
            "<re.Match object; span=(369, 370), match='f'>\n",
            "<re.Match object; span=(370, 371), match='e'>\n",
            "<re.Match object; span=(371, 372), match='r'>\n",
            "<re.Match object; span=(373, 374), match='M'>\n",
            "<re.Match object; span=(374, 375), match='r'>\n",
            "<re.Match object; span=(375, 376), match=' '>\n",
            "<re.Match object; span=(376, 377), match='S'>\n",
            "<re.Match object; span=(377, 378), match='m'>\n",
            "<re.Match object; span=(378, 379), match='i'>\n",
            "<re.Match object; span=(379, 380), match='t'>\n",
            "<re.Match object; span=(380, 381), match='h'>\n",
            "<re.Match object; span=(382, 383), match='M'>\n",
            "<re.Match object; span=(383, 384), match='s'>\n",
            "<re.Match object; span=(384, 385), match=' '>\n",
            "<re.Match object; span=(385, 386), match='D'>\n",
            "<re.Match object; span=(386, 387), match='a'>\n",
            "<re.Match object; span=(387, 388), match='v'>\n",
            "<re.Match object; span=(388, 389), match='i'>\n",
            "<re.Match object; span=(389, 390), match='s'>\n",
            "<re.Match object; span=(391, 392), match='M'>\n",
            "<re.Match object; span=(392, 393), match='r'>\n",
            "<re.Match object; span=(393, 394), match='s'>\n",
            "<re.Match object; span=(394, 395), match='.'>\n",
            "<re.Match object; span=(395, 396), match=' '>\n",
            "<re.Match object; span=(396, 397), match='R'>\n",
            "<re.Match object; span=(397, 398), match='o'>\n",
            "<re.Match object; span=(398, 399), match='b'>\n",
            "<re.Match object; span=(399, 400), match='i'>\n",
            "<re.Match object; span=(400, 401), match='n'>\n",
            "<re.Match object; span=(401, 402), match='s'>\n",
            "<re.Match object; span=(402, 403), match='o'>\n",
            "<re.Match object; span=(403, 404), match='n'>\n",
            "<re.Match object; span=(405, 406), match='M'>\n",
            "<re.Match object; span=(406, 407), match='r'>\n",
            "<re.Match object; span=(407, 408), match='.'>\n",
            "<re.Match object; span=(408, 409), match=' '>\n",
            "<re.Match object; span=(409, 410), match='T'>\n",
            "<re.Match object; span=(411, 412), match='M'>\n",
            "<re.Match object; span=(412, 413), match='r'>\n",
            "<re.Match object; span=(413, 414), match='.'>\n",
            "<re.Match object; span=(414, 415), match=' '>\n"
          ]
        }
      ],
      "source": [
        "pattern = re.compile(\".\") # matches everything ( excpet new lines )\n",
        "matches = pattern.finditer(mytext)\n",
        "for match in matches:\n",
        "    print(match)"
      ]
    },
    {
      "cell_type": "code",
      "execution_count": null,
      "metadata": {
        "ExecuteTime": {
          "end_time": "2025-05-09T08:03:09.254495Z",
          "start_time": "2025-05-09T08:03:09.243345Z"
        },
        "id": "K-2BZtyo5u5C",
        "outputId": "bd39d1ae-5946-4f10-c20b-d11d7f6708ac"
      },
      "outputs": [
        {
          "name": "stdout",
          "output_type": "stream",
          "text": [
            "start index: 112\n",
            "start index: 147\n",
            "start index: 273\n",
            "start index: 277\n",
            "start index: 363\n",
            "start index: 394\n",
            "start index: 407\n",
            "start index: 413\n"
          ]
        }
      ],
      "source": [
        "pattern = re.compile(\"\\.\") #matches only dots\n",
        "matches = pattern.finditer(mytext)\n",
        "\n",
        "for match in matches:\n",
        "    print(\"start index:\", match.span()[0])"
      ]
    },
    {
      "cell_type": "code",
      "execution_count": null,
      "metadata": {
        "ExecuteTime": {
          "end_time": "2025-03-14T21:41:21.203672Z",
          "start_time": "2025-03-14T21:41:21.192913Z"
        },
        "id": "OiZH2Dxj5u5C",
        "outputId": "2f76dcc7-5ac6-4f6c-f9e3-d3ecd5648131"
      },
      "outputs": [
        {
          "data": {
            "text/plain": [
              "'abcdefghijklmnopqurtuvwxyz\\nABCDEFGHIJKLMNOPQRSTUVWXYZ\\n123456789010\\nHa HaHa\\nMetaCharacters (Need to be escaped):\\n. ^ _ $ * + ? { } [ ] \\\\ | ( )\\nabc\\nc.t\\ncat\\nmat \\nhat\\nbat\\nfat\\nsat\\n01092329340\\n01123234355\\n01023455411\\n01234567875\\n01534567456\\n01134567856\\nAhmed-com\\n321-555-4321\\n123.555.1234\\n123*555*1234\\n123*555-1234\\n123-555*1234\\n800-555-1234\\n900-555-1234\\n100a121C4543\\nMr. Schafer\\nMr Smith\\nMs Davis\\nMrs. Robinson\\nMr. T\\nMr. \\n'"
            ]
          },
          "execution_count": 12,
          "metadata": {},
          "output_type": "execute_result"
        }
      ],
      "source": [
        "mytext"
      ]
    },
    {
      "cell_type": "code",
      "execution_count": null,
      "metadata": {
        "ExecuteTime": {
          "end_time": "2025-05-09T08:03:32.741495Z",
          "start_time": "2025-05-09T08:03:32.730998Z"
        },
        "id": "YCCA_E0X5u5C",
        "outputId": "156a77cd-6502-4493-f500-e15159a80b0f"
      },
      "outputs": [
        {
          "name": "stdout",
          "output_type": "stream",
          "text": [
            "<re.Match object; span=(247, 256), match='Ahmed-com'>\n"
          ]
        }
      ],
      "source": [
        "pattern = re.compile(r\"Ahmed.com\")  # the dot is a place holder\n",
        "matches = pattern.finditer(mytext)\n",
        "l = [ ]\n",
        "for match in matches:\n",
        "    print(match)"
      ]
    },
    {
      "cell_type": "code",
      "execution_count": null,
      "metadata": {
        "ExecuteTime": {
          "end_time": "2025-05-09T08:03:54.971922Z",
          "start_time": "2025-05-09T08:03:54.963478Z"
        },
        "id": "8GUvng555u5D"
      },
      "outputs": [],
      "source": [
        "pattern = re.compile(\"Ahmed\\.com\") # search for coreyms.com exactly\n",
        "matches = pattern.finditer(mytext)\n",
        "for match in matches:\n",
        "    print(match)"
      ]
    },
    {
      "cell_type": "code",
      "execution_count": null,
      "metadata": {
        "ExecuteTime": {
          "end_time": "2025-05-09T08:04:03.676556Z",
          "start_time": "2025-05-09T08:04:03.664519Z"
        },
        "id": "8gFqaPwZ5u5F",
        "outputId": "27ff3704-48f3-4e3e-c8fd-f0885ac30258"
      },
      "outputs": [
        {
          "name": "stdout",
          "output_type": "stream",
          "text": [
            "<re.Match object; span=(3, 4), match='d'>\n",
            "<re.Match object; span=(94, 95), match='d'>\n",
            "<re.Match object; span=(108, 109), match='d'>\n",
            "<re.Match object; span=(251, 252), match='d'>\n"
          ]
        }
      ],
      "source": [
        "pattern = re.compile(\"d\") # search for letter d\n",
        "matches = pattern.finditer(mytext)\n",
        "for match in matches:\n",
        "    print(match)"
      ]
    },
    {
      "cell_type": "code",
      "execution_count": null,
      "metadata": {
        "ExecuteTime": {
          "end_time": "2025-03-14T21:42:24.899129Z",
          "start_time": "2025-03-14T21:42:24.891698Z"
        },
        "scrolled": false,
        "id": "UpbYD9Uj5u5F",
        "outputId": "0feb604d-62e7-4d37-a29e-8b81b19e33e9"
      },
      "outputs": [
        {
          "name": "stdout",
          "output_type": "stream",
          "text": [
            "<re.Match object; span=(54, 55), match='1'>\n",
            "<re.Match object; span=(55, 56), match='2'>\n",
            "<re.Match object; span=(56, 57), match='3'>\n",
            "<re.Match object; span=(57, 58), match='4'>\n",
            "<re.Match object; span=(58, 59), match='5'>\n",
            "<re.Match object; span=(59, 60), match='6'>\n",
            "<re.Match object; span=(60, 61), match='7'>\n",
            "<re.Match object; span=(61, 62), match='8'>\n",
            "<re.Match object; span=(62, 63), match='9'>\n",
            "<re.Match object; span=(63, 64), match='0'>\n",
            "<re.Match object; span=(64, 65), match='1'>\n",
            "<re.Match object; span=(65, 66), match='0'>\n",
            "<re.Match object; span=(175, 176), match='0'>\n",
            "<re.Match object; span=(176, 177), match='1'>\n",
            "<re.Match object; span=(177, 178), match='0'>\n",
            "<re.Match object; span=(178, 179), match='9'>\n",
            "<re.Match object; span=(179, 180), match='2'>\n",
            "<re.Match object; span=(180, 181), match='3'>\n",
            "<re.Match object; span=(181, 182), match='2'>\n",
            "<re.Match object; span=(182, 183), match='9'>\n",
            "<re.Match object; span=(183, 184), match='3'>\n",
            "<re.Match object; span=(184, 185), match='4'>\n",
            "<re.Match object; span=(185, 186), match='0'>\n",
            "<re.Match object; span=(187, 188), match='0'>\n",
            "<re.Match object; span=(188, 189), match='1'>\n",
            "<re.Match object; span=(189, 190), match='1'>\n",
            "<re.Match object; span=(190, 191), match='2'>\n",
            "<re.Match object; span=(191, 192), match='3'>\n",
            "<re.Match object; span=(192, 193), match='2'>\n",
            "<re.Match object; span=(193, 194), match='3'>\n",
            "<re.Match object; span=(194, 195), match='4'>\n",
            "<re.Match object; span=(195, 196), match='3'>\n",
            "<re.Match object; span=(196, 197), match='5'>\n",
            "<re.Match object; span=(197, 198), match='5'>\n",
            "<re.Match object; span=(199, 200), match='0'>\n",
            "<re.Match object; span=(200, 201), match='1'>\n",
            "<re.Match object; span=(201, 202), match='0'>\n",
            "<re.Match object; span=(202, 203), match='2'>\n",
            "<re.Match object; span=(203, 204), match='3'>\n",
            "<re.Match object; span=(204, 205), match='4'>\n",
            "<re.Match object; span=(205, 206), match='5'>\n",
            "<re.Match object; span=(206, 207), match='5'>\n",
            "<re.Match object; span=(207, 208), match='4'>\n",
            "<re.Match object; span=(208, 209), match='1'>\n",
            "<re.Match object; span=(209, 210), match='1'>\n",
            "<re.Match object; span=(211, 212), match='0'>\n",
            "<re.Match object; span=(212, 213), match='1'>\n",
            "<re.Match object; span=(213, 214), match='2'>\n",
            "<re.Match object; span=(214, 215), match='3'>\n",
            "<re.Match object; span=(215, 216), match='4'>\n",
            "<re.Match object; span=(216, 217), match='5'>\n",
            "<re.Match object; span=(217, 218), match='6'>\n",
            "<re.Match object; span=(218, 219), match='7'>\n",
            "<re.Match object; span=(219, 220), match='8'>\n",
            "<re.Match object; span=(220, 221), match='7'>\n",
            "<re.Match object; span=(221, 222), match='5'>\n",
            "<re.Match object; span=(223, 224), match='0'>\n",
            "<re.Match object; span=(224, 225), match='1'>\n",
            "<re.Match object; span=(225, 226), match='5'>\n",
            "<re.Match object; span=(226, 227), match='3'>\n",
            "<re.Match object; span=(227, 228), match='4'>\n",
            "<re.Match object; span=(228, 229), match='5'>\n",
            "<re.Match object; span=(229, 230), match='6'>\n",
            "<re.Match object; span=(230, 231), match='7'>\n",
            "<re.Match object; span=(231, 232), match='4'>\n",
            "<re.Match object; span=(232, 233), match='5'>\n",
            "<re.Match object; span=(233, 234), match='6'>\n",
            "<re.Match object; span=(235, 236), match='0'>\n",
            "<re.Match object; span=(236, 237), match='1'>\n",
            "<re.Match object; span=(237, 238), match='1'>\n",
            "<re.Match object; span=(238, 239), match='3'>\n",
            "<re.Match object; span=(239, 240), match='4'>\n",
            "<re.Match object; span=(240, 241), match='5'>\n",
            "<re.Match object; span=(241, 242), match='6'>\n",
            "<re.Match object; span=(242, 243), match='7'>\n",
            "<re.Match object; span=(243, 244), match='8'>\n",
            "<re.Match object; span=(244, 245), match='5'>\n",
            "<re.Match object; span=(245, 246), match='6'>\n",
            "<re.Match object; span=(257, 258), match='3'>\n",
            "<re.Match object; span=(258, 259), match='2'>\n",
            "<re.Match object; span=(259, 260), match='1'>\n",
            "<re.Match object; span=(261, 262), match='5'>\n",
            "<re.Match object; span=(262, 263), match='5'>\n",
            "<re.Match object; span=(263, 264), match='5'>\n",
            "<re.Match object; span=(265, 266), match='4'>\n",
            "<re.Match object; span=(266, 267), match='3'>\n",
            "<re.Match object; span=(267, 268), match='2'>\n",
            "<re.Match object; span=(268, 269), match='1'>\n",
            "<re.Match object; span=(270, 271), match='1'>\n",
            "<re.Match object; span=(271, 272), match='2'>\n",
            "<re.Match object; span=(272, 273), match='3'>\n",
            "<re.Match object; span=(274, 275), match='5'>\n",
            "<re.Match object; span=(275, 276), match='5'>\n",
            "<re.Match object; span=(276, 277), match='5'>\n",
            "<re.Match object; span=(278, 279), match='1'>\n",
            "<re.Match object; span=(279, 280), match='2'>\n",
            "<re.Match object; span=(280, 281), match='3'>\n",
            "<re.Match object; span=(281, 282), match='4'>\n",
            "<re.Match object; span=(283, 284), match='1'>\n",
            "<re.Match object; span=(284, 285), match='2'>\n",
            "<re.Match object; span=(285, 286), match='3'>\n",
            "<re.Match object; span=(287, 288), match='5'>\n",
            "<re.Match object; span=(288, 289), match='5'>\n",
            "<re.Match object; span=(289, 290), match='5'>\n",
            "<re.Match object; span=(291, 292), match='1'>\n",
            "<re.Match object; span=(292, 293), match='2'>\n",
            "<re.Match object; span=(293, 294), match='3'>\n",
            "<re.Match object; span=(294, 295), match='4'>\n",
            "<re.Match object; span=(296, 297), match='1'>\n",
            "<re.Match object; span=(297, 298), match='2'>\n",
            "<re.Match object; span=(298, 299), match='3'>\n",
            "<re.Match object; span=(300, 301), match='5'>\n",
            "<re.Match object; span=(301, 302), match='5'>\n",
            "<re.Match object; span=(302, 303), match='5'>\n",
            "<re.Match object; span=(304, 305), match='1'>\n",
            "<re.Match object; span=(305, 306), match='2'>\n",
            "<re.Match object; span=(306, 307), match='3'>\n",
            "<re.Match object; span=(307, 308), match='4'>\n",
            "<re.Match object; span=(309, 310), match='1'>\n",
            "<re.Match object; span=(310, 311), match='2'>\n",
            "<re.Match object; span=(311, 312), match='3'>\n",
            "<re.Match object; span=(313, 314), match='5'>\n",
            "<re.Match object; span=(314, 315), match='5'>\n",
            "<re.Match object; span=(315, 316), match='5'>\n",
            "<re.Match object; span=(317, 318), match='1'>\n",
            "<re.Match object; span=(318, 319), match='2'>\n",
            "<re.Match object; span=(319, 320), match='3'>\n",
            "<re.Match object; span=(320, 321), match='4'>\n",
            "<re.Match object; span=(322, 323), match='8'>\n",
            "<re.Match object; span=(323, 324), match='0'>\n",
            "<re.Match object; span=(324, 325), match='0'>\n",
            "<re.Match object; span=(326, 327), match='5'>\n",
            "<re.Match object; span=(327, 328), match='5'>\n",
            "<re.Match object; span=(328, 329), match='5'>\n",
            "<re.Match object; span=(330, 331), match='1'>\n",
            "<re.Match object; span=(331, 332), match='2'>\n",
            "<re.Match object; span=(332, 333), match='3'>\n",
            "<re.Match object; span=(333, 334), match='4'>\n",
            "<re.Match object; span=(335, 336), match='9'>\n",
            "<re.Match object; span=(336, 337), match='0'>\n",
            "<re.Match object; span=(337, 338), match='0'>\n",
            "<re.Match object; span=(339, 340), match='5'>\n",
            "<re.Match object; span=(340, 341), match='5'>\n",
            "<re.Match object; span=(341, 342), match='5'>\n",
            "<re.Match object; span=(343, 344), match='1'>\n",
            "<re.Match object; span=(344, 345), match='2'>\n",
            "<re.Match object; span=(345, 346), match='3'>\n",
            "<re.Match object; span=(346, 347), match='4'>\n",
            "<re.Match object; span=(348, 349), match='1'>\n",
            "<re.Match object; span=(349, 350), match='0'>\n",
            "<re.Match object; span=(350, 351), match='0'>\n",
            "<re.Match object; span=(352, 353), match='1'>\n",
            "<re.Match object; span=(353, 354), match='2'>\n",
            "<re.Match object; span=(354, 355), match='1'>\n",
            "<re.Match object; span=(356, 357), match='4'>\n",
            "<re.Match object; span=(357, 358), match='5'>\n",
            "<re.Match object; span=(358, 359), match='4'>\n",
            "<re.Match object; span=(359, 360), match='3'>\n"
          ]
        }
      ],
      "source": [
        "pattern = re.compile(r\"\\d\") # matches digits\n",
        "matches = pattern.finditer(mytext)\n",
        "for match in matches:\n",
        "    print(match)"
      ]
    },
    {
      "cell_type": "code",
      "execution_count": null,
      "metadata": {
        "ExecuteTime": {
          "end_time": "2025-02-15T15:39:58.625419Z",
          "start_time": "2025-02-15T15:39:58.614629Z"
        },
        "scrolled": true,
        "id": "lxfBeNAG5u5F",
        "outputId": "9e2e8b4d-d74e-4358-9060-07a0b7e9027c"
      },
      "outputs": [
        {
          "name": "stdout",
          "output_type": "stream",
          "text": [
            "<re.Match object; span=(0, 1), match='a'>\n",
            "<re.Match object; span=(1, 2), match='b'>\n",
            "<re.Match object; span=(2, 3), match='c'>\n",
            "<re.Match object; span=(3, 4), match='d'>\n",
            "<re.Match object; span=(4, 5), match='e'>\n",
            "<re.Match object; span=(5, 6), match='f'>\n",
            "<re.Match object; span=(6, 7), match='g'>\n",
            "<re.Match object; span=(7, 8), match='h'>\n",
            "<re.Match object; span=(8, 9), match='i'>\n",
            "<re.Match object; span=(9, 10), match='j'>\n",
            "<re.Match object; span=(10, 11), match='k'>\n",
            "<re.Match object; span=(11, 12), match='l'>\n",
            "<re.Match object; span=(12, 13), match='m'>\n",
            "<re.Match object; span=(13, 14), match='n'>\n",
            "<re.Match object; span=(14, 15), match='o'>\n",
            "<re.Match object; span=(15, 16), match='p'>\n",
            "<re.Match object; span=(16, 17), match='q'>\n",
            "<re.Match object; span=(17, 18), match='u'>\n",
            "<re.Match object; span=(18, 19), match='r'>\n",
            "<re.Match object; span=(19, 20), match='t'>\n",
            "<re.Match object; span=(20, 21), match='u'>\n",
            "<re.Match object; span=(21, 22), match='v'>\n",
            "<re.Match object; span=(22, 23), match='w'>\n",
            "<re.Match object; span=(23, 24), match='x'>\n",
            "<re.Match object; span=(24, 25), match='y'>\n",
            "<re.Match object; span=(25, 26), match='z'>\n",
            "<re.Match object; span=(26, 27), match='\\n'>\n",
            "<re.Match object; span=(27, 28), match='A'>\n",
            "<re.Match object; span=(28, 29), match='B'>\n",
            "<re.Match object; span=(29, 30), match='C'>\n",
            "<re.Match object; span=(30, 31), match='D'>\n",
            "<re.Match object; span=(31, 32), match='E'>\n",
            "<re.Match object; span=(32, 33), match='F'>\n",
            "<re.Match object; span=(33, 34), match='G'>\n",
            "<re.Match object; span=(34, 35), match='H'>\n",
            "<re.Match object; span=(35, 36), match='I'>\n",
            "<re.Match object; span=(36, 37), match='J'>\n",
            "<re.Match object; span=(37, 38), match='K'>\n",
            "<re.Match object; span=(38, 39), match='L'>\n",
            "<re.Match object; span=(39, 40), match='M'>\n",
            "<re.Match object; span=(40, 41), match='N'>\n",
            "<re.Match object; span=(41, 42), match='O'>\n",
            "<re.Match object; span=(42, 43), match='P'>\n",
            "<re.Match object; span=(43, 44), match='Q'>\n",
            "<re.Match object; span=(44, 45), match='R'>\n",
            "<re.Match object; span=(45, 46), match='S'>\n",
            "<re.Match object; span=(46, 47), match='T'>\n",
            "<re.Match object; span=(47, 48), match='U'>\n",
            "<re.Match object; span=(48, 49), match='V'>\n",
            "<re.Match object; span=(49, 50), match='W'>\n",
            "<re.Match object; span=(50, 51), match='X'>\n",
            "<re.Match object; span=(51, 52), match='Y'>\n",
            "<re.Match object; span=(52, 53), match='Z'>\n",
            "<re.Match object; span=(53, 54), match='\\n'>\n",
            "<re.Match object; span=(66, 67), match='\\n'>\n",
            "<re.Match object; span=(67, 68), match='H'>\n",
            "<re.Match object; span=(68, 69), match='a'>\n",
            "<re.Match object; span=(69, 70), match=' '>\n",
            "<re.Match object; span=(70, 71), match='H'>\n",
            "<re.Match object; span=(71, 72), match='a'>\n",
            "<re.Match object; span=(72, 73), match='H'>\n",
            "<re.Match object; span=(73, 74), match='a'>\n",
            "<re.Match object; span=(74, 75), match='\\n'>\n",
            "<re.Match object; span=(75, 76), match='M'>\n",
            "<re.Match object; span=(76, 77), match='e'>\n",
            "<re.Match object; span=(77, 78), match='t'>\n",
            "<re.Match object; span=(78, 79), match='a'>\n",
            "<re.Match object; span=(79, 80), match='C'>\n",
            "<re.Match object; span=(80, 81), match='h'>\n",
            "<re.Match object; span=(81, 82), match='a'>\n",
            "<re.Match object; span=(82, 83), match='r'>\n",
            "<re.Match object; span=(83, 84), match='a'>\n",
            "<re.Match object; span=(84, 85), match='c'>\n",
            "<re.Match object; span=(85, 86), match='t'>\n",
            "<re.Match object; span=(86, 87), match='e'>\n",
            "<re.Match object; span=(87, 88), match='r'>\n",
            "<re.Match object; span=(88, 89), match='s'>\n",
            "<re.Match object; span=(89, 90), match=' '>\n",
            "<re.Match object; span=(90, 91), match='('>\n",
            "<re.Match object; span=(91, 92), match='N'>\n",
            "<re.Match object; span=(92, 93), match='e'>\n",
            "<re.Match object; span=(93, 94), match='e'>\n",
            "<re.Match object; span=(94, 95), match='d'>\n",
            "<re.Match object; span=(95, 96), match=' '>\n",
            "<re.Match object; span=(96, 97), match='t'>\n",
            "<re.Match object; span=(97, 98), match='o'>\n",
            "<re.Match object; span=(98, 99), match=' '>\n",
            "<re.Match object; span=(99, 100), match='b'>\n",
            "<re.Match object; span=(100, 101), match='e'>\n",
            "<re.Match object; span=(101, 102), match=' '>\n",
            "<re.Match object; span=(102, 103), match='e'>\n",
            "<re.Match object; span=(103, 104), match='s'>\n",
            "<re.Match object; span=(104, 105), match='c'>\n",
            "<re.Match object; span=(105, 106), match='a'>\n",
            "<re.Match object; span=(106, 107), match='p'>\n",
            "<re.Match object; span=(107, 108), match='e'>\n",
            "<re.Match object; span=(108, 109), match='d'>\n",
            "<re.Match object; span=(109, 110), match=')'>\n",
            "<re.Match object; span=(110, 111), match=':'>\n",
            "<re.Match object; span=(111, 112), match='\\n'>\n",
            "<re.Match object; span=(112, 113), match='.'>\n",
            "<re.Match object; span=(113, 114), match=' '>\n",
            "<re.Match object; span=(114, 115), match='^'>\n",
            "<re.Match object; span=(115, 116), match=' '>\n",
            "<re.Match object; span=(116, 117), match='_'>\n",
            "<re.Match object; span=(117, 118), match=' '>\n",
            "<re.Match object; span=(118, 119), match='$'>\n",
            "<re.Match object; span=(119, 120), match=' '>\n",
            "<re.Match object; span=(120, 121), match='*'>\n",
            "<re.Match object; span=(121, 122), match=' '>\n",
            "<re.Match object; span=(122, 123), match='+'>\n",
            "<re.Match object; span=(123, 124), match=' '>\n",
            "<re.Match object; span=(124, 125), match='?'>\n",
            "<re.Match object; span=(125, 126), match=' '>\n",
            "<re.Match object; span=(126, 127), match='{'>\n",
            "<re.Match object; span=(127, 128), match=' '>\n",
            "<re.Match object; span=(128, 129), match='}'>\n",
            "<re.Match object; span=(129, 130), match=' '>\n",
            "<re.Match object; span=(130, 131), match='['>\n",
            "<re.Match object; span=(131, 132), match=' '>\n",
            "<re.Match object; span=(132, 133), match=']'>\n",
            "<re.Match object; span=(133, 134), match=' '>\n",
            "<re.Match object; span=(134, 135), match='\\\\'>\n",
            "<re.Match object; span=(135, 136), match=' '>\n",
            "<re.Match object; span=(136, 137), match='|'>\n",
            "<re.Match object; span=(137, 138), match=' '>\n",
            "<re.Match object; span=(138, 139), match='('>\n",
            "<re.Match object; span=(139, 140), match=' '>\n",
            "<re.Match object; span=(140, 141), match=')'>\n",
            "<re.Match object; span=(141, 142), match='\\n'>\n",
            "<re.Match object; span=(142, 143), match='a'>\n",
            "<re.Match object; span=(143, 144), match='b'>\n",
            "<re.Match object; span=(144, 145), match='c'>\n",
            "<re.Match object; span=(145, 146), match='\\n'>\n",
            "<re.Match object; span=(146, 147), match='c'>\n",
            "<re.Match object; span=(147, 148), match='.'>\n",
            "<re.Match object; span=(148, 149), match='t'>\n",
            "<re.Match object; span=(149, 150), match='\\n'>\n",
            "<re.Match object; span=(150, 151), match='c'>\n",
            "<re.Match object; span=(151, 152), match='a'>\n",
            "<re.Match object; span=(152, 153), match='t'>\n",
            "<re.Match object; span=(153, 154), match='\\n'>\n",
            "<re.Match object; span=(154, 155), match='m'>\n",
            "<re.Match object; span=(155, 156), match='a'>\n",
            "<re.Match object; span=(156, 157), match='t'>\n",
            "<re.Match object; span=(157, 158), match=' '>\n",
            "<re.Match object; span=(158, 159), match='\\n'>\n",
            "<re.Match object; span=(159, 160), match='h'>\n",
            "<re.Match object; span=(160, 161), match='a'>\n",
            "<re.Match object; span=(161, 162), match='t'>\n",
            "<re.Match object; span=(162, 163), match='\\n'>\n",
            "<re.Match object; span=(163, 164), match='b'>\n",
            "<re.Match object; span=(164, 165), match='a'>\n",
            "<re.Match object; span=(165, 166), match='t'>\n",
            "<re.Match object; span=(166, 167), match='\\n'>\n",
            "<re.Match object; span=(167, 168), match='f'>\n",
            "<re.Match object; span=(168, 169), match='a'>\n",
            "<re.Match object; span=(169, 170), match='t'>\n",
            "<re.Match object; span=(170, 171), match='\\n'>\n",
            "<re.Match object; span=(171, 172), match='s'>\n",
            "<re.Match object; span=(172, 173), match='a'>\n",
            "<re.Match object; span=(173, 174), match='t'>\n",
            "<re.Match object; span=(174, 175), match='\\n'>\n",
            "<re.Match object; span=(186, 187), match='\\n'>\n",
            "<re.Match object; span=(198, 199), match='\\n'>\n",
            "<re.Match object; span=(210, 211), match='\\n'>\n",
            "<re.Match object; span=(222, 223), match='\\n'>\n",
            "<re.Match object; span=(234, 235), match='\\n'>\n",
            "<re.Match object; span=(246, 247), match='\\n'>\n",
            "<re.Match object; span=(247, 248), match='A'>\n",
            "<re.Match object; span=(248, 249), match='h'>\n",
            "<re.Match object; span=(249, 250), match='m'>\n",
            "<re.Match object; span=(250, 251), match='e'>\n",
            "<re.Match object; span=(251, 252), match='d'>\n",
            "<re.Match object; span=(252, 253), match='-'>\n",
            "<re.Match object; span=(253, 254), match='c'>\n",
            "<re.Match object; span=(254, 255), match='o'>\n",
            "<re.Match object; span=(255, 256), match='m'>\n",
            "<re.Match object; span=(256, 257), match='\\n'>\n",
            "<re.Match object; span=(260, 261), match='-'>\n",
            "<re.Match object; span=(264, 265), match='-'>\n",
            "<re.Match object; span=(269, 270), match='\\n'>\n",
            "<re.Match object; span=(273, 274), match='.'>\n",
            "<re.Match object; span=(277, 278), match='.'>\n",
            "<re.Match object; span=(282, 283), match='\\n'>\n",
            "<re.Match object; span=(286, 287), match='*'>\n",
            "<re.Match object; span=(290, 291), match='*'>\n",
            "<re.Match object; span=(295, 296), match='\\n'>\n",
            "<re.Match object; span=(299, 300), match='*'>\n",
            "<re.Match object; span=(303, 304), match='-'>\n",
            "<re.Match object; span=(308, 309), match='\\n'>\n",
            "<re.Match object; span=(312, 313), match='-'>\n",
            "<re.Match object; span=(316, 317), match='*'>\n",
            "<re.Match object; span=(321, 322), match='\\n'>\n",
            "<re.Match object; span=(325, 326), match='-'>\n",
            "<re.Match object; span=(329, 330), match='-'>\n",
            "<re.Match object; span=(334, 335), match='\\n'>\n",
            "<re.Match object; span=(338, 339), match='-'>\n",
            "<re.Match object; span=(342, 343), match='-'>\n",
            "<re.Match object; span=(347, 348), match='\\n'>\n",
            "<re.Match object; span=(351, 352), match='a'>\n",
            "<re.Match object; span=(355, 356), match='C'>\n",
            "<re.Match object; span=(360, 361), match='\\n'>\n",
            "<re.Match object; span=(361, 362), match='M'>\n",
            "<re.Match object; span=(362, 363), match='r'>\n",
            "<re.Match object; span=(363, 364), match='.'>\n",
            "<re.Match object; span=(364, 365), match=' '>\n",
            "<re.Match object; span=(365, 366), match='S'>\n",
            "<re.Match object; span=(366, 367), match='c'>\n",
            "<re.Match object; span=(367, 368), match='h'>\n",
            "<re.Match object; span=(368, 369), match='a'>\n",
            "<re.Match object; span=(369, 370), match='f'>\n",
            "<re.Match object; span=(370, 371), match='e'>\n",
            "<re.Match object; span=(371, 372), match='r'>\n",
            "<re.Match object; span=(372, 373), match='\\n'>\n",
            "<re.Match object; span=(373, 374), match='M'>\n",
            "<re.Match object; span=(374, 375), match='r'>\n",
            "<re.Match object; span=(375, 376), match=' '>\n",
            "<re.Match object; span=(376, 377), match='S'>\n",
            "<re.Match object; span=(377, 378), match='m'>\n",
            "<re.Match object; span=(378, 379), match='i'>\n",
            "<re.Match object; span=(379, 380), match='t'>\n",
            "<re.Match object; span=(380, 381), match='h'>\n",
            "<re.Match object; span=(381, 382), match='\\n'>\n",
            "<re.Match object; span=(382, 383), match='M'>\n",
            "<re.Match object; span=(383, 384), match='s'>\n",
            "<re.Match object; span=(384, 385), match=' '>\n",
            "<re.Match object; span=(385, 386), match='D'>\n",
            "<re.Match object; span=(386, 387), match='a'>\n",
            "<re.Match object; span=(387, 388), match='v'>\n",
            "<re.Match object; span=(388, 389), match='i'>\n",
            "<re.Match object; span=(389, 390), match='s'>\n",
            "<re.Match object; span=(390, 391), match='\\n'>\n",
            "<re.Match object; span=(391, 392), match='M'>\n",
            "<re.Match object; span=(392, 393), match='r'>\n",
            "<re.Match object; span=(393, 394), match='s'>\n",
            "<re.Match object; span=(394, 395), match='.'>\n",
            "<re.Match object; span=(395, 396), match=' '>\n",
            "<re.Match object; span=(396, 397), match='R'>\n",
            "<re.Match object; span=(397, 398), match='o'>\n",
            "<re.Match object; span=(398, 399), match='b'>\n",
            "<re.Match object; span=(399, 400), match='i'>\n",
            "<re.Match object; span=(400, 401), match='n'>\n",
            "<re.Match object; span=(401, 402), match='s'>\n",
            "<re.Match object; span=(402, 403), match='o'>\n",
            "<re.Match object; span=(403, 404), match='n'>\n",
            "<re.Match object; span=(404, 405), match='\\n'>\n",
            "<re.Match object; span=(405, 406), match='M'>\n",
            "<re.Match object; span=(406, 407), match='r'>\n",
            "<re.Match object; span=(407, 408), match='.'>\n",
            "<re.Match object; span=(408, 409), match=' '>\n",
            "<re.Match object; span=(409, 410), match='T'>\n",
            "<re.Match object; span=(410, 411), match='\\n'>\n",
            "<re.Match object; span=(411, 412), match='M'>\n",
            "<re.Match object; span=(412, 413), match='r'>\n",
            "<re.Match object; span=(413, 414), match='.'>\n",
            "<re.Match object; span=(414, 415), match=' '>\n",
            "<re.Match object; span=(415, 416), match='\\n'>\n"
          ]
        }
      ],
      "source": [
        "pattern = re.compile(r\"\\D\") # matches not a digit\n",
        "matches = pattern.finditer(mytext)\n",
        "for match in matches:\n",
        "    print(match)"
      ]
    },
    {
      "cell_type": "code",
      "execution_count": null,
      "metadata": {
        "ExecuteTime": {
          "end_time": "2025-02-15T15:40:17.064648Z",
          "start_time": "2025-02-15T15:40:17.056110Z"
        },
        "id": "6pNXjlMF5u5F",
        "outputId": "160caa3c-57df-45c6-f07a-fcc355233edc"
      },
      "outputs": [
        {
          "data": {
            "text/plain": [
              "'abcdefghijklmnopqurtuvwxyz\\nABCDEFGHIJKLMNOPQRSTUVWXYZ\\n123456789010\\nHa HaHa\\nMetaCharacters (Need to be escaped):\\n. ^ _ $ * + ? { } [ ] \\\\ | ( )\\nabc\\nc.t\\ncat\\nmat \\nhat\\nbat\\nfat\\nsat\\n01092329340\\n01123234355\\n01023455411\\n01234567875\\n01534567456\\n01134567856\\nAhmed-com\\n321-555-4321\\n123.555.1234\\n123*555*1234\\n123*555-1234\\n123-555*1234\\n800-555-1234\\n900-555-1234\\n100a121C4543\\nMr. Schafer\\nMr Smith\\nMs Davis\\nMrs. Robinson\\nMr. T\\nMr. \\n'"
            ]
          },
          "execution_count": 21,
          "metadata": {},
          "output_type": "execute_result"
        }
      ],
      "source": [
        "mytext"
      ]
    },
    {
      "cell_type": "code",
      "execution_count": null,
      "metadata": {
        "ExecuteTime": {
          "end_time": "2025-05-09T08:05:03.247487Z",
          "start_time": "2025-05-09T08:05:03.231654Z"
        },
        "scrolled": true,
        "id": "IoHp1tdt5u5F",
        "outputId": "160e3b38-3744-48b5-c79f-77257326db9e"
      },
      "outputs": [
        {
          "name": "stdout",
          "output_type": "stream",
          "text": [
            "<re.Match object; span=(54, 56), match='12'>\n",
            "<re.Match object; span=(56, 58), match='34'>\n",
            "<re.Match object; span=(58, 60), match='56'>\n",
            "<re.Match object; span=(60, 62), match='78'>\n",
            "<re.Match object; span=(62, 64), match='90'>\n",
            "<re.Match object; span=(64, 66), match='10'>\n",
            "<re.Match object; span=(175, 177), match='01'>\n",
            "<re.Match object; span=(177, 179), match='09'>\n",
            "<re.Match object; span=(179, 181), match='23'>\n",
            "<re.Match object; span=(181, 183), match='29'>\n",
            "<re.Match object; span=(183, 185), match='34'>\n",
            "<re.Match object; span=(187, 189), match='01'>\n",
            "<re.Match object; span=(189, 191), match='12'>\n",
            "<re.Match object; span=(191, 193), match='32'>\n",
            "<re.Match object; span=(193, 195), match='34'>\n",
            "<re.Match object; span=(195, 197), match='35'>\n",
            "<re.Match object; span=(199, 201), match='01'>\n",
            "<re.Match object; span=(201, 203), match='02'>\n",
            "<re.Match object; span=(203, 205), match='34'>\n",
            "<re.Match object; span=(205, 207), match='55'>\n",
            "<re.Match object; span=(207, 209), match='41'>\n",
            "<re.Match object; span=(211, 213), match='01'>\n",
            "<re.Match object; span=(213, 215), match='23'>\n",
            "<re.Match object; span=(215, 217), match='45'>\n",
            "<re.Match object; span=(217, 219), match='67'>\n",
            "<re.Match object; span=(219, 221), match='87'>\n",
            "<re.Match object; span=(223, 225), match='01'>\n",
            "<re.Match object; span=(225, 227), match='53'>\n",
            "<re.Match object; span=(227, 229), match='45'>\n",
            "<re.Match object; span=(229, 231), match='67'>\n",
            "<re.Match object; span=(231, 233), match='45'>\n",
            "<re.Match object; span=(235, 237), match='01'>\n",
            "<re.Match object; span=(237, 239), match='13'>\n",
            "<re.Match object; span=(239, 241), match='45'>\n",
            "<re.Match object; span=(241, 243), match='67'>\n",
            "<re.Match object; span=(243, 245), match='85'>\n",
            "<re.Match object; span=(257, 259), match='32'>\n",
            "<re.Match object; span=(261, 263), match='55'>\n",
            "<re.Match object; span=(265, 267), match='43'>\n",
            "<re.Match object; span=(267, 269), match='21'>\n",
            "<re.Match object; span=(270, 272), match='12'>\n",
            "<re.Match object; span=(274, 276), match='55'>\n",
            "<re.Match object; span=(278, 280), match='12'>\n",
            "<re.Match object; span=(280, 282), match='34'>\n",
            "<re.Match object; span=(283, 285), match='12'>\n",
            "<re.Match object; span=(287, 289), match='55'>\n",
            "<re.Match object; span=(291, 293), match='12'>\n",
            "<re.Match object; span=(293, 295), match='34'>\n",
            "<re.Match object; span=(296, 298), match='12'>\n",
            "<re.Match object; span=(300, 302), match='55'>\n",
            "<re.Match object; span=(304, 306), match='12'>\n",
            "<re.Match object; span=(306, 308), match='34'>\n",
            "<re.Match object; span=(309, 311), match='12'>\n",
            "<re.Match object; span=(313, 315), match='55'>\n",
            "<re.Match object; span=(317, 319), match='12'>\n",
            "<re.Match object; span=(319, 321), match='34'>\n",
            "<re.Match object; span=(322, 324), match='80'>\n",
            "<re.Match object; span=(326, 328), match='55'>\n",
            "<re.Match object; span=(330, 332), match='12'>\n",
            "<re.Match object; span=(332, 334), match='34'>\n",
            "<re.Match object; span=(335, 337), match='90'>\n",
            "<re.Match object; span=(339, 341), match='55'>\n",
            "<re.Match object; span=(343, 345), match='12'>\n",
            "<re.Match object; span=(345, 347), match='34'>\n",
            "<re.Match object; span=(348, 350), match='10'>\n",
            "<re.Match object; span=(352, 354), match='12'>\n",
            "<re.Match object; span=(356, 358), match='45'>\n",
            "<re.Match object; span=(358, 360), match='43'>\n"
          ]
        }
      ],
      "source": [
        "pattern = re.compile(\"\\d\\d\") # matches two digits\n",
        "matches = pattern.finditer(mytext)\n",
        "for match in matches:\n",
        "    print(match)"
      ]
    },
    {
      "cell_type": "code",
      "execution_count": null,
      "metadata": {
        "ExecuteTime": {
          "end_time": "2025-05-09T08:06:09.279595Z",
          "start_time": "2025-05-09T08:06:09.265715Z"
        },
        "id": "74vpHqo85u5G",
        "outputId": "cd52e850-8458-4bf9-9381-cdd537fc3bd6"
      },
      "outputs": [
        {
          "name": "stdout",
          "output_type": "stream",
          "text": [
            "<re.Match object; span=(0, 1), match='a'>\n",
            "<re.Match object; span=(1, 2), match='b'>\n",
            "<re.Match object; span=(2, 3), match='c'>\n",
            "<re.Match object; span=(3, 4), match='d'>\n",
            "<re.Match object; span=(4, 5), match='e'>\n",
            "<re.Match object; span=(5, 6), match='f'>\n",
            "<re.Match object; span=(6, 7), match='g'>\n",
            "<re.Match object; span=(7, 8), match='h'>\n",
            "<re.Match object; span=(8, 9), match='i'>\n",
            "<re.Match object; span=(9, 10), match='j'>\n",
            "<re.Match object; span=(10, 11), match='k'>\n",
            "<re.Match object; span=(11, 12), match='l'>\n",
            "<re.Match object; span=(12, 13), match='m'>\n",
            "<re.Match object; span=(13, 14), match='n'>\n",
            "<re.Match object; span=(14, 15), match='o'>\n",
            "<re.Match object; span=(15, 16), match='p'>\n",
            "<re.Match object; span=(16, 17), match='q'>\n",
            "<re.Match object; span=(17, 18), match='u'>\n",
            "<re.Match object; span=(18, 19), match='r'>\n",
            "<re.Match object; span=(19, 20), match='t'>\n",
            "<re.Match object; span=(20, 21), match='u'>\n",
            "<re.Match object; span=(21, 22), match='v'>\n",
            "<re.Match object; span=(22, 23), match='w'>\n",
            "<re.Match object; span=(23, 24), match='x'>\n",
            "<re.Match object; span=(24, 25), match='y'>\n",
            "<re.Match object; span=(25, 26), match='z'>\n",
            "<re.Match object; span=(27, 28), match='A'>\n",
            "<re.Match object; span=(28, 29), match='B'>\n",
            "<re.Match object; span=(29, 30), match='C'>\n",
            "<re.Match object; span=(30, 31), match='D'>\n",
            "<re.Match object; span=(31, 32), match='E'>\n",
            "<re.Match object; span=(32, 33), match='F'>\n",
            "<re.Match object; span=(33, 34), match='G'>\n",
            "<re.Match object; span=(34, 35), match='H'>\n",
            "<re.Match object; span=(35, 36), match='I'>\n",
            "<re.Match object; span=(36, 37), match='J'>\n",
            "<re.Match object; span=(37, 38), match='K'>\n",
            "<re.Match object; span=(38, 39), match='L'>\n",
            "<re.Match object; span=(39, 40), match='M'>\n",
            "<re.Match object; span=(40, 41), match='N'>\n",
            "<re.Match object; span=(41, 42), match='O'>\n",
            "<re.Match object; span=(42, 43), match='P'>\n",
            "<re.Match object; span=(43, 44), match='Q'>\n",
            "<re.Match object; span=(44, 45), match='R'>\n",
            "<re.Match object; span=(45, 46), match='S'>\n",
            "<re.Match object; span=(46, 47), match='T'>\n",
            "<re.Match object; span=(47, 48), match='U'>\n",
            "<re.Match object; span=(48, 49), match='V'>\n",
            "<re.Match object; span=(49, 50), match='W'>\n",
            "<re.Match object; span=(50, 51), match='X'>\n",
            "<re.Match object; span=(51, 52), match='Y'>\n",
            "<re.Match object; span=(52, 53), match='Z'>\n",
            "<re.Match object; span=(54, 55), match='1'>\n",
            "<re.Match object; span=(55, 56), match='2'>\n",
            "<re.Match object; span=(56, 57), match='3'>\n",
            "<re.Match object; span=(57, 58), match='4'>\n",
            "<re.Match object; span=(58, 59), match='5'>\n",
            "<re.Match object; span=(59, 60), match='6'>\n",
            "<re.Match object; span=(60, 61), match='7'>\n",
            "<re.Match object; span=(61, 62), match='8'>\n",
            "<re.Match object; span=(62, 63), match='9'>\n",
            "<re.Match object; span=(63, 64), match='0'>\n",
            "<re.Match object; span=(64, 65), match='1'>\n",
            "<re.Match object; span=(65, 66), match='0'>\n",
            "<re.Match object; span=(67, 68), match='H'>\n",
            "<re.Match object; span=(68, 69), match='a'>\n",
            "<re.Match object; span=(70, 71), match='H'>\n",
            "<re.Match object; span=(71, 72), match='a'>\n",
            "<re.Match object; span=(72, 73), match='H'>\n",
            "<re.Match object; span=(73, 74), match='a'>\n",
            "<re.Match object; span=(75, 76), match='M'>\n",
            "<re.Match object; span=(76, 77), match='e'>\n",
            "<re.Match object; span=(77, 78), match='t'>\n",
            "<re.Match object; span=(78, 79), match='a'>\n",
            "<re.Match object; span=(79, 80), match='C'>\n",
            "<re.Match object; span=(80, 81), match='h'>\n",
            "<re.Match object; span=(81, 82), match='a'>\n",
            "<re.Match object; span=(82, 83), match='r'>\n",
            "<re.Match object; span=(83, 84), match='a'>\n",
            "<re.Match object; span=(84, 85), match='c'>\n",
            "<re.Match object; span=(85, 86), match='t'>\n",
            "<re.Match object; span=(86, 87), match='e'>\n",
            "<re.Match object; span=(87, 88), match='r'>\n",
            "<re.Match object; span=(88, 89), match='s'>\n",
            "<re.Match object; span=(91, 92), match='N'>\n",
            "<re.Match object; span=(92, 93), match='e'>\n",
            "<re.Match object; span=(93, 94), match='e'>\n",
            "<re.Match object; span=(94, 95), match='d'>\n",
            "<re.Match object; span=(96, 97), match='t'>\n",
            "<re.Match object; span=(97, 98), match='o'>\n",
            "<re.Match object; span=(99, 100), match='b'>\n",
            "<re.Match object; span=(100, 101), match='e'>\n",
            "<re.Match object; span=(102, 103), match='e'>\n",
            "<re.Match object; span=(103, 104), match='s'>\n",
            "<re.Match object; span=(104, 105), match='c'>\n",
            "<re.Match object; span=(105, 106), match='a'>\n",
            "<re.Match object; span=(106, 107), match='p'>\n",
            "<re.Match object; span=(107, 108), match='e'>\n",
            "<re.Match object; span=(108, 109), match='d'>\n",
            "<re.Match object; span=(116, 117), match='_'>\n",
            "<re.Match object; span=(142, 143), match='a'>\n",
            "<re.Match object; span=(143, 144), match='b'>\n",
            "<re.Match object; span=(144, 145), match='c'>\n",
            "<re.Match object; span=(146, 147), match='c'>\n",
            "<re.Match object; span=(148, 149), match='t'>\n",
            "<re.Match object; span=(150, 151), match='c'>\n",
            "<re.Match object; span=(151, 152), match='a'>\n",
            "<re.Match object; span=(152, 153), match='t'>\n",
            "<re.Match object; span=(154, 155), match='m'>\n",
            "<re.Match object; span=(155, 156), match='a'>\n",
            "<re.Match object; span=(156, 157), match='t'>\n",
            "<re.Match object; span=(159, 160), match='h'>\n",
            "<re.Match object; span=(160, 161), match='a'>\n",
            "<re.Match object; span=(161, 162), match='t'>\n",
            "<re.Match object; span=(163, 164), match='b'>\n",
            "<re.Match object; span=(164, 165), match='a'>\n",
            "<re.Match object; span=(165, 166), match='t'>\n",
            "<re.Match object; span=(167, 168), match='f'>\n",
            "<re.Match object; span=(168, 169), match='a'>\n",
            "<re.Match object; span=(169, 170), match='t'>\n",
            "<re.Match object; span=(171, 172), match='s'>\n",
            "<re.Match object; span=(172, 173), match='a'>\n",
            "<re.Match object; span=(173, 174), match='t'>\n",
            "<re.Match object; span=(175, 176), match='0'>\n",
            "<re.Match object; span=(176, 177), match='1'>\n",
            "<re.Match object; span=(177, 178), match='0'>\n",
            "<re.Match object; span=(178, 179), match='9'>\n",
            "<re.Match object; span=(179, 180), match='2'>\n",
            "<re.Match object; span=(180, 181), match='3'>\n",
            "<re.Match object; span=(181, 182), match='2'>\n",
            "<re.Match object; span=(182, 183), match='9'>\n",
            "<re.Match object; span=(183, 184), match='3'>\n",
            "<re.Match object; span=(184, 185), match='4'>\n",
            "<re.Match object; span=(185, 186), match='0'>\n",
            "<re.Match object; span=(187, 188), match='0'>\n",
            "<re.Match object; span=(188, 189), match='1'>\n",
            "<re.Match object; span=(189, 190), match='1'>\n",
            "<re.Match object; span=(190, 191), match='2'>\n",
            "<re.Match object; span=(191, 192), match='3'>\n",
            "<re.Match object; span=(192, 193), match='2'>\n",
            "<re.Match object; span=(193, 194), match='3'>\n",
            "<re.Match object; span=(194, 195), match='4'>\n",
            "<re.Match object; span=(195, 196), match='3'>\n",
            "<re.Match object; span=(196, 197), match='5'>\n",
            "<re.Match object; span=(197, 198), match='5'>\n",
            "<re.Match object; span=(199, 200), match='0'>\n",
            "<re.Match object; span=(200, 201), match='1'>\n",
            "<re.Match object; span=(201, 202), match='0'>\n",
            "<re.Match object; span=(202, 203), match='2'>\n",
            "<re.Match object; span=(203, 204), match='3'>\n",
            "<re.Match object; span=(204, 205), match='4'>\n",
            "<re.Match object; span=(205, 206), match='5'>\n",
            "<re.Match object; span=(206, 207), match='5'>\n",
            "<re.Match object; span=(207, 208), match='4'>\n",
            "<re.Match object; span=(208, 209), match='1'>\n",
            "<re.Match object; span=(209, 210), match='1'>\n",
            "<re.Match object; span=(211, 212), match='0'>\n",
            "<re.Match object; span=(212, 213), match='1'>\n",
            "<re.Match object; span=(213, 214), match='2'>\n",
            "<re.Match object; span=(214, 215), match='3'>\n",
            "<re.Match object; span=(215, 216), match='4'>\n",
            "<re.Match object; span=(216, 217), match='5'>\n",
            "<re.Match object; span=(217, 218), match='6'>\n",
            "<re.Match object; span=(218, 219), match='7'>\n",
            "<re.Match object; span=(219, 220), match='8'>\n",
            "<re.Match object; span=(220, 221), match='7'>\n",
            "<re.Match object; span=(221, 222), match='5'>\n",
            "<re.Match object; span=(223, 224), match='0'>\n",
            "<re.Match object; span=(224, 225), match='1'>\n",
            "<re.Match object; span=(225, 226), match='5'>\n",
            "<re.Match object; span=(226, 227), match='3'>\n",
            "<re.Match object; span=(227, 228), match='4'>\n",
            "<re.Match object; span=(228, 229), match='5'>\n",
            "<re.Match object; span=(229, 230), match='6'>\n",
            "<re.Match object; span=(230, 231), match='7'>\n",
            "<re.Match object; span=(231, 232), match='4'>\n",
            "<re.Match object; span=(232, 233), match='5'>\n",
            "<re.Match object; span=(233, 234), match='6'>\n",
            "<re.Match object; span=(235, 236), match='0'>\n",
            "<re.Match object; span=(236, 237), match='1'>\n",
            "<re.Match object; span=(237, 238), match='1'>\n",
            "<re.Match object; span=(238, 239), match='3'>\n",
            "<re.Match object; span=(239, 240), match='4'>\n",
            "<re.Match object; span=(240, 241), match='5'>\n",
            "<re.Match object; span=(241, 242), match='6'>\n",
            "<re.Match object; span=(242, 243), match='7'>\n",
            "<re.Match object; span=(243, 244), match='8'>\n",
            "<re.Match object; span=(244, 245), match='5'>\n",
            "<re.Match object; span=(245, 246), match='6'>\n",
            "<re.Match object; span=(247, 248), match='A'>\n",
            "<re.Match object; span=(248, 249), match='h'>\n",
            "<re.Match object; span=(249, 250), match='m'>\n",
            "<re.Match object; span=(250, 251), match='e'>\n",
            "<re.Match object; span=(251, 252), match='d'>\n",
            "<re.Match object; span=(253, 254), match='c'>\n",
            "<re.Match object; span=(254, 255), match='o'>\n",
            "<re.Match object; span=(255, 256), match='m'>\n",
            "<re.Match object; span=(257, 258), match='3'>\n",
            "<re.Match object; span=(258, 259), match='2'>\n",
            "<re.Match object; span=(259, 260), match='1'>\n",
            "<re.Match object; span=(261, 262), match='5'>\n",
            "<re.Match object; span=(262, 263), match='5'>\n",
            "<re.Match object; span=(263, 264), match='5'>\n",
            "<re.Match object; span=(265, 266), match='4'>\n",
            "<re.Match object; span=(266, 267), match='3'>\n",
            "<re.Match object; span=(267, 268), match='2'>\n",
            "<re.Match object; span=(268, 269), match='1'>\n",
            "<re.Match object; span=(270, 271), match='1'>\n",
            "<re.Match object; span=(271, 272), match='2'>\n",
            "<re.Match object; span=(272, 273), match='3'>\n",
            "<re.Match object; span=(274, 275), match='5'>\n",
            "<re.Match object; span=(275, 276), match='5'>\n",
            "<re.Match object; span=(276, 277), match='5'>\n",
            "<re.Match object; span=(278, 279), match='1'>\n",
            "<re.Match object; span=(279, 280), match='2'>\n",
            "<re.Match object; span=(280, 281), match='3'>\n",
            "<re.Match object; span=(281, 282), match='4'>\n",
            "<re.Match object; span=(283, 284), match='1'>\n",
            "<re.Match object; span=(284, 285), match='2'>\n",
            "<re.Match object; span=(285, 286), match='3'>\n",
            "<re.Match object; span=(287, 288), match='5'>\n",
            "<re.Match object; span=(288, 289), match='5'>\n",
            "<re.Match object; span=(289, 290), match='5'>\n",
            "<re.Match object; span=(291, 292), match='1'>\n",
            "<re.Match object; span=(292, 293), match='2'>\n",
            "<re.Match object; span=(293, 294), match='3'>\n",
            "<re.Match object; span=(294, 295), match='4'>\n",
            "<re.Match object; span=(296, 297), match='1'>\n",
            "<re.Match object; span=(297, 298), match='2'>\n",
            "<re.Match object; span=(298, 299), match='3'>\n",
            "<re.Match object; span=(300, 301), match='5'>\n",
            "<re.Match object; span=(301, 302), match='5'>\n",
            "<re.Match object; span=(302, 303), match='5'>\n",
            "<re.Match object; span=(304, 305), match='1'>\n",
            "<re.Match object; span=(305, 306), match='2'>\n",
            "<re.Match object; span=(306, 307), match='3'>\n",
            "<re.Match object; span=(307, 308), match='4'>\n",
            "<re.Match object; span=(309, 310), match='1'>\n",
            "<re.Match object; span=(310, 311), match='2'>\n",
            "<re.Match object; span=(311, 312), match='3'>\n",
            "<re.Match object; span=(313, 314), match='5'>\n",
            "<re.Match object; span=(314, 315), match='5'>\n",
            "<re.Match object; span=(315, 316), match='5'>\n",
            "<re.Match object; span=(317, 318), match='1'>\n",
            "<re.Match object; span=(318, 319), match='2'>\n",
            "<re.Match object; span=(319, 320), match='3'>\n",
            "<re.Match object; span=(320, 321), match='4'>\n",
            "<re.Match object; span=(322, 323), match='8'>\n",
            "<re.Match object; span=(323, 324), match='0'>\n",
            "<re.Match object; span=(324, 325), match='0'>\n",
            "<re.Match object; span=(326, 327), match='5'>\n",
            "<re.Match object; span=(327, 328), match='5'>\n",
            "<re.Match object; span=(328, 329), match='5'>\n",
            "<re.Match object; span=(330, 331), match='1'>\n",
            "<re.Match object; span=(331, 332), match='2'>\n",
            "<re.Match object; span=(332, 333), match='3'>\n",
            "<re.Match object; span=(333, 334), match='4'>\n",
            "<re.Match object; span=(335, 336), match='9'>\n",
            "<re.Match object; span=(336, 337), match='0'>\n",
            "<re.Match object; span=(337, 338), match='0'>\n",
            "<re.Match object; span=(339, 340), match='5'>\n",
            "<re.Match object; span=(340, 341), match='5'>\n",
            "<re.Match object; span=(341, 342), match='5'>\n",
            "<re.Match object; span=(343, 344), match='1'>\n",
            "<re.Match object; span=(344, 345), match='2'>\n",
            "<re.Match object; span=(345, 346), match='3'>\n",
            "<re.Match object; span=(346, 347), match='4'>\n",
            "<re.Match object; span=(348, 349), match='1'>\n",
            "<re.Match object; span=(349, 350), match='0'>\n",
            "<re.Match object; span=(350, 351), match='0'>\n",
            "<re.Match object; span=(351, 352), match='a'>\n",
            "<re.Match object; span=(352, 353), match='1'>\n",
            "<re.Match object; span=(353, 354), match='2'>\n",
            "<re.Match object; span=(354, 355), match='1'>\n",
            "<re.Match object; span=(355, 356), match='C'>\n",
            "<re.Match object; span=(356, 357), match='4'>\n",
            "<re.Match object; span=(357, 358), match='5'>\n",
            "<re.Match object; span=(358, 359), match='4'>\n",
            "<re.Match object; span=(359, 360), match='3'>\n",
            "<re.Match object; span=(361, 362), match='M'>\n",
            "<re.Match object; span=(362, 363), match='r'>\n",
            "<re.Match object; span=(365, 366), match='S'>\n",
            "<re.Match object; span=(366, 367), match='c'>\n",
            "<re.Match object; span=(367, 368), match='h'>\n",
            "<re.Match object; span=(368, 369), match='a'>\n",
            "<re.Match object; span=(369, 370), match='f'>\n",
            "<re.Match object; span=(370, 371), match='e'>\n",
            "<re.Match object; span=(371, 372), match='r'>\n",
            "<re.Match object; span=(373, 374), match='M'>\n",
            "<re.Match object; span=(374, 375), match='r'>\n",
            "<re.Match object; span=(376, 377), match='S'>\n",
            "<re.Match object; span=(377, 378), match='m'>\n",
            "<re.Match object; span=(378, 379), match='i'>\n",
            "<re.Match object; span=(379, 380), match='t'>\n",
            "<re.Match object; span=(380, 381), match='h'>\n",
            "<re.Match object; span=(382, 383), match='M'>\n",
            "<re.Match object; span=(383, 384), match='s'>\n",
            "<re.Match object; span=(385, 386), match='D'>\n",
            "<re.Match object; span=(386, 387), match='a'>\n",
            "<re.Match object; span=(387, 388), match='v'>\n",
            "<re.Match object; span=(388, 389), match='i'>\n",
            "<re.Match object; span=(389, 390), match='s'>\n",
            "<re.Match object; span=(391, 392), match='M'>\n",
            "<re.Match object; span=(392, 393), match='r'>\n",
            "<re.Match object; span=(393, 394), match='s'>\n",
            "<re.Match object; span=(396, 397), match='R'>\n",
            "<re.Match object; span=(397, 398), match='o'>\n",
            "<re.Match object; span=(398, 399), match='b'>\n",
            "<re.Match object; span=(399, 400), match='i'>\n",
            "<re.Match object; span=(400, 401), match='n'>\n",
            "<re.Match object; span=(401, 402), match='s'>\n",
            "<re.Match object; span=(402, 403), match='o'>\n",
            "<re.Match object; span=(403, 404), match='n'>\n",
            "<re.Match object; span=(405, 406), match='M'>\n",
            "<re.Match object; span=(406, 407), match='r'>\n",
            "<re.Match object; span=(409, 410), match='T'>\n",
            "<re.Match object; span=(411, 412), match='M'>\n",
            "<re.Match object; span=(412, 413), match='r'>\n"
          ]
        }
      ],
      "source": [
        "pattern = re.compile(r\"\\w\") #matches lowercase, uppercase, digits, underscore\n",
        "matches = pattern.finditer(mytext)\n",
        "for match in matches:\n",
        "    print(match)"
      ]
    },
    {
      "cell_type": "code",
      "execution_count": 15,
      "metadata": {
        "ExecuteTime": {
          "end_time": "2025-03-14T21:45:34.376307Z",
          "start_time": "2025-03-14T21:45:34.371415Z"
        },
        "id": "dLVv7VDn5u5G",
        "outputId": "270453bf-ee78-46ed-8de7-3a287d435297",
        "colab": {
          "base_uri": "https://localhost:8080/"
        }
      },
      "outputs": [
        {
          "output_type": "stream",
          "name": "stdout",
          "text": [
            "my name is Ahmed\n"
          ]
        }
      ],
      "source": [
        "print(sentence)"
      ]
    },
    {
      "cell_type": "code",
      "execution_count": 18,
      "metadata": {
        "ExecuteTime": {
          "end_time": "2025-05-09T08:06:54.212804Z",
          "start_time": "2025-05-09T08:06:54.205035Z"
        },
        "scrolled": true,
        "id": "T1Gu0FU_5u5G",
        "outputId": "4c6bda7e-09a5-4a69-f0bc-9ee48865ea80",
        "colab": {
          "base_uri": "https://localhost:8080/"
        }
      },
      "outputs": [
        {
          "output_type": "stream",
          "name": "stdout",
          "text": [
            "<re.Match object; span=(11, 16), match='Ahmed'>\n"
          ]
        }
      ],
      "source": [
        "pattern = re.compile(\"Ahmed$\")   # if the word (an end) is at the end of the sentence ( string )\n",
        "matches = pattern.finditer(sentence)\n",
        "\n",
        "for match in matches:\n",
        "    print(match)"
      ]
    },
    {
      "cell_type": "code",
      "execution_count": 19,
      "metadata": {
        "ExecuteTime": {
          "end_time": "2025-05-09T08:07:05.020139Z",
          "start_time": "2025-05-09T08:07:05.008502Z"
        },
        "id": "JleJZdXn5u5G",
        "outputId": "ac73eb5f-0586-4b49-de06-29fa05292725",
        "colab": {
          "base_uri": "https://localhost:8080/"
        }
      },
      "outputs": [
        {
          "output_type": "stream",
          "name": "stdout",
          "text": [
            "<re.Match object; span=(13, 16), match='med'>\n"
          ]
        }
      ],
      "source": [
        "pattern = re.compile(\"med$\")   # if the word (an end) is at the end of the sentence ( string )\n",
        "matches = pattern.finditer(sentence)\n",
        "\n",
        "for match in matches:\n",
        "    print(match)"
      ]
    },
    {
      "cell_type": "code",
      "execution_count": 14,
      "metadata": {
        "ExecuteTime": {
          "end_time": "2025-05-09T08:07:09.659980Z",
          "start_time": "2025-05-09T08:07:09.651200Z"
        },
        "id": "VFWMgVs35u5G"
      },
      "outputs": [],
      "source": [
        "pattern = re.compile(\"my$\")   # if the word (an end) is at the end of the sentence ( string )\n",
        "matches = pattern.finditer(sentence)\n",
        "\n",
        "for match in matches:\n",
        "    print(match)"
      ]
    },
    {
      "cell_type": "code",
      "execution_count": null,
      "metadata": {
        "ExecuteTime": {
          "end_time": "2025-02-05T16:59:24.279211Z",
          "start_time": "2025-02-05T16:59:24.272960Z"
        },
        "id": "fJf3wYYp5u5G",
        "outputId": "a0da3b5d-c937-491f-a5c6-a8b493fdf1f1"
      },
      "outputs": [
        {
          "name": "stdout",
          "output_type": "stream",
          "text": [
            "my name is Ahmed\n"
          ]
        }
      ],
      "source": [
        "print(sentence)"
      ]
    },
    {
      "cell_type": "code",
      "execution_count": 22,
      "metadata": {
        "ExecuteTime": {
          "end_time": "2025-05-09T08:08:28.780777Z",
          "start_time": "2025-05-09T08:08:28.770852Z"
        },
        "id": "L2wmsy0Q5u5G",
        "outputId": "df00f36d-695a-4350-c0a1-a4ea1a57251c",
        "colab": {
          "base_uri": "https://localhost:8080/"
        }
      },
      "outputs": [
        {
          "output_type": "stream",
          "name": "stdout",
          "text": [
            "<re.Match object; span=(4, 7), match='xbc'>\n",
            "<re.Match object; span=(8, 11), match='1bc'>\n"
          ]
        }
      ],
      "source": [
        "my_sen=\"abc xbc 1bc abc\"\n",
        "pattern = re.compile(\"[^a]bc\")\n",
        "matches = pattern.finditer(my_sen)\n",
        "\n",
        "for match in matches:\n",
        "    print(match)"
      ]
    },
    {
      "cell_type": "code",
      "execution_count": null,
      "metadata": {
        "ExecuteTime": {
          "end_time": "2024-10-11T07:33:38.426326Z",
          "start_time": "2024-10-11T07:33:38.417819Z"
        },
        "id": "k_QlL_v25u5G",
        "outputId": "c851f632-d68c-4d6e-ae92-5ad8e92f6192"
      },
      "outputs": [
        {
          "name": "stdout",
          "output_type": "stream",
          "text": [
            "<re.Match object; span=(54, 57), match='123'>\n",
            "<re.Match object; span=(57, 60), match='456'>\n",
            "<re.Match object; span=(60, 63), match='789'>\n",
            "<re.Match object; span=(63, 66), match='010'>\n",
            "<re.Match object; span=(175, 178), match='010'>\n",
            "<re.Match object; span=(178, 181), match='923'>\n",
            "<re.Match object; span=(181, 184), match='293'>\n",
            "<re.Match object; span=(187, 190), match='011'>\n",
            "<re.Match object; span=(190, 193), match='232'>\n",
            "<re.Match object; span=(193, 196), match='343'>\n",
            "<re.Match object; span=(199, 202), match='010'>\n",
            "<re.Match object; span=(202, 205), match='234'>\n",
            "<re.Match object; span=(205, 208), match='554'>\n",
            "<re.Match object; span=(211, 214), match='012'>\n",
            "<re.Match object; span=(214, 217), match='345'>\n",
            "<re.Match object; span=(217, 220), match='678'>\n",
            "<re.Match object; span=(223, 226), match='015'>\n",
            "<re.Match object; span=(226, 229), match='345'>\n",
            "<re.Match object; span=(229, 232), match='674'>\n",
            "<re.Match object; span=(235, 238), match='011'>\n",
            "<re.Match object; span=(238, 241), match='345'>\n",
            "<re.Match object; span=(241, 244), match='678'>\n",
            "<re.Match object; span=(259, 262), match='321'>\n",
            "<re.Match object; span=(263, 266), match='555'>\n",
            "<re.Match object; span=(267, 270), match='432'>\n",
            "<re.Match object; span=(272, 275), match='123'>\n",
            "<re.Match object; span=(276, 279), match='555'>\n",
            "<re.Match object; span=(280, 283), match='123'>\n",
            "<re.Match object; span=(285, 288), match='123'>\n",
            "<re.Match object; span=(289, 292), match='555'>\n",
            "<re.Match object; span=(293, 296), match='123'>\n",
            "<re.Match object; span=(298, 301), match='123'>\n",
            "<re.Match object; span=(302, 305), match='555'>\n",
            "<re.Match object; span=(306, 309), match='123'>\n",
            "<re.Match object; span=(311, 314), match='123'>\n",
            "<re.Match object; span=(315, 318), match='555'>\n",
            "<re.Match object; span=(319, 322), match='123'>\n",
            "<re.Match object; span=(324, 327), match='800'>\n",
            "<re.Match object; span=(328, 331), match='555'>\n",
            "<re.Match object; span=(332, 335), match='123'>\n",
            "<re.Match object; span=(337, 340), match='900'>\n",
            "<re.Match object; span=(341, 344), match='555'>\n",
            "<re.Match object; span=(345, 348), match='123'>\n",
            "<re.Match object; span=(350, 353), match='100'>\n",
            "<re.Match object; span=(354, 357), match='121'>\n",
            "<re.Match object; span=(358, 361), match='454'>\n"
          ]
        }
      ],
      "source": [
        "#match three numbers\n",
        "pattern = re.compile(\"\\d\\d\\d\")\n",
        "\n",
        "matches = pattern.finditer(mytext)\n",
        "for match in matches:\n",
        "    print(match)"
      ]
    },
    {
      "cell_type": "code",
      "execution_count": null,
      "metadata": {
        "ExecuteTime": {
          "end_time": "2025-05-09T08:08:53.679971Z",
          "start_time": "2025-05-09T08:08:53.666254Z"
        },
        "id": "4_WHV_pP5u5G",
        "outputId": "e670833c-2ea1-4c8d-f6e5-a7efa637e35f"
      },
      "outputs": [
        {
          "name": "stdout",
          "output_type": "stream",
          "text": [
            "<re.Match object; span=(54, 66), match='123456789010'>\n",
            "<re.Match object; span=(257, 269), match='321-555-4321'>\n",
            "<re.Match object; span=(270, 282), match='123.555.1234'>\n",
            "<re.Match object; span=(283, 295), match='123*555*1234'>\n",
            "<re.Match object; span=(296, 308), match='123*555-1234'>\n",
            "<re.Match object; span=(309, 321), match='123-555*1234'>\n",
            "<re.Match object; span=(322, 334), match='800-555-1234'>\n",
            "<re.Match object; span=(335, 347), match='900-555-1234'>\n",
            "<re.Match object; span=(348, 360), match='100a121C4543'>\n"
          ]
        }
      ],
      "source": [
        "pattern = re.compile(r\"\\d\\d\\d.\\d\\d\\d.\\d\\d\\d\\d\")\n",
        "matches = pattern.finditer(mytext)\n",
        "for match in matches:\n",
        "    print(match)"
      ]
    },
    {
      "cell_type": "code",
      "execution_count": null,
      "metadata": {
        "ExecuteTime": {
          "end_time": "2025-05-09T08:12:25.397581Z",
          "start_time": "2025-05-09T08:12:25.390426Z"
        },
        "id": "dEc3F07m5u5H",
        "outputId": "38221524-c143-4abb-e1e9-8103f065e057"
      },
      "outputs": [
        {
          "name": "stdout",
          "output_type": "stream",
          "text": [
            "<re.Match object; span=(257, 269), match='321-555-4321'>\n",
            "<re.Match object; span=(283, 295), match='123*555*1234'>\n",
            "<re.Match object; span=(296, 308), match='123*555-1234'>\n",
            "<re.Match object; span=(309, 321), match='123-555*1234'>\n",
            "<re.Match object; span=(322, 334), match='800-555-1234'>\n",
            "<re.Match object; span=(335, 347), match='900-555-1234'>\n"
          ]
        }
      ],
      "source": [
        "pattern = re.compile(\"\\d\\d\\d[-*]\\d\\d\\d[-*]\\d\\d\\d\\d\")\n",
        "find_match(pattern , mytext)"
      ]
    },
    {
      "cell_type": "code",
      "execution_count": null,
      "metadata": {
        "ExecuteTime": {
          "end_time": "2025-05-09T08:12:48.517801Z",
          "start_time": "2025-05-09T08:12:48.508624Z"
        },
        "id": "LYzwU5gE5u5H",
        "outputId": "9211fbee-d9f4-4d90-b05b-687a39b7c05c"
      },
      "outputs": [
        {
          "name": "stdout",
          "output_type": "stream",
          "text": [
            "<re.Match object; span=(257, 269), match='321-555-4321'>\n",
            "<re.Match object; span=(270, 282), match='123.555.1234'>\n",
            "<re.Match object; span=(322, 334), match='800-555-1234'>\n",
            "<re.Match object; span=(335, 347), match='900-555-1234'>\n"
          ]
        }
      ],
      "source": [
        "pattern = re.compile(\"\\d\\d\\d[-.]\\d\\d\\d[-.]\\d\\d\\d\\d\")\n",
        "find_match(pattern , mytext)"
      ]
    },
    {
      "cell_type": "code",
      "execution_count": null,
      "metadata": {
        "ExecuteTime": {
          "end_time": "2025-05-09T08:13:06.216776Z",
          "start_time": "2025-05-09T08:13:06.205689Z"
        },
        "id": "ekFzSVaY5u5H",
        "outputId": "d7f11cab-cb41-4b1f-db2c-02d54786a35e"
      },
      "outputs": [
        {
          "name": "stdout",
          "output_type": "stream",
          "text": [
            "<re.Match object; span=(322, 334), match='800-555-1234'>\n",
            "<re.Match object; span=(335, 347), match='900-555-1234'>\n"
          ]
        }
      ],
      "source": [
        "#character set\n",
        "pattern = re.compile(r\"[89]00[-.]\\d\\d\\d[-.]\\d\\d\\d\\d\")\n",
        "find_match(pattern , mytext)"
      ]
    },
    {
      "cell_type": "code",
      "execution_count": null,
      "metadata": {
        "ExecuteTime": {
          "end_time": "2025-05-09T08:13:25.471725Z",
          "start_time": "2025-05-09T08:13:25.465219Z"
        },
        "id": "-QTvO_wi5u5H",
        "outputId": "bf646796-00df-4805-85ed-8e1f5e272c1f"
      },
      "outputs": [
        {
          "name": "stdout",
          "output_type": "stream",
          "text": [
            "<re.Match object; span=(257, 269), match='321-555-4321'>\n",
            "<re.Match object; span=(270, 282), match='123.555.1234'>\n",
            "<re.Match object; span=(283, 295), match='123*555*1234'>\n",
            "<re.Match object; span=(296, 308), match='123*555-1234'>\n",
            "<re.Match object; span=(309, 321), match='123-555*1234'>\n",
            "<re.Match object; span=(322, 334), match='800-555-1234'>\n",
            "<re.Match object; span=(335, 347), match='900-555-1234'>\n"
          ]
        }
      ],
      "source": [
        "pattern = re.compile(r\"\\d\\d\\d[-.*]555[-.*]\\d\\d\\d\\d\")\n",
        "find_match(pattern , mytext)"
      ]
    },
    {
      "cell_type": "code",
      "execution_count": null,
      "metadata": {
        "ExecuteTime": {
          "end_time": "2025-05-09T08:13:43.122169Z",
          "start_time": "2025-05-09T08:13:43.115180Z"
        },
        "id": "21ukAz305u5H",
        "outputId": "08161b36-35bf-46ff-ba17-5a7616e52aa0"
      },
      "outputs": [
        {
          "name": "stdout",
          "output_type": "stream",
          "text": [
            "<re.Match object; span=(175, 186), match='01092329340'>\n",
            "<re.Match object; span=(199, 210), match='01023455411'>\n"
          ]
        }
      ],
      "source": [
        "pattern = re.compile(r\"010\\d\\d\\d\\d\\d\\d\\d\\d\")\n",
        "find_match(pattern , mytext)"
      ]
    },
    {
      "cell_type": "code",
      "execution_count": null,
      "metadata": {
        "ExecuteTime": {
          "end_time": "2025-05-09T08:13:51.854378Z",
          "start_time": "2025-05-09T08:13:51.846627Z"
        },
        "id": "i7QYHQbK5u5H",
        "outputId": "8588c785-0306-4683-bc2d-72a8237f0c1b"
      },
      "outputs": [
        {
          "name": "stdout",
          "output_type": "stream",
          "text": [
            "<re.Match object; span=(187, 198), match='01123234355'>\n",
            "<re.Match object; span=(235, 246), match='01134567856'>\n"
          ]
        }
      ],
      "source": [
        "pattern = re.compile(r\"011\\d\\d\\d\\d\\d\\d\\d\\d\")\n",
        "find_match(pattern , mytext)"
      ]
    },
    {
      "cell_type": "code",
      "execution_count": null,
      "metadata": {
        "ExecuteTime": {
          "end_time": "2025-05-09T08:13:58.197973Z",
          "start_time": "2025-05-09T08:13:58.188937Z"
        },
        "scrolled": true,
        "id": "QpOI5L9b5u5H",
        "outputId": "e79a86e4-fe23-400f-b746-066bcb11b862"
      },
      "outputs": [
        {
          "name": "stdout",
          "output_type": "stream",
          "text": [
            "<re.Match object; span=(211, 222), match='01234567875'>\n"
          ]
        }
      ],
      "source": [
        "pattern = re.compile(r\"012\\d\\d\\d\\d\\d\\d\\d\\d\")\n",
        "find_match(pattern , mytext)"
      ]
    },
    {
      "cell_type": "code",
      "execution_count": null,
      "metadata": {
        "ExecuteTime": {
          "end_time": "2025-05-09T08:14:02.168289Z",
          "start_time": "2025-05-09T08:14:02.160050Z"
        },
        "id": "dHd-McCV5u5I",
        "outputId": "214e7277-c5a3-4174-e754-4c3efb33417d"
      },
      "outputs": [
        {
          "name": "stdout",
          "output_type": "stream",
          "text": [
            "<re.Match object; span=(223, 234), match='01534567456'>\n"
          ]
        }
      ],
      "source": [
        "pattern = re.compile(r\"015\\d\\d\\d\\d\\d\\d\\d\\d\")\n",
        "find_match(pattern , mytext)"
      ]
    },
    {
      "cell_type": "code",
      "execution_count": null,
      "metadata": {
        "ExecuteTime": {
          "end_time": "2025-05-09T08:14:11.895776Z",
          "start_time": "2025-05-09T08:14:11.885218Z"
        },
        "scrolled": false,
        "id": "qyUYi-ih5u5I",
        "outputId": "73d51475-e9d8-486a-e618-f6dd2f93d0cd"
      },
      "outputs": [
        {
          "data": {
            "text/plain": [
              "['01092329340', '01023455411']"
            ]
          },
          "execution_count": 57,
          "metadata": {},
          "output_type": "execute_result"
        }
      ],
      "source": [
        "pattern = re.compile(r\"010\\d\\d\\d\\d\\d\\d\\d\\d\")\n",
        "matches = pattern.finditer(mytext)\n",
        "\n",
        "vodafoneNumbers = [ ]\n",
        "for match in matches:\n",
        "    vodafoneNumbers.append(mytext[ match.span()[0]   : match.span()[1] ])\n",
        "vodafoneNumbers"
      ]
    },
    {
      "cell_type": "code",
      "execution_count": null,
      "metadata": {
        "ExecuteTime": {
          "end_time": "2024-10-11T07:37:05.888928Z",
          "start_time": "2024-10-11T07:37:05.875781Z"
        },
        "id": "yFjDkpJ85u5I",
        "outputId": "7c98847e-2a6a-4f4a-b638-cff7d01f5223"
      },
      "outputs": [
        {
          "data": {
            "text/plain": [
              "['01123234355', '01134567856']"
            ]
          },
          "execution_count": 51,
          "metadata": {},
          "output_type": "execute_result"
        }
      ],
      "source": [
        "pattern = re.compile(r\"011\\d\\d\\d\\d\\d\\d\\d\\d\")\n",
        "matches = pattern.finditer(mytext)\n",
        "\n",
        "EtisisalatNumbers = [ ]\n",
        "for match in matches:\n",
        "    EtisisalatNumbers.append(mytext[match.span()[0]   : match.span()[1]])\n",
        "EtisisalatNumbers"
      ]
    },
    {
      "cell_type": "code",
      "execution_count": null,
      "metadata": {
        "ExecuteTime": {
          "end_time": "2025-05-09T08:14:57.750914Z",
          "start_time": "2025-05-09T08:14:57.740743Z"
        },
        "id": "cLv5cmqD5u5I",
        "outputId": "d40ebebe-7102-4c7a-d9dd-0eab276715b6"
      },
      "outputs": [
        {
          "name": "stdout",
          "output_type": "stream",
          "text": [
            "<re.Match object; span=(54, 55), match='1'>\n",
            "<re.Match object; span=(55, 56), match='2'>\n",
            "<re.Match object; span=(56, 57), match='3'>\n",
            "<re.Match object; span=(57, 58), match='4'>\n",
            "<re.Match object; span=(58, 59), match='5'>\n",
            "<re.Match object; span=(64, 65), match='1'>\n",
            "<re.Match object; span=(176, 177), match='1'>\n",
            "<re.Match object; span=(179, 180), match='2'>\n",
            "<re.Match object; span=(180, 181), match='3'>\n",
            "<re.Match object; span=(181, 182), match='2'>\n",
            "<re.Match object; span=(183, 184), match='3'>\n",
            "<re.Match object; span=(184, 185), match='4'>\n",
            "<re.Match object; span=(188, 189), match='1'>\n",
            "<re.Match object; span=(189, 190), match='1'>\n",
            "<re.Match object; span=(190, 191), match='2'>\n",
            "<re.Match object; span=(191, 192), match='3'>\n",
            "<re.Match object; span=(192, 193), match='2'>\n",
            "<re.Match object; span=(193, 194), match='3'>\n",
            "<re.Match object; span=(194, 195), match='4'>\n",
            "<re.Match object; span=(195, 196), match='3'>\n",
            "<re.Match object; span=(196, 197), match='5'>\n",
            "<re.Match object; span=(197, 198), match='5'>\n",
            "<re.Match object; span=(200, 201), match='1'>\n",
            "<re.Match object; span=(202, 203), match='2'>\n",
            "<re.Match object; span=(203, 204), match='3'>\n",
            "<re.Match object; span=(204, 205), match='4'>\n",
            "<re.Match object; span=(205, 206), match='5'>\n",
            "<re.Match object; span=(206, 207), match='5'>\n",
            "<re.Match object; span=(207, 208), match='4'>\n",
            "<re.Match object; span=(208, 209), match='1'>\n",
            "<re.Match object; span=(209, 210), match='1'>\n",
            "<re.Match object; span=(212, 213), match='1'>\n",
            "<re.Match object; span=(213, 214), match='2'>\n",
            "<re.Match object; span=(214, 215), match='3'>\n",
            "<re.Match object; span=(215, 216), match='4'>\n",
            "<re.Match object; span=(216, 217), match='5'>\n",
            "<re.Match object; span=(221, 222), match='5'>\n",
            "<re.Match object; span=(224, 225), match='1'>\n",
            "<re.Match object; span=(225, 226), match='5'>\n",
            "<re.Match object; span=(226, 227), match='3'>\n",
            "<re.Match object; span=(227, 228), match='4'>\n",
            "<re.Match object; span=(228, 229), match='5'>\n",
            "<re.Match object; span=(231, 232), match='4'>\n",
            "<re.Match object; span=(232, 233), match='5'>\n",
            "<re.Match object; span=(236, 237), match='1'>\n",
            "<re.Match object; span=(237, 238), match='1'>\n",
            "<re.Match object; span=(238, 239), match='3'>\n",
            "<re.Match object; span=(239, 240), match='4'>\n",
            "<re.Match object; span=(240, 241), match='5'>\n",
            "<re.Match object; span=(244, 245), match='5'>\n",
            "<re.Match object; span=(257, 258), match='3'>\n",
            "<re.Match object; span=(258, 259), match='2'>\n",
            "<re.Match object; span=(259, 260), match='1'>\n",
            "<re.Match object; span=(261, 262), match='5'>\n",
            "<re.Match object; span=(262, 263), match='5'>\n",
            "<re.Match object; span=(263, 264), match='5'>\n",
            "<re.Match object; span=(265, 266), match='4'>\n",
            "<re.Match object; span=(266, 267), match='3'>\n",
            "<re.Match object; span=(267, 268), match='2'>\n",
            "<re.Match object; span=(268, 269), match='1'>\n",
            "<re.Match object; span=(270, 271), match='1'>\n",
            "<re.Match object; span=(271, 272), match='2'>\n",
            "<re.Match object; span=(272, 273), match='3'>\n",
            "<re.Match object; span=(274, 275), match='5'>\n",
            "<re.Match object; span=(275, 276), match='5'>\n",
            "<re.Match object; span=(276, 277), match='5'>\n",
            "<re.Match object; span=(278, 279), match='1'>\n",
            "<re.Match object; span=(279, 280), match='2'>\n",
            "<re.Match object; span=(280, 281), match='3'>\n",
            "<re.Match object; span=(281, 282), match='4'>\n",
            "<re.Match object; span=(283, 284), match='1'>\n",
            "<re.Match object; span=(284, 285), match='2'>\n",
            "<re.Match object; span=(285, 286), match='3'>\n",
            "<re.Match object; span=(287, 288), match='5'>\n",
            "<re.Match object; span=(288, 289), match='5'>\n",
            "<re.Match object; span=(289, 290), match='5'>\n",
            "<re.Match object; span=(291, 292), match='1'>\n",
            "<re.Match object; span=(292, 293), match='2'>\n",
            "<re.Match object; span=(293, 294), match='3'>\n",
            "<re.Match object; span=(294, 295), match='4'>\n",
            "<re.Match object; span=(296, 297), match='1'>\n",
            "<re.Match object; span=(297, 298), match='2'>\n",
            "<re.Match object; span=(298, 299), match='3'>\n",
            "<re.Match object; span=(300, 301), match='5'>\n",
            "<re.Match object; span=(301, 302), match='5'>\n",
            "<re.Match object; span=(302, 303), match='5'>\n",
            "<re.Match object; span=(304, 305), match='1'>\n",
            "<re.Match object; span=(305, 306), match='2'>\n",
            "<re.Match object; span=(306, 307), match='3'>\n",
            "<re.Match object; span=(307, 308), match='4'>\n",
            "<re.Match object; span=(309, 310), match='1'>\n",
            "<re.Match object; span=(310, 311), match='2'>\n",
            "<re.Match object; span=(311, 312), match='3'>\n",
            "<re.Match object; span=(313, 314), match='5'>\n",
            "<re.Match object; span=(314, 315), match='5'>\n",
            "<re.Match object; span=(315, 316), match='5'>\n",
            "<re.Match object; span=(317, 318), match='1'>\n",
            "<re.Match object; span=(318, 319), match='2'>\n",
            "<re.Match object; span=(319, 320), match='3'>\n",
            "<re.Match object; span=(320, 321), match='4'>\n",
            "<re.Match object; span=(326, 327), match='5'>\n",
            "<re.Match object; span=(327, 328), match='5'>\n",
            "<re.Match object; span=(328, 329), match='5'>\n",
            "<re.Match object; span=(330, 331), match='1'>\n",
            "<re.Match object; span=(331, 332), match='2'>\n",
            "<re.Match object; span=(332, 333), match='3'>\n",
            "<re.Match object; span=(333, 334), match='4'>\n",
            "<re.Match object; span=(339, 340), match='5'>\n",
            "<re.Match object; span=(340, 341), match='5'>\n",
            "<re.Match object; span=(341, 342), match='5'>\n",
            "<re.Match object; span=(343, 344), match='1'>\n",
            "<re.Match object; span=(344, 345), match='2'>\n",
            "<re.Match object; span=(345, 346), match='3'>\n",
            "<re.Match object; span=(346, 347), match='4'>\n",
            "<re.Match object; span=(348, 349), match='1'>\n",
            "<re.Match object; span=(352, 353), match='1'>\n",
            "<re.Match object; span=(353, 354), match='2'>\n",
            "<re.Match object; span=(354, 355), match='1'>\n",
            "<re.Match object; span=(356, 357), match='4'>\n",
            "<re.Match object; span=(357, 358), match='5'>\n",
            "<re.Match object; span=(358, 359), match='4'>\n",
            "<re.Match object; span=(359, 360), match='3'>\n"
          ]
        }
      ],
      "source": [
        "pattern = re.compile(\"[1-5]\")\n",
        "find_match(pattern , mytext)"
      ]
    },
    {
      "cell_type": "code",
      "execution_count": null,
      "metadata": {
        "ExecuteTime": {
          "end_time": "2025-05-09T08:15:30.781762Z",
          "start_time": "2025-05-09T08:15:30.771317Z"
        },
        "id": "pAVHJP8x5u5I",
        "outputId": "7ade797d-5c6a-4178-c6fe-6e58ce0a95f8"
      },
      "outputs": [
        {
          "name": "stdout",
          "output_type": "stream",
          "text": [
            "<re.Match object; span=(54, 55), match='1'>\n",
            "<re.Match object; span=(58, 59), match='5'>\n",
            "<re.Match object; span=(64, 65), match='1'>\n",
            "<re.Match object; span=(176, 177), match='1'>\n",
            "<re.Match object; span=(188, 189), match='1'>\n",
            "<re.Match object; span=(189, 190), match='1'>\n",
            "<re.Match object; span=(196, 197), match='5'>\n",
            "<re.Match object; span=(197, 198), match='5'>\n",
            "<re.Match object; span=(200, 201), match='1'>\n",
            "<re.Match object; span=(205, 206), match='5'>\n",
            "<re.Match object; span=(206, 207), match='5'>\n",
            "<re.Match object; span=(208, 209), match='1'>\n",
            "<re.Match object; span=(209, 210), match='1'>\n",
            "<re.Match object; span=(212, 213), match='1'>\n",
            "<re.Match object; span=(216, 217), match='5'>\n",
            "<re.Match object; span=(221, 222), match='5'>\n",
            "<re.Match object; span=(224, 225), match='1'>\n",
            "<re.Match object; span=(225, 226), match='5'>\n",
            "<re.Match object; span=(228, 229), match='5'>\n",
            "<re.Match object; span=(232, 233), match='5'>\n",
            "<re.Match object; span=(236, 237), match='1'>\n",
            "<re.Match object; span=(237, 238), match='1'>\n",
            "<re.Match object; span=(240, 241), match='5'>\n",
            "<re.Match object; span=(244, 245), match='5'>\n",
            "<re.Match object; span=(252, 253), match='-'>\n",
            "<re.Match object; span=(259, 260), match='1'>\n",
            "<re.Match object; span=(260, 261), match='-'>\n",
            "<re.Match object; span=(261, 262), match='5'>\n",
            "<re.Match object; span=(262, 263), match='5'>\n",
            "<re.Match object; span=(263, 264), match='5'>\n",
            "<re.Match object; span=(264, 265), match='-'>\n",
            "<re.Match object; span=(268, 269), match='1'>\n",
            "<re.Match object; span=(270, 271), match='1'>\n",
            "<re.Match object; span=(274, 275), match='5'>\n",
            "<re.Match object; span=(275, 276), match='5'>\n",
            "<re.Match object; span=(276, 277), match='5'>\n",
            "<re.Match object; span=(278, 279), match='1'>\n",
            "<re.Match object; span=(283, 284), match='1'>\n",
            "<re.Match object; span=(287, 288), match='5'>\n",
            "<re.Match object; span=(288, 289), match='5'>\n",
            "<re.Match object; span=(289, 290), match='5'>\n",
            "<re.Match object; span=(291, 292), match='1'>\n",
            "<re.Match object; span=(296, 297), match='1'>\n",
            "<re.Match object; span=(300, 301), match='5'>\n",
            "<re.Match object; span=(301, 302), match='5'>\n",
            "<re.Match object; span=(302, 303), match='5'>\n",
            "<re.Match object; span=(303, 304), match='-'>\n",
            "<re.Match object; span=(304, 305), match='1'>\n",
            "<re.Match object; span=(309, 310), match='1'>\n",
            "<re.Match object; span=(312, 313), match='-'>\n",
            "<re.Match object; span=(313, 314), match='5'>\n",
            "<re.Match object; span=(314, 315), match='5'>\n",
            "<re.Match object; span=(315, 316), match='5'>\n",
            "<re.Match object; span=(317, 318), match='1'>\n",
            "<re.Match object; span=(325, 326), match='-'>\n",
            "<re.Match object; span=(326, 327), match='5'>\n",
            "<re.Match object; span=(327, 328), match='5'>\n",
            "<re.Match object; span=(328, 329), match='5'>\n",
            "<re.Match object; span=(329, 330), match='-'>\n",
            "<re.Match object; span=(330, 331), match='1'>\n",
            "<re.Match object; span=(338, 339), match='-'>\n",
            "<re.Match object; span=(339, 340), match='5'>\n",
            "<re.Match object; span=(340, 341), match='5'>\n",
            "<re.Match object; span=(341, 342), match='5'>\n",
            "<re.Match object; span=(342, 343), match='-'>\n",
            "<re.Match object; span=(343, 344), match='1'>\n",
            "<re.Match object; span=(348, 349), match='1'>\n",
            "<re.Match object; span=(352, 353), match='1'>\n",
            "<re.Match object; span=(354, 355), match='1'>\n",
            "<re.Match object; span=(357, 358), match='5'>\n"
          ]
        }
      ],
      "source": [
        "pattern = re.compile(r\"[15-]\")\n",
        "find_match(pattern , mytext)"
      ]
    },
    {
      "cell_type": "code",
      "execution_count": null,
      "metadata": {
        "ExecuteTime": {
          "end_time": "2025-05-09T08:15:46.551625Z",
          "start_time": "2025-05-09T08:15:46.543521Z"
        },
        "scrolled": false,
        "id": "YRieZozh5u5I",
        "outputId": "d99d8dd4-bbd9-4b39-a549-eafc1c8d5ba0"
      },
      "outputs": [
        {
          "name": "stdout",
          "output_type": "stream",
          "text": [
            "<re.Match object; span=(54, 55), match='1'>\n",
            "<re.Match object; span=(55, 56), match='2'>\n",
            "<re.Match object; span=(56, 57), match='3'>\n",
            "<re.Match object; span=(57, 58), match='4'>\n",
            "<re.Match object; span=(58, 59), match='5'>\n",
            "<re.Match object; span=(64, 65), match='1'>\n",
            "<re.Match object; span=(176, 177), match='1'>\n",
            "<re.Match object; span=(179, 180), match='2'>\n",
            "<re.Match object; span=(180, 181), match='3'>\n",
            "<re.Match object; span=(181, 182), match='2'>\n",
            "<re.Match object; span=(183, 184), match='3'>\n",
            "<re.Match object; span=(184, 185), match='4'>\n",
            "<re.Match object; span=(188, 189), match='1'>\n",
            "<re.Match object; span=(189, 190), match='1'>\n",
            "<re.Match object; span=(190, 191), match='2'>\n",
            "<re.Match object; span=(191, 192), match='3'>\n",
            "<re.Match object; span=(192, 193), match='2'>\n",
            "<re.Match object; span=(193, 194), match='3'>\n",
            "<re.Match object; span=(194, 195), match='4'>\n",
            "<re.Match object; span=(195, 196), match='3'>\n",
            "<re.Match object; span=(196, 197), match='5'>\n",
            "<re.Match object; span=(197, 198), match='5'>\n",
            "<re.Match object; span=(200, 201), match='1'>\n",
            "<re.Match object; span=(202, 203), match='2'>\n",
            "<re.Match object; span=(203, 204), match='3'>\n",
            "<re.Match object; span=(204, 205), match='4'>\n",
            "<re.Match object; span=(205, 206), match='5'>\n",
            "<re.Match object; span=(206, 207), match='5'>\n",
            "<re.Match object; span=(207, 208), match='4'>\n",
            "<re.Match object; span=(208, 209), match='1'>\n",
            "<re.Match object; span=(209, 210), match='1'>\n",
            "<re.Match object; span=(212, 213), match='1'>\n",
            "<re.Match object; span=(213, 214), match='2'>\n",
            "<re.Match object; span=(214, 215), match='3'>\n",
            "<re.Match object; span=(215, 216), match='4'>\n",
            "<re.Match object; span=(216, 217), match='5'>\n",
            "<re.Match object; span=(221, 222), match='5'>\n",
            "<re.Match object; span=(224, 225), match='1'>\n",
            "<re.Match object; span=(225, 226), match='5'>\n",
            "<re.Match object; span=(226, 227), match='3'>\n",
            "<re.Match object; span=(227, 228), match='4'>\n",
            "<re.Match object; span=(228, 229), match='5'>\n",
            "<re.Match object; span=(231, 232), match='4'>\n",
            "<re.Match object; span=(232, 233), match='5'>\n",
            "<re.Match object; span=(236, 237), match='1'>\n",
            "<re.Match object; span=(237, 238), match='1'>\n",
            "<re.Match object; span=(238, 239), match='3'>\n",
            "<re.Match object; span=(239, 240), match='4'>\n",
            "<re.Match object; span=(240, 241), match='5'>\n",
            "<re.Match object; span=(244, 245), match='5'>\n",
            "<re.Match object; span=(252, 253), match='-'>\n",
            "<re.Match object; span=(257, 258), match='3'>\n",
            "<re.Match object; span=(258, 259), match='2'>\n",
            "<re.Match object; span=(259, 260), match='1'>\n",
            "<re.Match object; span=(260, 261), match='-'>\n",
            "<re.Match object; span=(261, 262), match='5'>\n",
            "<re.Match object; span=(262, 263), match='5'>\n",
            "<re.Match object; span=(263, 264), match='5'>\n",
            "<re.Match object; span=(264, 265), match='-'>\n",
            "<re.Match object; span=(265, 266), match='4'>\n",
            "<re.Match object; span=(266, 267), match='3'>\n",
            "<re.Match object; span=(267, 268), match='2'>\n",
            "<re.Match object; span=(268, 269), match='1'>\n",
            "<re.Match object; span=(270, 271), match='1'>\n",
            "<re.Match object; span=(271, 272), match='2'>\n",
            "<re.Match object; span=(272, 273), match='3'>\n",
            "<re.Match object; span=(274, 275), match='5'>\n",
            "<re.Match object; span=(275, 276), match='5'>\n",
            "<re.Match object; span=(276, 277), match='5'>\n",
            "<re.Match object; span=(278, 279), match='1'>\n",
            "<re.Match object; span=(279, 280), match='2'>\n",
            "<re.Match object; span=(280, 281), match='3'>\n",
            "<re.Match object; span=(281, 282), match='4'>\n",
            "<re.Match object; span=(283, 284), match='1'>\n",
            "<re.Match object; span=(284, 285), match='2'>\n",
            "<re.Match object; span=(285, 286), match='3'>\n",
            "<re.Match object; span=(287, 288), match='5'>\n",
            "<re.Match object; span=(288, 289), match='5'>\n",
            "<re.Match object; span=(289, 290), match='5'>\n",
            "<re.Match object; span=(291, 292), match='1'>\n",
            "<re.Match object; span=(292, 293), match='2'>\n",
            "<re.Match object; span=(293, 294), match='3'>\n",
            "<re.Match object; span=(294, 295), match='4'>\n",
            "<re.Match object; span=(296, 297), match='1'>\n",
            "<re.Match object; span=(297, 298), match='2'>\n",
            "<re.Match object; span=(298, 299), match='3'>\n",
            "<re.Match object; span=(300, 301), match='5'>\n",
            "<re.Match object; span=(301, 302), match='5'>\n",
            "<re.Match object; span=(302, 303), match='5'>\n",
            "<re.Match object; span=(303, 304), match='-'>\n",
            "<re.Match object; span=(304, 305), match='1'>\n",
            "<re.Match object; span=(305, 306), match='2'>\n",
            "<re.Match object; span=(306, 307), match='3'>\n",
            "<re.Match object; span=(307, 308), match='4'>\n",
            "<re.Match object; span=(309, 310), match='1'>\n",
            "<re.Match object; span=(310, 311), match='2'>\n",
            "<re.Match object; span=(311, 312), match='3'>\n",
            "<re.Match object; span=(312, 313), match='-'>\n",
            "<re.Match object; span=(313, 314), match='5'>\n",
            "<re.Match object; span=(314, 315), match='5'>\n",
            "<re.Match object; span=(315, 316), match='5'>\n",
            "<re.Match object; span=(317, 318), match='1'>\n",
            "<re.Match object; span=(318, 319), match='2'>\n",
            "<re.Match object; span=(319, 320), match='3'>\n",
            "<re.Match object; span=(320, 321), match='4'>\n",
            "<re.Match object; span=(325, 326), match='-'>\n",
            "<re.Match object; span=(326, 327), match='5'>\n",
            "<re.Match object; span=(327, 328), match='5'>\n",
            "<re.Match object; span=(328, 329), match='5'>\n",
            "<re.Match object; span=(329, 330), match='-'>\n",
            "<re.Match object; span=(330, 331), match='1'>\n",
            "<re.Match object; span=(331, 332), match='2'>\n",
            "<re.Match object; span=(332, 333), match='3'>\n",
            "<re.Match object; span=(333, 334), match='4'>\n",
            "<re.Match object; span=(338, 339), match='-'>\n",
            "<re.Match object; span=(339, 340), match='5'>\n",
            "<re.Match object; span=(340, 341), match='5'>\n",
            "<re.Match object; span=(341, 342), match='5'>\n",
            "<re.Match object; span=(342, 343), match='-'>\n",
            "<re.Match object; span=(343, 344), match='1'>\n",
            "<re.Match object; span=(344, 345), match='2'>\n",
            "<re.Match object; span=(345, 346), match='3'>\n",
            "<re.Match object; span=(346, 347), match='4'>\n",
            "<re.Match object; span=(348, 349), match='1'>\n",
            "<re.Match object; span=(352, 353), match='1'>\n",
            "<re.Match object; span=(353, 354), match='2'>\n",
            "<re.Match object; span=(354, 355), match='1'>\n",
            "<re.Match object; span=(356, 357), match='4'>\n",
            "<re.Match object; span=(357, 358), match='5'>\n",
            "<re.Match object; span=(358, 359), match='4'>\n",
            "<re.Match object; span=(359, 360), match='3'>\n"
          ]
        }
      ],
      "source": [
        "pattern = re.compile(r\"[1-5-]\")\n",
        "find_match(pattern , mytext)"
      ]
    },
    {
      "cell_type": "code",
      "execution_count": null,
      "metadata": {
        "ExecuteTime": {
          "end_time": "2025-05-09T08:15:55.169154Z",
          "start_time": "2025-05-09T08:15:55.160921Z"
        },
        "id": "q_mlnkkj5u5I",
        "outputId": "05dea9c1-9606-45ad-96c5-42aefc799172"
      },
      "outputs": [
        {
          "name": "stdout",
          "output_type": "stream",
          "text": [
            "<re.Match object; span=(0, 1), match='a'>\n",
            "<re.Match object; span=(25, 26), match='z'>\n",
            "<re.Match object; span=(68, 69), match='a'>\n",
            "<re.Match object; span=(71, 72), match='a'>\n",
            "<re.Match object; span=(73, 74), match='a'>\n",
            "<re.Match object; span=(78, 79), match='a'>\n",
            "<re.Match object; span=(81, 82), match='a'>\n",
            "<re.Match object; span=(83, 84), match='a'>\n",
            "<re.Match object; span=(105, 106), match='a'>\n",
            "<re.Match object; span=(142, 143), match='a'>\n",
            "<re.Match object; span=(151, 152), match='a'>\n",
            "<re.Match object; span=(155, 156), match='a'>\n",
            "<re.Match object; span=(160, 161), match='a'>\n",
            "<re.Match object; span=(164, 165), match='a'>\n",
            "<re.Match object; span=(168, 169), match='a'>\n",
            "<re.Match object; span=(172, 173), match='a'>\n",
            "<re.Match object; span=(252, 253), match='-'>\n",
            "<re.Match object; span=(260, 261), match='-'>\n",
            "<re.Match object; span=(264, 265), match='-'>\n",
            "<re.Match object; span=(303, 304), match='-'>\n",
            "<re.Match object; span=(312, 313), match='-'>\n",
            "<re.Match object; span=(325, 326), match='-'>\n",
            "<re.Match object; span=(329, 330), match='-'>\n",
            "<re.Match object; span=(338, 339), match='-'>\n",
            "<re.Match object; span=(342, 343), match='-'>\n",
            "<re.Match object; span=(351, 352), match='a'>\n",
            "<re.Match object; span=(368, 369), match='a'>\n",
            "<re.Match object; span=(386, 387), match='a'>\n"
          ]
        }
      ],
      "source": [
        "pattern = re.compile(r\"[az-]\")\n",
        "find_match(pattern , mytext)"
      ]
    },
    {
      "cell_type": "code",
      "execution_count": null,
      "metadata": {
        "ExecuteTime": {
          "end_time": "2025-05-09T08:16:01.997404Z",
          "start_time": "2025-05-09T08:16:01.987740Z"
        },
        "scrolled": false,
        "id": "UMz5kdGZ5u5I",
        "outputId": "7414461c-0739-4e72-ec6e-ce027d136385"
      },
      "outputs": [
        {
          "name": "stdout",
          "output_type": "stream",
          "text": [
            "<re.Match object; span=(0, 1), match='a'>\n",
            "<re.Match object; span=(1, 2), match='b'>\n",
            "<re.Match object; span=(2, 3), match='c'>\n",
            "<re.Match object; span=(3, 4), match='d'>\n",
            "<re.Match object; span=(4, 5), match='e'>\n",
            "<re.Match object; span=(5, 6), match='f'>\n",
            "<re.Match object; span=(6, 7), match='g'>\n",
            "<re.Match object; span=(7, 8), match='h'>\n",
            "<re.Match object; span=(8, 9), match='i'>\n",
            "<re.Match object; span=(9, 10), match='j'>\n",
            "<re.Match object; span=(10, 11), match='k'>\n",
            "<re.Match object; span=(11, 12), match='l'>\n",
            "<re.Match object; span=(12, 13), match='m'>\n",
            "<re.Match object; span=(13, 14), match='n'>\n",
            "<re.Match object; span=(14, 15), match='o'>\n",
            "<re.Match object; span=(15, 16), match='p'>\n",
            "<re.Match object; span=(16, 17), match='q'>\n",
            "<re.Match object; span=(17, 18), match='u'>\n",
            "<re.Match object; span=(18, 19), match='r'>\n",
            "<re.Match object; span=(19, 20), match='t'>\n",
            "<re.Match object; span=(20, 21), match='u'>\n",
            "<re.Match object; span=(21, 22), match='v'>\n",
            "<re.Match object; span=(22, 23), match='w'>\n",
            "<re.Match object; span=(23, 24), match='x'>\n",
            "<re.Match object; span=(24, 25), match='y'>\n",
            "<re.Match object; span=(25, 26), match='z'>\n",
            "<re.Match object; span=(68, 69), match='a'>\n",
            "<re.Match object; span=(71, 72), match='a'>\n",
            "<re.Match object; span=(73, 74), match='a'>\n",
            "<re.Match object; span=(76, 77), match='e'>\n",
            "<re.Match object; span=(77, 78), match='t'>\n",
            "<re.Match object; span=(78, 79), match='a'>\n",
            "<re.Match object; span=(80, 81), match='h'>\n",
            "<re.Match object; span=(81, 82), match='a'>\n",
            "<re.Match object; span=(82, 83), match='r'>\n",
            "<re.Match object; span=(83, 84), match='a'>\n",
            "<re.Match object; span=(84, 85), match='c'>\n",
            "<re.Match object; span=(85, 86), match='t'>\n",
            "<re.Match object; span=(86, 87), match='e'>\n",
            "<re.Match object; span=(87, 88), match='r'>\n",
            "<re.Match object; span=(88, 89), match='s'>\n",
            "<re.Match object; span=(92, 93), match='e'>\n",
            "<re.Match object; span=(93, 94), match='e'>\n",
            "<re.Match object; span=(94, 95), match='d'>\n",
            "<re.Match object; span=(96, 97), match='t'>\n",
            "<re.Match object; span=(97, 98), match='o'>\n",
            "<re.Match object; span=(99, 100), match='b'>\n",
            "<re.Match object; span=(100, 101), match='e'>\n",
            "<re.Match object; span=(102, 103), match='e'>\n",
            "<re.Match object; span=(103, 104), match='s'>\n",
            "<re.Match object; span=(104, 105), match='c'>\n",
            "<re.Match object; span=(105, 106), match='a'>\n",
            "<re.Match object; span=(106, 107), match='p'>\n",
            "<re.Match object; span=(107, 108), match='e'>\n",
            "<re.Match object; span=(108, 109), match='d'>\n",
            "<re.Match object; span=(142, 143), match='a'>\n",
            "<re.Match object; span=(143, 144), match='b'>\n",
            "<re.Match object; span=(144, 145), match='c'>\n",
            "<re.Match object; span=(146, 147), match='c'>\n",
            "<re.Match object; span=(148, 149), match='t'>\n",
            "<re.Match object; span=(150, 151), match='c'>\n",
            "<re.Match object; span=(151, 152), match='a'>\n",
            "<re.Match object; span=(152, 153), match='t'>\n",
            "<re.Match object; span=(154, 155), match='m'>\n",
            "<re.Match object; span=(155, 156), match='a'>\n",
            "<re.Match object; span=(156, 157), match='t'>\n",
            "<re.Match object; span=(159, 160), match='h'>\n",
            "<re.Match object; span=(160, 161), match='a'>\n",
            "<re.Match object; span=(161, 162), match='t'>\n",
            "<re.Match object; span=(163, 164), match='b'>\n",
            "<re.Match object; span=(164, 165), match='a'>\n",
            "<re.Match object; span=(165, 166), match='t'>\n",
            "<re.Match object; span=(167, 168), match='f'>\n",
            "<re.Match object; span=(168, 169), match='a'>\n",
            "<re.Match object; span=(169, 170), match='t'>\n",
            "<re.Match object; span=(171, 172), match='s'>\n",
            "<re.Match object; span=(172, 173), match='a'>\n",
            "<re.Match object; span=(173, 174), match='t'>\n",
            "<re.Match object; span=(248, 249), match='h'>\n",
            "<re.Match object; span=(249, 250), match='m'>\n",
            "<re.Match object; span=(250, 251), match='e'>\n",
            "<re.Match object; span=(251, 252), match='d'>\n",
            "<re.Match object; span=(253, 254), match='c'>\n",
            "<re.Match object; span=(254, 255), match='o'>\n",
            "<re.Match object; span=(255, 256), match='m'>\n",
            "<re.Match object; span=(351, 352), match='a'>\n",
            "<re.Match object; span=(362, 363), match='r'>\n",
            "<re.Match object; span=(366, 367), match='c'>\n",
            "<re.Match object; span=(367, 368), match='h'>\n",
            "<re.Match object; span=(368, 369), match='a'>\n",
            "<re.Match object; span=(369, 370), match='f'>\n",
            "<re.Match object; span=(370, 371), match='e'>\n",
            "<re.Match object; span=(371, 372), match='r'>\n",
            "<re.Match object; span=(374, 375), match='r'>\n",
            "<re.Match object; span=(377, 378), match='m'>\n",
            "<re.Match object; span=(378, 379), match='i'>\n",
            "<re.Match object; span=(379, 380), match='t'>\n",
            "<re.Match object; span=(380, 381), match='h'>\n",
            "<re.Match object; span=(383, 384), match='s'>\n",
            "<re.Match object; span=(386, 387), match='a'>\n",
            "<re.Match object; span=(387, 388), match='v'>\n",
            "<re.Match object; span=(388, 389), match='i'>\n",
            "<re.Match object; span=(389, 390), match='s'>\n",
            "<re.Match object; span=(392, 393), match='r'>\n",
            "<re.Match object; span=(393, 394), match='s'>\n",
            "<re.Match object; span=(397, 398), match='o'>\n",
            "<re.Match object; span=(398, 399), match='b'>\n",
            "<re.Match object; span=(399, 400), match='i'>\n",
            "<re.Match object; span=(400, 401), match='n'>\n",
            "<re.Match object; span=(401, 402), match='s'>\n",
            "<re.Match object; span=(402, 403), match='o'>\n",
            "<re.Match object; span=(403, 404), match='n'>\n",
            "<re.Match object; span=(406, 407), match='r'>\n",
            "<re.Match object; span=(412, 413), match='r'>\n"
          ]
        }
      ],
      "source": [
        "pattern = re.compile(\"[a-z]\")\n",
        "find_match(pattern , mytext)"
      ]
    },
    {
      "cell_type": "code",
      "execution_count": null,
      "metadata": {
        "ExecuteTime": {
          "end_time": "2025-05-09T08:19:09.265541Z",
          "start_time": "2025-05-09T08:19:09.253804Z"
        },
        "scrolled": false,
        "id": "2Xtbfgc45u5J",
        "outputId": "257f1d2f-616b-4e88-df7a-b2052024d083"
      },
      "outputs": [
        {
          "name": "stdout",
          "output_type": "stream",
          "text": [
            "<re.Match object; span=(0, 1), match='a'>\n",
            "<re.Match object; span=(1, 2), match='b'>\n",
            "<re.Match object; span=(2, 3), match='c'>\n",
            "<re.Match object; span=(3, 4), match='d'>\n",
            "<re.Match object; span=(4, 5), match='e'>\n",
            "<re.Match object; span=(5, 6), match='f'>\n",
            "<re.Match object; span=(6, 7), match='g'>\n",
            "<re.Match object; span=(7, 8), match='h'>\n",
            "<re.Match object; span=(8, 9), match='i'>\n",
            "<re.Match object; span=(9, 10), match='j'>\n",
            "<re.Match object; span=(10, 11), match='k'>\n",
            "<re.Match object; span=(11, 12), match='l'>\n",
            "<re.Match object; span=(12, 13), match='m'>\n",
            "<re.Match object; span=(13, 14), match='n'>\n",
            "<re.Match object; span=(14, 15), match='o'>\n",
            "<re.Match object; span=(15, 16), match='p'>\n",
            "<re.Match object; span=(16, 17), match='q'>\n",
            "<re.Match object; span=(17, 18), match='u'>\n",
            "<re.Match object; span=(18, 19), match='r'>\n",
            "<re.Match object; span=(19, 20), match='t'>\n",
            "<re.Match object; span=(20, 21), match='u'>\n",
            "<re.Match object; span=(21, 22), match='v'>\n",
            "<re.Match object; span=(22, 23), match='w'>\n",
            "<re.Match object; span=(23, 24), match='x'>\n",
            "<re.Match object; span=(24, 25), match='y'>\n",
            "<re.Match object; span=(25, 26), match='z'>\n",
            "<re.Match object; span=(27, 28), match='A'>\n",
            "<re.Match object; span=(28, 29), match='B'>\n",
            "<re.Match object; span=(29, 30), match='C'>\n",
            "<re.Match object; span=(30, 31), match='D'>\n",
            "<re.Match object; span=(31, 32), match='E'>\n",
            "<re.Match object; span=(32, 33), match='F'>\n",
            "<re.Match object; span=(33, 34), match='G'>\n",
            "<re.Match object; span=(34, 35), match='H'>\n",
            "<re.Match object; span=(35, 36), match='I'>\n",
            "<re.Match object; span=(36, 37), match='J'>\n",
            "<re.Match object; span=(37, 38), match='K'>\n",
            "<re.Match object; span=(38, 39), match='L'>\n",
            "<re.Match object; span=(39, 40), match='M'>\n",
            "<re.Match object; span=(40, 41), match='N'>\n",
            "<re.Match object; span=(41, 42), match='O'>\n",
            "<re.Match object; span=(42, 43), match='P'>\n",
            "<re.Match object; span=(43, 44), match='Q'>\n",
            "<re.Match object; span=(44, 45), match='R'>\n",
            "<re.Match object; span=(45, 46), match='S'>\n",
            "<re.Match object; span=(46, 47), match='T'>\n",
            "<re.Match object; span=(47, 48), match='U'>\n",
            "<re.Match object; span=(48, 49), match='V'>\n",
            "<re.Match object; span=(49, 50), match='W'>\n",
            "<re.Match object; span=(50, 51), match='X'>\n",
            "<re.Match object; span=(51, 52), match='Y'>\n",
            "<re.Match object; span=(52, 53), match='Z'>\n",
            "<re.Match object; span=(67, 68), match='H'>\n",
            "<re.Match object; span=(68, 69), match='a'>\n",
            "<re.Match object; span=(70, 71), match='H'>\n",
            "<re.Match object; span=(71, 72), match='a'>\n",
            "<re.Match object; span=(72, 73), match='H'>\n",
            "<re.Match object; span=(73, 74), match='a'>\n",
            "<re.Match object; span=(75, 76), match='M'>\n",
            "<re.Match object; span=(76, 77), match='e'>\n",
            "<re.Match object; span=(77, 78), match='t'>\n",
            "<re.Match object; span=(78, 79), match='a'>\n",
            "<re.Match object; span=(79, 80), match='C'>\n",
            "<re.Match object; span=(80, 81), match='h'>\n",
            "<re.Match object; span=(81, 82), match='a'>\n",
            "<re.Match object; span=(82, 83), match='r'>\n",
            "<re.Match object; span=(83, 84), match='a'>\n",
            "<re.Match object; span=(84, 85), match='c'>\n",
            "<re.Match object; span=(85, 86), match='t'>\n",
            "<re.Match object; span=(86, 87), match='e'>\n",
            "<re.Match object; span=(87, 88), match='r'>\n",
            "<re.Match object; span=(88, 89), match='s'>\n",
            "<re.Match object; span=(91, 92), match='N'>\n",
            "<re.Match object; span=(92, 93), match='e'>\n",
            "<re.Match object; span=(93, 94), match='e'>\n",
            "<re.Match object; span=(94, 95), match='d'>\n",
            "<re.Match object; span=(96, 97), match='t'>\n",
            "<re.Match object; span=(97, 98), match='o'>\n",
            "<re.Match object; span=(99, 100), match='b'>\n",
            "<re.Match object; span=(100, 101), match='e'>\n",
            "<re.Match object; span=(102, 103), match='e'>\n",
            "<re.Match object; span=(103, 104), match='s'>\n",
            "<re.Match object; span=(104, 105), match='c'>\n",
            "<re.Match object; span=(105, 106), match='a'>\n",
            "<re.Match object; span=(106, 107), match='p'>\n",
            "<re.Match object; span=(107, 108), match='e'>\n",
            "<re.Match object; span=(108, 109), match='d'>\n",
            "<re.Match object; span=(114, 115), match='^'>\n",
            "<re.Match object; span=(116, 117), match='_'>\n",
            "<re.Match object; span=(130, 131), match='['>\n",
            "<re.Match object; span=(132, 133), match=']'>\n",
            "<re.Match object; span=(134, 135), match='\\\\'>\n",
            "<re.Match object; span=(142, 143), match='a'>\n",
            "<re.Match object; span=(143, 144), match='b'>\n",
            "<re.Match object; span=(144, 145), match='c'>\n",
            "<re.Match object; span=(146, 147), match='c'>\n",
            "<re.Match object; span=(148, 149), match='t'>\n",
            "<re.Match object; span=(150, 151), match='c'>\n",
            "<re.Match object; span=(151, 152), match='a'>\n",
            "<re.Match object; span=(152, 153), match='t'>\n",
            "<re.Match object; span=(154, 155), match='m'>\n",
            "<re.Match object; span=(155, 156), match='a'>\n",
            "<re.Match object; span=(156, 157), match='t'>\n",
            "<re.Match object; span=(159, 160), match='h'>\n",
            "<re.Match object; span=(160, 161), match='a'>\n",
            "<re.Match object; span=(161, 162), match='t'>\n",
            "<re.Match object; span=(163, 164), match='b'>\n",
            "<re.Match object; span=(164, 165), match='a'>\n",
            "<re.Match object; span=(165, 166), match='t'>\n",
            "<re.Match object; span=(167, 168), match='f'>\n",
            "<re.Match object; span=(168, 169), match='a'>\n",
            "<re.Match object; span=(169, 170), match='t'>\n",
            "<re.Match object; span=(171, 172), match='s'>\n",
            "<re.Match object; span=(172, 173), match='a'>\n",
            "<re.Match object; span=(173, 174), match='t'>\n",
            "<re.Match object; span=(247, 248), match='A'>\n",
            "<re.Match object; span=(248, 249), match='h'>\n",
            "<re.Match object; span=(249, 250), match='m'>\n",
            "<re.Match object; span=(250, 251), match='e'>\n",
            "<re.Match object; span=(251, 252), match='d'>\n",
            "<re.Match object; span=(253, 254), match='c'>\n",
            "<re.Match object; span=(254, 255), match='o'>\n",
            "<re.Match object; span=(255, 256), match='m'>\n",
            "<re.Match object; span=(351, 352), match='a'>\n",
            "<re.Match object; span=(355, 356), match='C'>\n",
            "<re.Match object; span=(361, 362), match='M'>\n",
            "<re.Match object; span=(362, 363), match='r'>\n",
            "<re.Match object; span=(365, 366), match='S'>\n",
            "<re.Match object; span=(366, 367), match='c'>\n",
            "<re.Match object; span=(367, 368), match='h'>\n",
            "<re.Match object; span=(368, 369), match='a'>\n",
            "<re.Match object; span=(369, 370), match='f'>\n",
            "<re.Match object; span=(370, 371), match='e'>\n",
            "<re.Match object; span=(371, 372), match='r'>\n",
            "<re.Match object; span=(373, 374), match='M'>\n",
            "<re.Match object; span=(374, 375), match='r'>\n",
            "<re.Match object; span=(376, 377), match='S'>\n",
            "<re.Match object; span=(377, 378), match='m'>\n",
            "<re.Match object; span=(378, 379), match='i'>\n",
            "<re.Match object; span=(379, 380), match='t'>\n",
            "<re.Match object; span=(380, 381), match='h'>\n",
            "<re.Match object; span=(382, 383), match='M'>\n",
            "<re.Match object; span=(383, 384), match='s'>\n",
            "<re.Match object; span=(385, 386), match='D'>\n",
            "<re.Match object; span=(386, 387), match='a'>\n",
            "<re.Match object; span=(387, 388), match='v'>\n",
            "<re.Match object; span=(388, 389), match='i'>\n",
            "<re.Match object; span=(389, 390), match='s'>\n",
            "<re.Match object; span=(391, 392), match='M'>\n",
            "<re.Match object; span=(392, 393), match='r'>\n",
            "<re.Match object; span=(393, 394), match='s'>\n",
            "<re.Match object; span=(396, 397), match='R'>\n",
            "<re.Match object; span=(397, 398), match='o'>\n",
            "<re.Match object; span=(398, 399), match='b'>\n",
            "<re.Match object; span=(399, 400), match='i'>\n",
            "<re.Match object; span=(400, 401), match='n'>\n",
            "<re.Match object; span=(401, 402), match='s'>\n",
            "<re.Match object; span=(402, 403), match='o'>\n",
            "<re.Match object; span=(403, 404), match='n'>\n",
            "<re.Match object; span=(405, 406), match='M'>\n",
            "<re.Match object; span=(406, 407), match='r'>\n",
            "<re.Match object; span=(409, 410), match='T'>\n",
            "<re.Match object; span=(411, 412), match='M'>\n",
            "<re.Match object; span=(412, 413), match='r'>\n"
          ]
        }
      ],
      "source": [
        "# from A to z ( small ) including special characters ( ascii code ) link: https://www.asciitable.com\n",
        "pattern = re.compile(r\"[A-z]\")\n",
        "find_match(pattern , mytext)"
      ]
    },
    {
      "cell_type": "code",
      "execution_count": null,
      "metadata": {
        "ExecuteTime": {
          "end_time": "2025-05-09T08:19:27.135387Z",
          "start_time": "2025-05-09T08:19:27.125648Z"
        },
        "id": "3CirwHEu5u5J",
        "outputId": "00a00f61-36c2-422b-c7d0-34bcb6aeb4c0"
      },
      "outputs": [
        {
          "data": {
            "text/plain": [
              "(48, 65, 97)"
            ]
          },
          "execution_count": 65,
          "metadata": {},
          "output_type": "execute_result"
        }
      ],
      "source": [
        "# find ascii code\n",
        "ord(\"0\") , ord(\"A\") , ord(\"a\")"
      ]
    },
    {
      "cell_type": "code",
      "execution_count": null,
      "metadata": {
        "ExecuteTime": {
          "end_time": "2025-05-09T08:20:15.713371Z",
          "start_time": "2025-05-09T08:20:15.703540Z"
        },
        "id": "3VBR_KAu5u5J",
        "outputId": "08d1412c-603f-4b91-8632-a16b7cea0939"
      },
      "outputs": [
        {
          "name": "stdout",
          "output_type": "stream",
          "text": [
            "<re.Match object; span=(0, 1), match='a'>\n",
            "<re.Match object; span=(1, 2), match='b'>\n",
            "<re.Match object; span=(2, 3), match='c'>\n",
            "<re.Match object; span=(3, 4), match='d'>\n",
            "<re.Match object; span=(4, 5), match='e'>\n",
            "<re.Match object; span=(5, 6), match='f'>\n",
            "<re.Match object; span=(6, 7), match='g'>\n",
            "<re.Match object; span=(7, 8), match='h'>\n",
            "<re.Match object; span=(8, 9), match='i'>\n",
            "<re.Match object; span=(9, 10), match='j'>\n",
            "<re.Match object; span=(10, 11), match='k'>\n",
            "<re.Match object; span=(11, 12), match='l'>\n",
            "<re.Match object; span=(12, 13), match='m'>\n",
            "<re.Match object; span=(13, 14), match='n'>\n",
            "<re.Match object; span=(14, 15), match='o'>\n",
            "<re.Match object; span=(15, 16), match='p'>\n",
            "<re.Match object; span=(16, 17), match='q'>\n",
            "<re.Match object; span=(17, 18), match='u'>\n",
            "<re.Match object; span=(18, 19), match='r'>\n",
            "<re.Match object; span=(19, 20), match='t'>\n",
            "<re.Match object; span=(20, 21), match='u'>\n",
            "<re.Match object; span=(21, 22), match='v'>\n",
            "<re.Match object; span=(22, 23), match='w'>\n",
            "<re.Match object; span=(23, 24), match='x'>\n",
            "<re.Match object; span=(24, 25), match='y'>\n",
            "<re.Match object; span=(25, 26), match='z'>\n",
            "<re.Match object; span=(27, 28), match='A'>\n",
            "<re.Match object; span=(28, 29), match='B'>\n",
            "<re.Match object; span=(29, 30), match='C'>\n",
            "<re.Match object; span=(30, 31), match='D'>\n",
            "<re.Match object; span=(31, 32), match='E'>\n",
            "<re.Match object; span=(32, 33), match='F'>\n",
            "<re.Match object; span=(33, 34), match='G'>\n",
            "<re.Match object; span=(34, 35), match='H'>\n",
            "<re.Match object; span=(35, 36), match='I'>\n",
            "<re.Match object; span=(36, 37), match='J'>\n",
            "<re.Match object; span=(37, 38), match='K'>\n",
            "<re.Match object; span=(38, 39), match='L'>\n",
            "<re.Match object; span=(39, 40), match='M'>\n",
            "<re.Match object; span=(40, 41), match='N'>\n",
            "<re.Match object; span=(41, 42), match='O'>\n",
            "<re.Match object; span=(42, 43), match='P'>\n",
            "<re.Match object; span=(43, 44), match='Q'>\n",
            "<re.Match object; span=(44, 45), match='R'>\n",
            "<re.Match object; span=(45, 46), match='S'>\n",
            "<re.Match object; span=(46, 47), match='T'>\n",
            "<re.Match object; span=(47, 48), match='U'>\n",
            "<re.Match object; span=(48, 49), match='V'>\n",
            "<re.Match object; span=(49, 50), match='W'>\n",
            "<re.Match object; span=(50, 51), match='X'>\n",
            "<re.Match object; span=(51, 52), match='Y'>\n",
            "<re.Match object; span=(52, 53), match='Z'>\n",
            "<re.Match object; span=(67, 68), match='H'>\n",
            "<re.Match object; span=(68, 69), match='a'>\n",
            "<re.Match object; span=(70, 71), match='H'>\n",
            "<re.Match object; span=(71, 72), match='a'>\n",
            "<re.Match object; span=(72, 73), match='H'>\n",
            "<re.Match object; span=(73, 74), match='a'>\n",
            "<re.Match object; span=(75, 76), match='M'>\n",
            "<re.Match object; span=(76, 77), match='e'>\n",
            "<re.Match object; span=(77, 78), match='t'>\n",
            "<re.Match object; span=(78, 79), match='a'>\n",
            "<re.Match object; span=(79, 80), match='C'>\n",
            "<re.Match object; span=(80, 81), match='h'>\n",
            "<re.Match object; span=(81, 82), match='a'>\n",
            "<re.Match object; span=(82, 83), match='r'>\n",
            "<re.Match object; span=(83, 84), match='a'>\n",
            "<re.Match object; span=(84, 85), match='c'>\n",
            "<re.Match object; span=(85, 86), match='t'>\n",
            "<re.Match object; span=(86, 87), match='e'>\n",
            "<re.Match object; span=(87, 88), match='r'>\n",
            "<re.Match object; span=(88, 89), match='s'>\n",
            "<re.Match object; span=(91, 92), match='N'>\n",
            "<re.Match object; span=(92, 93), match='e'>\n",
            "<re.Match object; span=(93, 94), match='e'>\n",
            "<re.Match object; span=(94, 95), match='d'>\n",
            "<re.Match object; span=(96, 97), match='t'>\n",
            "<re.Match object; span=(97, 98), match='o'>\n",
            "<re.Match object; span=(99, 100), match='b'>\n",
            "<re.Match object; span=(100, 101), match='e'>\n",
            "<re.Match object; span=(102, 103), match='e'>\n",
            "<re.Match object; span=(103, 104), match='s'>\n",
            "<re.Match object; span=(104, 105), match='c'>\n",
            "<re.Match object; span=(105, 106), match='a'>\n",
            "<re.Match object; span=(106, 107), match='p'>\n",
            "<re.Match object; span=(107, 108), match='e'>\n",
            "<re.Match object; span=(108, 109), match='d'>\n",
            "<re.Match object; span=(142, 143), match='a'>\n",
            "<re.Match object; span=(143, 144), match='b'>\n",
            "<re.Match object; span=(144, 145), match='c'>\n",
            "<re.Match object; span=(146, 147), match='c'>\n",
            "<re.Match object; span=(148, 149), match='t'>\n",
            "<re.Match object; span=(150, 151), match='c'>\n",
            "<re.Match object; span=(151, 152), match='a'>\n",
            "<re.Match object; span=(152, 153), match='t'>\n",
            "<re.Match object; span=(154, 155), match='m'>\n",
            "<re.Match object; span=(155, 156), match='a'>\n",
            "<re.Match object; span=(156, 157), match='t'>\n",
            "<re.Match object; span=(159, 160), match='h'>\n",
            "<re.Match object; span=(160, 161), match='a'>\n",
            "<re.Match object; span=(161, 162), match='t'>\n",
            "<re.Match object; span=(163, 164), match='b'>\n",
            "<re.Match object; span=(164, 165), match='a'>\n",
            "<re.Match object; span=(165, 166), match='t'>\n",
            "<re.Match object; span=(167, 168), match='f'>\n",
            "<re.Match object; span=(168, 169), match='a'>\n",
            "<re.Match object; span=(169, 170), match='t'>\n",
            "<re.Match object; span=(171, 172), match='s'>\n",
            "<re.Match object; span=(172, 173), match='a'>\n",
            "<re.Match object; span=(173, 174), match='t'>\n",
            "<re.Match object; span=(247, 248), match='A'>\n",
            "<re.Match object; span=(248, 249), match='h'>\n",
            "<re.Match object; span=(249, 250), match='m'>\n",
            "<re.Match object; span=(250, 251), match='e'>\n",
            "<re.Match object; span=(251, 252), match='d'>\n",
            "<re.Match object; span=(253, 254), match='c'>\n",
            "<re.Match object; span=(254, 255), match='o'>\n",
            "<re.Match object; span=(255, 256), match='m'>\n",
            "<re.Match object; span=(351, 352), match='a'>\n",
            "<re.Match object; span=(355, 356), match='C'>\n",
            "<re.Match object; span=(361, 362), match='M'>\n",
            "<re.Match object; span=(362, 363), match='r'>\n",
            "<re.Match object; span=(365, 366), match='S'>\n",
            "<re.Match object; span=(366, 367), match='c'>\n",
            "<re.Match object; span=(367, 368), match='h'>\n",
            "<re.Match object; span=(368, 369), match='a'>\n",
            "<re.Match object; span=(369, 370), match='f'>\n",
            "<re.Match object; span=(370, 371), match='e'>\n",
            "<re.Match object; span=(371, 372), match='r'>\n",
            "<re.Match object; span=(373, 374), match='M'>\n",
            "<re.Match object; span=(374, 375), match='r'>\n",
            "<re.Match object; span=(376, 377), match='S'>\n",
            "<re.Match object; span=(377, 378), match='m'>\n",
            "<re.Match object; span=(378, 379), match='i'>\n",
            "<re.Match object; span=(379, 380), match='t'>\n",
            "<re.Match object; span=(380, 381), match='h'>\n",
            "<re.Match object; span=(382, 383), match='M'>\n",
            "<re.Match object; span=(383, 384), match='s'>\n",
            "<re.Match object; span=(385, 386), match='D'>\n",
            "<re.Match object; span=(386, 387), match='a'>\n",
            "<re.Match object; span=(387, 388), match='v'>\n",
            "<re.Match object; span=(388, 389), match='i'>\n",
            "<re.Match object; span=(389, 390), match='s'>\n",
            "<re.Match object; span=(391, 392), match='M'>\n",
            "<re.Match object; span=(392, 393), match='r'>\n",
            "<re.Match object; span=(393, 394), match='s'>\n",
            "<re.Match object; span=(396, 397), match='R'>\n",
            "<re.Match object; span=(397, 398), match='o'>\n",
            "<re.Match object; span=(398, 399), match='b'>\n",
            "<re.Match object; span=(399, 400), match='i'>\n",
            "<re.Match object; span=(400, 401), match='n'>\n",
            "<re.Match object; span=(401, 402), match='s'>\n",
            "<re.Match object; span=(402, 403), match='o'>\n",
            "<re.Match object; span=(403, 404), match='n'>\n",
            "<re.Match object; span=(405, 406), match='M'>\n",
            "<re.Match object; span=(406, 407), match='r'>\n",
            "<re.Match object; span=(409, 410), match='T'>\n",
            "<re.Match object; span=(411, 412), match='M'>\n",
            "<re.Match object; span=(412, 413), match='r'>\n"
          ]
        }
      ],
      "source": [
        "pattern = re.compile(r\"[a-zA-Z]\")\n",
        "find_match(pattern , mytext)"
      ]
    },
    {
      "cell_type": "code",
      "execution_count": null,
      "metadata": {
        "ExecuteTime": {
          "end_time": "2024-10-11T07:40:55.901797Z",
          "start_time": "2024-10-11T07:40:55.895058Z"
        },
        "id": "1jCivrDx5u5J"
      },
      "outputs": [],
      "source": [
        "# From A-Z or a-z"
      ]
    },
    {
      "cell_type": "code",
      "execution_count": null,
      "metadata": {
        "ExecuteTime": {
          "end_time": "2025-05-09T08:20:27.665399Z",
          "start_time": "2025-05-09T08:20:27.653272Z"
        },
        "id": "oyQOcqB95u5J",
        "outputId": "2c2c8f7e-80df-4a69-ffe8-3c20a3aba4e4"
      },
      "outputs": [
        {
          "name": "stdout",
          "output_type": "stream",
          "text": [
            "<re.Match object; span=(0, 1), match='a'>\n",
            "<re.Match object; span=(1, 2), match='b'>\n",
            "<re.Match object; span=(2, 3), match='c'>\n",
            "<re.Match object; span=(3, 4), match='d'>\n",
            "<re.Match object; span=(4, 5), match='e'>\n",
            "<re.Match object; span=(5, 6), match='f'>\n",
            "<re.Match object; span=(6, 7), match='g'>\n",
            "<re.Match object; span=(7, 8), match='h'>\n",
            "<re.Match object; span=(8, 9), match='i'>\n",
            "<re.Match object; span=(9, 10), match='j'>\n",
            "<re.Match object; span=(10, 11), match='k'>\n",
            "<re.Match object; span=(11, 12), match='l'>\n",
            "<re.Match object; span=(12, 13), match='m'>\n",
            "<re.Match object; span=(13, 14), match='n'>\n",
            "<re.Match object; span=(14, 15), match='o'>\n",
            "<re.Match object; span=(15, 16), match='p'>\n",
            "<re.Match object; span=(16, 17), match='q'>\n",
            "<re.Match object; span=(17, 18), match='u'>\n",
            "<re.Match object; span=(18, 19), match='r'>\n",
            "<re.Match object; span=(19, 20), match='t'>\n",
            "<re.Match object; span=(20, 21), match='u'>\n",
            "<re.Match object; span=(21, 22), match='v'>\n",
            "<re.Match object; span=(22, 23), match='w'>\n",
            "<re.Match object; span=(23, 24), match='x'>\n",
            "<re.Match object; span=(24, 25), match='y'>\n",
            "<re.Match object; span=(25, 26), match='z'>\n",
            "<re.Match object; span=(27, 28), match='A'>\n",
            "<re.Match object; span=(28, 29), match='B'>\n",
            "<re.Match object; span=(29, 30), match='C'>\n",
            "<re.Match object; span=(30, 31), match='D'>\n",
            "<re.Match object; span=(31, 32), match='E'>\n",
            "<re.Match object; span=(32, 33), match='F'>\n",
            "<re.Match object; span=(33, 34), match='G'>\n",
            "<re.Match object; span=(34, 35), match='H'>\n",
            "<re.Match object; span=(35, 36), match='I'>\n",
            "<re.Match object; span=(36, 37), match='J'>\n",
            "<re.Match object; span=(37, 38), match='K'>\n",
            "<re.Match object; span=(38, 39), match='L'>\n",
            "<re.Match object; span=(39, 40), match='M'>\n",
            "<re.Match object; span=(40, 41), match='N'>\n",
            "<re.Match object; span=(41, 42), match='O'>\n",
            "<re.Match object; span=(42, 43), match='P'>\n",
            "<re.Match object; span=(43, 44), match='Q'>\n",
            "<re.Match object; span=(44, 45), match='R'>\n",
            "<re.Match object; span=(45, 46), match='S'>\n",
            "<re.Match object; span=(46, 47), match='T'>\n",
            "<re.Match object; span=(47, 48), match='U'>\n",
            "<re.Match object; span=(48, 49), match='V'>\n",
            "<re.Match object; span=(49, 50), match='W'>\n",
            "<re.Match object; span=(50, 51), match='X'>\n",
            "<re.Match object; span=(51, 52), match='Y'>\n",
            "<re.Match object; span=(52, 53), match='Z'>\n",
            "<re.Match object; span=(54, 55), match='1'>\n",
            "<re.Match object; span=(55, 56), match='2'>\n",
            "<re.Match object; span=(56, 57), match='3'>\n",
            "<re.Match object; span=(57, 58), match='4'>\n",
            "<re.Match object; span=(58, 59), match='5'>\n",
            "<re.Match object; span=(59, 60), match='6'>\n",
            "<re.Match object; span=(60, 61), match='7'>\n",
            "<re.Match object; span=(61, 62), match='8'>\n",
            "<re.Match object; span=(62, 63), match='9'>\n",
            "<re.Match object; span=(63, 64), match='0'>\n",
            "<re.Match object; span=(64, 65), match='1'>\n",
            "<re.Match object; span=(65, 66), match='0'>\n",
            "<re.Match object; span=(67, 68), match='H'>\n",
            "<re.Match object; span=(68, 69), match='a'>\n",
            "<re.Match object; span=(70, 71), match='H'>\n",
            "<re.Match object; span=(71, 72), match='a'>\n",
            "<re.Match object; span=(72, 73), match='H'>\n",
            "<re.Match object; span=(73, 74), match='a'>\n",
            "<re.Match object; span=(75, 76), match='M'>\n",
            "<re.Match object; span=(76, 77), match='e'>\n",
            "<re.Match object; span=(77, 78), match='t'>\n",
            "<re.Match object; span=(78, 79), match='a'>\n",
            "<re.Match object; span=(79, 80), match='C'>\n",
            "<re.Match object; span=(80, 81), match='h'>\n",
            "<re.Match object; span=(81, 82), match='a'>\n",
            "<re.Match object; span=(82, 83), match='r'>\n",
            "<re.Match object; span=(83, 84), match='a'>\n",
            "<re.Match object; span=(84, 85), match='c'>\n",
            "<re.Match object; span=(85, 86), match='t'>\n",
            "<re.Match object; span=(86, 87), match='e'>\n",
            "<re.Match object; span=(87, 88), match='r'>\n",
            "<re.Match object; span=(88, 89), match='s'>\n",
            "<re.Match object; span=(91, 92), match='N'>\n",
            "<re.Match object; span=(92, 93), match='e'>\n",
            "<re.Match object; span=(93, 94), match='e'>\n",
            "<re.Match object; span=(94, 95), match='d'>\n",
            "<re.Match object; span=(96, 97), match='t'>\n",
            "<re.Match object; span=(97, 98), match='o'>\n",
            "<re.Match object; span=(99, 100), match='b'>\n",
            "<re.Match object; span=(100, 101), match='e'>\n",
            "<re.Match object; span=(102, 103), match='e'>\n",
            "<re.Match object; span=(103, 104), match='s'>\n",
            "<re.Match object; span=(104, 105), match='c'>\n",
            "<re.Match object; span=(105, 106), match='a'>\n",
            "<re.Match object; span=(106, 107), match='p'>\n",
            "<re.Match object; span=(107, 108), match='e'>\n",
            "<re.Match object; span=(108, 109), match='d'>\n",
            "<re.Match object; span=(142, 143), match='a'>\n",
            "<re.Match object; span=(143, 144), match='b'>\n",
            "<re.Match object; span=(144, 145), match='c'>\n",
            "<re.Match object; span=(146, 147), match='c'>\n",
            "<re.Match object; span=(148, 149), match='t'>\n",
            "<re.Match object; span=(150, 151), match='c'>\n",
            "<re.Match object; span=(151, 152), match='a'>\n",
            "<re.Match object; span=(152, 153), match='t'>\n",
            "<re.Match object; span=(154, 155), match='m'>\n",
            "<re.Match object; span=(155, 156), match='a'>\n",
            "<re.Match object; span=(156, 157), match='t'>\n",
            "<re.Match object; span=(159, 160), match='h'>\n",
            "<re.Match object; span=(160, 161), match='a'>\n",
            "<re.Match object; span=(161, 162), match='t'>\n",
            "<re.Match object; span=(163, 164), match='b'>\n",
            "<re.Match object; span=(164, 165), match='a'>\n",
            "<re.Match object; span=(165, 166), match='t'>\n",
            "<re.Match object; span=(167, 168), match='f'>\n",
            "<re.Match object; span=(168, 169), match='a'>\n",
            "<re.Match object; span=(169, 170), match='t'>\n",
            "<re.Match object; span=(171, 172), match='s'>\n",
            "<re.Match object; span=(172, 173), match='a'>\n",
            "<re.Match object; span=(173, 174), match='t'>\n",
            "<re.Match object; span=(175, 176), match='0'>\n",
            "<re.Match object; span=(176, 177), match='1'>\n",
            "<re.Match object; span=(177, 178), match='0'>\n",
            "<re.Match object; span=(178, 179), match='9'>\n",
            "<re.Match object; span=(179, 180), match='2'>\n",
            "<re.Match object; span=(180, 181), match='3'>\n",
            "<re.Match object; span=(181, 182), match='2'>\n",
            "<re.Match object; span=(182, 183), match='9'>\n",
            "<re.Match object; span=(183, 184), match='3'>\n",
            "<re.Match object; span=(184, 185), match='4'>\n",
            "<re.Match object; span=(185, 186), match='0'>\n",
            "<re.Match object; span=(187, 188), match='0'>\n",
            "<re.Match object; span=(188, 189), match='1'>\n",
            "<re.Match object; span=(189, 190), match='1'>\n",
            "<re.Match object; span=(190, 191), match='2'>\n",
            "<re.Match object; span=(191, 192), match='3'>\n",
            "<re.Match object; span=(192, 193), match='2'>\n",
            "<re.Match object; span=(193, 194), match='3'>\n",
            "<re.Match object; span=(194, 195), match='4'>\n",
            "<re.Match object; span=(195, 196), match='3'>\n",
            "<re.Match object; span=(196, 197), match='5'>\n",
            "<re.Match object; span=(197, 198), match='5'>\n",
            "<re.Match object; span=(199, 200), match='0'>\n",
            "<re.Match object; span=(200, 201), match='1'>\n",
            "<re.Match object; span=(201, 202), match='0'>\n",
            "<re.Match object; span=(202, 203), match='2'>\n",
            "<re.Match object; span=(203, 204), match='3'>\n",
            "<re.Match object; span=(204, 205), match='4'>\n",
            "<re.Match object; span=(205, 206), match='5'>\n",
            "<re.Match object; span=(206, 207), match='5'>\n",
            "<re.Match object; span=(207, 208), match='4'>\n",
            "<re.Match object; span=(208, 209), match='1'>\n",
            "<re.Match object; span=(209, 210), match='1'>\n",
            "<re.Match object; span=(211, 212), match='0'>\n",
            "<re.Match object; span=(212, 213), match='1'>\n",
            "<re.Match object; span=(213, 214), match='2'>\n",
            "<re.Match object; span=(214, 215), match='3'>\n",
            "<re.Match object; span=(215, 216), match='4'>\n",
            "<re.Match object; span=(216, 217), match='5'>\n",
            "<re.Match object; span=(217, 218), match='6'>\n",
            "<re.Match object; span=(218, 219), match='7'>\n",
            "<re.Match object; span=(219, 220), match='8'>\n",
            "<re.Match object; span=(220, 221), match='7'>\n",
            "<re.Match object; span=(221, 222), match='5'>\n",
            "<re.Match object; span=(223, 224), match='0'>\n",
            "<re.Match object; span=(224, 225), match='1'>\n",
            "<re.Match object; span=(225, 226), match='5'>\n",
            "<re.Match object; span=(226, 227), match='3'>\n",
            "<re.Match object; span=(227, 228), match='4'>\n",
            "<re.Match object; span=(228, 229), match='5'>\n",
            "<re.Match object; span=(229, 230), match='6'>\n",
            "<re.Match object; span=(230, 231), match='7'>\n",
            "<re.Match object; span=(231, 232), match='4'>\n",
            "<re.Match object; span=(232, 233), match='5'>\n",
            "<re.Match object; span=(233, 234), match='6'>\n",
            "<re.Match object; span=(235, 236), match='0'>\n",
            "<re.Match object; span=(236, 237), match='1'>\n",
            "<re.Match object; span=(237, 238), match='1'>\n",
            "<re.Match object; span=(238, 239), match='3'>\n",
            "<re.Match object; span=(239, 240), match='4'>\n",
            "<re.Match object; span=(240, 241), match='5'>\n",
            "<re.Match object; span=(241, 242), match='6'>\n",
            "<re.Match object; span=(242, 243), match='7'>\n",
            "<re.Match object; span=(243, 244), match='8'>\n",
            "<re.Match object; span=(244, 245), match='5'>\n",
            "<re.Match object; span=(245, 246), match='6'>\n",
            "<re.Match object; span=(247, 248), match='A'>\n",
            "<re.Match object; span=(248, 249), match='h'>\n",
            "<re.Match object; span=(249, 250), match='m'>\n",
            "<re.Match object; span=(250, 251), match='e'>\n",
            "<re.Match object; span=(251, 252), match='d'>\n",
            "<re.Match object; span=(253, 254), match='c'>\n",
            "<re.Match object; span=(254, 255), match='o'>\n",
            "<re.Match object; span=(255, 256), match='m'>\n",
            "<re.Match object; span=(257, 258), match='3'>\n",
            "<re.Match object; span=(258, 259), match='2'>\n",
            "<re.Match object; span=(259, 260), match='1'>\n",
            "<re.Match object; span=(261, 262), match='5'>\n",
            "<re.Match object; span=(262, 263), match='5'>\n",
            "<re.Match object; span=(263, 264), match='5'>\n",
            "<re.Match object; span=(265, 266), match='4'>\n",
            "<re.Match object; span=(266, 267), match='3'>\n",
            "<re.Match object; span=(267, 268), match='2'>\n",
            "<re.Match object; span=(268, 269), match='1'>\n",
            "<re.Match object; span=(270, 271), match='1'>\n",
            "<re.Match object; span=(271, 272), match='2'>\n",
            "<re.Match object; span=(272, 273), match='3'>\n",
            "<re.Match object; span=(274, 275), match='5'>\n",
            "<re.Match object; span=(275, 276), match='5'>\n",
            "<re.Match object; span=(276, 277), match='5'>\n",
            "<re.Match object; span=(278, 279), match='1'>\n",
            "<re.Match object; span=(279, 280), match='2'>\n",
            "<re.Match object; span=(280, 281), match='3'>\n",
            "<re.Match object; span=(281, 282), match='4'>\n",
            "<re.Match object; span=(283, 284), match='1'>\n",
            "<re.Match object; span=(284, 285), match='2'>\n",
            "<re.Match object; span=(285, 286), match='3'>\n",
            "<re.Match object; span=(287, 288), match='5'>\n",
            "<re.Match object; span=(288, 289), match='5'>\n",
            "<re.Match object; span=(289, 290), match='5'>\n",
            "<re.Match object; span=(291, 292), match='1'>\n",
            "<re.Match object; span=(292, 293), match='2'>\n",
            "<re.Match object; span=(293, 294), match='3'>\n",
            "<re.Match object; span=(294, 295), match='4'>\n",
            "<re.Match object; span=(296, 297), match='1'>\n",
            "<re.Match object; span=(297, 298), match='2'>\n",
            "<re.Match object; span=(298, 299), match='3'>\n",
            "<re.Match object; span=(300, 301), match='5'>\n",
            "<re.Match object; span=(301, 302), match='5'>\n",
            "<re.Match object; span=(302, 303), match='5'>\n",
            "<re.Match object; span=(304, 305), match='1'>\n",
            "<re.Match object; span=(305, 306), match='2'>\n",
            "<re.Match object; span=(306, 307), match='3'>\n",
            "<re.Match object; span=(307, 308), match='4'>\n",
            "<re.Match object; span=(309, 310), match='1'>\n",
            "<re.Match object; span=(310, 311), match='2'>\n",
            "<re.Match object; span=(311, 312), match='3'>\n",
            "<re.Match object; span=(313, 314), match='5'>\n",
            "<re.Match object; span=(314, 315), match='5'>\n",
            "<re.Match object; span=(315, 316), match='5'>\n",
            "<re.Match object; span=(317, 318), match='1'>\n",
            "<re.Match object; span=(318, 319), match='2'>\n",
            "<re.Match object; span=(319, 320), match='3'>\n",
            "<re.Match object; span=(320, 321), match='4'>\n",
            "<re.Match object; span=(322, 323), match='8'>\n",
            "<re.Match object; span=(323, 324), match='0'>\n",
            "<re.Match object; span=(324, 325), match='0'>\n",
            "<re.Match object; span=(326, 327), match='5'>\n",
            "<re.Match object; span=(327, 328), match='5'>\n",
            "<re.Match object; span=(328, 329), match='5'>\n",
            "<re.Match object; span=(330, 331), match='1'>\n",
            "<re.Match object; span=(331, 332), match='2'>\n",
            "<re.Match object; span=(332, 333), match='3'>\n",
            "<re.Match object; span=(333, 334), match='4'>\n",
            "<re.Match object; span=(335, 336), match='9'>\n",
            "<re.Match object; span=(336, 337), match='0'>\n",
            "<re.Match object; span=(337, 338), match='0'>\n",
            "<re.Match object; span=(339, 340), match='5'>\n",
            "<re.Match object; span=(340, 341), match='5'>\n",
            "<re.Match object; span=(341, 342), match='5'>\n",
            "<re.Match object; span=(343, 344), match='1'>\n",
            "<re.Match object; span=(344, 345), match='2'>\n",
            "<re.Match object; span=(345, 346), match='3'>\n",
            "<re.Match object; span=(346, 347), match='4'>\n",
            "<re.Match object; span=(348, 349), match='1'>\n",
            "<re.Match object; span=(349, 350), match='0'>\n",
            "<re.Match object; span=(350, 351), match='0'>\n",
            "<re.Match object; span=(351, 352), match='a'>\n",
            "<re.Match object; span=(352, 353), match='1'>\n",
            "<re.Match object; span=(353, 354), match='2'>\n",
            "<re.Match object; span=(354, 355), match='1'>\n",
            "<re.Match object; span=(355, 356), match='C'>\n",
            "<re.Match object; span=(356, 357), match='4'>\n",
            "<re.Match object; span=(357, 358), match='5'>\n",
            "<re.Match object; span=(358, 359), match='4'>\n",
            "<re.Match object; span=(359, 360), match='3'>\n",
            "<re.Match object; span=(361, 362), match='M'>\n",
            "<re.Match object; span=(362, 363), match='r'>\n",
            "<re.Match object; span=(365, 366), match='S'>\n",
            "<re.Match object; span=(366, 367), match='c'>\n",
            "<re.Match object; span=(367, 368), match='h'>\n",
            "<re.Match object; span=(368, 369), match='a'>\n",
            "<re.Match object; span=(369, 370), match='f'>\n",
            "<re.Match object; span=(370, 371), match='e'>\n",
            "<re.Match object; span=(371, 372), match='r'>\n",
            "<re.Match object; span=(373, 374), match='M'>\n",
            "<re.Match object; span=(374, 375), match='r'>\n",
            "<re.Match object; span=(376, 377), match='S'>\n",
            "<re.Match object; span=(377, 378), match='m'>\n",
            "<re.Match object; span=(378, 379), match='i'>\n",
            "<re.Match object; span=(379, 380), match='t'>\n",
            "<re.Match object; span=(380, 381), match='h'>\n",
            "<re.Match object; span=(382, 383), match='M'>\n",
            "<re.Match object; span=(383, 384), match='s'>\n",
            "<re.Match object; span=(385, 386), match='D'>\n",
            "<re.Match object; span=(386, 387), match='a'>\n",
            "<re.Match object; span=(387, 388), match='v'>\n",
            "<re.Match object; span=(388, 389), match='i'>\n",
            "<re.Match object; span=(389, 390), match='s'>\n",
            "<re.Match object; span=(391, 392), match='M'>\n",
            "<re.Match object; span=(392, 393), match='r'>\n",
            "<re.Match object; span=(393, 394), match='s'>\n",
            "<re.Match object; span=(396, 397), match='R'>\n",
            "<re.Match object; span=(397, 398), match='o'>\n",
            "<re.Match object; span=(398, 399), match='b'>\n",
            "<re.Match object; span=(399, 400), match='i'>\n",
            "<re.Match object; span=(400, 401), match='n'>\n",
            "<re.Match object; span=(401, 402), match='s'>\n",
            "<re.Match object; span=(402, 403), match='o'>\n",
            "<re.Match object; span=(403, 404), match='n'>\n",
            "<re.Match object; span=(405, 406), match='M'>\n",
            "<re.Match object; span=(406, 407), match='r'>\n",
            "<re.Match object; span=(409, 410), match='T'>\n",
            "<re.Match object; span=(411, 412), match='M'>\n",
            "<re.Match object; span=(412, 413), match='r'>\n"
          ]
        }
      ],
      "source": [
        "pattern = re.compile(r\"[a-zA-Z0-9]\")\n",
        "find_match(pattern , mytext)"
      ]
    },
    {
      "cell_type": "code",
      "execution_count": null,
      "metadata": {
        "ExecuteTime": {
          "end_time": "2025-05-09T08:21:01.986508Z",
          "start_time": "2025-05-09T08:21:01.973558Z"
        },
        "scrolled": false,
        "id": "86DMGpNs5u5J",
        "outputId": "d53ebe64-6d36-40a1-d8d9-f7f6d356b8e4"
      },
      "outputs": [
        {
          "name": "stdout",
          "output_type": "stream",
          "text": [
            "<re.Match object; span=(26, 27), match='\\n'>\n",
            "<re.Match object; span=(53, 54), match='\\n'>\n",
            "<re.Match object; span=(54, 55), match='1'>\n",
            "<re.Match object; span=(55, 56), match='2'>\n",
            "<re.Match object; span=(56, 57), match='3'>\n",
            "<re.Match object; span=(57, 58), match='4'>\n",
            "<re.Match object; span=(58, 59), match='5'>\n",
            "<re.Match object; span=(59, 60), match='6'>\n",
            "<re.Match object; span=(60, 61), match='7'>\n",
            "<re.Match object; span=(61, 62), match='8'>\n",
            "<re.Match object; span=(62, 63), match='9'>\n",
            "<re.Match object; span=(63, 64), match='0'>\n",
            "<re.Match object; span=(64, 65), match='1'>\n",
            "<re.Match object; span=(65, 66), match='0'>\n",
            "<re.Match object; span=(66, 67), match='\\n'>\n",
            "<re.Match object; span=(69, 70), match=' '>\n",
            "<re.Match object; span=(74, 75), match='\\n'>\n",
            "<re.Match object; span=(89, 90), match=' '>\n",
            "<re.Match object; span=(90, 91), match='('>\n",
            "<re.Match object; span=(95, 96), match=' '>\n",
            "<re.Match object; span=(98, 99), match=' '>\n",
            "<re.Match object; span=(101, 102), match=' '>\n",
            "<re.Match object; span=(109, 110), match=')'>\n",
            "<re.Match object; span=(110, 111), match=':'>\n",
            "<re.Match object; span=(111, 112), match='\\n'>\n",
            "<re.Match object; span=(112, 113), match='.'>\n",
            "<re.Match object; span=(113, 114), match=' '>\n",
            "<re.Match object; span=(114, 115), match='^'>\n",
            "<re.Match object; span=(115, 116), match=' '>\n",
            "<re.Match object; span=(116, 117), match='_'>\n",
            "<re.Match object; span=(117, 118), match=' '>\n",
            "<re.Match object; span=(118, 119), match='$'>\n",
            "<re.Match object; span=(119, 120), match=' '>\n",
            "<re.Match object; span=(120, 121), match='*'>\n",
            "<re.Match object; span=(121, 122), match=' '>\n",
            "<re.Match object; span=(122, 123), match='+'>\n",
            "<re.Match object; span=(123, 124), match=' '>\n",
            "<re.Match object; span=(124, 125), match='?'>\n",
            "<re.Match object; span=(125, 126), match=' '>\n",
            "<re.Match object; span=(126, 127), match='{'>\n",
            "<re.Match object; span=(127, 128), match=' '>\n",
            "<re.Match object; span=(128, 129), match='}'>\n",
            "<re.Match object; span=(129, 130), match=' '>\n",
            "<re.Match object; span=(130, 131), match='['>\n",
            "<re.Match object; span=(131, 132), match=' '>\n",
            "<re.Match object; span=(132, 133), match=']'>\n",
            "<re.Match object; span=(133, 134), match=' '>\n",
            "<re.Match object; span=(134, 135), match='\\\\'>\n",
            "<re.Match object; span=(135, 136), match=' '>\n",
            "<re.Match object; span=(136, 137), match='|'>\n",
            "<re.Match object; span=(137, 138), match=' '>\n",
            "<re.Match object; span=(138, 139), match='('>\n",
            "<re.Match object; span=(139, 140), match=' '>\n",
            "<re.Match object; span=(140, 141), match=')'>\n",
            "<re.Match object; span=(141, 142), match='\\n'>\n",
            "<re.Match object; span=(145, 146), match='\\n'>\n",
            "<re.Match object; span=(147, 148), match='.'>\n",
            "<re.Match object; span=(149, 150), match='\\n'>\n",
            "<re.Match object; span=(153, 154), match='\\n'>\n",
            "<re.Match object; span=(157, 158), match=' '>\n",
            "<re.Match object; span=(158, 159), match='\\n'>\n",
            "<re.Match object; span=(162, 163), match='\\n'>\n",
            "<re.Match object; span=(166, 167), match='\\n'>\n",
            "<re.Match object; span=(170, 171), match='\\n'>\n",
            "<re.Match object; span=(174, 175), match='\\n'>\n",
            "<re.Match object; span=(175, 176), match='0'>\n",
            "<re.Match object; span=(176, 177), match='1'>\n",
            "<re.Match object; span=(177, 178), match='0'>\n",
            "<re.Match object; span=(178, 179), match='9'>\n",
            "<re.Match object; span=(179, 180), match='2'>\n",
            "<re.Match object; span=(180, 181), match='3'>\n",
            "<re.Match object; span=(181, 182), match='2'>\n",
            "<re.Match object; span=(182, 183), match='9'>\n",
            "<re.Match object; span=(183, 184), match='3'>\n",
            "<re.Match object; span=(184, 185), match='4'>\n",
            "<re.Match object; span=(185, 186), match='0'>\n",
            "<re.Match object; span=(186, 187), match='\\n'>\n",
            "<re.Match object; span=(187, 188), match='0'>\n",
            "<re.Match object; span=(188, 189), match='1'>\n",
            "<re.Match object; span=(189, 190), match='1'>\n",
            "<re.Match object; span=(190, 191), match='2'>\n",
            "<re.Match object; span=(191, 192), match='3'>\n",
            "<re.Match object; span=(192, 193), match='2'>\n",
            "<re.Match object; span=(193, 194), match='3'>\n",
            "<re.Match object; span=(194, 195), match='4'>\n",
            "<re.Match object; span=(195, 196), match='3'>\n",
            "<re.Match object; span=(196, 197), match='5'>\n",
            "<re.Match object; span=(197, 198), match='5'>\n",
            "<re.Match object; span=(198, 199), match='\\n'>\n",
            "<re.Match object; span=(199, 200), match='0'>\n",
            "<re.Match object; span=(200, 201), match='1'>\n",
            "<re.Match object; span=(201, 202), match='0'>\n",
            "<re.Match object; span=(202, 203), match='2'>\n",
            "<re.Match object; span=(203, 204), match='3'>\n",
            "<re.Match object; span=(204, 205), match='4'>\n",
            "<re.Match object; span=(205, 206), match='5'>\n",
            "<re.Match object; span=(206, 207), match='5'>\n",
            "<re.Match object; span=(207, 208), match='4'>\n",
            "<re.Match object; span=(208, 209), match='1'>\n",
            "<re.Match object; span=(209, 210), match='1'>\n",
            "<re.Match object; span=(210, 211), match='\\n'>\n",
            "<re.Match object; span=(211, 212), match='0'>\n",
            "<re.Match object; span=(212, 213), match='1'>\n",
            "<re.Match object; span=(213, 214), match='2'>\n",
            "<re.Match object; span=(214, 215), match='3'>\n",
            "<re.Match object; span=(215, 216), match='4'>\n",
            "<re.Match object; span=(216, 217), match='5'>\n",
            "<re.Match object; span=(217, 218), match='6'>\n",
            "<re.Match object; span=(218, 219), match='7'>\n",
            "<re.Match object; span=(219, 220), match='8'>\n",
            "<re.Match object; span=(220, 221), match='7'>\n",
            "<re.Match object; span=(221, 222), match='5'>\n",
            "<re.Match object; span=(222, 223), match='\\n'>\n",
            "<re.Match object; span=(223, 224), match='0'>\n",
            "<re.Match object; span=(224, 225), match='1'>\n",
            "<re.Match object; span=(225, 226), match='5'>\n",
            "<re.Match object; span=(226, 227), match='3'>\n",
            "<re.Match object; span=(227, 228), match='4'>\n",
            "<re.Match object; span=(228, 229), match='5'>\n",
            "<re.Match object; span=(229, 230), match='6'>\n",
            "<re.Match object; span=(230, 231), match='7'>\n",
            "<re.Match object; span=(231, 232), match='4'>\n",
            "<re.Match object; span=(232, 233), match='5'>\n",
            "<re.Match object; span=(233, 234), match='6'>\n",
            "<re.Match object; span=(234, 235), match='\\n'>\n",
            "<re.Match object; span=(235, 236), match='0'>\n",
            "<re.Match object; span=(236, 237), match='1'>\n",
            "<re.Match object; span=(237, 238), match='1'>\n",
            "<re.Match object; span=(238, 239), match='3'>\n",
            "<re.Match object; span=(239, 240), match='4'>\n",
            "<re.Match object; span=(240, 241), match='5'>\n",
            "<re.Match object; span=(241, 242), match='6'>\n",
            "<re.Match object; span=(242, 243), match='7'>\n",
            "<re.Match object; span=(243, 244), match='8'>\n",
            "<re.Match object; span=(244, 245), match='5'>\n",
            "<re.Match object; span=(245, 246), match='6'>\n",
            "<re.Match object; span=(246, 247), match='\\n'>\n",
            "<re.Match object; span=(252, 253), match='-'>\n",
            "<re.Match object; span=(256, 257), match='\\n'>\n",
            "<re.Match object; span=(257, 258), match='3'>\n",
            "<re.Match object; span=(258, 259), match='2'>\n",
            "<re.Match object; span=(259, 260), match='1'>\n",
            "<re.Match object; span=(260, 261), match='-'>\n",
            "<re.Match object; span=(261, 262), match='5'>\n",
            "<re.Match object; span=(262, 263), match='5'>\n",
            "<re.Match object; span=(263, 264), match='5'>\n",
            "<re.Match object; span=(264, 265), match='-'>\n",
            "<re.Match object; span=(265, 266), match='4'>\n",
            "<re.Match object; span=(266, 267), match='3'>\n",
            "<re.Match object; span=(267, 268), match='2'>\n",
            "<re.Match object; span=(268, 269), match='1'>\n",
            "<re.Match object; span=(269, 270), match='\\n'>\n",
            "<re.Match object; span=(270, 271), match='1'>\n",
            "<re.Match object; span=(271, 272), match='2'>\n",
            "<re.Match object; span=(272, 273), match='3'>\n",
            "<re.Match object; span=(273, 274), match='.'>\n",
            "<re.Match object; span=(274, 275), match='5'>\n",
            "<re.Match object; span=(275, 276), match='5'>\n",
            "<re.Match object; span=(276, 277), match='5'>\n",
            "<re.Match object; span=(277, 278), match='.'>\n",
            "<re.Match object; span=(278, 279), match='1'>\n",
            "<re.Match object; span=(279, 280), match='2'>\n",
            "<re.Match object; span=(280, 281), match='3'>\n",
            "<re.Match object; span=(281, 282), match='4'>\n",
            "<re.Match object; span=(282, 283), match='\\n'>\n",
            "<re.Match object; span=(283, 284), match='1'>\n",
            "<re.Match object; span=(284, 285), match='2'>\n",
            "<re.Match object; span=(285, 286), match='3'>\n",
            "<re.Match object; span=(286, 287), match='*'>\n",
            "<re.Match object; span=(287, 288), match='5'>\n",
            "<re.Match object; span=(288, 289), match='5'>\n",
            "<re.Match object; span=(289, 290), match='5'>\n",
            "<re.Match object; span=(290, 291), match='*'>\n",
            "<re.Match object; span=(291, 292), match='1'>\n",
            "<re.Match object; span=(292, 293), match='2'>\n",
            "<re.Match object; span=(293, 294), match='3'>\n",
            "<re.Match object; span=(294, 295), match='4'>\n",
            "<re.Match object; span=(295, 296), match='\\n'>\n",
            "<re.Match object; span=(296, 297), match='1'>\n",
            "<re.Match object; span=(297, 298), match='2'>\n",
            "<re.Match object; span=(298, 299), match='3'>\n",
            "<re.Match object; span=(299, 300), match='*'>\n",
            "<re.Match object; span=(300, 301), match='5'>\n",
            "<re.Match object; span=(301, 302), match='5'>\n",
            "<re.Match object; span=(302, 303), match='5'>\n",
            "<re.Match object; span=(303, 304), match='-'>\n",
            "<re.Match object; span=(304, 305), match='1'>\n",
            "<re.Match object; span=(305, 306), match='2'>\n",
            "<re.Match object; span=(306, 307), match='3'>\n",
            "<re.Match object; span=(307, 308), match='4'>\n",
            "<re.Match object; span=(308, 309), match='\\n'>\n",
            "<re.Match object; span=(309, 310), match='1'>\n",
            "<re.Match object; span=(310, 311), match='2'>\n",
            "<re.Match object; span=(311, 312), match='3'>\n",
            "<re.Match object; span=(312, 313), match='-'>\n",
            "<re.Match object; span=(313, 314), match='5'>\n",
            "<re.Match object; span=(314, 315), match='5'>\n",
            "<re.Match object; span=(315, 316), match='5'>\n",
            "<re.Match object; span=(316, 317), match='*'>\n",
            "<re.Match object; span=(317, 318), match='1'>\n",
            "<re.Match object; span=(318, 319), match='2'>\n",
            "<re.Match object; span=(319, 320), match='3'>\n",
            "<re.Match object; span=(320, 321), match='4'>\n",
            "<re.Match object; span=(321, 322), match='\\n'>\n",
            "<re.Match object; span=(322, 323), match='8'>\n",
            "<re.Match object; span=(323, 324), match='0'>\n",
            "<re.Match object; span=(324, 325), match='0'>\n",
            "<re.Match object; span=(325, 326), match='-'>\n",
            "<re.Match object; span=(326, 327), match='5'>\n",
            "<re.Match object; span=(327, 328), match='5'>\n",
            "<re.Match object; span=(328, 329), match='5'>\n",
            "<re.Match object; span=(329, 330), match='-'>\n",
            "<re.Match object; span=(330, 331), match='1'>\n",
            "<re.Match object; span=(331, 332), match='2'>\n",
            "<re.Match object; span=(332, 333), match='3'>\n",
            "<re.Match object; span=(333, 334), match='4'>\n",
            "<re.Match object; span=(334, 335), match='\\n'>\n",
            "<re.Match object; span=(335, 336), match='9'>\n",
            "<re.Match object; span=(336, 337), match='0'>\n",
            "<re.Match object; span=(337, 338), match='0'>\n",
            "<re.Match object; span=(338, 339), match='-'>\n",
            "<re.Match object; span=(339, 340), match='5'>\n",
            "<re.Match object; span=(340, 341), match='5'>\n",
            "<re.Match object; span=(341, 342), match='5'>\n",
            "<re.Match object; span=(342, 343), match='-'>\n",
            "<re.Match object; span=(343, 344), match='1'>\n",
            "<re.Match object; span=(344, 345), match='2'>\n",
            "<re.Match object; span=(345, 346), match='3'>\n",
            "<re.Match object; span=(346, 347), match='4'>\n",
            "<re.Match object; span=(347, 348), match='\\n'>\n",
            "<re.Match object; span=(348, 349), match='1'>\n",
            "<re.Match object; span=(349, 350), match='0'>\n",
            "<re.Match object; span=(350, 351), match='0'>\n",
            "<re.Match object; span=(352, 353), match='1'>\n",
            "<re.Match object; span=(353, 354), match='2'>\n",
            "<re.Match object; span=(354, 355), match='1'>\n",
            "<re.Match object; span=(356, 357), match='4'>\n",
            "<re.Match object; span=(357, 358), match='5'>\n",
            "<re.Match object; span=(358, 359), match='4'>\n",
            "<re.Match object; span=(359, 360), match='3'>\n",
            "<re.Match object; span=(360, 361), match='\\n'>\n",
            "<re.Match object; span=(363, 364), match='.'>\n",
            "<re.Match object; span=(364, 365), match=' '>\n",
            "<re.Match object; span=(372, 373), match='\\n'>\n",
            "<re.Match object; span=(375, 376), match=' '>\n",
            "<re.Match object; span=(381, 382), match='\\n'>\n",
            "<re.Match object; span=(384, 385), match=' '>\n",
            "<re.Match object; span=(390, 391), match='\\n'>\n",
            "<re.Match object; span=(394, 395), match='.'>\n",
            "<re.Match object; span=(395, 396), match=' '>\n",
            "<re.Match object; span=(404, 405), match='\\n'>\n",
            "<re.Match object; span=(407, 408), match='.'>\n",
            "<re.Match object; span=(408, 409), match=' '>\n",
            "<re.Match object; span=(410, 411), match='\\n'>\n",
            "<re.Match object; span=(413, 414), match='.'>\n",
            "<re.Match object; span=(414, 415), match=' '>\n",
            "<re.Match object; span=(415, 416), match='\\n'>\n"
          ]
        }
      ],
      "source": [
        "pattern = re.compile(r\"[^a-zA-Z]\") # not a in a character set\n",
        "find_match(pattern , mytext)"
      ]
    },
    {
      "cell_type": "code",
      "execution_count": null,
      "metadata": {
        "ExecuteTime": {
          "end_time": "2025-05-09T08:21:13.148138Z",
          "start_time": "2025-05-09T08:21:13.137943Z"
        },
        "id": "lPgsnf5w5u5J",
        "outputId": "511ae8f7-dc2a-4f5d-c567-49e09b7a2ed5"
      },
      "outputs": [
        {
          "name": "stdout",
          "output_type": "stream",
          "text": [
            "<re.Match object; span=(154, 157), match='mat'>\n",
            "<re.Match object; span=(159, 162), match='hat'>\n",
            "<re.Match object; span=(163, 166), match='bat'>\n",
            "<re.Match object; span=(167, 170), match='fat'>\n",
            "<re.Match object; span=(171, 174), match='sat'>\n"
          ]
        }
      ],
      "source": [
        "# any thing but c , followed by at\n",
        "pattern = re.compile(r\"[^c]at\")\n",
        "matches = pattern.finditer(mytext)\n",
        "for match in matches:\n",
        "    print(match)"
      ]
    },
    {
      "cell_type": "code",
      "execution_count": null,
      "metadata": {
        "ExecuteTime": {
          "end_time": "2025-05-09T08:21:52.519494Z",
          "start_time": "2025-05-09T08:21:52.513155Z"
        },
        "scrolled": true,
        "id": "6EnyDuH-5u5J",
        "outputId": "0408053b-b6f0-4e6a-db24-1ab3cb6c1bd5"
      },
      "outputs": [
        {
          "name": "stdout",
          "output_type": "stream",
          "text": [
            "<re.Match object; span=(257, 269), match='321-555-4321'>\n",
            "<re.Match object; span=(322, 334), match='800-555-1234'>\n",
            "<re.Match object; span=(335, 347), match='900-555-1234'>\n"
          ]
        }
      ],
      "source": [
        "pattern = re.compile(r\"\\d{3}-\\d{3}-\\d{4}\")\n",
        "find_match(pattern , mytext)"
      ]
    },
    {
      "cell_type": "code",
      "execution_count": null,
      "metadata": {
        "ExecuteTime": {
          "end_time": "2025-05-09T08:22:05.943284Z",
          "start_time": "2025-05-09T08:22:05.933136Z"
        },
        "id": "vj98rLVO5u5K",
        "outputId": "ea97b82a-6302-4213-e427-217db2890f15"
      },
      "outputs": [
        {
          "name": "stdout",
          "output_type": "stream",
          "text": [
            "<re.Match object; span=(175, 186), match='01092329340'>\n",
            "<re.Match object; span=(199, 210), match='01023455411'>\n"
          ]
        }
      ],
      "source": [
        "# Vodafone numbers\n",
        "pattern = re.compile(r\"010\\d{8}\")\n",
        "find_match(pattern , mytext)"
      ]
    },
    {
      "cell_type": "code",
      "execution_count": null,
      "metadata": {
        "ExecuteTime": {
          "end_time": "2025-05-09T08:22:18.180204Z",
          "start_time": "2025-05-09T08:22:18.169520Z"
        },
        "id": "fdjJNJUd5u5K",
        "outputId": "73db92a6-0146-4598-cfaf-787b47365ac8"
      },
      "outputs": [
        {
          "name": "stdout",
          "output_type": "stream",
          "text": [
            "<re.Match object; span=(257, 269), match='321-555-4321'>\n",
            "<re.Match object; span=(283, 295), match='123*555*1234'>\n",
            "<re.Match object; span=(296, 308), match='123*555-1234'>\n",
            "<re.Match object; span=(309, 321), match='123-555*1234'>\n",
            "<re.Match object; span=(322, 334), match='800-555-1234'>\n",
            "<re.Match object; span=(335, 347), match='900-555-1234'>\n"
          ]
        }
      ],
      "source": [
        "pattern = re.compile(r\"\\d{3}[-*]\\d{3}[*-]\\d{4}\")\n",
        "find_match(pattern , mytext)"
      ]
    },
    {
      "cell_type": "code",
      "execution_count": null,
      "metadata": {
        "ExecuteTime": {
          "end_time": "2025-05-09T08:22:29.098465Z",
          "start_time": "2025-05-09T08:22:29.089000Z"
        },
        "id": "VYmyGQkp5u5K",
        "outputId": "f30c1f5b-c1e1-4092-9ed7-a7ff0d6b3bf9"
      },
      "outputs": [
        {
          "name": "stdout",
          "output_type": "stream",
          "text": [
            "<re.Match object; span=(361, 364), match='Mr.'>\n",
            "<re.Match object; span=(373, 376), match='Mr '>\n",
            "<re.Match object; span=(391, 394), match='Mrs'>\n",
            "<re.Match object; span=(405, 408), match='Mr.'>\n",
            "<re.Match object; span=(411, 414), match='Mr.'>\n"
          ]
        }
      ],
      "source": [
        "pattern = re.compile(\"Mr.\")\n",
        "find_match(pattern , mytext)"
      ]
    },
    {
      "cell_type": "code",
      "execution_count": null,
      "metadata": {
        "ExecuteTime": {
          "end_time": "2025-05-09T08:22:45.000664Z",
          "start_time": "2025-05-09T08:22:44.993610Z"
        },
        "id": "PZ67zVNg5u5K",
        "outputId": "2f993418-b781-4ba8-cca7-f6763bd1a2a7"
      },
      "outputs": [
        {
          "name": "stdout",
          "output_type": "stream",
          "text": [
            "<re.Match object; span=(361, 365), match='Mr. '>\n",
            "<re.Match object; span=(373, 377), match='Mr S'>\n",
            "<re.Match object; span=(391, 395), match='Mrs.'>\n",
            "<re.Match object; span=(405, 409), match='Mr. '>\n",
            "<re.Match object; span=(411, 415), match='Mr. '>\n"
          ]
        }
      ],
      "source": [
        "pattern = re.compile(\"Mr..\")\n",
        "find_match(pattern , mytext)"
      ]
    },
    {
      "cell_type": "code",
      "execution_count": null,
      "metadata": {
        "ExecuteTime": {
          "end_time": "2025-05-09T08:22:54.149892Z",
          "start_time": "2025-05-09T08:22:54.139407Z"
        },
        "id": "U41DtQkJ5u5K",
        "outputId": "54066c1e-7598-4b49-b66a-e6f2615685c5"
      },
      "outputs": [
        {
          "name": "stdout",
          "output_type": "stream",
          "text": [
            "<re.Match object; span=(361, 367), match='Mr. Sc'>\n",
            "<re.Match object; span=(373, 379), match='Mr Smi'>\n",
            "<re.Match object; span=(391, 397), match='Mrs. R'>\n"
          ]
        }
      ],
      "source": [
        "pattern = re.compile(\"Mr.{4}\")\n",
        "find_match(pattern , mytext)"
      ]
    },
    {
      "cell_type": "code",
      "execution_count": null,
      "metadata": {
        "ExecuteTime": {
          "end_time": "2025-05-09T08:23:04.248915Z",
          "start_time": "2025-05-09T08:23:04.240059Z"
        },
        "id": "OMFCwWVw5u5K",
        "outputId": "a4ce3289-dbac-4dce-fb56-53fbfb05e2c5"
      },
      "outputs": [
        {
          "name": "stdout",
          "output_type": "stream",
          "text": [
            "<re.Match object; span=(361, 364), match='Mr.'>\n",
            "<re.Match object; span=(405, 408), match='Mr.'>\n",
            "<re.Match object; span=(411, 414), match='Mr.'>\n"
          ]
        }
      ],
      "source": [
        "pattern = re.compile(r\"Mr\\.\")\n",
        "find_match(pattern , mytext)"
      ]
    },
    {
      "cell_type": "code",
      "execution_count": null,
      "metadata": {
        "ExecuteTime": {
          "end_time": "2024-11-05T17:16:10.420121Z",
          "start_time": "2024-11-05T17:16:10.412557Z"
        },
        "id": "ePKeTcOh5u5K",
        "outputId": "cfc55cc2-9408-423d-84a7-19ad34b61dd9"
      },
      "outputs": [
        {
          "name": "stdout",
          "output_type": "stream",
          "text": [
            "<re.Match object; span=(363, 366), match='Mr.'>\n",
            "<re.Match object; span=(375, 377), match='Mr'>\n",
            "<re.Match object; span=(393, 395), match='Mr'>\n",
            "<re.Match object; span=(407, 410), match='Mr.'>\n",
            "<re.Match object; span=(413, 416), match='Mr.'>\n"
          ]
        }
      ],
      "source": [
        "pattern = re.compile(\"Mr\\.?\")\n",
        "find_match(pattern , mytext)\n",
        "\n",
        "# Eng Ahmed Hafez\n",
        "# Eng.Ahmed Hafez\n",
        "# Dr. Ahmed Hafez\n",
        "# Dr Ahmed Hafez\n",
        "# one or zero"
      ]
    },
    {
      "cell_type": "code",
      "execution_count": null,
      "metadata": {
        "ExecuteTime": {
          "end_time": "2025-05-09T08:23:42.165441Z",
          "start_time": "2025-05-09T08:23:42.153684Z"
        },
        "id": "2gkx2XFH5u5K",
        "outputId": "0137ce77-8b27-435e-fb0c-135ecd309258"
      },
      "outputs": [
        {
          "name": "stdout",
          "output_type": "stream",
          "text": [
            "<re.Match object; span=(361, 364), match='Mr.'>\n",
            "<re.Match object; span=(373, 376), match='Mr '>\n",
            "<re.Match object; span=(391, 394), match='Mrs'>\n",
            "<re.Match object; span=(405, 408), match='Mr.'>\n",
            "<re.Match object; span=(411, 414), match='Mr.'>\n"
          ]
        }
      ],
      "source": [
        "pattern = re.compile(\"Mr.\")\n",
        "find_match(pattern , mytext)"
      ]
    },
    {
      "cell_type": "code",
      "execution_count": null,
      "metadata": {
        "ExecuteTime": {
          "end_time": "2025-05-09T08:24:17.540974Z",
          "start_time": "2025-05-09T08:24:17.533497Z"
        },
        "id": "SXi-1FWp5u5L",
        "outputId": "62ed71ea-2d52-44a6-f4c6-11d9f4728a1f"
      },
      "outputs": [
        {
          "name": "stdout",
          "output_type": "stream",
          "text": [
            "<re.Match object; span=(361, 369), match='Mr. Scha'>\n",
            "<re.Match object; span=(373, 380), match='Mr Smit'>\n"
          ]
        }
      ],
      "source": [
        "pattern = re.compile(r\"Mr\\.?\\s[A-Z]?\\w{3}\")\n",
        "find_match(pattern , mytext)\n",
        "# Mr[.]\" \"[A-Z]? (upper or lower or digits or underscore) (+ means : at least one )"
      ]
    },
    {
      "cell_type": "code",
      "execution_count": null,
      "metadata": {
        "ExecuteTime": {
          "end_time": "2025-05-09T08:26:49.915568Z",
          "start_time": "2025-05-09T08:26:49.904767Z"
        },
        "id": "mZ3KqQy55u5L",
        "outputId": "aa57940a-1a45-4d95-dc30-ab53076f2c59"
      },
      "outputs": [
        {
          "name": "stdout",
          "output_type": "stream",
          "text": [
            "<re.Match object; span=(361, 372), match='Mr. Schafer'>\n",
            "<re.Match object; span=(373, 381), match='Mr Smith'>\n",
            "<re.Match object; span=(405, 410), match='Mr. T'>\n"
          ]
        }
      ],
      "source": [
        "pattern = re.compile(r\"Mr\\.?\\s\\w+\") # /w upper case or lower or digit or underscore\n",
        "find_match(pattern , mytext)"
      ]
    },
    {
      "cell_type": "code",
      "execution_count": null,
      "metadata": {
        "ExecuteTime": {
          "end_time": "2025-05-09T08:26:44.168080Z",
          "start_time": "2025-05-09T08:26:44.160885Z"
        },
        "scrolled": true,
        "id": "zViI8xXi5u5L",
        "outputId": "00e6baaf-a1c7-4e62-ca49-09af53cae48c"
      },
      "outputs": [
        {
          "name": "stdout",
          "output_type": "stream",
          "text": [
            "<re.Match object; span=(361, 372), match='Mr. Schafer'>\n",
            "<re.Match object; span=(373, 381), match='Mr Smith'>\n",
            "<re.Match object; span=(405, 410), match='Mr. T'>\n"
          ]
        }
      ],
      "source": [
        "pattern = re.compile(r\"Mr\\.?\\s[A-Z]?\\w+\") # /w upper case or lower or digit or underscore\n",
        "find_match(pattern , mytext)\n",
        "# Mr[.]\" \"[A-Z]? (upper or lower or digits or underscore) (+ means : at least one (one or more) )"
      ]
    },
    {
      "cell_type": "code",
      "execution_count": null,
      "metadata": {
        "ExecuteTime": {
          "end_time": "2024-11-05T17:20:23.866800Z",
          "start_time": "2024-11-05T17:20:23.858989Z"
        },
        "id": "9sUG0TIt5u5L",
        "outputId": "a4db4b78-d67c-4b3b-bbc0-bfdc8e6e76fa"
      },
      "outputs": [
        {
          "name": "stdout",
          "output_type": "stream",
          "text": [
            "<re.Match object; span=(363, 374), match='Mr. Schafer'>\n",
            "<re.Match object; span=(375, 383), match='Mr Smith'>\n",
            "<re.Match object; span=(407, 412), match='Mr. T'>\n"
          ]
        }
      ],
      "source": [
        "pattern = re.compile(r\"Mr\\.?\\s\\w+\") # /w upper case or lower or digit or underscore\n",
        "matches = pattern.finditer(mytext)\n",
        "for match in matches:\n",
        "    print(match)\n",
        "# Mr[.]\" \"[A-Z]? (upper or lower or digits or underscore) (+ means : at least one (one or more) )"
      ]
    },
    {
      "cell_type": "code",
      "execution_count": null,
      "metadata": {
        "ExecuteTime": {
          "end_time": "2025-05-09T08:28:55.011407Z",
          "start_time": "2025-05-09T08:28:55.005127Z"
        },
        "id": "G7vBXqZF5u5L",
        "outputId": "419c614c-ecdd-42d0-ed7b-17d353acbf84"
      },
      "outputs": [
        {
          "name": "stdout",
          "output_type": "stream",
          "text": [
            "<re.Match object; span=(361, 372), match='Mr. Schafer'>\n",
            "<re.Match object; span=(373, 381), match='Mr Smith'>\n",
            "<re.Match object; span=(382, 390), match='Ms Davis'>\n",
            "<re.Match object; span=(391, 404), match='Mrs. Robinson'>\n",
            "<re.Match object; span=(405, 410), match='Mr. T'>\n"
          ]
        }
      ],
      "source": [
        "pattern = re.compile(r\"M(r|s|rs)\\.?\\s[A-Z]?\\w+\")\n",
        "find_match(pattern , mytext)"
      ]
    },
    {
      "cell_type": "code",
      "execution_count": null,
      "metadata": {
        "ExecuteTime": {
          "end_time": "2024-10-11T07:51:05.093723Z",
          "start_time": "2024-10-11T07:51:05.084479Z"
        },
        "scrolled": true,
        "id": "oP07W_-o5u5L",
        "outputId": "6afe5994-4f33-4396-bb67-f143a51389cb"
      },
      "outputs": [
        {
          "name": "stdout",
          "output_type": "stream",
          "text": [
            "<re.Match object; span=(58, 59), match='5'>\n",
            "<re.Match object; span=(196, 197), match='5'>\n",
            "<re.Match object; span=(197, 198), match='5'>\n",
            "<re.Match object; span=(205, 206), match='5'>\n",
            "<re.Match object; span=(206, 207), match='5'>\n",
            "<re.Match object; span=(216, 217), match='5'>\n",
            "<re.Match object; span=(221, 222), match='5'>\n",
            "<re.Match object; span=(225, 226), match='5'>\n",
            "<re.Match object; span=(228, 229), match='5'>\n",
            "<re.Match object; span=(232, 233), match='5'>\n",
            "<re.Match object; span=(240, 241), match='5'>\n",
            "<re.Match object; span=(244, 245), match='5'>\n",
            "<re.Match object; span=(263, 264), match='5'>\n",
            "<re.Match object; span=(264, 265), match='5'>\n",
            "<re.Match object; span=(265, 266), match='5'>\n",
            "<re.Match object; span=(276, 277), match='5'>\n",
            "<re.Match object; span=(277, 278), match='5'>\n",
            "<re.Match object; span=(278, 279), match='5'>\n",
            "<re.Match object; span=(289, 290), match='5'>\n",
            "<re.Match object; span=(290, 291), match='5'>\n",
            "<re.Match object; span=(291, 292), match='5'>\n",
            "<re.Match object; span=(302, 303), match='5'>\n",
            "<re.Match object; span=(303, 304), match='5'>\n",
            "<re.Match object; span=(304, 305), match='5'>\n",
            "<re.Match object; span=(305, 307), match='-1'>\n",
            "<re.Match object; span=(315, 316), match='5'>\n",
            "<re.Match object; span=(316, 317), match='5'>\n",
            "<re.Match object; span=(317, 318), match='5'>\n",
            "<re.Match object; span=(328, 329), match='5'>\n",
            "<re.Match object; span=(329, 330), match='5'>\n",
            "<re.Match object; span=(330, 331), match='5'>\n",
            "<re.Match object; span=(331, 333), match='-1'>\n",
            "<re.Match object; span=(341, 342), match='5'>\n",
            "<re.Match object; span=(342, 343), match='5'>\n",
            "<re.Match object; span=(343, 344), match='5'>\n",
            "<re.Match object; span=(344, 346), match='-1'>\n",
            "<re.Match object; span=(359, 360), match='5'>\n"
          ]
        }
      ],
      "source": [
        "# either\n",
        "pattern = re.compile(r\"(-1|5)\")\n",
        "matches = pattern.finditer(mytext)\n",
        "for match in matches:\n",
        "    print(match)"
      ]
    },
    {
      "cell_type": "code",
      "execution_count": null,
      "metadata": {
        "ExecuteTime": {
          "end_time": "2025-02-15T16:15:00.278607Z",
          "start_time": "2025-02-15T16:15:00.267245Z"
        },
        "id": "vNl1jT8U5u5L",
        "outputId": "661e16fd-df5c-4875-f000-459301704765"
      },
      "outputs": [
        {
          "name": "stdout",
          "output_type": "stream",
          "text": [
            "<re.Match object; span=(54, 55), match='1'>\n",
            "<re.Match object; span=(55, 56), match='2'>\n",
            "<re.Match object; span=(56, 57), match='3'>\n",
            "<re.Match object; span=(57, 58), match='4'>\n",
            "<re.Match object; span=(64, 65), match='1'>\n",
            "<re.Match object; span=(176, 177), match='1'>\n",
            "<re.Match object; span=(179, 180), match='2'>\n",
            "<re.Match object; span=(180, 181), match='3'>\n",
            "<re.Match object; span=(181, 182), match='2'>\n",
            "<re.Match object; span=(183, 184), match='3'>\n",
            "<re.Match object; span=(184, 185), match='4'>\n",
            "<re.Match object; span=(188, 189), match='1'>\n",
            "<re.Match object; span=(189, 190), match='1'>\n",
            "<re.Match object; span=(190, 191), match='2'>\n",
            "<re.Match object; span=(191, 192), match='3'>\n",
            "<re.Match object; span=(192, 193), match='2'>\n",
            "<re.Match object; span=(193, 194), match='3'>\n",
            "<re.Match object; span=(194, 195), match='4'>\n",
            "<re.Match object; span=(195, 196), match='3'>\n",
            "<re.Match object; span=(200, 201), match='1'>\n",
            "<re.Match object; span=(202, 203), match='2'>\n",
            "<re.Match object; span=(203, 204), match='3'>\n",
            "<re.Match object; span=(204, 205), match='4'>\n",
            "<re.Match object; span=(207, 208), match='4'>\n",
            "<re.Match object; span=(208, 209), match='1'>\n",
            "<re.Match object; span=(209, 210), match='1'>\n",
            "<re.Match object; span=(212, 213), match='1'>\n",
            "<re.Match object; span=(213, 214), match='2'>\n",
            "<re.Match object; span=(214, 215), match='3'>\n",
            "<re.Match object; span=(215, 216), match='4'>\n",
            "<re.Match object; span=(224, 225), match='1'>\n",
            "<re.Match object; span=(226, 227), match='3'>\n",
            "<re.Match object; span=(227, 228), match='4'>\n",
            "<re.Match object; span=(231, 232), match='4'>\n",
            "<re.Match object; span=(236, 237), match='1'>\n",
            "<re.Match object; span=(237, 238), match='1'>\n",
            "<re.Match object; span=(238, 239), match='3'>\n",
            "<re.Match object; span=(239, 240), match='4'>\n",
            "<re.Match object; span=(257, 258), match='3'>\n",
            "<re.Match object; span=(258, 259), match='2'>\n",
            "<re.Match object; span=(259, 260), match='1'>\n",
            "<re.Match object; span=(265, 266), match='4'>\n",
            "<re.Match object; span=(266, 267), match='3'>\n",
            "<re.Match object; span=(267, 268), match='2'>\n",
            "<re.Match object; span=(268, 269), match='1'>\n",
            "<re.Match object; span=(270, 271), match='1'>\n",
            "<re.Match object; span=(271, 272), match='2'>\n",
            "<re.Match object; span=(272, 273), match='3'>\n",
            "<re.Match object; span=(278, 279), match='1'>\n",
            "<re.Match object; span=(279, 280), match='2'>\n",
            "<re.Match object; span=(280, 281), match='3'>\n",
            "<re.Match object; span=(281, 282), match='4'>\n",
            "<re.Match object; span=(283, 284), match='1'>\n",
            "<re.Match object; span=(284, 285), match='2'>\n",
            "<re.Match object; span=(285, 286), match='3'>\n",
            "<re.Match object; span=(291, 292), match='1'>\n",
            "<re.Match object; span=(292, 293), match='2'>\n",
            "<re.Match object; span=(293, 294), match='3'>\n",
            "<re.Match object; span=(294, 295), match='4'>\n",
            "<re.Match object; span=(296, 297), match='1'>\n",
            "<re.Match object; span=(297, 298), match='2'>\n",
            "<re.Match object; span=(298, 299), match='3'>\n",
            "<re.Match object; span=(304, 305), match='1'>\n",
            "<re.Match object; span=(305, 306), match='2'>\n",
            "<re.Match object; span=(306, 307), match='3'>\n",
            "<re.Match object; span=(307, 308), match='4'>\n",
            "<re.Match object; span=(309, 310), match='1'>\n",
            "<re.Match object; span=(310, 311), match='2'>\n",
            "<re.Match object; span=(311, 312), match='3'>\n",
            "<re.Match object; span=(317, 318), match='1'>\n",
            "<re.Match object; span=(318, 319), match='2'>\n",
            "<re.Match object; span=(319, 320), match='3'>\n",
            "<re.Match object; span=(320, 321), match='4'>\n",
            "<re.Match object; span=(330, 331), match='1'>\n",
            "<re.Match object; span=(331, 332), match='2'>\n",
            "<re.Match object; span=(332, 333), match='3'>\n",
            "<re.Match object; span=(333, 334), match='4'>\n",
            "<re.Match object; span=(343, 344), match='1'>\n",
            "<re.Match object; span=(344, 345), match='2'>\n",
            "<re.Match object; span=(345, 346), match='3'>\n",
            "<re.Match object; span=(346, 347), match='4'>\n",
            "<re.Match object; span=(348, 349), match='1'>\n",
            "<re.Match object; span=(352, 353), match='1'>\n",
            "<re.Match object; span=(353, 354), match='2'>\n",
            "<re.Match object; span=(354, 355), match='1'>\n",
            "<re.Match object; span=(356, 357), match='4'>\n",
            "<re.Match object; span=(358, 359), match='4'>\n",
            "<re.Match object; span=(359, 360), match='3'>\n"
          ]
        }
      ],
      "source": [
        "# either\n",
        "pattern = re.compile(r\"[1-34]\")\n",
        "matches = pattern.finditer(mytext)\n",
        "for match in matches:\n",
        "    print(match)"
      ]
    },
    {
      "cell_type": "code",
      "execution_count": 23,
      "metadata": {
        "ExecuteTime": {
          "end_time": "2024-10-11T07:53:45.645704Z",
          "start_time": "2024-10-11T07:53:45.640433Z"
        },
        "id": "JXBPiXiJ5u5L"
      },
      "outputs": [],
      "source": [
        "# Regular expression for numbers from 1 to 22\n",
        "pattern = r'\\b([1-9]|1[0-9]|2[0-2])\\b'"
      ]
    },
    {
      "cell_type": "code",
      "execution_count": null,
      "metadata": {
        "ExecuteTime": {
          "end_time": "2024-10-11T07:53:33.486248Z",
          "start_time": "2024-10-11T07:53:33.478584Z"
        },
        "id": "maQGXu6H5u5L"
      },
      "outputs": [],
      "source": [
        "# Regular expression for numbers from -1 to 20\n",
        "pattern = r'\\b(-1|[0-9]|1[0-9]|20)\\b'"
      ]
    },
    {
      "cell_type": "code",
      "execution_count": null,
      "metadata": {
        "ExecuteTime": {
          "end_time": "2024-10-11T07:55:47.918761Z",
          "start_time": "2024-10-11T07:55:47.906291Z"
        },
        "scrolled": true,
        "id": "nU4QRN6E5u5M",
        "outputId": "9fda9aca-20a4-431d-c770-0bfd7642ec13"
      },
      "outputs": [
        {
          "name": "stdout",
          "output_type": "stream",
          "text": [
            "['20', '19', '0', '10', '50', '99']\n"
          ]
        }
      ],
      "source": [
        "# Regular expression for numbers from -20 to 99\n",
        "pattern = r'\\b(-20|-\\d{1,2}|[0-9]|[1-9][0-9])\\b'\n",
        "\n",
        "# Test the regex\n",
        "test_string = \"Here are some numbers: -20, -19, 0, 10, 50, 99, 100.\"\n",
        "matches = re.findall(pattern, test_string)\n",
        "\n",
        "print(matches)"
      ]
    },
    {
      "cell_type": "code",
      "execution_count": null,
      "metadata": {
        "ExecuteTime": {
          "end_time": "2024-10-11T07:57:01.450713Z",
          "start_time": "2024-10-11T07:57:01.440624Z"
        },
        "id": "bz4mB2wh5u5M",
        "outputId": "7f8b6f6d-4830-4d47-edff-0ee1efdd0b90"
      },
      "outputs": [
        {
          "name": "stdout",
          "output_type": "stream",
          "text": [
            "['-20', '-19', '-10', '0', '1', '0', '5', '0', '9', '9', '1', '0', '0']\n"
          ]
        }
      ],
      "source": [
        "pattern = r'-20|-\\d{1,2}|[0-9]|[1-9][0-9]'\n",
        "\n",
        "# Test the regex\n",
        "test_string = \"Here are some numbers: -20, -19, -10, 0, 10, 50, 99, 100.\"\n",
        "matches = re.findall(pattern, test_string)\n",
        "\n",
        "print(matches)  # Output will be: ['-20', '-19', '-10', '0', '10', '50', '99']"
      ]
    },
    {
      "cell_type": "code",
      "execution_count": null,
      "metadata": {
        "ExecuteTime": {
          "end_time": "2024-10-11T07:58:54.561563Z",
          "start_time": "2024-10-11T07:58:54.553846Z"
        },
        "scrolled": true,
        "id": "n3eiqMkw5u5M",
        "outputId": "01f8d1e8-eb00-4e79-c21d-bbb17d57e8fa"
      },
      "outputs": [
        {
          "name": "stdout",
          "output_type": "stream",
          "text": [
            "<re.Match object; span=(0, 13), match='Ahmed Kamal M'>\n",
            "<re.Match object; span=(21, 32), match='Ahmed Ali E'>\n",
            "<re.Match object; span=(40, 52), match='Samy Ashraf '>\n"
          ]
        }
      ],
      "source": [
        "# /w lower case, upper case, digit, underscore\n",
        "names = \"Ahmed Kamal Mohamed, Ahmed Ali Ebrahim, Samy Ashraf \"\n",
        "pattern = re.compile(r\"\\w+\\s\\w+\\s\\w?\")\n",
        "matches = pattern.finditer(names)\n",
        "for match in matches:\n",
        "    print(match)"
      ]
    },
    {
      "cell_type": "code",
      "execution_count": null,
      "metadata": {
        "ExecuteTime": {
          "end_time": "2024-10-11T07:59:44.866341Z",
          "start_time": "2024-10-11T07:59:44.855966Z"
        },
        "id": "1w24IN3z5u5M",
        "outputId": "deddd6fa-9c1d-400b-bf4b-29b05c2569bf"
      },
      "outputs": [
        {
          "name": "stdout",
          "output_type": "stream",
          "text": [
            "<re.Match object; span=(0, 19), match='Ahmed Kamal Mohamed'>\n",
            "<re.Match object; span=(21, 38), match='Ahmed Ali Ebrahim'>\n"
          ]
        }
      ],
      "source": [
        "# /w lower case, upper case, digit, underscore\n",
        "s = \"Ahmed Kamal Mohamed, Ahmed Ali Ebrahim, Samy Ashraf \"\n",
        "pattern = re.compile(r\"\\w+\\s\\w+\\s\\w+\")\n",
        "matches = pattern.finditer(s)\n",
        "for match in matches:\n",
        "    print(match)"
      ]
    },
    {
      "cell_type": "code",
      "execution_count": null,
      "metadata": {
        "ExecuteTime": {
          "end_time": "2025-05-09T08:56:14.216250Z",
          "start_time": "2025-05-09T08:56:14.205470Z"
        },
        "scrolled": true,
        "id": "AaiROYED5u5M",
        "outputId": "54606fdd-400e-454e-d42f-0e8e3ac258c7"
      },
      "outputs": [
        {
          "name": "stdout",
          "output_type": "stream",
          "text": [
            "<re.Match object; span=(0, 19), match='Ahmed Kamal Mohamed'>\n",
            "<re.Match object; span=(21, 38), match='Ahmed Ali Ebrahim'>\n",
            "<re.Match object; span=(40, 52), match='Samy Ashraf '>\n"
          ]
        }
      ],
      "source": [
        "# /w lower case, upper case, digit, underscore\n",
        "s = \"Ahmed Kamal Mohamed, Ahmed Ali Ebrahim, Samy Ashraf \"\n",
        "pattern = re.compile(r\"\\w+\\s\\w+\\s\\w*\")\n",
        "matches = pattern.finditer(s)\n",
        "for match in matches:\n",
        "    print(match)"
      ]
    },
    {
      "cell_type": "code",
      "execution_count": null,
      "metadata": {
        "ExecuteTime": {
          "end_time": "2024-09-29T19:29:25.629214Z",
          "start_time": "2024-09-29T19:29:25.617721Z"
        },
        "id": "ykkFKfCU5u5M",
        "outputId": "1ed451c4-9c4a-4563-83b3-f8c9d29228d5"
      },
      "outputs": [
        {
          "name": "stdout",
          "output_type": "stream",
          "text": [
            "<re.Match object; span=(0, 19), match='Ahmed Kamal Mohamed'>\n",
            "<re.Match object; span=(21, 38), match='Ahmed Ali Ebrahim'>\n"
          ]
        }
      ],
      "source": [
        "s = \"Ahmed Kamal Mohamed, Ahmed Ali Ebrahim, Samy Ashraf\"\n",
        "pattern = re.compile(r\"\\w+\\s\\w+\\s\\w*\")\n",
        "matches = pattern.finditer(s)\n",
        "for match in matches:\n",
        "    print(match)"
      ]
    },
    {
      "cell_type": "code",
      "execution_count": null,
      "metadata": {
        "ExecuteTime": {
          "end_time": "2025-05-09T08:58:07.189654Z",
          "start_time": "2025-05-09T08:58:07.182546Z"
        },
        "id": "vpKEWvBQ5u5M",
        "outputId": "d362ac90-688e-45a8-b321-50e1ea7f5212"
      },
      "outputs": [
        {
          "name": "stdout",
          "output_type": "stream",
          "text": [
            "<re.Match object; span=(1, 24), match='CoreyMSchafer@gmail.com'>\n"
          ]
        }
      ],
      "source": [
        "emails = '''\n",
        "CoreyMSchafer@gmail.com\n",
        "corey.schafer@university.edu\n",
        "corey-321-schafer@my-work.net\n",
        "'''\n",
        "\n",
        "pattern = re.compile('[a-zA-Z]+@[a-zA-Z]+\\.com')\n",
        "find_match(pattern , emails)"
      ]
    },
    {
      "cell_type": "code",
      "execution_count": null,
      "metadata": {
        "ExecuteTime": {
          "end_time": "2025-05-09T08:58:49.986039Z",
          "start_time": "2025-05-09T08:58:49.975437Z"
        },
        "id": "pc-KBDn75u5M",
        "outputId": "0b7a9b32-f85a-47e7-f33f-663b768d643e"
      },
      "outputs": [
        {
          "name": "stdout",
          "output_type": "stream",
          "text": [
            "<re.Match object; span=(1, 24), match='CoreyMSchafer@gmail.com'>\n",
            "<re.Match object; span=(25, 53), match='corey.schafer@university.edu'>\n",
            "<re.Match object; span=(63, 83), match='-schafer@my-work.net'>\n"
          ]
        }
      ],
      "source": [
        "emails = '''\n",
        "CoreyMSchafer@gmail.com\n",
        "corey.schafer@university.edu\n",
        "corey-321-schafer@my-work.net\n",
        "'''\n",
        "\n",
        "pattern = re.compile(r'[a-zA-Z.-]+@[a-zA-Z-]+\\.(com|edu|net)')\n",
        "find_match(pattern , emails)"
      ]
    },
    {
      "cell_type": "code",
      "execution_count": null,
      "metadata": {
        "ExecuteTime": {
          "end_time": "2025-05-09T09:00:27.239300Z",
          "start_time": "2025-05-09T09:00:27.230246Z"
        },
        "id": "z29eG18P5u5M",
        "outputId": "7b39f283-8a56-4ca3-cc0c-0490aeb18d07"
      },
      "outputs": [
        {
          "name": "stdout",
          "output_type": "stream",
          "text": [
            "<re.Match object; span=(1, 24), match='CoreyMSchafer@gmail.com'>\n",
            "<re.Match object; span=(25, 53), match='corey.schafer@university.edu'>\n",
            "<re.Match object; span=(54, 83), match='corey-321-schafer@my-work.net'>\n",
            "<re.Match object; span=(84, 99), match='ahmed@gmail.myw'>\n"
          ]
        }
      ],
      "source": [
        "emails = '''\n",
        "CoreyMSchafer@gmail.com\n",
        "corey.schafer@university.edu\n",
        "corey-321-schafer@my-work.net\n",
        "ahmed@gmail.mywork\n",
        "'''\n",
        "\n",
        "pattern = re.compile(r'[a-zA-Z0-9-.]+@[a-zA-Z-]+\\.\\w{3}')\n",
        "\n",
        "find_match(pattern , emails)"
      ]
    },
    {
      "cell_type": "code",
      "execution_count": null,
      "metadata": {
        "ExecuteTime": {
          "end_time": "2025-05-09T09:01:30.986716Z",
          "start_time": "2025-05-09T09:01:30.975551Z"
        },
        "id": "gYsJrOca5u5N",
        "outputId": "34f60683-5548-4b0c-ed5d-b5781a7fdfed"
      },
      "outputs": [
        {
          "name": "stdout",
          "output_type": "stream",
          "text": [
            "<re.Match object; span=(1, 24), match='CoreyMSchafer@gmail.com'>\n",
            "<re.Match object; span=(25, 53), match='corey.schafer@university.edu'>\n",
            "<re.Match object; span=(54, 83), match='corey-321-schafer@my-work.net'>\n"
          ]
        }
      ],
      "source": [
        "emails = '''\n",
        "CoreyMSchafer@gmail.com\n",
        "corey.schafer@university.edu\n",
        "corey-321-schafer@my-work.net\n",
        "'''\n",
        "\n",
        "pattern = re.compile(r'[a-zA-Z0-9_.+-]+@[a-zA-Z0-9-]+\\.[a-zA-Z0-9-.]+')\n",
        "find_match(pattern , emails)"
      ]
    },
    {
      "cell_type": "code",
      "execution_count": 24,
      "metadata": {
        "ExecuteTime": {
          "end_time": "2024-10-11T08:06:24.937349Z",
          "start_time": "2024-10-11T08:06:24.926484Z"
        },
        "scrolled": true,
        "id": "-iEBkklo5u5N",
        "outputId": "7ed34aee-bf5a-4807-feb2-2b6b836b84d1",
        "colab": {
          "base_uri": "https://localhost:8080/"
        }
      },
      "outputs": [
        {
          "output_type": "stream",
          "name": "stdout",
          "text": [
            "3\n"
          ]
        }
      ],
      "source": [
        "emails = '''\n",
        "CoreyMSchafer@gmaail.co)m\n",
        "corey.schafer@university.ed)u\n",
        "corey-321-schafer@my-work.ne)t\n",
        "'''\n",
        "\n",
        "pattern = re.compile(r'[a-zA-Z0-9_.+-]+@[a-zA-Z0-9-]+\\.[a-zA-Z0-9-.]{2,}')\n",
        "matches = pattern.finditer(emails)\n",
        "\n",
        "length  = sum(1 for  i in matches)\n",
        "print(length)"
      ]
    },
    {
      "cell_type": "code",
      "execution_count": null,
      "metadata": {
        "ExecuteTime": {
          "end_time": "2025-05-09T09:04:31.376798Z",
          "start_time": "2025-05-09T09:04:14.999686Z"
        },
        "id": "KXW7bS6j5u5N",
        "outputId": "fc785708-cec7-4e1c-e225-b9e0c9516590"
      },
      "outputs": [
        {
          "name": "stdout",
          "output_type": "stream",
          "text": [
            "cat,cow,car,cut,cot,cet\n",
            "<re.Match object; span=(0, 3), match='cat'>\n",
            "<re.Match object; span=(12, 15), match='cut'>\n",
            "<re.Match object; span=(16, 19), match='cot'>\n",
            "<re.Match object; span=(20, 23), match='cet'>\n"
          ]
        }
      ],
      "source": [
        "# regular expression as input\n",
        "pattern = re.compile(\"c.t\")\n",
        "myinput = input()\n",
        "matches = pattern.finditer(myinput)\n",
        "find_match(pattern , myinput)"
      ]
    },
    {
      "cell_type": "code",
      "execution_count": null,
      "metadata": {
        "ExecuteTime": {
          "end_time": "2025-05-09T09:05:28.732564Z",
          "start_time": "2025-05-09T09:05:24.390231Z"
        },
        "id": "h4ZOTb_S5u5N",
        "outputId": "f54b6444-1df7-43c9-b609-dd409ac27e18"
      },
      "outputs": [
        {
          "name": "stdout",
          "output_type": "stream",
          "text": [
            "a@a.com\n",
            "valid email\n"
          ]
        }
      ],
      "source": [
        "# email input check\n",
        "pattern = re.compile(r'[a-zA-Z0-9_.+-]+@[a-zA-Z0-9-]+\\.[a-zA-Z0-9-.]{2,}')\n",
        "matches = pattern.finditer(input())\n",
        "\n",
        "counter = 0\n",
        "for match in matches:\n",
        "    counter += 1\n",
        "\n",
        "\n",
        "if counter >= 1 :\n",
        "    print(\"valid email\")\n",
        "else:\n",
        "    print(\"invalid email\")"
      ]
    },
    {
      "cell_type": "code",
      "execution_count": null,
      "metadata": {
        "ExecuteTime": {
          "end_time": "2025-06-19T17:17:22.215170Z",
          "start_time": "2025-06-19T17:17:22.207039Z"
        },
        "id": "XGmx3NpO5u5N",
        "outputId": "989d0fa1-7418-404c-eb33-67323d19413d"
      },
      "outputs": [
        {
          "name": "stdout",
          "output_type": "stream",
          "text": [
            "re.search: <re.Match object; span=(7, 13), match='Python'>\n"
          ]
        }
      ],
      "source": [
        "# re.search()\n",
        "text = \"I love Python\"\n",
        "match = re.search(\"Python\", text)\n",
        "print(\"re.search:\", match)\n"
      ]
    },
    {
      "cell_type": "code",
      "execution_count": null,
      "metadata": {
        "ExecuteTime": {
          "end_time": "2025-06-19T17:17:28.286714Z",
          "start_time": "2025-06-19T17:17:28.275375Z"
        },
        "id": "XopjSTOX5u5N",
        "outputId": "1ea0b1c6-7a46-4032-8e90-7c8594e7b549"
      },
      "outputs": [
        {
          "name": "stdout",
          "output_type": "stream",
          "text": [
            "re.match: <re.Match object; span=(0, 6), match='Python'>\n"
          ]
        }
      ],
      "source": [
        "# re.match()\n",
        "text = \"Python is fun\"\n",
        "match = re.match(\"Python\", text)\n",
        "print(\"re.match:\", match)"
      ]
    },
    {
      "cell_type": "code",
      "execution_count": null,
      "metadata": {
        "ExecuteTime": {
          "end_time": "2025-06-19T17:17:34.525316Z",
          "start_time": "2025-06-19T17:17:34.515822Z"
        },
        "id": "hKZE6AFU5u5N",
        "outputId": "18a90725-4d13-4b78-b4af-c75395775835"
      },
      "outputs": [
        {
          "name": "stdout",
          "output_type": "stream",
          "text": [
            "re.findall: ['abc@example.com', 'xyz@example.org']\n"
          ]
        }
      ],
      "source": [
        "\n",
        "# re.findall()\n",
        "text = \"Email me at abc@example.com and xyz@example.org\"\n",
        "emails = re.findall(r\"\\S+@\\S+\", text)\n",
        "print(\"re.findall:\", emails)\n"
      ]
    },
    {
      "cell_type": "code",
      "execution_count": null,
      "metadata": {
        "ExecuteTime": {
          "end_time": "2025-06-19T17:17:42.912727Z",
          "start_time": "2025-06-19T17:17:42.904154Z"
        },
        "id": "YdKm3yi25u5N",
        "outputId": "77712008-10a3-4717-944e-53e7540b5eda"
      },
      "outputs": [
        {
          "name": "stdout",
          "output_type": "stream",
          "text": [
            "re.sub: Hello #, this is ID #\n"
          ]
        }
      ],
      "source": [
        "# re.sub()\n",
        "text = \"Hello 123, this is ID 456\"\n",
        "cleaned = re.sub(r\"\\d+\", \"#\", text)\n",
        "print(\"re.sub:\", cleaned)\n"
      ]
    },
    {
      "cell_type": "code",
      "execution_count": null,
      "metadata": {
        "ExecuteTime": {
          "end_time": "2025-06-19T17:17:51.806658Z",
          "start_time": "2025-06-19T17:17:51.795370Z"
        },
        "id": "KIrbqV3i5u5N",
        "outputId": "e9b81fe1-8974-49c2-f638-11e434ee30b6"
      },
      "outputs": [
        {
          "name": "stdout",
          "output_type": "stream",
          "text": [
            "Phone match: 123-456-7890\n"
          ]
        }
      ],
      "source": [
        "text = \"Call me at 123-456-7890\"\n",
        "match = re.search(r\"\\d{3}-\\d{3}-\\d{4}\", text)\n",
        "print(\"Phone match:\", match.group())\n"
      ]
    },
    {
      "cell_type": "code",
      "execution_count": null,
      "metadata": {
        "ExecuteTime": {
          "end_time": "2025-06-19T17:18:00.361821Z",
          "start_time": "2025-06-19T17:18:00.342936Z"
        },
        "id": "IaVevHFb5u5O",
        "outputId": "6e9371f2-26a3-497e-cddb-aa1ae18e384f"
      },
      "outputs": [
        {
          "data": {
            "text/plain": [
              "<re.Match object; span=(0, 6), match='PYTHON'>"
            ]
          },
          "execution_count": 7,
          "metadata": {},
          "output_type": "execute_result"
        }
      ],
      "source": [
        "# Ignore case using re.IGNORECASE\n",
        "re.search(r\"python\", \"PYTHON\", re.IGNORECASE)\n"
      ]
    },
    {
      "cell_type": "markdown",
      "metadata": {
        "id": "4buUkErH5u5O"
      },
      "source": [
        "## Session Task\n",
        "\n",
        "1. Make sure that we created : linkedin , colab , kaggle, github\n",
        "\n",
        "2. Create a text file:  \n",
        "\n",
        "Ahmed Hafez 0102345678 ahmed@gmail.com <br>\n",
        "Ali Osama 0124342342 ali@gmail.com\n",
        "\n",
        "\n",
        "Steps:\n",
        "\n",
        "1. Read file using python\n",
        "2. Create 3 lists:\n",
        "    - list names\n",
        "    - list numbers\n",
        "    - list mails\n",
        "3. append each data into its suitable list\n",
        "\n",
        "**Advanced Task**\n",
        "\n",
        "- make file unordered ( ex : name, email, phone in line 1, phone , name , email in line 2, etc...)\n",
        "- make file sperated differently ( ex: name,email,phone in line 1, name-email-phone line 2, etc...)\n",
        "- first name, last name or first name, middle name, last name"
      ]
    },
    {
      "cell_type": "code",
      "execution_count": null,
      "metadata": {
        "id": "Y_GcwOrb5u5O"
      },
      "outputs": [],
      "source": []
    }
  ],
  "metadata": {
    "kernelspec": {
      "display_name": "Python 3 (ipykernel)",
      "language": "python",
      "name": "python3"
    },
    "language_info": {
      "codemirror_mode": {
        "name": "ipython",
        "version": 3
      },
      "file_extension": ".py",
      "mimetype": "text/x-python",
      "name": "python",
      "nbconvert_exporter": "python",
      "pygments_lexer": "ipython3",
      "version": "3.9.13"
    },
    "toc": {
      "base_numbering": 1,
      "nav_menu": {},
      "number_sections": false,
      "sideBar": true,
      "skip_h1_title": false,
      "title_cell": "Table of Contents",
      "title_sidebar": "Contents",
      "toc_cell": false,
      "toc_position": {},
      "toc_section_display": true,
      "toc_window_display": false
    },
    "varInspector": {
      "cols": {
        "lenName": 16,
        "lenType": 16,
        "lenVar": 40
      },
      "kernels_config": {
        "python": {
          "delete_cmd_postfix": "",
          "delete_cmd_prefix": "del ",
          "library": "var_list.py",
          "varRefreshCmd": "print(var_dic_list())"
        },
        "r": {
          "delete_cmd_postfix": ") ",
          "delete_cmd_prefix": "rm(",
          "library": "var_list.r",
          "varRefreshCmd": "cat(var_dic_list()) "
        }
      },
      "types_to_exclude": [
        "module",
        "function",
        "builtin_function_or_method",
        "instance",
        "_Feature"
      ],
      "window_display": false
    },
    "colab": {
      "provenance": []
    }
  },
  "nbformat": 4,
  "nbformat_minor": 0
}
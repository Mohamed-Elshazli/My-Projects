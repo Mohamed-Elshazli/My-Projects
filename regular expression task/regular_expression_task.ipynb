{
  "nbformat": 4,
  "nbformat_minor": 0,
  "metadata": {
    "colab": {
      "provenance": [],
      "toc_visible": true
    },
    "kernelspec": {
      "name": "python3",
      "display_name": "Python 3"
    },
    "language_info": {
      "name": "python"
    }
  },
  "cells": [
    {
      "cell_type": "code",
      "execution_count": 40,
      "metadata": {
        "id": "ntZVeFG6rEdT"
      },
      "outputs": [],
      "source": [
        "import re"
      ]
    },
    {
      "cell_type": "code",
      "source": [
        "file_path=\"/content/regular_expression.txt\""
      ],
      "metadata": {
        "id": "Dhn8vWMOrSla"
      },
      "execution_count": 41,
      "outputs": []
    },
    {
      "cell_type": "code",
      "source": [
        "with open(file_path,'r') as f:\n",
        "  content=f.read()\n"
      ],
      "metadata": {
        "id": "vX_jCqBBrkQ5"
      },
      "execution_count": 42,
      "outputs": []
    },
    {
      "cell_type": "code",
      "source": [
        "content"
      ],
      "metadata": {
        "colab": {
          "base_uri": "https://localhost:8080/",
          "height": 36
        },
        "id": "wHgusfzuxJZC",
        "outputId": "6c0daaf0-1c2b-4c4e-9725-fb0bad9b378f"
      },
      "execution_count": 43,
      "outputs": [
        {
          "output_type": "execute_result",
          "data": {
            "text/plain": [
              "'Ahmed Hafez 0102345678 ahmed@gmail.com\\nAli Osama 0124342342 ali@gmail.com'"
            ],
            "application/vnd.google.colaboratory.intrinsic+json": {
              "type": "string"
            }
          },
          "metadata": {},
          "execution_count": 43
        }
      ]
    },
    {
      "cell_type": "markdown",
      "source": [
        "\n"
      ],
      "metadata": {
        "id": "rsLEPwUer6fo"
      }
    },
    {
      "cell_type": "code",
      "source": [
        "mails=[]\n",
        "numbers=[]\n",
        "names = []\n",
        "name_pattern = re.compile(r\"\\b[A-Z][a-z]+\\s[A-Z][a-z]+\\b\")\n",
        "\n",
        "name_matches = name_pattern.finditer(content)\n",
        "\n",
        "for m in name_matches:\n",
        "    start=m.span()[0]\n",
        "    end=m.span()[1]\n",
        "    names.append(content[start:end])\n"
      ],
      "metadata": {
        "id": "fQ-0oyinr2_F",
        "colab": {
          "base_uri": "https://localhost:8080/"
        },
        "outputId": "561f9334-ca9e-4a19-c920-8aaf91aa9807"
      },
      "execution_count": 49,
      "outputs": [
        {
          "output_type": "execute_result",
          "data": {
            "text/plain": [
              "['Ahmed Hafez', 'Ali Osama']"
            ]
          },
          "metadata": {},
          "execution_count": 49
        }
      ]
    },
    {
      "cell_type": "code",
      "source": [
        "numbers_pattern=re.compile(r\"\\d{10}\")\n",
        "numbers_matches = numbers_pattern.finditer(content)\n",
        "for m in numbers_matches:\n",
        "    start=m.span()[0]\n",
        "    end=m.span()[1]\n",
        "    numbers.append(content[start:end])\n"
      ],
      "metadata": {
        "id": "Rc0NKE8as4rr",
        "colab": {
          "base_uri": "https://localhost:8080/"
        },
        "outputId": "a904b57f-2771-4e3d-ff85-308c76122c2d"
      },
      "execution_count": 50,
      "outputs": [
        {
          "output_type": "execute_result",
          "data": {
            "text/plain": [
              "['0102345678', '0124342342']"
            ]
          },
          "metadata": {},
          "execution_count": 50
        }
      ]
    },
    {
      "cell_type": "code",
      "source": [
        "mails_pattern=re.compile(r\"\\w+@\\[a-z][A-Z]+\\.\\w{3}\")\n",
        "mail_matches = mails_pattern.finditer(content)\n",
        "for m in mail_matches:\n",
        "    start=m.span()[0]\n",
        "    end=m.span()[1]\n",
        "    mails.append(content[start:end])\n"
      ],
      "metadata": {
        "colab": {
          "base_uri": "https://localhost:8080/"
        },
        "id": "r8-GCVHi3aQt",
        "outputId": "c67dedda-afd1-461e-debe-3fb4d4670025"
      },
      "execution_count": 54,
      "outputs": [
        {
          "output_type": "execute_result",
          "data": {
            "text/plain": [
              "['ahmed@gmail.com', 'ali@gmail.com']"
            ]
          },
          "metadata": {},
          "execution_count": 54
        }
      ]
    },
    {
      "cell_type": "code",
      "source": [
        "print(\"names: \",)"
      ],
      "metadata": {
        "id": "wrip_zf730oD"
      },
      "execution_count": null,
      "outputs": []
    }
  ]
}
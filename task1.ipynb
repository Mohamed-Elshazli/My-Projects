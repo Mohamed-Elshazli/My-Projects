{
  "nbformat": 4,
  "nbformat_minor": 0,
  "metadata": {
    "colab": {
      "provenance": []
    },
    "kernelspec": {
      "name": "python3",
      "display_name": "Python 3"
    },
    "language_info": {
      "name": "python"
    }
  },
  "cells": [
    {
      "cell_type": "code",
      "execution_count": null,
      "metadata": {
        "id": "3NuPgywVVT-X"
      },
      "outputs": [],
      "source": []
    },
    {
      "cell_type": "markdown",
      "source": [
        "## **1- Write a Python program to find the area of a triangle**"
      ],
      "metadata": {
        "id": "yGQ0PxZIWP0v"
      }
    },
    {
      "cell_type": "code",
      "source": [
        "base=int(input(\"Enter the base of the triangle:\"))\n",
        "height=int(input(\"Enter the height of the triangle:\"))\n",
        "area=1/2*base*height\n",
        "print(f\"The area of the triangle is:{area}\")"
      ],
      "metadata": {
        "id": "fVEa_BPoWYPd",
        "outputId": "f02c0be7-b993-49ab-e635-c97899ad7be3",
        "colab": {
          "base_uri": "https://localhost:8080/"
        }
      },
      "execution_count": 1,
      "outputs": [
        {
          "output_type": "stream",
          "name": "stdout",
          "text": [
            "Enter the base of the triangle:6\n",
            "Enter the height of the triangle:3\n",
            "The area of the triangle is:9.0\n"
          ]
        }
      ]
    },
    {
      "cell_type": "markdown",
      "source": [
        "# **2- Write a Python program to swap two variables.**\n"
      ],
      "metadata": {
        "id": "3DD6RrL1Wa65"
      }
    },
    {
      "cell_type": "code",
      "source": [
        "num_1=10\n",
        "num_2=30\n",
        "num_1,num_2=num_2,num_1\n",
        "print(\"the number in num_1 is:\",num_1)\n",
        "print(\"the number in num_2 is:\",num_2)\n"
      ],
      "metadata": {
        "id": "8A-qk-XGWmrK",
        "outputId": "2a755b20-3459-404a-d59a-173721c67dda",
        "colab": {
          "base_uri": "https://localhost:8080/"
        }
      },
      "execution_count": 3,
      "outputs": [
        {
          "output_type": "stream",
          "name": "stdout",
          "text": [
            "the number in num_1 is: 30\n",
            "the number in num_2 is: 10\n"
          ]
        }
      ]
    },
    {
      "cell_type": "markdown",
      "source": [
        "# **3-Write a Python program to enter a number from user and convert this number from kilometers to miles.**\n"
      ],
      "metadata": {
        "id": "NXzXheUIXDEf"
      }
    },
    {
      "cell_type": "code",
      "source": [
        "km=int(input(\"enter the number of kilos :\"))\n",
        "miles=km*0.621371\n",
        "print(f\"{km} km is {miles} mile\")"
      ],
      "metadata": {
        "id": "-hO2ACQCX8xA",
        "outputId": "d25de7b2-5e5e-4ff1-f0ed-23feed21cf5b",
        "colab": {
          "base_uri": "https://localhost:8080/"
        }
      },
      "execution_count": 4,
      "outputs": [
        {
          "output_type": "stream",
          "name": "stdout",
          "text": [
            "enter the number of kilos :10\n",
            "10 km is 6.21371 mile\n"
          ]
        }
      ]
    },
    {
      "cell_type": "code",
      "source": [],
      "metadata": {
        "id": "8eVlxZ3CCT2G"
      },
      "execution_count": null,
      "outputs": []
    }
  ]
}
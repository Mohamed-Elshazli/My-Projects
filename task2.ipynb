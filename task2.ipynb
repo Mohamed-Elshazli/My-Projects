{
  "nbformat": 4,
  "nbformat_minor": 0,
  "metadata": {
    "colab": {
      "provenance": []
    },
    "kernelspec": {
      "name": "python3",
      "display_name": "Python 3"
    },
    "language_info": {
      "name": "python"
    }
  },
  "cells": [
    {
      "cell_type": "code",
      "execution_count": null,
      "metadata": {
        "id": "vs_SU3ng0tbN"
      },
      "outputs": [],
      "source": []
    },
    {
      "cell_type": "markdown",
      "source": [
        "\n",
        "# **WAP to enter a number from user and print its absolute value.**"
      ],
      "metadata": {
        "id": "MnWAiH2o0zSa"
      }
    },
    {
      "cell_type": "code",
      "source": [
        "num=int(input(\"Enter number:\"))\n",
        "if num<0:\n",
        "  abs_num=num*-1\n",
        "  print(\"the absolute of the number:\",abs_num)\n",
        "else :\n",
        "  print(\"the absolute of the number:\",num)"
      ],
      "metadata": {
        "id": "l3oLMLbk02Pj",
        "colab": {
          "base_uri": "https://localhost:8080/"
        },
        "outputId": "6dfab3dc-daa0-42b1-d516-c038bbfbcf58"
      },
      "execution_count": 21,
      "outputs": [
        {
          "output_type": "stream",
          "name": "stdout",
          "text": [
            "Enter number:30\n",
            "the absolute of the number: 30\n"
          ]
        }
      ]
    },
    {
      "cell_type": "markdown",
      "source": [
        "# **WAP to enter a year from user and check if it is leap year or not.**"
      ],
      "metadata": {
        "id": "pOnjNwNx03Tr"
      }
    },
    {
      "cell_type": "code",
      "source": [
        "#we called that year is leap if its divisible by 4 and not divisible by 100\n",
        "year=int(input(\"enter the year: \"))\n",
        "if (year%4==0):\n",
        "  if(year%100==0):\n",
        "    if(year%400==0):\n",
        "      print(f\"{year} its leap year\")\n",
        "    else:\n",
        "      print(f\"{year} not leap year\")\n",
        "  else:\n",
        "    print(f\"{year} its leap year\")\n",
        "\n",
        "else:\n",
        "   print(f\"{year} not leap year\")"
      ],
      "metadata": {
        "id": "4PEtUTm51H6x",
        "colab": {
          "base_uri": "https://localhost:8080/"
        },
        "outputId": "31cbd7a5-37c5-4c3f-92ed-7b003d3c4f48"
      },
      "execution_count": 36,
      "outputs": [
        {
          "output_type": "stream",
          "name": "stdout",
          "text": [
            "enter the year: 2016\n",
            "2016 its leap year\n"
          ]
        }
      ]
    },
    {
      "cell_type": "markdown",
      "source": [
        "# **WAP to enter the age of 3 person and print oldest and yougest among them.**"
      ],
      "metadata": {
        "id": "sn-NADUn1VGn"
      }
    },
    {
      "cell_type": "code",
      "source": [
        "name1=input(\"please enter the first name: \")\n",
        "age1=int(input(f\"please enter your age {name1}: \"))\n",
        "name2=input(\"please enter the second name: \")\n",
        "age2=int(input(f\"please enter your age {name2}: \"))\n",
        "name3=input(\"please enter the third name: \")\n",
        "age3=int(input(f\"please enter your age {name3}: \"))\n",
        "if age1 > age2:\n",
        "  if(age1 > age3):\n",
        "    if(age2>age3):\n",
        "      print(f\"{name1} is the oldest and {name3} is the youngest\")\n",
        "    else:\n",
        "      print(f\"{name1} is the oldest and {name2} is the youngest\")\n",
        "  else:\n",
        "    print(f\"{name3} is the oldest and {name2} is the youngest\")\n",
        "elif (age2>age1):\n",
        "  if(age2>age3):\n",
        "    if(age1>age3):\n",
        "      print(f\"{name2} is the oldest and {name3} is the youngest\")\n",
        "    else:\n",
        "       print(f\"{name2} is the oldest and {name1} is the youngest\")\n",
        "  else:\n",
        "     print(f\"{name3} is the oldest and {name1} is the youngest\")\n",
        "elif (age1 ==age2 and age2==age3):\n",
        "  print(\"all at the same age\")"
      ],
      "metadata": {
        "id": "uNGWS1AT1cYP",
        "colab": {
          "base_uri": "https://localhost:8080/"
        },
        "outputId": "b457bc4a-9efb-4352-ffe6-0428b3fdae9a"
      },
      "execution_count": 29,
      "outputs": [
        {
          "output_type": "stream",
          "name": "stdout",
          "text": [
            "please enter the first name: mohamed\n",
            "please enter your age mohamed: 21\n",
            "please enter the second name: tamir\n",
            "please enter your age tamir: 18\n",
            "please enter the third name: ayoub\n",
            "please enter your age ayoub: 20\n",
            "mohamed is the oldest and tamir is the youngest\n"
          ]
        }
      ]
    },
    {
      "cell_type": "markdown",
      "source": [
        "# **Write a program that asks the user to enter a series of numbers. The program should ask for numbers until the user enters a negative number. Once the user enters a negative number, the program should stop and print the sum of all the positive numbers entered**\n",
        "# **Example**\n",
        "# **Enter a number: 5**\n",
        "# **Enter a number: 8**\n",
        "# **Enter a number: 12**\n",
        "# **Enter a number: -2**\n",
        "# **The sum of the positive numbers is 25.**"
      ],
      "metadata": {
        "id": "XFRRNGVj1dEw"
      }
    },
    {
      "cell_type": "code",
      "source": [
        "sum=0\n",
        "while(True):\n",
        "  num=int(input(\"enter number: \"))\n",
        "  if(num<0):\n",
        "    break\n",
        "  sum+=num\n",
        "print(\"the sum of the positive number you entered is: \",sum)"
      ],
      "metadata": {
        "id": "ijp9SzHu2A3p",
        "colab": {
          "base_uri": "https://localhost:8080/"
        },
        "outputId": "376a745b-98c0-45f5-faa7-c4e21cee411d"
      },
      "execution_count": 26,
      "outputs": [
        {
          "output_type": "stream",
          "name": "stdout",
          "text": [
            "enter number: 5\n",
            "enter number: 1\n",
            "enter number: 8\n",
            "enter number: -3\n",
            "the sum of the positive number you entered is:  14\n"
          ]
        }
      ]
    },
    {
      "cell_type": "markdown",
      "source": [
        "\n",
        "# **Write a program that asks the user to enter their name and age. The program should check if the user's age is greater than or equal to 18. If it is, the program should print a message saying they are eligible to vote. Otherwise, the program should print a message saying they are not eligible to vote due to being underage.**"
      ],
      "metadata": {
        "id": "oODCHUj62DxA"
      }
    },
    {
      "cell_type": "code",
      "source": [
        "name=input(\"enter your name: \")\n",
        "age=int(input(\"enter your age: \"))\n",
        "if age>= 18:\n",
        "  print(f\"{name} is eligible to vote\")\n",
        "else :\n",
        "    print(f\"{name} is not eligible to vote\")"
      ],
      "metadata": {
        "id": "Svls1cLA2JVA",
        "colab": {
          "base_uri": "https://localhost:8080/"
        },
        "outputId": "ba7527a7-02fa-44fd-cb39-1130426a0c01"
      },
      "execution_count": 37,
      "outputs": [
        {
          "output_type": "stream",
          "name": "stdout",
          "text": [
            "enter your name: ahmed\n",
            "enter your age: 16\n",
            "ahmed is not eligible to vote\n"
          ]
        }
      ]
    },
    {
      "cell_type": "markdown",
      "source": [
        "# **Write a Python Program to Find the Factorial of a Number**"
      ],
      "metadata": {
        "id": "2y5o5SqL3nvL"
      }
    },
    {
      "cell_type": "code",
      "source": [
        "num=int(input(\"enter number: \"))\n",
        "fact=1\n",
        "if(num<0):\n",
        "  print(\"no factorial for negative numbers\")\n",
        "else:\n",
        "  for i in range(1,num+1):\n",
        "    fact*=i\n",
        "  print(fact)"
      ],
      "metadata": {
        "id": "Q_v3ns1D3tgy",
        "colab": {
          "base_uri": "https://localhost:8080/"
        },
        "outputId": "08795d48-4bb2-44d5-ec34-c036b4e572f2"
      },
      "execution_count": 38,
      "outputs": [
        {
          "output_type": "stream",
          "name": "stdout",
          "text": [
            "enter number: 5\n",
            "120\n"
          ]
        }
      ]
    },
    {
      "cell_type": "code",
      "source": [],
      "metadata": {
        "id": "pj-dAXbbUoQo"
      },
      "execution_count": null,
      "outputs": []
    }
  ]
}